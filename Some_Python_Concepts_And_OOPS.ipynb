{
 "cells": [
  {
   "cell_type": "markdown",
   "metadata": {},
   "source": [
    "### Decorators\n",
    "\n",
    "- Used to extend or modify the functionality of any method without making permanent changes in it.\n",
    "- It has two syntax which are noted below"
   ]
  },
  {
   "cell_type": "markdown",
   "metadata": {},
   "source": [
    "##### Decorator (Method 1)"
   ]
  },
  {
   "cell_type": "code",
   "execution_count": 16,
   "metadata": {},
   "outputs": [
    {
     "name": "stdout",
     "output_type": "stream",
     "text": [
      "||---------- I am here to decorate ----------||\n",
      "||............ I am the function ............||\n",
      "||---------- I am here to decorate ----------||\n"
     ]
    }
   ],
   "source": [
    "## Decorator\n",
    "\n",
    "def myDecor(myfunc):\n",
    "    \n",
    "    ## Wrapper Function\n",
    "    def myWrapper():\n",
    "        print(\"||---------- I am here to decorate ----------||\")\n",
    "        myfunc()\n",
    "        print(\"||---------- I am here to decorate ----------||\")\n",
    "    \n",
    "    ## It returns the wrapper function\n",
    "    return myWrapper\n",
    "\n",
    "    \n",
    "def myfunc():\n",
    "    print(\"||............ I am the function ............||\")\n",
    "    \n",
    "myfunc = myDecor(myfunc)\n",
    "\n",
    "myfunc()"
   ]
  },
  {
   "cell_type": "markdown",
   "metadata": {},
   "source": [
    "##### Decorator (Method 2)"
   ]
  },
  {
   "cell_type": "code",
   "execution_count": 18,
   "metadata": {},
   "outputs": [
    {
     "name": "stdout",
     "output_type": "stream",
     "text": [
      "||---------- I am here to decorate ----------||\n",
      "||............ I am the function ............||\n",
      "||---------- I am here to decorate ----------||\n"
     ]
    }
   ],
   "source": [
    "## Decorator\n",
    "\n",
    "def myDecor(myfunc):\n",
    "    \n",
    "    ## Wrapper Function\n",
    "    def myWrapper():\n",
    "        print(\"||---------- I am here to decorate ----------||\")\n",
    "        myfunc()\n",
    "        print(\"||---------- I am here to decorate ----------||\")\n",
    "    \n",
    "    ## It returns the wrapper function\n",
    "    return myWrapper\n",
    "\n",
    "@myDecor    \n",
    "def myfunc():\n",
    "    print(\"||............ I am the function ............||\")\n",
    "    \n",
    "myfunc()"
   ]
  },
  {
   "cell_type": "markdown",
   "metadata": {},
   "source": [
    "##### Example"
   ]
  },
  {
   "cell_type": "code",
   "execution_count": 54,
   "metadata": {},
   "outputs": [],
   "source": [
    "## Define the decorator\n",
    "\n",
    "def addDescription(func):\n",
    "    \n",
    "    ## Wrapper Function\n",
    "    def parameterDetails(*args,**kwargs):\n",
    "        print(\"The number of Non-Keyword Arguments = {0:d}\".format(len(args)))\n",
    "        print(\"The number of Non-Keyword Arguments = {0:d}\".format(len(kwargs)))\n",
    "        print(\"-\"*40)\n",
    "        print(\"-\"*40)\n",
    "        func(*args,**kwargs)\n",
    "        print(\"-\"*40)\n",
    "    \n",
    "    ## Return the updated function\n",
    "    return parameterDetails\n",
    "\n",
    "@addDescription\n",
    "def multiplyBlock(a,b,c):\n",
    "    print(\"\\nResult of the expression (a*b+c) is: \" + str(a*b+c) + \"\\n\")    "
   ]
  },
  {
   "cell_type": "code",
   "execution_count": 55,
   "metadata": {},
   "outputs": [
    {
     "name": "stdout",
     "output_type": "stream",
     "text": [
      "The number of Non-Keyword Arguments = 3\n",
      "The number of Non-Keyword Arguments = 0\n",
      "----------------------------------------\n",
      "----------------------------------------\n",
      "\n",
      "Result of the expression (a*b+c) is: 250\n",
      "\n",
      "----------------------------------------\n"
     ]
    }
   ],
   "source": [
    "multiplyBlock(10, 20, 50)"
   ]
  },
  {
   "cell_type": "code",
   "execution_count": 57,
   "metadata": {},
   "outputs": [
    {
     "name": "stdout",
     "output_type": "stream",
     "text": [
      "The number of Non-Keyword Arguments = 1\n",
      "The number of Non-Keyword Arguments = 2\n",
      "----------------------------------------\n",
      "----------------------------------------\n",
      "\n",
      "Result of the expression (a*b+c) is: 250\n",
      "\n",
      "----------------------------------------\n"
     ]
    }
   ],
   "source": [
    "multiplyBlock(10, c = 50, b = 20)"
   ]
  },
  {
   "cell_type": "markdown",
   "metadata": {},
   "source": [
    "### Variable number of arguments: *args and *kwargs\n",
    "\n",
    "- Single * : Variable associated with a * becomes iterable\n",
    "- Double * : ** allows us to pass through variable number of keyword arguments"
   ]
  },
  {
   "cell_type": "markdown",
   "metadata": {},
   "source": [
    "##### Non-keyword arguments\n",
    "\n",
    "- Non-keyword arguments will be sent as a list"
   ]
  },
  {
   "cell_type": "code",
   "execution_count": 85,
   "metadata": {},
   "outputs": [
    {
     "name": "stdout",
     "output_type": "stream",
     "text": [
      "12 34 Suchi 45 Adhikary "
     ]
    }
   ],
   "source": [
    "def myFunction(*args):\n",
    "    for i in args:\n",
    "        print(i, end=\" \")\n",
    "        \n",
    "myFunction(12,34,\"Suchi\",45,\"Adhikary\")"
   ]
  },
  {
   "cell_type": "markdown",
   "metadata": {},
   "source": [
    "##### Keyword Arguments\n",
    "\n",
    "- Keyword arguments will be sent as a dictionary"
   ]
  },
  {
   "cell_type": "code",
   "execution_count": 96,
   "metadata": {},
   "outputs": [
    {
     "name": "stdout",
     "output_type": "stream",
     "text": [
      "12 34 \n",
      "-------------------------\n",
      "firstname  :  Suchi\n",
      "age  :  45\n",
      "lastname  :  Adhikary\n"
     ]
    }
   ],
   "source": [
    "def myFunction(*args,**kwargs):\n",
    "    for i in args:\n",
    "        print(i, end=\" \")\n",
    "    print(\"\\n\"+\"-\"*25)\n",
    "    for key, val in kwargs.items():\n",
    "        print(key, \" : \", val)\n",
    "        \n",
    "myFunction(12,34,firstname=\"Suchi\",age=45,lastname=\"Adhikary\")"
   ]
  },
  {
   "cell_type": "markdown",
   "metadata": {},
   "source": [
    "### Generators\n",
    "\n",
    "1. yield keyword\n",
    "2. iterator\n",
    "3. Generator function\n",
    "4. Generator Object"
   ]
  },
  {
   "cell_type": "markdown",
   "metadata": {},
   "source": [
    "##### 1. yield keyword\n",
    "\n",
    "- yield is used inside a function or method instead of return statement\n",
    "- When yield is executed the function is suspended\n",
    "- It stores information regarding the state of the function so that the function can be resumed from the state where it was left off\n",
    "- The next time when the function is called it will start from the statement just after the last yield run"
   ]
  },
  {
   "cell_type": "code",
   "execution_count": 59,
   "metadata": {},
   "outputs": [],
   "source": [
    "def checkYield():\n",
    "    yield \"value 1\"\n",
    "    yield \"value 2\"\n",
    "    yield \"value 3\""
   ]
  },
  {
   "cell_type": "markdown",
   "metadata": {},
   "source": [
    "##### 2. iterator\n",
    "\n",
    "- iterator is method to iterate over an iterable object\n",
    "- we can use \\_\\_next\\_\\_ or next() or for loop for iteration"
   ]
  },
  {
   "cell_type": "code",
   "execution_count": 60,
   "metadata": {},
   "outputs": [
    {
     "name": "stdout",
     "output_type": "stream",
     "text": [
      "1 2 3 4 "
     ]
    }
   ],
   "source": [
    "a = [1,2,3,4]\n",
    "\n",
    "for i in a:\n",
    "    print(i, end=\" \")"
   ]
  },
  {
   "cell_type": "markdown",
   "metadata": {},
   "source": [
    "#### 3. Generator function\n",
    "\n",
    "- If a function has an yield statement in its body it becomes a generator\n",
    "- It returns an iterable object"
   ]
  },
  {
   "cell_type": "code",
   "execution_count": 63,
   "metadata": {},
   "outputs": [
    {
     "name": "stdout",
     "output_type": "stream",
     "text": [
      "value 1\n",
      "value 2\n",
      "value 3\n"
     ]
    }
   ],
   "source": [
    "def simpleGeneratorFunction():\n",
    "    yield \"value 1\"\n",
    "    yield \"value 2\"\n",
    "    yield \"value 3\"\n",
    "    \n",
    "for value in simpleGeneratorFunction():\n",
    "    print(value)"
   ]
  },
  {
   "cell_type": "markdown",
   "metadata": {},
   "source": [
    "##### 4. Generator Object\n",
    "\n",
    "- The iterative object returned by the Generator function is Generator object\n",
    "- To iterate through generator object next() or .\\_\\_next\\_\\_ methods or loop can be used"
   ]
  },
  {
   "cell_type": "code",
   "execution_count": 67,
   "metadata": {},
   "outputs": [
    {
     "name": "stdout",
     "output_type": "stream",
     "text": [
      "value 1\n",
      "value 2\n",
      "value 3\n"
     ]
    }
   ],
   "source": [
    "def simpleGeneratorFunction():\n",
    "    yield \"value 1\"\n",
    "    yield \"value 2\"\n",
    "    yield \"value 3\"\n",
    "    \n",
    "\n",
    "objsgf = simpleGeneratorFunction()   \n",
    "    \n",
    "for value in objsgf:\n",
    "    print(value)"
   ]
  },
  {
   "cell_type": "code",
   "execution_count": 68,
   "metadata": {},
   "outputs": [
    {
     "name": "stdout",
     "output_type": "stream",
     "text": [
      "value 1\n",
      "value 2\n",
      "value 3\n"
     ]
    }
   ],
   "source": [
    "def simpleGeneratorFunction():\n",
    "    yield \"value 1\"\n",
    "    yield \"value 2\"\n",
    "    yield \"value 3\"\n",
    "    \n",
    "objsgf = simpleGeneratorFunction()   \n",
    "    \n",
    "while(True):\n",
    "    try:\n",
    "        print(next(objsgf))\n",
    "    except:\n",
    "        break    "
   ]
  },
  {
   "cell_type": "code",
   "execution_count": 69,
   "metadata": {},
   "outputs": [
    {
     "name": "stdout",
     "output_type": "stream",
     "text": [
      "value 1\n",
      "value 2\n",
      "value 3\n"
     ]
    }
   ],
   "source": [
    "def simpleGeneratorFunction():\n",
    "    yield \"value 1\"\n",
    "    yield \"value 2\"\n",
    "    yield \"value 3\"\n",
    "    \n",
    "objsgf = simpleGeneratorFunction()   \n",
    "    \n",
    "while(True):\n",
    "    try:\n",
    "        print(objsgf.__next__())\n",
    "    except:\n",
    "        break"
   ]
  },
  {
   "cell_type": "markdown",
   "metadata": {},
   "source": [
    "### Anonymous function (lambda function)\n",
    "\n",
    "- lambda function\n",
    "- lambda with filter\n",
    "- lambda with map\n",
    "- lambda with reduce"
   ]
  },
  {
   "cell_type": "markdown",
   "metadata": {},
   "source": [
    "##### lambda function\n",
    "\n",
    "- return satement is not required\n",
    "- it can be used wherever function is required\n",
    "- assigning it to a variable is not mandatory"
   ]
  },
  {
   "cell_type": "code",
   "execution_count": 14,
   "metadata": {},
   "outputs": [
    {
     "name": "stdout",
     "output_type": "stream",
     "text": [
      "50\n",
      "50\n"
     ]
    }
   ],
   "source": [
    "## Simple function\n",
    "\n",
    "def myFunc(x):\n",
    "    return 2*x**2\n",
    "\n",
    "print(myFunc(5))\n",
    "\n",
    "## Alternative Lambda function\n",
    "\n",
    "print((lambda x: 2*x**2)(5))"
   ]
  },
  {
   "cell_type": "code",
   "execution_count": 21,
   "metadata": {},
   "outputs": [
    {
     "name": "stdout",
     "output_type": "stream",
     "text": [
      "[('Mathematics', 92), ('Physics', 85), ('English', 81), ('History', 71)]\n",
      "[('Mathematics', 92), ('Physics', 85), ('English', 81), ('History', 71)]\n"
     ]
    }
   ],
   "source": [
    "## Sorting a list of tuples based on the second value\n",
    "\n",
    "lst = [(\"English\",81),(\"Mathematics\",92),(\"History\", 71),(\"Physics\",85)]\n",
    "\n",
    "## Using function\n",
    "def lastVal(x):\n",
    "    return x[-1]\n",
    "\n",
    "print(sorted(lst, key=lastVal, reverse=True))\n",
    "\n",
    "## Using lambda\n",
    "print(sorted(lst, key=lambda v: v[-1], reverse=True))"
   ]
  },
  {
   "cell_type": "code",
   "execution_count": 23,
   "metadata": {},
   "outputs": [
    {
     "name": "stdout",
     "output_type": "stream",
     "text": [
      "[{'Subject': 'Mathematics', 'Marks': 92}, {'Subject': 'Physics', 'Marks': 85}, {'Subject': 'English', 'Marks': 81}, {'Subject': 'History', 'Marks': 71}]\n",
      "[{'Subject': 'Mathematics', 'Marks': 92}, {'Subject': 'Physics', 'Marks': 85}, {'Subject': 'English', 'Marks': 81}, {'Subject': 'History', 'Marks': 71}]\n"
     ]
    }
   ],
   "source": [
    "## Sorting a list of dictionary based on key value\n",
    "\n",
    "lst = [{\"Subject\":\"English\", \"Marks\":81},{\"Subject\":\"Mathematics\", \"Marks\":92},{\"Subject\":\"History\",  \"Marks\":71},{\"Subject\":\"Physics\", \"Marks\":85}]\n",
    "\n",
    "## Using function\n",
    "def lastVal(x):\n",
    "    return x[\"Marks\"]\n",
    "\n",
    "print(sorted(lst, key=lastVal, reverse=True))\n",
    "\n",
    "## Using lambda\n",
    "print(sorted(lst, key=lambda v: v[\"Marks\"], reverse=True))"
   ]
  },
  {
   "cell_type": "markdown",
   "metadata": {},
   "source": [
    "##### lambda with filter()\n",
    "\n",
    "- filter() is used to filter out some elements from a sequence\n",
    "- it takes two arguments, one function and one sequence \n",
    "- It will return only those elements of the sequence for whom the function returns true value\n",
    "- Instead of using a function, lambda can be used"
   ]
  },
  {
   "cell_type": "code",
   "execution_count": 29,
   "metadata": {},
   "outputs": [
    {
     "name": "stdout",
     "output_type": "stream",
     "text": [
      "[45, 25, 65, 44, 32]\n",
      "[45, 25, 65, 44, 32]\n"
     ]
    }
   ],
   "source": [
    "## Filer out the values greater than 20\n",
    "myList = [45, 17, 25, 4, 65, 8 , 9, 44, 32]\n",
    "\n",
    "## Using function\n",
    "def isGreater(x):\n",
    "    return x>20\n",
    "\n",
    "print(list(filter(isGreater, myList)))\n",
    "\n",
    "\n",
    "## Using lambda\n",
    "print(list(filter(lambda x: x>20, myList)))"
   ]
  },
  {
   "cell_type": "markdown",
   "metadata": {},
   "source": [
    "##### lambda function with map()\n",
    "\n",
    "- map() is used to apply some modification to each items of a list\n",
    "- it takes two parameters, a list and a function\n",
    "- it returns a list of the modified values after applying the function to each value of the input list\n",
    "- lambda can be used instead of function"
   ]
  },
  {
   "cell_type": "code",
   "execution_count": 34,
   "metadata": {},
   "outputs": [
    {
     "name": "stdout",
     "output_type": "stream",
     "text": [
      "[450, 170, 250, 40, 650, 80, 90, 440, 320]\n",
      "[450, 170, 250, 40, 650, 80, 90, 440, 320]\n"
     ]
    }
   ],
   "source": [
    "## Filer out the values greater than 20\n",
    "myList = [45, 17, 25, 4, 65, 8 , 9, 44, 32]\n",
    "\n",
    "## Using function\n",
    "def multByTen(x):\n",
    "    return x*10\n",
    "\n",
    "print(list(map(multByTen, myList)))\n",
    "\n",
    "\n",
    "## Using lambda\n",
    "print(list(map(lambda x: x*10, myList)))"
   ]
  },
  {
   "cell_type": "markdown",
   "metadata": {},
   "source": [
    "##### lambda with reduce()\n",
    "\n",
    "- reduce is used to apply some repeatative operation over the pairs of elements of a list\n",
    "- it takes one function and one sequence as input parameter\n",
    "- it applies the function repeatatively and returns the reduced result\n",
    "- the function can be replaced by lambda"
   ]
  },
  {
   "cell_type": "code",
   "execution_count": 38,
   "metadata": {},
   "outputs": [
    {
     "name": "stdout",
     "output_type": "stream",
     "text": [
      "249\n",
      "249\n"
     ]
    }
   ],
   "source": [
    "## import reduce from functools package\n",
    "from functools import reduce\n",
    "\n",
    "## Filer out the values greater than 20\n",
    "myList = [45, 17, 25, 4, 65, 8 , 9, 44, 32]\n",
    "\n",
    "## Using function\n",
    "def addThem(x,y):\n",
    "    return x+y\n",
    "\n",
    "print(reduce(addThem, myList))\n",
    "\n",
    "\n",
    "## Using lambda\n",
    "print(reduce(lambda x, y: x+y, myList))"
   ]
  },
  {
   "cell_type": "markdown",
   "metadata": {},
   "source": [
    "### OOP Concepts\n",
    "\n",
    "- Objects\n",
    "- Class\n",
    "- Method\n",
    "- Inheritance\n",
    "- Polymorphism\n",
    "- Data Abstraction\n",
    "- Encapsulation"
   ]
  },
  {
   "cell_type": "markdown",
   "metadata": {},
   "source": [
    "### Class and Objects"
   ]
  },
  {
   "cell_type": "markdown",
   "metadata": {},
   "source": [
    "##### Define a class and its object"
   ]
  },
  {
   "cell_type": "code",
   "execution_count": 39,
   "metadata": {},
   "outputs": [
    {
     "name": "stdout",
     "output_type": "stream",
     "text": [
      "Trainee name: Suchi Ignite ID: 301\n"
     ]
    }
   ],
   "source": [
    "class Trainee:\n",
    "    \n",
    "    ## Member variables\n",
    "    igniteid = 301\n",
    "    name = \"Suchi\"\n",
    "    \n",
    "    ## Method / Member function\n",
    "    def display(self):\n",
    "        print(\"Trainee name: \" + self.name +\" Ignite ID: \" + str(self.igniteid))\n",
    "        \n",
    "trainee1 = Trainee()\n",
    "trainee1.display()"
   ]
  },
  {
   "cell_type": "markdown",
   "metadata": {},
   "source": [
    "##### Constructor"
   ]
  },
  {
   "cell_type": "code",
   "execution_count": 40,
   "metadata": {},
   "outputs": [
    {
     "name": "stdout",
     "output_type": "stream",
     "text": [
      "Trainee name: Suchi Ignite ID: 001\n",
      "Trainee name: Gopi Ignite ID: 012\n"
     ]
    }
   ],
   "source": [
    "class Trainee:\n",
    "    \n",
    "    ## Constructor\n",
    "    def __init__(self,igniteid,name):\n",
    "        self.igniteid = igniteid\n",
    "        self.name = name\n",
    "    \n",
    "    ## Method / Member function\n",
    "    def display(self):\n",
    "        print(\"Trainee name: \" + self.name +\" Ignite ID: \" + \"{0:03d}\".format(self.igniteid))\n",
    "        \n",
    "trainee1 = Trainee(1,\"Suchi\")\n",
    "trainee2 = Trainee(12,\"Gopi\")\n",
    "\n",
    "trainee1.display()\n",
    "trainee2.display()"
   ]
  },
  {
   "cell_type": "markdown",
   "metadata": {},
   "source": [
    "##### Class variable - counting the number of objects of a class"
   ]
  },
  {
   "cell_type": "code",
   "execution_count": 41,
   "metadata": {},
   "outputs": [
    {
     "name": "stdout",
     "output_type": "stream",
     "text": [
      "The number of trainees:  3\n"
     ]
    }
   ],
   "source": [
    "class Trainee:\n",
    "    \n",
    "    ## Class variable\n",
    "    count = 0\n",
    "    \n",
    "    ## Constructor\n",
    "    def __init__(self,igniteid,name):\n",
    "        self.igniteid = igniteid\n",
    "        self.name = name\n",
    "        Trainee.count += 1\n",
    "    \n",
    "    ## Method / Member function\n",
    "    def display(self):\n",
    "        print(\"Trainee name: \" + self.name +\" Ignite ID: \" + \"{0:03d}\".format(self.igniteid))\n",
    "        \n",
    "trainee1 = Trainee(301, \"Suchi\")\n",
    "trainee2 = Trainee(319, \"Gopi\")\n",
    "trainee3 = Trainee(89, \"Manisha\")\n",
    "\n",
    "print(\"The number of trainees: \", Trainee.count)"
   ]
  },
  {
   "cell_type": "markdown",
   "metadata": {},
   "source": [
    "##### Non-parameterized constructor"
   ]
  },
  {
   "cell_type": "code",
   "execution_count": 42,
   "metadata": {},
   "outputs": [
    {
     "name": "stdout",
     "output_type": "stream",
     "text": [
      "Trainee name: Suchi Ignite ID: 301\n"
     ]
    }
   ],
   "source": [
    "class Trainee:\n",
    "    \n",
    "    ## Class variable\n",
    "    count = 0\n",
    "    \n",
    "    ## Non-parameterized constructor\n",
    "    def __init__(self):\n",
    "        self.igniteid = 0\n",
    "        self.name = \"None\"\n",
    "        Trainee.count += 1    \n",
    "        \n",
    "    ## Set values\n",
    "    def set_igniteid(self, igniteid):\n",
    "        self.igniteid = igniteid\n",
    "        \n",
    "    def set_name(self, name):\n",
    "        self.name = name\n",
    "                        \n",
    "    ## Method / Member function\n",
    "    def display(self):\n",
    "        print(\"Trainee name: \" + self.name +\" Ignite ID: \" + \"{0:03d}\".format(self.igniteid))\n",
    "        \n",
    "trainee1 = Trainee()\n",
    "trainee1.set_igniteid(301)\n",
    "trainee1.set_name(\"Suchi\")\n",
    "\n",
    "trainee1.display()\n",
    "        "
   ]
  },
  {
   "cell_type": "markdown",
   "metadata": {},
   "source": [
    "##### Python in-built class functions"
   ]
  },
  {
   "cell_type": "code",
   "execution_count": 43,
   "metadata": {},
   "outputs": [
    {
     "name": "stdout",
     "output_type": "stream",
     "text": [
      "Suchi\n",
      "301\n",
      "C1\n",
      "302\n",
      "True\n",
      "False\n"
     ]
    }
   ],
   "source": [
    "class Trainee:\n",
    "    def __init__(self,igniteid,name,batch):\n",
    "        self.name = name\n",
    "        self.igniteid = igniteid\n",
    "        self.batch = batch\n",
    "        \n",
    "## Creating the object\n",
    "t1 = Trainee(301,\"Suchi\",\"C1\")\n",
    "\n",
    "## Get attribute value - getattr\n",
    "print(getattr(t1,\"name\"))\n",
    "print(getattr(t1,\"igniteid\"))\n",
    "print(getattr(t1,\"batch\"))\n",
    "\n",
    "## Set attribute value - setattr\n",
    "setattr(t1,\"igniteid\",302)\n",
    "print(getattr(t1,\"igniteid\"))\n",
    "\n",
    "\n",
    "## Check whether an object contains an attribute or not\n",
    "print(hasattr(t1,\"batch\"))\n",
    "\n",
    "## Delete an attribute\n",
    "delattr(t1, \"batch\")\n",
    "print(hasattr(t1,\"batch\"))"
   ]
  },
  {
   "cell_type": "markdown",
   "metadata": {},
   "source": [
    "##### Python in-built class attribute"
   ]
  },
  {
   "cell_type": "code",
   "execution_count": 44,
   "metadata": {},
   "outputs": [
    {
     "name": "stdout",
     "output_type": "stream",
     "text": [
      "Trainee name: Suchi Ignite ID: 001 Batch: C1\n",
      "This is a class for Trainees.\n",
      "{'name': 'Suchi', 'igniteid': 1, 'batch': 'C1'}\n",
      "__main__\n"
     ]
    }
   ],
   "source": [
    "class Trainee:\n",
    "    \n",
    "    ## Documentation\n",
    "    __doc__ = \"This is a class for Trainees.\"\n",
    "    \n",
    "    def __init__(self,igniteid,name,batch):\n",
    "        self.name = name\n",
    "        self.igniteid = igniteid\n",
    "        self.batch = batch\n",
    "        \n",
    "    def display(self):\n",
    "        print(\"Trainee name: \" + self.name +\" Ignite ID: \" + \"{0:03d}\".format(self.igniteid) + \" Batch: \" + self.batch)\n",
    "\n",
    "t1 = Trainee(1,\"Suchi\",\"C1\")\n",
    "\n",
    "t1.display()\n",
    "\n",
    "## Class documentation\n",
    "print(t1.__doc__)\n",
    "\n",
    "## Information about class namespace\n",
    "print(t1.__dict__)\n",
    "\n",
    "## Class name\n",
    "# print(t1.__name__)\n",
    "\n",
    "## Class Module\n",
    "print(t1.__module__)"
   ]
  },
  {
   "cell_type": "markdown",
   "metadata": {},
   "source": [
    "### Inheritance"
   ]
  },
  {
   "cell_type": "code",
   "execution_count": 45,
   "metadata": {},
   "outputs": [
    {
     "name": "stdout",
     "output_type": "stream",
     "text": [
      "I work at TCS Ignite\n",
      "I am a TCS Employee\n"
     ]
    }
   ],
   "source": [
    "## Base class\n",
    "\n",
    "class Employee:\n",
    "    def speak(self):\n",
    "        print(\"I am a TCS Employee\")\n",
    "        \n",
    "## Derived class/ child class\n",
    "\n",
    "class Ignitian(Employee):\n",
    "    def talk(self):\n",
    "        print(\"I work at TCS Ignite\")\n",
    "        \n",
    "ig = Ignitian()\n",
    "ig.talk()\n",
    "ig.speak()"
   ]
  },
  {
   "cell_type": "markdown",
   "metadata": {},
   "source": [
    "##### Multi level inheritance"
   ]
  },
  {
   "cell_type": "code",
   "execution_count": 46,
   "metadata": {},
   "outputs": [
    {
     "name": "stdout",
     "output_type": "stream",
     "text": [
      "I am learning Python..\n",
      "I work at TCS Ignite\n",
      "I am a TCS Employee\n"
     ]
    }
   ],
   "source": [
    "class Employee:\n",
    "    def speak(self):\n",
    "        print(\"I am a TCS Employee\")\n",
    "        \n",
    "## Derived class/ child class\n",
    "\n",
    "class Ignitian(Employee):\n",
    "    def talk(self):\n",
    "        print(\"I work at TCS Ignite\")\n",
    "        \n",
    "class Trainee(Ignitian):\n",
    "    def learn(self):\n",
    "        print(\"I am learning Python..\")\n",
    "        \n",
    "t = Trainee()\n",
    "t.learn()\n",
    "t.talk()\n",
    "t.speak()"
   ]
  },
  {
   "cell_type": "markdown",
   "metadata": {},
   "source": [
    "##### Multiple inheritance"
   ]
  },
  {
   "cell_type": "code",
   "execution_count": 47,
   "metadata": {},
   "outputs": [
    {
     "name": "stdout",
     "output_type": "stream",
     "text": [
      "30\n",
      "200\n",
      "0.5\n"
     ]
    }
   ],
   "source": [
    "class Calculation1:  \n",
    "    def Summation(self,a,b):  \n",
    "        return a+b \n",
    "class Calculation2:  \n",
    "    def Multiplication(self,a,b):  \n",
    "        return a*b\n",
    "class Derived(Calculation1,Calculation2):  \n",
    "    def Divide(self,a,b):  \n",
    "        return a/b\n",
    "d = Derived()\n",
    "\n",
    "print(d.Summation(10,20))  \n",
    "print(d.Multiplication(10,20))  \n",
    "print(d.Divide(10,20))"
   ]
  },
  {
   "cell_type": "markdown",
   "metadata": {},
   "source": [
    "##### issubclass() method"
   ]
  },
  {
   "cell_type": "code",
   "execution_count": 48,
   "metadata": {},
   "outputs": [
    {
     "name": "stdout",
     "output_type": "stream",
     "text": [
      "True\n",
      "False\n"
     ]
    }
   ],
   "source": [
    "print(issubclass(Derived,Calculation1))\n",
    "print(issubclass(Calculation1,Calculation2))"
   ]
  },
  {
   "cell_type": "markdown",
   "metadata": {},
   "source": [
    "##### isinstance method"
   ]
  },
  {
   "cell_type": "code",
   "execution_count": 49,
   "metadata": {},
   "outputs": [
    {
     "name": "stdout",
     "output_type": "stream",
     "text": [
      "True\n",
      "True\n"
     ]
    }
   ],
   "source": [
    "print(isinstance(d,Derived))\n",
    "print(isinstance(t,Employee))"
   ]
  },
  {
   "cell_type": "markdown",
   "metadata": {},
   "source": [
    "### Method overriding"
   ]
  },
  {
   "cell_type": "code",
   "execution_count": 50,
   "metadata": {},
   "outputs": [
    {
     "name": "stdout",
     "output_type": "stream",
     "text": [
      "I work at TCS Ignite\n",
      "I am a TCS Employee\n"
     ]
    }
   ],
   "source": [
    "## Base class\n",
    "\n",
    "class Employee:\n",
    "    def speak(self):\n",
    "        print(\"I am a TCS Employee\")\n",
    "        \n",
    "## Derived class/ child class\n",
    "\n",
    "class Ignitian(Employee):\n",
    "    def speak(self):\n",
    "        print(\"I work at TCS Ignite\")\n",
    "        \n",
    "ig1 = Ignitian()\n",
    "ig1.speak()\n",
    "ig2 = Employee()\n",
    "ig2.speak()"
   ]
  },
  {
   "cell_type": "markdown",
   "metadata": {},
   "source": [
    "##### Real life example of method overriding"
   ]
  },
  {
   "cell_type": "code",
   "execution_count": 51,
   "metadata": {},
   "outputs": [
    {
     "name": "stdout",
     "output_type": "stream",
     "text": [
      "Bank Rate of interest: 10\n",
      "SBI Rate of interest: 7\n",
      "ICICI Rate of interest: 8\n"
     ]
    }
   ],
   "source": [
    "class Bank:\n",
    "    def getroi(self):\n",
    "        return 10\n",
    "class SBI(Bank):\n",
    "    def getroi(self):\n",
    "        return 7\n",
    "class ICICI(Bank):\n",
    "    def getroi(self):\n",
    "        return 8\n",
    "b1 = Bank()\n",
    "b2 = SBI()\n",
    "b3 = ICICI()\n",
    "print(\"Bank Rate of interest:\",b1.getroi())\n",
    "print(\"SBI Rate of interest:\",b2.getroi())\n",
    "print(\"ICICI Rate of interest:\",b3.getroi())"
   ]
  },
  {
   "cell_type": "markdown",
   "metadata": {},
   "source": [
    "### Data abstraction in python"
   ]
  },
  {
   "cell_type": "code",
   "execution_count": 52,
   "metadata": {},
   "outputs": [
    {
     "name": "stdout",
     "output_type": "stream",
     "text": [
      "The number of employees 2\n"
     ]
    },
    {
     "ename": "AttributeError",
     "evalue": "'Employee' object has no attribute '__count'",
     "output_type": "error",
     "traceback": [
      "\u001b[1;31m---------------------------------------------------------------------------\u001b[0m",
      "\u001b[1;31mAttributeError\u001b[0m                            Traceback (most recent call last)",
      "\u001b[1;32m<ipython-input-52-c7eecfc79ce9>\u001b[0m in \u001b[0;36m<module>\u001b[1;34m\u001b[0m\n\u001b[0;32m      8\u001b[0m \u001b[0memp2\u001b[0m \u001b[1;33m=\u001b[0m \u001b[0mEmployee\u001b[0m\u001b[1;33m(\u001b[0m\u001b[1;33m)\u001b[0m\u001b[1;33m\u001b[0m\u001b[0m\n\u001b[0;32m      9\u001b[0m \u001b[1;32mtry\u001b[0m\u001b[1;33m:\u001b[0m\u001b[1;33m\u001b[0m\u001b[0m\n\u001b[1;32m---> 10\u001b[1;33m     \u001b[0mprint\u001b[0m\u001b[1;33m(\u001b[0m\u001b[0memp\u001b[0m\u001b[1;33m.\u001b[0m\u001b[0m__count\u001b[0m\u001b[1;33m)\u001b[0m\u001b[1;33m\u001b[0m\u001b[0m\n\u001b[0m\u001b[0;32m     11\u001b[0m \u001b[1;32mfinally\u001b[0m\u001b[1;33m:\u001b[0m\u001b[1;33m\u001b[0m\u001b[0m\n\u001b[0;32m     12\u001b[0m     \u001b[0memp\u001b[0m\u001b[1;33m.\u001b[0m\u001b[0mdisplay\u001b[0m\u001b[1;33m(\u001b[0m\u001b[1;33m)\u001b[0m\u001b[1;33m\u001b[0m\u001b[0m\n",
      "\u001b[1;31mAttributeError\u001b[0m: 'Employee' object has no attribute '__count'"
     ]
    }
   ],
   "source": [
    "class Employee:  \n",
    "    __count = 0 ## Variable name starting with __ Becomes an private variable\n",
    "    def __init__(self):  \n",
    "        Employee.__count = Employee.__count+1  \n",
    "    def display(self):  \n",
    "        print(\"The number of employees\",Employee.__count)  \n",
    "emp = Employee()  \n",
    "emp2 = Employee()  \n",
    "try:  \n",
    "    print(emp.__count)  \n",
    "finally:  \n",
    "    emp.display()"
   ]
  }
 ],
 "metadata": {
  "kernelspec": {
   "display_name": "Python 3",
   "language": "python",
   "name": "python3"
  },
  "language_info": {
   "codemirror_mode": {
    "name": "ipython",
    "version": 3
   },
   "file_extension": ".py",
   "mimetype": "text/x-python",
   "name": "python",
   "nbconvert_exporter": "python",
   "pygments_lexer": "ipython3",
   "version": "3.6.4"
  }
 },
 "nbformat": 4,
 "nbformat_minor": 2
}
