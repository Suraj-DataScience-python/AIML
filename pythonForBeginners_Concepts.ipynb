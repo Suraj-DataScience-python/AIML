{
 "cells": [
  {
   "cell_type": "code",
   "execution_count": 3,
   "metadata": {},
   "outputs": [],
   "source": [
    "import emoji"
   ]
  },
  {
   "cell_type": "code",
   "execution_count": 4,
   "metadata": {},
   "outputs": [
    {
     "name": "stdout",
     "output_type": "stream",
     "text": [
      "Hello world\n",
      "Hi Hi Hi Hi Hi Hi Hi Hi Hi Hi \n",
      "Hi there! 👍\n",
      "Suraj's Tutorial:\t www.surajtutorial.com \n",
      "I'am in new line\n",
      "Suraj\\'s Tutorial:\\t www.surajtutorial.com \\nI\\'am in new line\n",
      "5\n",
      "-1\n",
      "49\n",
      "1.6\n",
      "1\n",
      "3\n",
      "8\n"
     ]
    }
   ],
   "source": [
    "## python support many built in functions like print\n",
    "print(\"Hello world\")\n",
    "\n",
    "## you can multiply string it with the number of times you want to repeat\n",
    "print(\"Hi \" * 10)\n",
    "\n",
    "## Python support emojis also ;-\n",
    "\n",
    "print(emoji.emojize('Hi there! :thumbs_up:'))\n",
    "\n",
    "# more print statement\n",
    "## escape characters\n",
    "print('Suraj\\'s Tutorial:\\t www.surajtutorial.com \\nI\\'am in new line')\n",
    "\n",
    "## Ignore escape character --> r stands for raw text\n",
    "print(r'Suraj\\'s Tutorial:\\t www.surajtutorial.com \\nI\\'am in new line')\n",
    "\n",
    "## Operators \n",
    "# +\n",
    "print(2 + 3)\n",
    "\n",
    "# -\n",
    "print(6 - 7)\n",
    "\n",
    "# *\n",
    "print(7*7)\n",
    "\n",
    "# / ---> output will be in floating point representation\n",
    "print(8/5)\n",
    "\n",
    "# //  ----> floor division or integer division\n",
    "print(8//5)\n",
    "\n",
    "# %  ---> modulus (remainder)\n",
    "print(8%5)\n",
    "\n",
    "# ** --> power\n",
    "print(2**3)"
   ]
  },
  {
   "cell_type": "code",
   "execution_count": 5,
   "metadata": {},
   "outputs": [
    {
     "name": "stdout",
     "output_type": "stream",
     "text": [
      "5\n",
      "5\n",
      "15\n"
     ]
    },
    {
     "data": {
      "text/plain": [
       "15"
      ]
     },
     "execution_count": 5,
     "metadata": {},
     "output_type": "execute_result"
    }
   ],
   "source": [
    "## Variables\n",
    "\n",
    "print(2 + 3)\n",
    "a = 2\n",
    "b = 3\n",
    "\n",
    "print(a+b)\n",
    "\n",
    "a, b = 7, 8\n",
    "print(a+b)\n",
    "\n",
    "a + b"
   ]
  },
  {
   "cell_type": "code",
   "execution_count": 8,
   "metadata": {},
   "outputs": [
    {
     "data": {
      "text/plain": [
       "14"
      ]
     },
     "execution_count": 8,
     "metadata": {},
     "output_type": "execute_result"
    }
   ],
   "source": [
    "7 + 7"
   ]
  },
  {
   "cell_type": "code",
   "execution_count": 13,
   "metadata": {},
   "outputs": [],
   "source": [
    "## use output from previous operation\n",
    "# _ + 5"
   ]
  },
  {
   "cell_type": "code",
   "execution_count": 27,
   "metadata": {},
   "outputs": [
    {
     "name": "stdout",
     "output_type": "stream",
     "text": [
      "Suraj\n",
      "5\n",
      "S\n",
      "r\n",
      "j\n",
      "j\n",
      "Suraj\n",
      "Su\n",
      "Su\n",
      "raj\n",
      "jaruS\n"
     ]
    }
   ],
   "source": [
    "## String slicing\n",
    "\n",
    "name = \"Suraj\"\n",
    "print(name)\n",
    "print(len(name))\n",
    "print(name[0])\n",
    "print(name[2])\n",
    "print(name[len(name) - 1])\n",
    "print(name[-1])\n",
    "print(name[:])\n",
    "print(name[0:2])\n",
    "print(name[:2])\n",
    "print(name[2:])\n",
    "print(name[::-1])"
   ]
  },
  {
   "cell_type": "code",
   "execution_count": 28,
   "metadata": {},
   "outputs": [
    {
     "name": "stdout",
     "output_type": "stream",
     "text": [
      "[5, 4, 3, 2, 1]\n",
      "Baloni\n",
      "1 Suraj\n",
      "[[1, 2, 3, 4, 5], ['Suraj', 'Baloni']]\n",
      "[1, 2, 3, 4, 5, 1]\n",
      "2\n",
      "[1, 2, 3, 4, 5, 1, 'Suraj', 'Baloni']\n"
     ]
    }
   ],
   "source": [
    "## list in python\n",
    "\n",
    "nums = [1,2,3,4,5]\n",
    "print(nums[::-1])\n",
    "names = [\"Suraj\", \"Baloni\"]\n",
    "print(names[-1])\n",
    "mix = [1,2,3,\"Suraj\",\"Baloni\"]\n",
    "print(mix[0], mix[-2])\n",
    "lol = [nums, names]\n",
    "print(lol)\n",
    "\n",
    "## lists are mutable\n",
    "nums.append(1)\n",
    "# nums.clear()\n",
    "another_nums = nums.copy()\n",
    "print(another_nums)\n",
    "print(nums.count(1))\n",
    "nums.extend(names)\n",
    "print(nums)\n",
    "\n",
    "# print(nums.index('Suraj'))\n",
    "# nums.insert(1,\"Hey\")\n",
    "# print(nums)\n",
    "# nums.pop(-4)\n",
    "# print(nums)\n",
    "# nums.remove(\"Suraj\")\n",
    "# print(nums)\n",
    "# nums.reverse()\n",
    "# print(nums)\n",
    "# print(sorted([3,2,3,4,67], reverse=True))\n",
    "# del nums[:1]\n",
    "# nums.remove(\"Hey\")\n",
    "# print(nums)\n",
    "# print(min(nums))\n",
    "# print(max(nums))\n",
    "# print(sum(nums))\n"
   ]
  },
  {
   "cell_type": "code",
   "execution_count": 142,
   "metadata": {},
   "outputs": [
    {
     "name": "stdout",
     "output_type": "stream",
     "text": [
      "(1, 2, 3, 4)\n"
     ]
    }
   ],
   "source": [
    "## Tuples in python , unlike list tuples are immutable and represented by ()\n",
    "\n",
    "myTuple = (1,2,3,4)\n",
    "myTuple.index(2)\n",
    "print(myTuple)\n",
    "\n"
   ]
  },
  {
   "cell_type": "code",
   "execution_count": 18,
   "metadata": {},
   "outputs": [
    {
     "data": {
      "text/plain": [
       "445"
      ]
     },
     "execution_count": 18,
     "metadata": {},
     "output_type": "execute_result"
    }
   ],
   "source": [
    "445"
   ]
  },
  {
   "cell_type": "code",
   "execution_count": 20,
   "metadata": {},
   "outputs": [
    {
     "name": "stdout",
     "output_type": "stream",
     "text": [
      "446\n"
     ]
    }
   ],
   "source": [
    "print(_ + 1)"
   ]
  },
  {
   "cell_type": "code",
   "execution_count": 8,
   "metadata": {},
   "outputs": [
    {
     "name": "stdout",
     "output_type": "stream",
     "text": [
      "{3, 4, 77, 78, 90}\n",
      "[1, 2, 3, 5]\n"
     ]
    }
   ],
   "source": [
    "## sets in python\n",
    "\n",
    "sets = {77,90,3,4,78,78}\n",
    "print(sets)\n",
    "lists = [5,3,2,1]\n",
    "print(list(set(lists)))"
   ]
  },
  {
   "cell_type": "code",
   "execution_count": 9,
   "metadata": {},
   "outputs": [
    {
     "name": "stdout",
     "output_type": "stream",
     "text": [
      "4305308032\n",
      "4523961176\n",
      "4305308032\n",
      "4305308032\n",
      "<class 'float'>\n"
     ]
    }
   ],
   "source": [
    "## More in variable\n",
    "\n",
    "num = 1\n",
    "print(id(num))\n",
    "name = \"Suraj\"\n",
    "print(id(name))\n",
    "\n",
    "abc = 1\n",
    "print(id(abc))\n",
    "print(id(1))\n",
    "\n",
    "## can be initialise constant in python : NO , but you can use captial letter to show the variable is a constat\n",
    "PI = 3.14 ## PI = 3.15 can update the value of PI, but uppercase shows the intent that PI should be used as constant\n",
    "\n",
    "## Check datatype of variable\n",
    "print(type(PI))"
   ]
  },
  {
   "cell_type": "code",
   "execution_count": 171,
   "metadata": {},
   "outputs": [
    {
     "name": "stdout",
     "output_type": "stream",
     "text": [
      "<class 'NoneType'>\n",
      "<class 'int'>\n",
      "<class 'float'>\n",
      "<class 'complex'>\n",
      "<class 'bool'>\n",
      "5\n",
      "5.0\n",
      "(8+9j)\n"
     ]
    }
   ],
   "source": [
    "## Data Types\n",
    "# 1. None : If we assign nothing then its non type. in other language it is null\n",
    "a = None\n",
    "print(type(a))\n",
    "\n",
    "# 2. Numeric : int, float, complex, bool\n",
    "# 2.1. int:\n",
    "num = 2\n",
    "print(type(num))\n",
    "\n",
    "# 2.2. float\n",
    "num = 2.1\n",
    "print(type(num))\n",
    "\n",
    "#2.3 complex\n",
    "num = 8 + 5j\n",
    "print(type(num))\n",
    "\n",
    "# 2.4 Boolean\n",
    "status = False\n",
    "print(type(status))\n",
    "\n",
    "\n",
    "## TypeCast\n",
    "print(int(5.3))\n",
    "print(float(5))\n",
    "print(complex(8,9))\n",
    "\n",
    "a = range(0,10)\n",
    "\n"
   ]
  },
  {
   "cell_type": "code",
   "execution_count": 193,
   "metadata": {},
   "outputs": [
    {
     "name": "stdout",
     "output_type": "stream",
     "text": [
      "dict_keys(['name', 'age', 'education'])\n",
      "dict_values(['Suraj', 32, {'id': 'BCA', '_id': 'MCA'}])\n",
      "MCA\n"
     ]
    }
   ],
   "source": [
    "## Dictionary: when we have key value pair\n",
    "dictEx = {\"name\": \"Suraj\", \"age\":32, \"education\": {\"id\":\"BCA\",\"_id\":\"MCA\"}}\n",
    "print(dictEx.keys())\n",
    "print(dictEx.values())\n",
    "print(dictEx[\"education\"][\"_id\"])"
   ]
  },
  {
   "cell_type": "code",
   "execution_count": 204,
   "metadata": {},
   "outputs": [
    {
     "name": "stdout",
     "output_type": "stream",
     "text": [
      "21\n",
      "6\n",
      "False\n",
      "False\n",
      "False\n"
     ]
    }
   ],
   "source": [
    "## Operators in python\n",
    "# 1. Arithmetic Operators:  + , -, //, / ,*, **, %\n",
    "print(10+11)\n",
    "\n",
    "# 2. Assignment Operator: = , +=, *=, /=\n",
    "a = 6\n",
    "a,b = 6, 4\n",
    "a = b\n",
    "\n",
    "# 3. Unary operators = - , +\n",
    "n = -6\n",
    "print(-n)\n",
    "\n",
    "# 3. Relational Operator:  >,<,==,!=, >=, <=\n",
    "print(10 > 11)\n",
    "\n",
    "# 4. Logical Operator: and, or, not\n",
    "print(10 > 11 and 10 < 9)\n",
    "print(not(10 > 11 or 10 > 9))\n",
    "\n"
   ]
  },
  {
   "cell_type": "code",
   "execution_count": 214,
   "metadata": {},
   "outputs": [
    {
     "name": "stdout",
     "output_type": "stream",
     "text": [
      "0b1010\n",
      "0o12\n",
      "0xa\n",
      "4095\n"
     ]
    }
   ],
   "source": [
    "## Number system in python decimal, binary, oct, hex\n",
    "a = 10\n",
    "print(bin(a))\n",
    "print(oct(a))\n",
    "print(hex(a))\n",
    "print(0xfff)"
   ]
  },
  {
   "cell_type": "code",
   "execution_count": 220,
   "metadata": {},
   "outputs": [
    {
     "name": "stdout",
     "output_type": "stream",
     "text": [
      "12 10\n",
      "12 6\n"
     ]
    }
   ],
   "source": [
    "## Swap two numbers\n",
    "a = 10\n",
    "b = 12\n",
    "temp = a\n",
    "a = b\n",
    "b = temp\n",
    "print(a, b)\n",
    "\n",
    "a,b = 6,12\n",
    "b,a = a,b\n",
    "print(a, b)"
   ]
  },
  {
   "cell_type": "code",
   "execution_count": 2,
   "metadata": {},
   "outputs": [],
   "source": [
    "## Bitwise operators: Compliment ~ , And & , Or |, XOR ^, Left Shift << , Right shift >>\n",
    "\n",
    "# print(~12)\n",
    "\n",
    "# print(12 & 13)\n",
    "# print(12 | 13)\n",
    "# print(12 ^ 14)\n",
    "# print(10 << 2)\n",
    "# print(12 >> 2)"
   ]
  },
  {
   "cell_type": "code",
   "execution_count": 242,
   "metadata": {},
   "outputs": [
    {
     "name": "stdout",
     "output_type": "stream",
     "text": [
      "5.0\n",
      "2\n",
      "3\n",
      "8.0\n",
      "3.141592653589793\n",
      "22026.465794806718\n"
     ]
    }
   ],
   "source": [
    "## import math\n",
    "import math\n",
    "print(math.sqrt(25))\n",
    "print(math.floor(2.99))\n",
    "print(math.ceil(2.99))\n",
    "print(math.pow(2,3))\n",
    "print(math.pi)\n",
    "print(math.exp(10))"
   ]
  },
  {
   "cell_type": "code",
   "execution_count": 30,
   "metadata": {},
   "outputs": [
    {
     "name": "stdout",
     "output_type": "stream",
     "text": [
      "enter a number10\n",
      "<class 'str'>\n",
      "20\n",
      "enter an expn2+3\n",
      "5\n"
     ]
    }
   ],
   "source": [
    "## input()\n",
    "import sys\n",
    "\n",
    "a = input(\"enter a number\") ## it will take everything as string\n",
    "print(type(a))\n",
    "print(int(a) + 10)\n",
    "\n",
    "expn = eval(input(\"enter an expn\"))\n",
    "print(expn)\n"
   ]
  },
  {
   "cell_type": "code",
   "execution_count": 251,
   "metadata": {},
   "outputs": [
    {
     "name": "stdout",
     "output_type": "stream",
     "text": [
      "Iam true\n",
      "Iam less then 11\n",
      "Iam equal to 10\n"
     ]
    }
   ],
   "source": [
    "## if, elif, else statement\n",
    "\n",
    "a = 10\n",
    "\n",
    "if True:\n",
    "    print(\"Iam true\")\n",
    "if a > 11:\n",
    "    print(\"Iam greater then 11\")\n",
    "else:\n",
    "    print(\"Iam less then 11\")\n",
    "    \n",
    "if a > 10:\n",
    "    print(\"Iam greater then 10\")\n",
    "elif a < 10:\n",
    "    print(\"Iam less then 10\")\n",
    "else:\n",
    "    print(\"Iam equal to 10\")"
   ]
  },
  {
   "cell_type": "code",
   "execution_count": 258,
   "metadata": {},
   "outputs": [
    {
     "name": "stdout",
     "output_type": "stream",
     "text": [
      "Iam less then 5\n",
      "Iam less then 5\n",
      "Iam less then 5\n",
      "Iam less then 5\n",
      "Iam less then 5\n"
     ]
    }
   ],
   "source": [
    "## While loop\n",
    "i = 0\n",
    "while i<5:\n",
    "    print(\"Iam less then 5\")\n",
    "    i = i + 1"
   ]
  },
  {
   "cell_type": "code",
   "execution_count": 265,
   "metadata": {},
   "outputs": [
    {
     "name": "stdout",
     "output_type": "stream",
     "text": [
      "10987654321"
     ]
    }
   ],
   "source": [
    "# For loop\n",
    "\n",
    "for i in range(10,0,-1):\n",
    "    print(i, end=\"\")"
   ]
  },
  {
   "cell_type": "code",
   "execution_count": 269,
   "metadata": {},
   "outputs": [
    {
     "name": "stdout",
     "output_type": "stream",
     "text": [
      "1\n",
      "3\n",
      "5\n"
     ]
    }
   ],
   "source": [
    "# Break and Continue\n",
    "for i in range(0,10):\n",
    "    if i%2==0:\n",
    "        continue\n",
    "    elif i==9:\n",
    "        break\n",
    "    elif i>5:\n",
    "        pass\n",
    "    else:\n",
    "        print(i)\n",
    "\n"
   ]
  },
  {
   "cell_type": "code",
   "execution_count": 276,
   "metadata": {},
   "outputs": [
    {
     "name": "stdout",
     "output_type": "stream",
     "text": [
      "@@@@\n",
      "@@@@\n",
      "@@@@\n",
      "@@@@\n"
     ]
    }
   ],
   "source": [
    "# print patterns with one @ in one print statement\n",
    "# @@@@\n",
    "# @@@@\n",
    "# @@@@\n",
    "# @@@@\n",
    "\n",
    "for j in range(0,4):\n",
    "    for i in range(0,4):\n",
    "        print(\"@\", end=\"\")\n",
    "    print()"
   ]
  },
  {
   "cell_type": "code",
   "execution_count": 281,
   "metadata": {},
   "outputs": [
    {
     "name": "stdout",
     "output_type": "stream",
     "text": [
      "@\n",
      "@@\n",
      "@@@\n",
      "@@@@\n"
     ]
    }
   ],
   "source": [
    "# print patterns with one @ in one print statement\n",
    "# @\n",
    "# @@\n",
    "# @@@\n",
    "# @@@@\n",
    "\n",
    "for i in range(1,5):\n",
    "    for j in range(0,i):\n",
    "        print(\"@\", end=\"\")\n",
    "    print()\n"
   ]
  },
  {
   "cell_type": "code",
   "execution_count": 289,
   "metadata": {},
   "outputs": [
    {
     "name": "stdout",
     "output_type": "stream",
     "text": [
      "@@@@\n",
      "@@@\n",
      "@@\n",
      "@\n"
     ]
    }
   ],
   "source": [
    "# print patterns with one @ in one print statement\n",
    "# @@@@\n",
    "# @@@\n",
    "# @@\n",
    "# @\n",
    "\n",
    "for i in range(4,0,-1):\n",
    "    for j in range(0,i):\n",
    "        print(\"@\", end=\"\")\n",
    "    print()"
   ]
  },
  {
   "cell_type": "code",
   "execution_count": 293,
   "metadata": {},
   "outputs": [
    {
     "name": "stdout",
     "output_type": "stream",
     "text": [
      "1 is a prime number\n",
      "2 is a prime number\n",
      "3 is a prime number\n",
      "4 is not a prime number\n",
      "5 is a prime number\n",
      "6 is not a prime number\n",
      "7 is a prime number\n",
      "8 is not a prime number\n",
      "9 is not a prime number\n",
      "10 is not a prime number\n",
      "11 is a prime number\n",
      "12 is not a prime number\n",
      "13 is a prime number\n",
      "14 is not a prime number\n",
      "15 is not a prime number\n",
      "16 is not a prime number\n",
      "17 is a prime number\n",
      "18 is not a prime number\n",
      "19 is a prime number\n",
      "20 is not a prime number\n",
      "21 is not a prime number\n",
      "22 is not a prime number\n",
      "23 is a prime number\n",
      "24 is not a prime number\n",
      "25 is not a prime number\n",
      "26 is not a prime number\n",
      "27 is not a prime number\n",
      "28 is not a prime number\n",
      "29 is a prime number\n",
      "30 is not a prime number\n",
      "31 is a prime number\n",
      "32 is not a prime number\n",
      "33 is not a prime number\n",
      "34 is not a prime number\n",
      "35 is not a prime number\n",
      "36 is not a prime number\n",
      "37 is a prime number\n",
      "38 is not a prime number\n",
      "39 is not a prime number\n",
      "40 is not a prime number\n",
      "41 is a prime number\n",
      "42 is not a prime number\n",
      "43 is a prime number\n",
      "44 is not a prime number\n",
      "45 is not a prime number\n",
      "46 is not a prime number\n",
      "47 is a prime number\n",
      "48 is not a prime number\n",
      "49 is not a prime number\n",
      "50 is not a prime number\n",
      "51 is not a prime number\n",
      "52 is not a prime number\n",
      "53 is a prime number\n",
      "54 is not a prime number\n",
      "55 is not a prime number\n",
      "56 is not a prime number\n",
      "57 is not a prime number\n",
      "58 is not a prime number\n",
      "59 is a prime number\n",
      "60 is not a prime number\n",
      "61 is a prime number\n",
      "62 is not a prime number\n",
      "63 is not a prime number\n",
      "64 is not a prime number\n",
      "65 is not a prime number\n",
      "66 is not a prime number\n",
      "67 is a prime number\n",
      "68 is not a prime number\n",
      "69 is not a prime number\n",
      "70 is not a prime number\n",
      "71 is a prime number\n",
      "72 is not a prime number\n",
      "73 is a prime number\n",
      "74 is not a prime number\n",
      "75 is not a prime number\n",
      "76 is not a prime number\n",
      "77 is not a prime number\n",
      "78 is not a prime number\n",
      "79 is a prime number\n",
      "80 is not a prime number\n",
      "81 is not a prime number\n",
      "82 is not a prime number\n",
      "83 is a prime number\n",
      "84 is not a prime number\n",
      "85 is not a prime number\n",
      "86 is not a prime number\n",
      "87 is not a prime number\n",
      "88 is not a prime number\n",
      "89 is a prime number\n",
      "90 is not a prime number\n",
      "91 is not a prime number\n",
      "92 is not a prime number\n",
      "93 is not a prime number\n",
      "94 is not a prime number\n",
      "95 is not a prime number\n",
      "96 is not a prime number\n",
      "97 is a prime number\n",
      "98 is not a prime number\n",
      "99 is not a prime number\n",
      "100 is not a prime number\n"
     ]
    }
   ],
   "source": [
    "## Print prime number from 1 to 100\n",
    "\n",
    "for i in range(1,101):\n",
    "    flag = 0\n",
    "    for j in range(2,i):\n",
    "        if i % j == 0:\n",
    "            flag = 1\n",
    "    if flag == 0:\n",
    "        print(str(i)+ \" is a prime number\")\n",
    "    else:\n",
    "        print(str(i)+ \" is not a prime number\")"
   ]
  },
  {
   "cell_type": "code",
   "execution_count": 35,
   "metadata": {},
   "outputs": [
    {
     "name": "stdout",
     "output_type": "stream",
     "text": [
      "array('d', [10.4, 2.0, 3.0, 5.0, 7.0, 8.0])\n",
      "array('d', [8.0, 7.0, 5.0, 3.0, 2.0, 10.4])\n",
      "(4524364640, 6)\n",
      "d\n",
      "8.0\n",
      "array('d', [8.0, 7.0, 5.0, 3.0, 2.0, 10.4, 12.0])\n",
      "0\n",
      "8.0\n",
      "7.0\n",
      "5.0\n",
      "3.0\n",
      "2.0\n",
      "10.4\n",
      "12.0\n"
     ]
    }
   ],
   "source": [
    "### Array in python\n",
    "from array import *\n",
    "\n",
    "arr = array(\"d\", [10.4,2,3,5,7,8])\n",
    "print(arr)\n",
    "arr.reverse()\n",
    "print(arr)\n",
    "print(arr.buffer_info())\n",
    "print(arr.typecode)\n",
    "print(arr[0])\n",
    "arr.append(12)\n",
    "print(arr)\n",
    "print(arr.count(1))\n",
    "for nums in arr:\n",
    "    print(nums)\n"
   ]
  },
  {
   "cell_type": "code",
   "execution_count": null,
   "metadata": {},
   "outputs": [],
   "source": []
  },
  {
   "cell_type": "code",
   "execution_count": 20,
   "metadata": {},
   "outputs": [
    {
     "name": "stdout",
     "output_type": "stream",
     "text": [
      "Enter the length of an array3\n",
      "Enter the 0 element1\n",
      "Enter the 1 element2\n",
      "Enter the 2 element1\n",
      "array('i', [1, 2, 1])\n"
     ]
    }
   ],
   "source": [
    "# Take input from user to make an array\n",
    "\n",
    "from array import *\n",
    "arr = array(\"i\",[])\n",
    "\n",
    "size = int(input(\"Enter the length of an array\"))\n",
    "\n",
    "for i in range(size):\n",
    "    arr.append(int(input(\"Enter the \"+str(i)+\" element\")))\n",
    "    \n",
    "\n",
    "print(arr)\n",
    "# print(arr.index(3))"
   ]
  },
  {
   "cell_type": "code",
   "execution_count": 41,
   "metadata": {},
   "outputs": [
    {
     "name": "stdout",
     "output_type": "stream",
     "text": [
      "[1 2 3 4 5 3]\n",
      "[ 2.   8.5 15. ]\n",
      "[ 2  4  6  8 10 12]\n",
      "[1.00000000e+01 5.62341325e+10 3.16227766e+20 1.77827941e+30\n",
      " 1.00000000e+40]\n",
      "[0. 0. 0. 0. 0.]\n",
      "[1. 1. 1. 1. 1.]\n"
     ]
    }
   ],
   "source": [
    "## Ways of defining arrays using numpy\n",
    "import numpy as np\n",
    "\n",
    "# 1. array\n",
    "arr = np.array([1,2,3,4,5,3], int)\n",
    "print(arr)\n",
    "\n",
    "# 2. linspace (start, end, size)\n",
    "\n",
    "arr = np.linspace(2,15,3)  ## (a,b,c) (b-a)/(c-1) + a\n",
    "print(arr)\n",
    "\n",
    "# 3. arange (start, end, steps)\n",
    "\n",
    "arr = np.arange(2,14,2)\n",
    "print(arr)\n",
    "\n",
    "# 4. logspace (start, end, size)\n",
    "\n",
    "arr = np.logspace(1,40,5)\n",
    "print(arr)\n",
    "\n",
    "# # 5. zero (len)\n",
    "\n",
    "arr = np.zeros(5)\n",
    "print(arr)\n",
    "\n",
    "# # 5. ones (len)\n",
    "\n",
    "arr = np.ones(5)\n",
    "print(arr)\n"
   ]
  },
  {
   "cell_type": "code",
   "execution_count": 408,
   "metadata": {},
   "outputs": [
    {
     "name": "stdout",
     "output_type": "stream",
     "text": [
      "[ 6  7 92  9 10]\n",
      "[  5  10 435  20  25]\n",
      "[ 0.2  0.4 17.4  0.8  1. ]\n",
      "[1 2 2 4 0]\n",
      "[1.         1.41421356 9.32737905 2.         2.23606798]\n",
      "[ 0.54030231 -0.41614684  0.56975033 -0.65364362  0.28366219]\n",
      "[ 0.84147098  0.90929743 -0.82181784 -0.7568025  -0.95892427]\n",
      "[ 1.55740772 -2.18503986 -1.44241747  1.15782128 -3.38051501]\n",
      "87\n",
      "1\n",
      "99\n",
      "19.8\n",
      "19.8\n",
      "4.0\n",
      "[ 1  2  4  5 87]\n",
      "[ 1  2 87  4  5  1  2  3  4]\n"
     ]
    }
   ],
   "source": [
    "## Operations on numpy array\n",
    "\n",
    "arr = np.array([1,2,87,4,5])\n",
    "print(arr + 5)\n",
    "print(arr * 5)\n",
    "print(arr / 5)\n",
    "print(arr % 5)\n",
    "print(np.sqrt(arr))\n",
    "print(np.cos(arr))\n",
    "print(np.sin(arr))\n",
    "print(np.tan(arr))\n",
    "print(np.max(arr))\n",
    "print(np.min(arr))\n",
    "print(np.sum(arr))\n",
    "print(np.average(arr))\n",
    "print(np.mean(arr))\n",
    "print(np.median(arr))\n",
    "print(np.msort(arr))\n",
    "print(np.concatenate([arr, np.array([1,2,3,4])]))"
   ]
  },
  {
   "cell_type": "code",
   "execution_count": 43,
   "metadata": {},
   "outputs": [
    {
     "name": "stdout",
     "output_type": "stream",
     "text": [
      "[1, 2, 3, 4, 5, 6]\n",
      "[1, 2, 3, 4, 5, 6]\n",
      "[5, 2, 3, 4, 5, 6]\n",
      "[5, 2, 3, 4, 5, 6]\n",
      "[1, 2, 3, 4, 5, 6]\n",
      "[1, 2, 3, 4, 5, 6]\n",
      "[5, 2, 3, 4, 5, 6]\n",
      "[1, 2, 3, 4, 5, 6]\n"
     ]
    }
   ],
   "source": [
    "# Copy arr into another arr\n",
    "\n",
    "## Shallow copy\n",
    "arr1 = [1,2,3,4,5,6]\n",
    "arr2 = arr1\n",
    "\n",
    "print(arr1)\n",
    "print(arr2)\n",
    "arr2[0] = 5\n",
    "print(arr1)\n",
    "print(arr2)\n",
    "\n",
    "## Deep copy\n",
    "arr1 = [1,2,3,4,5,6]\n",
    "arr2 = arr1.copy()\n",
    "\n",
    "print(arr1)\n",
    "print(arr2)\n",
    "arr1[0] = 5\n",
    "print(arr1)\n",
    "print(arr2)\n",
    "\n"
   ]
  },
  {
   "cell_type": "code",
   "execution_count": 15,
   "metadata": {},
   "outputs": [
    {
     "name": "stdout",
     "output_type": "stream",
     "text": [
      "4524147776\n",
      "4707658608\n",
      "[67  2  3  4  5]\n",
      "[67  2  3  4  5]\n"
     ]
    }
   ],
   "source": [
    "arr1 = np.array([1,2,3,4,5])\n",
    "arr2 = arr1.view()\n",
    "print(id(arr1))\n",
    "print(id(arr2))\n",
    "\n",
    "arr1[0] = 67\n",
    "print(arr1)\n",
    "print(arr2)\n"
   ]
  },
  {
   "cell_type": "code",
   "execution_count": 44,
   "metadata": {},
   "outputs": [
    {
     "name": "stdout",
     "output_type": "stream",
     "text": [
      "2\n",
      "10\n",
      "int64\n",
      "[ 1  2  3  4  5  6  7  8  9 12]\n",
      "[[ 1  2  3  4  5]\n",
      " [ 6  7  8  9 12]]\n",
      "[[1 2 6]\n",
      " [2 4 8]\n",
      " [3 6 8]]\n",
      "[[1 4 8]]\n",
      "[[ 4  4  4]\n",
      " [ 4  8 10]\n",
      " [10 10 16]]\n",
      "[[13 22 29]\n",
      " [34 52 62]\n",
      " [56 80 88]]\n"
     ]
    }
   ],
   "source": [
    "### N dimensional array\n",
    "\n",
    "arr1 = np.array([\n",
    "    [1,2,3,4,5],\n",
    "    [6,7,8,9,12]\n",
    "])\n",
    "\n",
    "print(arr1.ndim)\n",
    "print(arr1.size)\n",
    "print(arr1.dtype)\n",
    "\n",
    "arr2 = arr1.flatten()\n",
    "print(arr2)\n",
    "\n",
    "### Matrices \n",
    "\n",
    "m = np.matrix(arr1)\n",
    "print(m)\n",
    "\n",
    "m = np.matrix('1,2,3;2,4,6;6,8,8')\n",
    "print(m.T)\n",
    "print(m.diagonal())\n",
    "m1 = np.matrix('3,2,1;2,4,4;4,2,8')\n",
    "\n",
    "print(m1 + m)\n",
    "print(m1 * m)\n"
   ]
  },
  {
   "cell_type": "code",
   "execution_count": 65,
   "metadata": {},
   "outputs": [
    {
     "name": "stdout",
     "output_type": "stream",
     "text": [
      "Hello Suraj\n",
      "15\n",
      "-5\n",
      "Suraj\n",
      "115\n",
      "1\n",
      "(2, 4, 5, 6, 8, 9)\n",
      "28\n",
      "{'place': 'Chennai', 'mob': 788787878, 'aaa': 'Suraj'}\n"
     ]
    }
   ],
   "source": [
    "## Functions\n",
    "\n",
    "def greet():\n",
    "    print(\"Hello Suraj\")\n",
    "    \n",
    "def add_sub(a, b):\n",
    "    return a+b, b-a\n",
    "    \n",
    "greet()\n",
    "add, sub = add_sub(10,5)\n",
    "print(add)\n",
    "print(sub)\n",
    "\n",
    "## when sending parameter: there is no concept of call by value or call by reference\n",
    "\n",
    "## Types of arguments : actual and formal argument\n",
    "## actual arg has four properties: position, keyword, default, variable length\n",
    "\n",
    "def person(name, age):    ## formal args, default arg\n",
    "    print(name)\n",
    "    print(age*5)\n",
    "    \n",
    "person(age=23, name=\"Suraj\")      ## actual args\n",
    "\n",
    "# person(38, \"Suraj\")  ##position: as in function we are expecting name first and age second, position of arg can cause confusion and can lead to errors\n",
    "# person( 38,\"SUraj\") ## Keyword: position does not matters, parameters are accessed through keyword\n",
    "# person(\"Suraj\",12) ## Default args\n",
    "\n",
    "\n",
    "# plt(1,2,3,4)\n",
    "\n",
    "def add(a, *b):   ## Variable length args\n",
    "    print(a)\n",
    "    print(b)\n",
    "    \n",
    "add(1,2,4,5,6,8,9)\n",
    "\n",
    "def person(name, **aa):  ## keyword variable lenghth args\n",
    "    print(name)\n",
    "    print(aa)\n",
    "    \n",
    "person(name=28, place=\"Chennai\", mob=788787878, aaa=\"Suraj\")\n",
    "\n",
    "    "
   ]
  },
  {
   "cell_type": "code",
   "execution_count": 69,
   "metadata": {},
   "outputs": [
    {
     "name": "stdout",
     "output_type": "stream",
     "text": [
      "10\n",
      "10\n",
      "10 20\n"
     ]
    }
   ],
   "source": [
    "## Global and local variable\n",
    "\n",
    "a = 10\n",
    "b = 20\n",
    "\n",
    "def something():\n",
    "    global a;   ## telling function to access global varable\n",
    "    print(globals()[\"a\"]) ## accessing all global variables\n",
    "    print(a)\n",
    "\n",
    "something()\n",
    "print(a, b)"
   ]
  },
  {
   "cell_type": "code",
   "execution_count": 494,
   "metadata": {},
   "outputs": [
    {
     "name": "stdout",
     "output_type": "stream",
     "text": [
      "0 1 1 2 3 5 8 13 21 34 55 89 144 "
     ]
    }
   ],
   "source": [
    "### Fibbonacci series upto 100\n",
    "\n",
    "frst = 0\n",
    "sec = 1\n",
    "third = 0\n",
    "print(frst, sec, end=\" \")\n",
    "count = 0\n",
    "while(third < 100):\n",
    "    third = frst + sec\n",
    "    frst = sec\n",
    "    sec = third\n",
    "    print(third, end=\" \")"
   ]
  },
  {
   "cell_type": "code",
   "execution_count": 3,
   "metadata": {},
   "outputs": [],
   "source": [
    "## Factorial of a number\n",
    "\n",
    "# num = 5\n",
    "# fact = 1\n",
    "# while(num>1):\n",
    "#     fact = fact * num \n",
    "#     num = num -1\n",
    "    \n",
    "# print(fact)\n",
    "\n",
    "# # Recursion\n",
    "\n",
    "# def fact(n):\n",
    "#     print(n)\n",
    "#     if n ==0:\n",
    "#         return 1\n",
    "#     return n* fact(n-1)\n",
    "\n",
    "# result = fact(5)\n",
    "# print(result)"
   ]
  },
  {
   "cell_type": "code",
   "execution_count": 71,
   "metadata": {},
   "outputs": [
    {
     "name": "stdout",
     "output_type": "stream",
     "text": [
      "4\n",
      "[2, 4, 6, 8]\n",
      "[4, 6, 8, 10]\n",
      "28\n"
     ]
    }
   ],
   "source": [
    "## Anonymous Functions in Python\n",
    "\n",
    "from functools import *\n",
    "\n",
    "f = lambda x : x*x\n",
    "\n",
    "print(f(2))\n",
    "\n",
    "# 1. Filter : When you have to filter specific element from a sequence\n",
    "\n",
    "arr = [1,2,3,4,5,6,7,8,9]\n",
    "\n",
    "evens = list(filter(lambda x: x%2==0, arr))\n",
    "print(evens)\n",
    "\n",
    "# 2. map : when you want to map a property to all the element of a sequence\n",
    "add2 = list(map(lambda x: x+2, evens))\n",
    "print(add2)\n",
    "\n",
    "# 3. reduce: When you want to reduce a sequence to something e.g mean, sum\n",
    "\n",
    "sums = reduce(lambda x,y:x+y, add2)\n",
    "print(sums)"
   ]
  },
  {
   "cell_type": "code",
   "execution_count": 73,
   "metadata": {},
   "outputs": [
    {
     "name": "stdout",
     "output_type": "stream",
     "text": [
      "Yess\n",
      "Suraj 5\n",
      "Baloni 78\n"
     ]
    }
   ],
   "source": [
    "## Class\n",
    "\n",
    "\n",
    "class Computer:\n",
    "    \n",
    "    def config(self):\n",
    "        print(\"Yess\")\n",
    "        \n",
    "    \n",
    "\n",
    "        \n",
    "obj = Computer()\n",
    "obj.config()\n",
    "\n",
    "class Student:\n",
    "    \n",
    "    def __init__(self,name,roll):\n",
    "        self.name = name\n",
    "        self.roll = roll\n",
    "        \n",
    "    \n",
    "    def details(self):\n",
    "        print(self.name, self.roll)\n",
    "        \n",
    "obj1 = Student(\"Suraj\",5)\n",
    "obj2 = Student(\"Baloni\",78)\n",
    "\n",
    "obj1.details()\n",
    "obj2.details()\n",
    "\n"
   ]
  },
  {
   "cell_type": "code",
   "execution_count": 37,
   "metadata": {},
   "outputs": [],
   "source": [
    "# print(__name__)"
   ]
  },
  {
   "cell_type": "code",
   "execution_count": 4,
   "metadata": {},
   "outputs": [
    {
     "name": "stdout",
     "output_type": "stream",
     "text": [
      "Class variable center: Ignite1\n",
      "Class variable center: OpenIgniteXX\n",
      "Class variable center: OpenIgniteXX\n",
      "Inside static method\n"
     ]
    }
   ],
   "source": [
    "### Class Concept:\n",
    "## Instance method (__init__, self), class method(cls, @classmethod), static method(@staticmethod)\n",
    "##  Accessor Method(getter: where we just fetch the value), Mutator method (Setter: Where we update the value)\n",
    "\n",
    "class Trainees:\n",
    "    \n",
    "    center = \"Ignite1\"\n",
    "    \n",
    "    def __init__(self,name,ignite):   ## Instance Method\n",
    "        self.name = name\n",
    "        self.ignite = ignite\n",
    "        self.ignite = \"SUraj\"\n",
    "#         global center\n",
    "        \n",
    "        \n",
    "    def set_name(self,name):  ## Mutator method\n",
    "        self.name = name\n",
    "        return self.name\n",
    "    \n",
    "    def get_name(self):   ## Accessor Method\n",
    "        return self.name\n",
    "    \n",
    "    @classmethod\n",
    "    def updateCenter(cls, name):\n",
    "        cls.center = name\n",
    "        return cls.center\n",
    "    \n",
    "    @staticmethod\n",
    "    def display_trainees2(a,b):\n",
    "        print(\"Inside static method\")\n",
    "    \n",
    "    \n",
    "        \n",
    "t1 = Trainees(\"Suraj\",368)\n",
    "# print(t1.name)\n",
    "# print(\"Accessor Method(before): \"+ t1.get_name())\n",
    "# print(\"Mutator Method: \"+ t1.set_name(\"TeamPriya\"))\n",
    "# print(\"Accessor Method(after): \"+ t1.get_name())\n",
    "print(\"Class variable center: \"+ t1.center)\n",
    "print(\"Class variable center: \"+ t1.updateCenter(\"OpenIgniteXX\"))\n",
    "print(\"Class variable center: \"+ Trainees.center)\n",
    "t1.display_trainees2(1,22)\n",
    "    \n",
    "    \n",
    "    \n",
    "# A class method is a method which is bound to the class and not the object of the class.\n",
    "# They have the access to the state of the class as it takes a class parameter that points to the\n",
    "# class and not the object instance.\n",
    "# It can modify a class state that would apply across all the instances of the class.\n",
    "# For example it can modify a class variable that will be applicable to all the instances\n",
    "\n",
    "\n",
    "# In general, static methods know nothing about class state. They are utility type methods that take \n",
    "# some parameters and work upon those parameters. On the other hand class methods must have class as parameter.\n",
    "# We use @classmethod decorator in python to create a class method and we use @staticmethod decorator to \n",
    "# create a static method in python.\n"
   ]
  },
  {
   "cell_type": "code",
   "execution_count": 5,
   "metadata": {},
   "outputs": [
    {
     "name": "stdout",
     "output_type": "stream",
     "text": [
      "Iam feature five\n"
     ]
    }
   ],
   "source": [
    "## Inheritance In python\n",
    "\n",
    "class A:\n",
    "    def feature1(self):\n",
    "        print(\"Iam feature one\")\n",
    "\n",
    "    def feature2(self):\n",
    "        print(\"Iam feature two\")\n",
    "        \n",
    "class B(A):   ## Simple Inheritance\n",
    "    def feature3(self):\n",
    "        print(\"Iam feature three\")\n",
    "\n",
    "    def feature4(self):\n",
    "        print(\"Iam feature four\")\n",
    "\n",
    "\n",
    "class C(B):   ## Multi level Inheritance\n",
    "    def feature5(self):\n",
    "        print(\"Iam feature five\")\n",
    "\n",
    "    def feature6(self):\n",
    "        print(\"Iam feature six\")\n",
    "        \n",
    "class D:\n",
    "    def feature7(self):\n",
    "        print(\"Iam feature seven\")\n",
    "        \n",
    "class E(C,D):  ## Multiple Inheritance\n",
    "    def feature8(self):\n",
    "        print(\"Iam feature eight\")\n",
    "\n",
    "\n",
    "a = A()\n",
    "b = E()\n",
    "\n",
    "b.feature5()\n",
    "\n",
    "    "
   ]
  },
  {
   "cell_type": "code",
   "execution_count": 10,
   "metadata": {},
   "outputs": [
    {
     "name": "stdout",
     "output_type": "stream",
     "text": [
      "init of A\n",
      "init of C\n",
      "init of B\n"
     ]
    }
   ],
   "source": [
    "## Constructor in inheritance, Method resolution order\n",
    "\n",
    "class A:\n",
    "    \n",
    "    def __init__(self):\n",
    "        print(\"init of A\")\n",
    "    \n",
    "    def feature1(self):\n",
    "        print(\"Iam feature one\")\n",
    "\n",
    "    def feature2(self):\n",
    "        print(\"Iam feature two\")\n",
    "        \n",
    "class C:\n",
    "    \n",
    "    def __init__(self):\n",
    "        print(\"init of C\")\n",
    "    \n",
    "    def feature4(self):\n",
    "        print(\"Iam feature four\")\n",
    "\n",
    "    def feature5(self):\n",
    "        print(\"Iam feature five\")\n",
    "        \n",
    "class B(C,A):   ## \n",
    "    \n",
    "    def __init__(self):     ## Comment constructor\n",
    "        super().__init__()  ## Accessing the function of super class ,Method resolution order\n",
    "        print(\"init of B\")\n",
    "    \n",
    "    def feature3(self):\n",
    "        print(\"Iam feature three\")\n",
    "\n",
    "    def feature4(self):\n",
    "        print(\"Iam feature four\")\n",
    "        \n",
    "        \n",
    "a = A()\n",
    "b = B()\n",
    "\n",
    "\n",
    "\n"
   ]
  },
  {
   "cell_type": "code",
   "execution_count": 543,
   "metadata": {},
   "outputs": [],
   "source": [
    "## Ploymorphism in Python\n",
    "# Duck typing\n",
    "# Operator overloading\n",
    "# Method overloading\n",
    "# Method  overridding\n"
   ]
  },
  {
   "cell_type": "code",
   "execution_count": 61,
   "metadata": {},
   "outputs": [],
   "source": [
    "## Duck Typing\n",
    "\n",
    "# Eg. If a bird walks, quacks, swims like a duck.That bird is a duck\n",
    "\n",
    "# class Myfunc:\n",
    "    \n",
    "#     def result(self):\n",
    "#         print(\"Its mine\")\n",
    "        \n",
    "# class Yourfunc(Myfunc):\n",
    "    \n",
    "#     def result(self):\n",
    "#         print(\"Its yours\")\n",
    "        \n",
    "# class Judge:\n",
    "    \n",
    "#     def __init__(self, decision):\n",
    "#         decision.result()\n",
    "        \n",
    "# dec = Yourfunc()\n",
    "\n",
    "# jud = Judge(dec)\n",
    "        \n",
    "\n",
    "\n"
   ]
  },
  {
   "cell_type": "code",
   "execution_count": 11,
   "metadata": {},
   "outputs": [
    {
     "name": "stdout",
     "output_type": "stream",
     "text": [
      "3\n",
      "helloworld\n",
      "[1, 2]\n"
     ]
    }
   ],
   "source": [
    "def calc(a,b):\n",
    "    print(a+b)\n",
    "#     return a+b\n",
    "\n",
    "calc(1,2)\n",
    "calc('hello','world')\n",
    "calc([1],[2])"
   ]
  },
  {
   "cell_type": "code",
   "execution_count": null,
   "metadata": {},
   "outputs": [],
   "source": []
  },
  {
   "cell_type": "code",
   "execution_count": 15,
   "metadata": {},
   "outputs": [
    {
     "name": "stdout",
     "output_type": "stream",
     "text": [
      "2\n"
     ]
    }
   ],
   "source": [
    "#### OPERATOR overloading\n",
    "\n",
    "# class Sample2:\n",
    "#     def __init__(self,m1,m2):\n",
    "#         self.m1 = m1\n",
    "#         self.m2 = m2\n",
    "    \n",
    "#     def __add__(self,other):  ### Operator overloading\n",
    "#         m1 = self.m1 - other.m2\n",
    "#         m2 = self.m1 - other.m2\n",
    "#         s3 = Sample(m1, m2)\n",
    "#         return s3\n",
    "    \n",
    "\n",
    "class Sample:\n",
    "    \n",
    "    def __init__(self,m1,m2):\n",
    "        self.m1 = m1\n",
    "        self.m2 = m2\n",
    "    \n",
    "    def __add__(self,other):  ### Operator overloading\n",
    "        m1 = self.m1 - other.m1\n",
    "        m2 = self.m2 - other.m2\n",
    "        s3 = Sample(m1, m2)\n",
    "        return s3\n",
    "        \n",
    "        \n",
    "        \n",
    "s1 = Sample(5,6)\n",
    "s2 = Sample(3,4)\n",
    "\n",
    "s3 = s1 + s2\n",
    "print(s3.m1)\n",
    "\n"
   ]
  },
  {
   "cell_type": "code",
   "execution_count": 8,
   "metadata": {},
   "outputs": [
    {
     "name": "stdout",
     "output_type": "stream",
     "text": [
      "5 None None\n",
      "tWO\n",
      "5 4 None\n",
      "tWO\n"
     ]
    },
    {
     "data": {
      "text/plain": [
       "9"
      ]
     },
     "execution_count": 8,
     "metadata": {},
     "output_type": "execute_result"
    }
   ],
   "source": [
    "## Method overloading and Method overridding\n",
    "\n",
    "# Method overloading: using same method name with different args list\n",
    "\n",
    "#  but we can only use the second product method, as python does not supports method overloading.\n",
    "# We may define many method of same name and different argument but we can only use the latest defined method. \n",
    "\n",
    "class Example:\n",
    "    \n",
    "    def add(self,a):\n",
    "        print(a,b,c)\n",
    "        print(\"One\")\n",
    "        if a!=None and b!=None and c!=None:\n",
    "            return a+b+c\n",
    "        elif c==None and b!=None:\n",
    "            return a+b\n",
    "        else:\n",
    "            return a\n",
    "        \n",
    "    def add(self,a,b=None,c=None):\n",
    "        print(a,b,c)\n",
    "        print(\"tWO\")\n",
    "        if a!=None and b!=None and c!=None:\n",
    "            return a+b+c\n",
    "        elif c==None and b!=None:\n",
    "            return a+b\n",
    "        else:\n",
    "            return a\n",
    "            \n",
    "    \n",
    "    \n",
    "e = Example()\n",
    "\n",
    "e.add(5)\n",
    "e.add(5,4)\n"
   ]
  },
  {
   "cell_type": "code",
   "execution_count": null,
   "metadata": {},
   "outputs": [],
   "source": [
    "\n"
   ]
  },
  {
   "cell_type": "code",
   "execution_count": 14,
   "metadata": {},
   "outputs": [
    {
     "name": "stdout",
     "output_type": "stream",
     "text": [
      "Nokia 1108\n",
      "Samsung S9\n"
     ]
    }
   ],
   "source": [
    "### Method overriding \n",
    "\n",
    "class Father:\n",
    "    def phone(self):\n",
    "        print(\"Nokia 1108\")\n",
    "\n",
    "class Me(Father):\n",
    "    def phone(self):\n",
    "        super().phone()\n",
    "        print(\"Samsung S9\")\n",
    "        \n",
    "m = Me()\n",
    "m.phone()\n",
    "        "
   ]
  },
  {
   "cell_type": "code",
   "execution_count": 21,
   "metadata": {},
   "outputs": [
    {
     "name": "stdout",
     "output_type": "stream",
     "text": [
      "Exception occured:\n",
      "division by zero\n"
     ]
    }
   ],
   "source": [
    "## Errors: Complie time, Logical, Run time\n",
    "\n",
    "a = 5 \n",
    "b = 0\n",
    "\n",
    "try:\n",
    "    print(a/b)\n",
    "except Exception as e:\n",
    "    print(\"Exception occured:\")\n",
    "    print(e)"
   ]
  },
  {
   "cell_type": "code",
   "execution_count": 22,
   "metadata": {
    "scrolled": true
   },
   "outputs": [
    {
     "name": "stdout",
     "output_type": "stream",
     "text": [
      "hello\n",
      "hello\n",
      "Hihello\n",
      "hello\n",
      "hello\n",
      "hello\n",
      "hello\n",
      "hello\n",
      "hello\n",
      "hello\n",
      "\n",
      "Hi\n",
      "Hi\n",
      "Hi\n",
      "Hi\n",
      "Hi\n",
      "Hi\n",
      "Hi\n",
      "Hi\n",
      "Hi\n",
      "Bye\n"
     ]
    }
   ],
   "source": [
    "### Multithreading\n",
    "\n",
    "from threading import *\n",
    "\n",
    "class Example1(Thread):\n",
    "    def run(self):\n",
    "        for i in range(10):\n",
    "            print(\"hello\")\n",
    "\n",
    "class Example2(Thread):\n",
    "    def run(self):\n",
    "        for i in range(10):\n",
    "            print(\"Hi\")\n",
    "        \n",
    "ex1 = Example1()\n",
    "ex2 = Example2()\n",
    "\n",
    "ex1.start()\n",
    "ex2.start()\n",
    "\n",
    "ex1.join()\n",
    "ex2.join()\n",
    "print(\"Bye\")"
   ]
  },
  {
   "cell_type": "code",
   "execution_count": null,
   "metadata": {},
   "outputs": [],
   "source": [
    "### Linear search , Binary Search, Bubble sort, selection sort"
   ]
  }
 ],
 "metadata": {
  "kernelspec": {
   "display_name": "Python 3",
   "language": "python",
   "name": "python3"
  },
  "language_info": {
   "codemirror_mode": {
    "name": "ipython",
    "version": 3
   },
   "file_extension": ".py",
   "mimetype": "text/x-python",
   "name": "python",
   "nbconvert_exporter": "python",
   "pygments_lexer": "ipython3",
   "version": "3.6.0"
  }
 },
 "nbformat": 4,
 "nbformat_minor": 2
}
