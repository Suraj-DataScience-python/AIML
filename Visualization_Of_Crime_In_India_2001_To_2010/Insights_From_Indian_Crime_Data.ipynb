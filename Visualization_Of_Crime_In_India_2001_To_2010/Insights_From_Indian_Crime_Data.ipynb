{
 "cells": [
  {
   "cell_type": "markdown",
   "metadata": {},
   "source": [
    "## Some insights from the Indian crime data\n",
    "\n",
    "- Dataset Name: Crime in India\n",
    "- Source of dataset: Kaggle\n",
    "- Dataset contains: Information about Crimes happened in India from 2001"
   ]
  },
  {
   "cell_type": "markdown",
   "metadata": {},
   "source": [
    "### Import required packages\n",
    "\n",
    "- pandas : For reading and manipulating files\n",
    "- matlotlib.pyplot : For visualizing the data"
   ]
  },
  {
   "cell_type": "code",
   "execution_count": 168,
   "metadata": {},
   "outputs": [],
   "source": [
    "import pandas as pd\n",
    "import matplotlib.pyplot as plt"
   ]
  },
  {
   "cell_type": "markdown",
   "metadata": {},
   "source": [
    "### Read the data from csv file into dataframes\n",
    "\n",
    "- Objective: Comparing murder and rape cases over several years\n",
    "- Files: \n",
    "    - 32_Murder_victim_age_sex.csv : Contains record of murder victims\n",
    "    - 20_Victims_of_rape.csv : Contains record of the rape victims"
   ]
  },
  {
   "cell_type": "code",
   "execution_count": 169,
   "metadata": {},
   "outputs": [],
   "source": [
    "md = pd.read_csv(\"32_Murder_victim_age_sex.csv\")\n",
    "rp = pd.read_csv(\"20_Victims_of_rape.csv\")"
   ]
  },
  {
   "cell_type": "markdown",
   "metadata": {},
   "source": [
    "### Check first 3 rows of the dataframes"
   ]
  },
  {
   "cell_type": "code",
   "execution_count": 170,
   "metadata": {},
   "outputs": [
    {
     "data": {
      "text/html": [
       "<div>\n",
       "<style scoped>\n",
       "    .dataframe tbody tr th:only-of-type {\n",
       "        vertical-align: middle;\n",
       "    }\n",
       "\n",
       "    .dataframe tbody tr th {\n",
       "        vertical-align: top;\n",
       "    }\n",
       "\n",
       "    .dataframe thead th {\n",
       "        text-align: right;\n",
       "    }\n",
       "</style>\n",
       "<table border=\"1\" class=\"dataframe\">\n",
       "  <thead>\n",
       "    <tr style=\"text-align: right;\">\n",
       "      <th></th>\n",
       "      <th>Area_Name</th>\n",
       "      <th>Year</th>\n",
       "      <th>Group_Name</th>\n",
       "      <th>Sub_Group_Name</th>\n",
       "      <th>Victims_Above_50_Yrs</th>\n",
       "      <th>Victims_Total</th>\n",
       "      <th>Victims_Upto_10_15_Yrs</th>\n",
       "      <th>Victims_Upto_10_Yrs</th>\n",
       "      <th>Victims_Upto_15_18_Yrs</th>\n",
       "      <th>Victims_Upto_18_30_Yrs</th>\n",
       "      <th>Victims_Upto_30_50_Yrs</th>\n",
       "    </tr>\n",
       "  </thead>\n",
       "  <tbody>\n",
       "    <tr>\n",
       "      <th>0</th>\n",
       "      <td>Andaman &amp; Nicobar Islands</td>\n",
       "      <td>2001</td>\n",
       "      <td>Murder - Female Victims</td>\n",
       "      <td>2. Female Victims</td>\n",
       "      <td>NaN</td>\n",
       "      <td>6</td>\n",
       "      <td>NaN</td>\n",
       "      <td>NaN</td>\n",
       "      <td>NaN</td>\n",
       "      <td>4.0</td>\n",
       "      <td>2.0</td>\n",
       "    </tr>\n",
       "    <tr>\n",
       "      <th>1</th>\n",
       "      <td>Andhra Pradesh</td>\n",
       "      <td>2001</td>\n",
       "      <td>Murder - Female Victims</td>\n",
       "      <td>2. Female Victims</td>\n",
       "      <td>67.0</td>\n",
       "      <td>607</td>\n",
       "      <td>15.0</td>\n",
       "      <td>38.0</td>\n",
       "      <td>43.0</td>\n",
       "      <td>269.0</td>\n",
       "      <td>175.0</td>\n",
       "    </tr>\n",
       "    <tr>\n",
       "      <th>2</th>\n",
       "      <td>Arunachal Pradesh</td>\n",
       "      <td>2001</td>\n",
       "      <td>Murder - Female Victims</td>\n",
       "      <td>2. Female Victims</td>\n",
       "      <td>2.0</td>\n",
       "      <td>16</td>\n",
       "      <td>0.0</td>\n",
       "      <td>0.0</td>\n",
       "      <td>0.0</td>\n",
       "      <td>10.0</td>\n",
       "      <td>4.0</td>\n",
       "    </tr>\n",
       "  </tbody>\n",
       "</table>\n",
       "</div>"
      ],
      "text/plain": [
       "                   Area_Name  Year               Group_Name  \\\n",
       "0  Andaman & Nicobar Islands  2001  Murder - Female Victims   \n",
       "1             Andhra Pradesh  2001  Murder - Female Victims   \n",
       "2          Arunachal Pradesh  2001  Murder - Female Victims   \n",
       "\n",
       "      Sub_Group_Name  Victims_Above_50_Yrs  Victims_Total  \\\n",
       "0  2. Female Victims                   NaN              6   \n",
       "1  2. Female Victims                  67.0            607   \n",
       "2  2. Female Victims                   2.0             16   \n",
       "\n",
       "   Victims_Upto_10_15_Yrs  Victims_Upto_10_Yrs  Victims_Upto_15_18_Yrs  \\\n",
       "0                     NaN                  NaN                     NaN   \n",
       "1                    15.0                 38.0                    43.0   \n",
       "2                     0.0                  0.0                     0.0   \n",
       "\n",
       "   Victims_Upto_18_30_Yrs  Victims_Upto_30_50_Yrs  \n",
       "0                     4.0                     2.0  \n",
       "1                   269.0                   175.0  \n",
       "2                    10.0                     4.0  "
      ]
     },
     "execution_count": 170,
     "metadata": {},
     "output_type": "execute_result"
    }
   ],
   "source": [
    "md.head(3)"
   ]
  },
  {
   "cell_type": "code",
   "execution_count": 171,
   "metadata": {},
   "outputs": [
    {
     "data": {
      "text/html": [
       "<div>\n",
       "<style scoped>\n",
       "    .dataframe tbody tr th:only-of-type {\n",
       "        vertical-align: middle;\n",
       "    }\n",
       "\n",
       "    .dataframe tbody tr th {\n",
       "        vertical-align: top;\n",
       "    }\n",
       "\n",
       "    .dataframe thead th {\n",
       "        text-align: right;\n",
       "    }\n",
       "</style>\n",
       "<table border=\"1\" class=\"dataframe\">\n",
       "  <thead>\n",
       "    <tr style=\"text-align: right;\">\n",
       "      <th></th>\n",
       "      <th>Area_Name</th>\n",
       "      <th>Year</th>\n",
       "      <th>Subgroup</th>\n",
       "      <th>Rape_Cases_Reported</th>\n",
       "      <th>Victims_Above_50_Yrs</th>\n",
       "      <th>Victims_Between_10-14_Yrs</th>\n",
       "      <th>Victims_Between_14-18_Yrs</th>\n",
       "      <th>Victims_Between_18-30_Yrs</th>\n",
       "      <th>Victims_Between_30-50_Yrs</th>\n",
       "      <th>Victims_of_Rape_Total</th>\n",
       "      <th>Victims_Upto_10_Yrs</th>\n",
       "    </tr>\n",
       "  </thead>\n",
       "  <tbody>\n",
       "    <tr>\n",
       "      <th>0</th>\n",
       "      <td>Andaman &amp; Nicobar Islands</td>\n",
       "      <td>2001</td>\n",
       "      <td>Total Rape Victims</td>\n",
       "      <td>3</td>\n",
       "      <td>0</td>\n",
       "      <td>0</td>\n",
       "      <td>3</td>\n",
       "      <td>0</td>\n",
       "      <td>0</td>\n",
       "      <td>3</td>\n",
       "      <td>0</td>\n",
       "    </tr>\n",
       "    <tr>\n",
       "      <th>1</th>\n",
       "      <td>Andaman &amp; Nicobar Islands</td>\n",
       "      <td>2001</td>\n",
       "      <td>Victims of Incest Rape</td>\n",
       "      <td>1</td>\n",
       "      <td>0</td>\n",
       "      <td>0</td>\n",
       "      <td>1</td>\n",
       "      <td>0</td>\n",
       "      <td>0</td>\n",
       "      <td>1</td>\n",
       "      <td>0</td>\n",
       "    </tr>\n",
       "    <tr>\n",
       "      <th>2</th>\n",
       "      <td>Andaman &amp; Nicobar Islands</td>\n",
       "      <td>2001</td>\n",
       "      <td>Victims of Other Rape</td>\n",
       "      <td>2</td>\n",
       "      <td>0</td>\n",
       "      <td>0</td>\n",
       "      <td>2</td>\n",
       "      <td>0</td>\n",
       "      <td>0</td>\n",
       "      <td>2</td>\n",
       "      <td>0</td>\n",
       "    </tr>\n",
       "  </tbody>\n",
       "</table>\n",
       "</div>"
      ],
      "text/plain": [
       "                   Area_Name  Year                Subgroup  \\\n",
       "0  Andaman & Nicobar Islands  2001      Total Rape Victims   \n",
       "1  Andaman & Nicobar Islands  2001  Victims of Incest Rape   \n",
       "2  Andaman & Nicobar Islands  2001   Victims of Other Rape   \n",
       "\n",
       "   Rape_Cases_Reported  Victims_Above_50_Yrs  Victims_Between_10-14_Yrs  \\\n",
       "0                    3                     0                          0   \n",
       "1                    1                     0                          0   \n",
       "2                    2                     0                          0   \n",
       "\n",
       "   Victims_Between_14-18_Yrs  Victims_Between_18-30_Yrs  \\\n",
       "0                          3                          0   \n",
       "1                          1                          0   \n",
       "2                          2                          0   \n",
       "\n",
       "   Victims_Between_30-50_Yrs  Victims_of_Rape_Total  Victims_Upto_10_Yrs  \n",
       "0                          0                      3                    0  \n",
       "1                          0                      1                    0  \n",
       "2                          0                      2                    0  "
      ]
     },
     "execution_count": 171,
     "metadata": {},
     "output_type": "execute_result"
    }
   ],
   "source": [
    "rp.head(3)"
   ]
  },
  {
   "cell_type": "markdown",
   "metadata": {},
   "source": [
    "### Get the overall sense of the data\n",
    "\n",
    "- Number of rows and columns\n",
    "- All the available column names\n",
    "- Datatypes of different columns\n",
    "- Description of the data\n",
    "- Amount of missing values"
   ]
  },
  {
   "cell_type": "markdown",
   "metadata": {},
   "source": [
    "#### Number of rows and columns"
   ]
  },
  {
   "cell_type": "code",
   "execution_count": 172,
   "metadata": {},
   "outputs": [
    {
     "data": {
      "text/plain": [
       "(1018, 11)"
      ]
     },
     "execution_count": 172,
     "metadata": {},
     "output_type": "execute_result"
    }
   ],
   "source": [
    "md.shape"
   ]
  },
  {
   "cell_type": "code",
   "execution_count": 173,
   "metadata": {},
   "outputs": [
    {
     "data": {
      "text/plain": [
       "(1050, 11)"
      ]
     },
     "execution_count": 173,
     "metadata": {},
     "output_type": "execute_result"
    }
   ],
   "source": [
    "rp.shape"
   ]
  },
  {
   "cell_type": "markdown",
   "metadata": {},
   "source": [
    "#### Column names"
   ]
  },
  {
   "cell_type": "code",
   "execution_count": 174,
   "metadata": {},
   "outputs": [
    {
     "data": {
      "text/plain": [
       "Index(['Area_Name', 'Year', 'Group_Name', 'Sub_Group_Name',\n",
       "       'Victims_Above_50_Yrs', 'Victims_Total', 'Victims_Upto_10_15_Yrs',\n",
       "       'Victims_Upto_10_Yrs', 'Victims_Upto_15_18_Yrs',\n",
       "       'Victims_Upto_18_30_Yrs', 'Victims_Upto_30_50_Yrs'],\n",
       "      dtype='object')"
      ]
     },
     "execution_count": 174,
     "metadata": {},
     "output_type": "execute_result"
    }
   ],
   "source": [
    "md.keys()"
   ]
  },
  {
   "cell_type": "code",
   "execution_count": 175,
   "metadata": {},
   "outputs": [
    {
     "data": {
      "text/plain": [
       "Index(['Area_Name', 'Year', 'Subgroup', 'Rape_Cases_Reported',\n",
       "       'Victims_Above_50_Yrs', 'Victims_Between_10-14_Yrs',\n",
       "       'Victims_Between_14-18_Yrs', 'Victims_Between_18-30_Yrs',\n",
       "       'Victims_Between_30-50_Yrs', 'Victims_of_Rape_Total',\n",
       "       'Victims_Upto_10_Yrs'],\n",
       "      dtype='object')"
      ]
     },
     "execution_count": 175,
     "metadata": {},
     "output_type": "execute_result"
    }
   ],
   "source": [
    "rp.columns"
   ]
  },
  {
   "cell_type": "markdown",
   "metadata": {},
   "source": [
    "#### Check datatypes"
   ]
  },
  {
   "cell_type": "code",
   "execution_count": 176,
   "metadata": {},
   "outputs": [
    {
     "data": {
      "text/plain": [
       "Area_Name                  object\n",
       "Year                        int64\n",
       "Group_Name                 object\n",
       "Sub_Group_Name             object\n",
       "Victims_Above_50_Yrs      float64\n",
       "Victims_Total               int64\n",
       "Victims_Upto_10_15_Yrs    float64\n",
       "Victims_Upto_10_Yrs       float64\n",
       "Victims_Upto_15_18_Yrs    float64\n",
       "Victims_Upto_18_30_Yrs    float64\n",
       "Victims_Upto_30_50_Yrs    float64\n",
       "dtype: object"
      ]
     },
     "execution_count": 176,
     "metadata": {},
     "output_type": "execute_result"
    }
   ],
   "source": [
    "md.dtypes"
   ]
  },
  {
   "cell_type": "code",
   "execution_count": 177,
   "metadata": {},
   "outputs": [
    {
     "data": {
      "text/plain": [
       "Area_Name                    object\n",
       "Year                          int64\n",
       "Subgroup                     object\n",
       "Rape_Cases_Reported           int64\n",
       "Victims_Above_50_Yrs          int64\n",
       "Victims_Between_10-14_Yrs     int64\n",
       "Victims_Between_14-18_Yrs     int64\n",
       "Victims_Between_18-30_Yrs     int64\n",
       "Victims_Between_30-50_Yrs     int64\n",
       "Victims_of_Rape_Total         int64\n",
       "Victims_Upto_10_Yrs           int64\n",
       "dtype: object"
      ]
     },
     "execution_count": 177,
     "metadata": {},
     "output_type": "execute_result"
    }
   ],
   "source": [
    "rp.dtypes"
   ]
  },
  {
   "cell_type": "markdown",
   "metadata": {},
   "source": [
    "#### Description of the data"
   ]
  },
  {
   "cell_type": "code",
   "execution_count": 178,
   "metadata": {},
   "outputs": [
    {
     "data": {
      "text/html": [
       "<div>\n",
       "<style scoped>\n",
       "    .dataframe tbody tr th:only-of-type {\n",
       "        vertical-align: middle;\n",
       "    }\n",
       "\n",
       "    .dataframe tbody tr th {\n",
       "        vertical-align: top;\n",
       "    }\n",
       "\n",
       "    .dataframe thead th {\n",
       "        text-align: right;\n",
       "    }\n",
       "</style>\n",
       "<table border=\"1\" class=\"dataframe\">\n",
       "  <thead>\n",
       "    <tr style=\"text-align: right;\">\n",
       "      <th></th>\n",
       "      <th>Year</th>\n",
       "      <th>Victims_Above_50_Yrs</th>\n",
       "      <th>Victims_Total</th>\n",
       "      <th>Victims_Upto_10_15_Yrs</th>\n",
       "      <th>Victims_Upto_10_Yrs</th>\n",
       "      <th>Victims_Upto_15_18_Yrs</th>\n",
       "      <th>Victims_Upto_18_30_Yrs</th>\n",
       "      <th>Victims_Upto_30_50_Yrs</th>\n",
       "    </tr>\n",
       "  </thead>\n",
       "  <tbody>\n",
       "    <tr>\n",
       "      <th>count</th>\n",
       "      <td>1018.000000</td>\n",
       "      <td>962.000000</td>\n",
       "      <td>1018.000000</td>\n",
       "      <td>876.000000</td>\n",
       "      <td>900.000000</td>\n",
       "      <td>888.000000</td>\n",
       "      <td>1009.000000</td>\n",
       "      <td>1007.000000</td>\n",
       "    </tr>\n",
       "    <tr>\n",
       "      <th>mean</th>\n",
       "      <td>2005.512770</td>\n",
       "      <td>67.559252</td>\n",
       "      <td>683.406680</td>\n",
       "      <td>9.536530</td>\n",
       "      <td>14.726667</td>\n",
       "      <td>17.326577</td>\n",
       "      <td>314.739346</td>\n",
       "      <td>274.230387</td>\n",
       "    </tr>\n",
       "    <tr>\n",
       "      <th>std</th>\n",
       "      <td>2.866127</td>\n",
       "      <td>100.650347</td>\n",
       "      <td>1015.595667</td>\n",
       "      <td>21.417212</td>\n",
       "      <td>25.355027</td>\n",
       "      <td>39.497253</td>\n",
       "      <td>483.745420</td>\n",
       "      <td>396.206952</td>\n",
       "    </tr>\n",
       "    <tr>\n",
       "      <th>min</th>\n",
       "      <td>2001.000000</td>\n",
       "      <td>0.000000</td>\n",
       "      <td>0.000000</td>\n",
       "      <td>0.000000</td>\n",
       "      <td>0.000000</td>\n",
       "      <td>0.000000</td>\n",
       "      <td>0.000000</td>\n",
       "      <td>0.000000</td>\n",
       "    </tr>\n",
       "    <tr>\n",
       "      <th>25%</th>\n",
       "      <td>2003.000000</td>\n",
       "      <td>3.000000</td>\n",
       "      <td>31.000000</td>\n",
       "      <td>0.000000</td>\n",
       "      <td>1.000000</td>\n",
       "      <td>0.000000</td>\n",
       "      <td>13.000000</td>\n",
       "      <td>13.000000</td>\n",
       "    </tr>\n",
       "    <tr>\n",
       "      <th>50%</th>\n",
       "      <td>2006.000000</td>\n",
       "      <td>25.000000</td>\n",
       "      <td>258.000000</td>\n",
       "      <td>2.000000</td>\n",
       "      <td>3.000000</td>\n",
       "      <td>3.000000</td>\n",
       "      <td>116.000000</td>\n",
       "      <td>102.000000</td>\n",
       "    </tr>\n",
       "    <tr>\n",
       "      <th>75%</th>\n",
       "      <td>2008.000000</td>\n",
       "      <td>86.000000</td>\n",
       "      <td>1011.750000</td>\n",
       "      <td>10.000000</td>\n",
       "      <td>18.000000</td>\n",
       "      <td>14.000000</td>\n",
       "      <td>421.000000</td>\n",
       "      <td>416.500000</td>\n",
       "    </tr>\n",
       "    <tr>\n",
       "      <th>max</th>\n",
       "      <td>2010.000000</td>\n",
       "      <td>824.000000</td>\n",
       "      <td>8180.000000</td>\n",
       "      <td>218.000000</td>\n",
       "      <td>189.000000</td>\n",
       "      <td>347.000000</td>\n",
       "      <td>3724.000000</td>\n",
       "      <td>3143.000000</td>\n",
       "    </tr>\n",
       "  </tbody>\n",
       "</table>\n",
       "</div>"
      ],
      "text/plain": [
       "              Year  Victims_Above_50_Yrs  Victims_Total  \\\n",
       "count  1018.000000            962.000000    1018.000000   \n",
       "mean   2005.512770             67.559252     683.406680   \n",
       "std       2.866127            100.650347    1015.595667   \n",
       "min    2001.000000              0.000000       0.000000   \n",
       "25%    2003.000000              3.000000      31.000000   \n",
       "50%    2006.000000             25.000000     258.000000   \n",
       "75%    2008.000000             86.000000    1011.750000   \n",
       "max    2010.000000            824.000000    8180.000000   \n",
       "\n",
       "       Victims_Upto_10_15_Yrs  Victims_Upto_10_Yrs  Victims_Upto_15_18_Yrs  \\\n",
       "count              876.000000           900.000000              888.000000   \n",
       "mean                 9.536530            14.726667               17.326577   \n",
       "std                 21.417212            25.355027               39.497253   \n",
       "min                  0.000000             0.000000                0.000000   \n",
       "25%                  0.000000             1.000000                0.000000   \n",
       "50%                  2.000000             3.000000                3.000000   \n",
       "75%                 10.000000            18.000000               14.000000   \n",
       "max                218.000000           189.000000              347.000000   \n",
       "\n",
       "       Victims_Upto_18_30_Yrs  Victims_Upto_30_50_Yrs  \n",
       "count             1009.000000             1007.000000  \n",
       "mean               314.739346              274.230387  \n",
       "std                483.745420              396.206952  \n",
       "min                  0.000000                0.000000  \n",
       "25%                 13.000000               13.000000  \n",
       "50%                116.000000              102.000000  \n",
       "75%                421.000000              416.500000  \n",
       "max               3724.000000             3143.000000  "
      ]
     },
     "execution_count": 178,
     "metadata": {},
     "output_type": "execute_result"
    }
   ],
   "source": [
    "## This will show the description of the numerical columns only\n",
    "\n",
    "md.describe()"
   ]
  },
  {
   "cell_type": "code",
   "execution_count": 179,
   "metadata": {},
   "outputs": [
    {
     "data": {
      "text/html": [
       "<div>\n",
       "<style scoped>\n",
       "    .dataframe tbody tr th:only-of-type {\n",
       "        vertical-align: middle;\n",
       "    }\n",
       "\n",
       "    .dataframe tbody tr th {\n",
       "        vertical-align: top;\n",
       "    }\n",
       "\n",
       "    .dataframe thead th {\n",
       "        text-align: right;\n",
       "    }\n",
       "</style>\n",
       "<table border=\"1\" class=\"dataframe\">\n",
       "  <thead>\n",
       "    <tr style=\"text-align: right;\">\n",
       "      <th></th>\n",
       "      <th>Year</th>\n",
       "      <th>Rape_Cases_Reported</th>\n",
       "      <th>Victims_Above_50_Yrs</th>\n",
       "      <th>Victims_Between_10-14_Yrs</th>\n",
       "      <th>Victims_Between_14-18_Yrs</th>\n",
       "      <th>Victims_Between_18-30_Yrs</th>\n",
       "      <th>Victims_Between_30-50_Yrs</th>\n",
       "      <th>Victims_of_Rape_Total</th>\n",
       "      <th>Victims_Upto_10_Yrs</th>\n",
       "    </tr>\n",
       "  </thead>\n",
       "  <tbody>\n",
       "    <tr>\n",
       "      <th>count</th>\n",
       "      <td>1050.00000</td>\n",
       "      <td>1050.000000</td>\n",
       "      <td>1050.000000</td>\n",
       "      <td>1050.000000</td>\n",
       "      <td>1050.000000</td>\n",
       "      <td>1050.000000</td>\n",
       "      <td>1050.000000</td>\n",
       "      <td>1050.000000</td>\n",
       "      <td>1050.000000</td>\n",
       "    </tr>\n",
       "    <tr>\n",
       "      <th>mean</th>\n",
       "      <td>2005.50000</td>\n",
       "      <td>361.920000</td>\n",
       "      <td>1.866667</td>\n",
       "      <td>23.657143</td>\n",
       "      <td>53.085714</td>\n",
       "      <td>212.937143</td>\n",
       "      <td>60.236190</td>\n",
       "      <td>362.198095</td>\n",
       "      <td>10.415238</td>\n",
       "    </tr>\n",
       "    <tr>\n",
       "      <th>std</th>\n",
       "      <td>2.87365</td>\n",
       "      <td>592.180572</td>\n",
       "      <td>4.640286</td>\n",
       "      <td>50.677418</td>\n",
       "      <td>115.127899</td>\n",
       "      <td>350.135760</td>\n",
       "      <td>118.322713</td>\n",
       "      <td>592.418089</td>\n",
       "      <td>19.533134</td>\n",
       "    </tr>\n",
       "    <tr>\n",
       "      <th>min</th>\n",
       "      <td>2001.00000</td>\n",
       "      <td>0.000000</td>\n",
       "      <td>0.000000</td>\n",
       "      <td>0.000000</td>\n",
       "      <td>0.000000</td>\n",
       "      <td>0.000000</td>\n",
       "      <td>0.000000</td>\n",
       "      <td>0.000000</td>\n",
       "      <td>0.000000</td>\n",
       "    </tr>\n",
       "    <tr>\n",
       "      <th>25%</th>\n",
       "      <td>2003.00000</td>\n",
       "      <td>4.000000</td>\n",
       "      <td>0.000000</td>\n",
       "      <td>0.000000</td>\n",
       "      <td>0.000000</td>\n",
       "      <td>1.000000</td>\n",
       "      <td>0.000000</td>\n",
       "      <td>4.000000</td>\n",
       "      <td>0.000000</td>\n",
       "    </tr>\n",
       "    <tr>\n",
       "      <th>50%</th>\n",
       "      <td>2005.50000</td>\n",
       "      <td>37.000000</td>\n",
       "      <td>0.000000</td>\n",
       "      <td>3.000000</td>\n",
       "      <td>5.000000</td>\n",
       "      <td>15.500000</td>\n",
       "      <td>4.000000</td>\n",
       "      <td>37.000000</td>\n",
       "      <td>2.000000</td>\n",
       "    </tr>\n",
       "    <tr>\n",
       "      <th>75%</th>\n",
       "      <td>2008.00000</td>\n",
       "      <td>527.500000</td>\n",
       "      <td>1.000000</td>\n",
       "      <td>19.000000</td>\n",
       "      <td>42.000000</td>\n",
       "      <td>308.000000</td>\n",
       "      <td>58.750000</td>\n",
       "      <td>531.500000</td>\n",
       "      <td>11.000000</td>\n",
       "    </tr>\n",
       "    <tr>\n",
       "      <th>max</th>\n",
       "      <td>2010.00000</td>\n",
       "      <td>3135.000000</td>\n",
       "      <td>43.000000</td>\n",
       "      <td>416.000000</td>\n",
       "      <td>826.000000</td>\n",
       "      <td>1835.000000</td>\n",
       "      <td>811.000000</td>\n",
       "      <td>3136.000000</td>\n",
       "      <td>131.000000</td>\n",
       "    </tr>\n",
       "  </tbody>\n",
       "</table>\n",
       "</div>"
      ],
      "text/plain": [
       "             Year  Rape_Cases_Reported  Victims_Above_50_Yrs  \\\n",
       "count  1050.00000          1050.000000           1050.000000   \n",
       "mean   2005.50000           361.920000              1.866667   \n",
       "std       2.87365           592.180572              4.640286   \n",
       "min    2001.00000             0.000000              0.000000   \n",
       "25%    2003.00000             4.000000              0.000000   \n",
       "50%    2005.50000            37.000000              0.000000   \n",
       "75%    2008.00000           527.500000              1.000000   \n",
       "max    2010.00000          3135.000000             43.000000   \n",
       "\n",
       "       Victims_Between_10-14_Yrs  Victims_Between_14-18_Yrs  \\\n",
       "count                1050.000000                1050.000000   \n",
       "mean                   23.657143                  53.085714   \n",
       "std                    50.677418                 115.127899   \n",
       "min                     0.000000                   0.000000   \n",
       "25%                     0.000000                   0.000000   \n",
       "50%                     3.000000                   5.000000   \n",
       "75%                    19.000000                  42.000000   \n",
       "max                   416.000000                 826.000000   \n",
       "\n",
       "       Victims_Between_18-30_Yrs  Victims_Between_30-50_Yrs  \\\n",
       "count                1050.000000                1050.000000   \n",
       "mean                  212.937143                  60.236190   \n",
       "std                   350.135760                 118.322713   \n",
       "min                     0.000000                   0.000000   \n",
       "25%                     1.000000                   0.000000   \n",
       "50%                    15.500000                   4.000000   \n",
       "75%                   308.000000                  58.750000   \n",
       "max                  1835.000000                 811.000000   \n",
       "\n",
       "       Victims_of_Rape_Total  Victims_Upto_10_Yrs  \n",
       "count            1050.000000          1050.000000  \n",
       "mean              362.198095            10.415238  \n",
       "std               592.418089            19.533134  \n",
       "min                 0.000000             0.000000  \n",
       "25%                 4.000000             0.000000  \n",
       "50%                37.000000             2.000000  \n",
       "75%               531.500000            11.000000  \n",
       "max              3136.000000           131.000000  "
      ]
     },
     "execution_count": 179,
     "metadata": {},
     "output_type": "execute_result"
    }
   ],
   "source": [
    "rp.describe()"
   ]
  },
  {
   "cell_type": "code",
   "execution_count": 180,
   "metadata": {},
   "outputs": [
    {
     "data": {
      "text/html": [
       "<div>\n",
       "<style scoped>\n",
       "    .dataframe tbody tr th:only-of-type {\n",
       "        vertical-align: middle;\n",
       "    }\n",
       "\n",
       "    .dataframe tbody tr th {\n",
       "        vertical-align: top;\n",
       "    }\n",
       "\n",
       "    .dataframe thead th {\n",
       "        text-align: right;\n",
       "    }\n",
       "</style>\n",
       "<table border=\"1\" class=\"dataframe\">\n",
       "  <thead>\n",
       "    <tr style=\"text-align: right;\">\n",
       "      <th></th>\n",
       "      <th>Area_Name</th>\n",
       "      <th>Group_Name</th>\n",
       "      <th>Sub_Group_Name</th>\n",
       "    </tr>\n",
       "  </thead>\n",
       "  <tbody>\n",
       "    <tr>\n",
       "      <th>count</th>\n",
       "      <td>1018</td>\n",
       "      <td>1018</td>\n",
       "      <td>1018</td>\n",
       "    </tr>\n",
       "    <tr>\n",
       "      <th>unique</th>\n",
       "      <td>35</td>\n",
       "      <td>3</td>\n",
       "      <td>3</td>\n",
       "    </tr>\n",
       "    <tr>\n",
       "      <th>top</th>\n",
       "      <td>Rajasthan</td>\n",
       "      <td>Murder - Total Victims</td>\n",
       "      <td>3. Total</td>\n",
       "    </tr>\n",
       "    <tr>\n",
       "      <th>freq</th>\n",
       "      <td>30</td>\n",
       "      <td>342</td>\n",
       "      <td>342</td>\n",
       "    </tr>\n",
       "  </tbody>\n",
       "</table>\n",
       "</div>"
      ],
      "text/plain": [
       "        Area_Name              Group_Name Sub_Group_Name\n",
       "count        1018                    1018           1018\n",
       "unique         35                       3              3\n",
       "top     Rajasthan  Murder - Total Victims       3. Total\n",
       "freq           30                     342            342"
      ]
     },
     "execution_count": 180,
     "metadata": {},
     "output_type": "execute_result"
    }
   ],
   "source": [
    "## This will show the description of the Categorical columns only\n",
    "\n",
    "md.describe(include=\"object\")"
   ]
  },
  {
   "cell_type": "code",
   "execution_count": 181,
   "metadata": {},
   "outputs": [
    {
     "data": {
      "text/html": [
       "<div>\n",
       "<style scoped>\n",
       "    .dataframe tbody tr th:only-of-type {\n",
       "        vertical-align: middle;\n",
       "    }\n",
       "\n",
       "    .dataframe tbody tr th {\n",
       "        vertical-align: top;\n",
       "    }\n",
       "\n",
       "    .dataframe thead th {\n",
       "        text-align: right;\n",
       "    }\n",
       "</style>\n",
       "<table border=\"1\" class=\"dataframe\">\n",
       "  <thead>\n",
       "    <tr style=\"text-align: right;\">\n",
       "      <th></th>\n",
       "      <th>Area_Name</th>\n",
       "      <th>Subgroup</th>\n",
       "    </tr>\n",
       "  </thead>\n",
       "  <tbody>\n",
       "    <tr>\n",
       "      <th>count</th>\n",
       "      <td>1050</td>\n",
       "      <td>1050</td>\n",
       "    </tr>\n",
       "    <tr>\n",
       "      <th>unique</th>\n",
       "      <td>35</td>\n",
       "      <td>3</td>\n",
       "    </tr>\n",
       "    <tr>\n",
       "      <th>top</th>\n",
       "      <td>Rajasthan</td>\n",
       "      <td>Victims of Incest Rape</td>\n",
       "    </tr>\n",
       "    <tr>\n",
       "      <th>freq</th>\n",
       "      <td>30</td>\n",
       "      <td>350</td>\n",
       "    </tr>\n",
       "  </tbody>\n",
       "</table>\n",
       "</div>"
      ],
      "text/plain": [
       "        Area_Name                Subgroup\n",
       "count        1050                    1050\n",
       "unique         35                       3\n",
       "top     Rajasthan  Victims of Incest Rape\n",
       "freq           30                     350"
      ]
     },
     "execution_count": 181,
     "metadata": {},
     "output_type": "execute_result"
    }
   ],
   "source": [
    "rp.describe(include=\"object\")"
   ]
  },
  {
   "cell_type": "markdown",
   "metadata": {},
   "source": [
    "##### Observations:\n",
    "\n",
    "- Rajasthan is the place where maximum number of murder and rape crimes happened.\n",
    "- From the year 2001 to 2010, number of rape cases is more than the number of murder cases."
   ]
  },
  {
   "cell_type": "code",
   "execution_count": 194,
   "metadata": {},
   "outputs": [
    {
     "data": {
      "text/html": [
       "<div>\n",
       "<style scoped>\n",
       "    .dataframe tbody tr th:only-of-type {\n",
       "        vertical-align: middle;\n",
       "    }\n",
       "\n",
       "    .dataframe tbody tr th {\n",
       "        vertical-align: top;\n",
       "    }\n",
       "\n",
       "    .dataframe thead th {\n",
       "        text-align: right;\n",
       "    }\n",
       "</style>\n",
       "<table border=\"1\" class=\"dataframe\">\n",
       "  <thead>\n",
       "    <tr style=\"text-align: right;\">\n",
       "      <th></th>\n",
       "      <th>Area_Name</th>\n",
       "      <th>Year</th>\n",
       "      <th>Group_Name</th>\n",
       "      <th>Sub_Group_Name</th>\n",
       "      <th>Victims_Above_50_Yrs</th>\n",
       "      <th>Victims_Total</th>\n",
       "      <th>Victims_Upto_10_15_Yrs</th>\n",
       "      <th>Victims_Upto_10_Yrs</th>\n",
       "      <th>Victims_Upto_15_18_Yrs</th>\n",
       "      <th>Victims_Upto_18_30_Yrs</th>\n",
       "      <th>Victims_Upto_30_50_Yrs</th>\n",
       "    </tr>\n",
       "  </thead>\n",
       "  <tbody>\n",
       "    <tr>\n",
       "      <th>count</th>\n",
       "      <td>1018</td>\n",
       "      <td>1018.000000</td>\n",
       "      <td>1018</td>\n",
       "      <td>1018</td>\n",
       "      <td>1018.000000</td>\n",
       "      <td>1018.000000</td>\n",
       "      <td>1018.000000</td>\n",
       "      <td>1018.000000</td>\n",
       "      <td>1018.000000</td>\n",
       "      <td>1018.000000</td>\n",
       "      <td>1018.000000</td>\n",
       "    </tr>\n",
       "    <tr>\n",
       "      <th>unique</th>\n",
       "      <td>35</td>\n",
       "      <td>NaN</td>\n",
       "      <td>3</td>\n",
       "      <td>3</td>\n",
       "      <td>NaN</td>\n",
       "      <td>NaN</td>\n",
       "      <td>NaN</td>\n",
       "      <td>NaN</td>\n",
       "      <td>NaN</td>\n",
       "      <td>NaN</td>\n",
       "      <td>NaN</td>\n",
       "    </tr>\n",
       "    <tr>\n",
       "      <th>top</th>\n",
       "      <td>Rajasthan</td>\n",
       "      <td>NaN</td>\n",
       "      <td>Murder - Total Victims</td>\n",
       "      <td>3. Total</td>\n",
       "      <td>NaN</td>\n",
       "      <td>NaN</td>\n",
       "      <td>NaN</td>\n",
       "      <td>NaN</td>\n",
       "      <td>NaN</td>\n",
       "      <td>NaN</td>\n",
       "      <td>NaN</td>\n",
       "    </tr>\n",
       "    <tr>\n",
       "      <th>freq</th>\n",
       "      <td>30</td>\n",
       "      <td>NaN</td>\n",
       "      <td>342</td>\n",
       "      <td>342</td>\n",
       "      <td>NaN</td>\n",
       "      <td>NaN</td>\n",
       "      <td>NaN</td>\n",
       "      <td>NaN</td>\n",
       "      <td>NaN</td>\n",
       "      <td>NaN</td>\n",
       "      <td>NaN</td>\n",
       "    </tr>\n",
       "    <tr>\n",
       "      <th>mean</th>\n",
       "      <td>NaN</td>\n",
       "      <td>2005.512770</td>\n",
       "      <td>NaN</td>\n",
       "      <td>NaN</td>\n",
       "      <td>63.842829</td>\n",
       "      <td>683.406680</td>\n",
       "      <td>8.206287</td>\n",
       "      <td>13.019646</td>\n",
       "      <td>15.113949</td>\n",
       "      <td>311.956778</td>\n",
       "      <td>271.267191</td>\n",
       "    </tr>\n",
       "    <tr>\n",
       "      <th>std</th>\n",
       "      <td>NaN</td>\n",
       "      <td>2.866127</td>\n",
       "      <td>NaN</td>\n",
       "      <td>NaN</td>\n",
       "      <td>99.046292</td>\n",
       "      <td>1015.595667</td>\n",
       "      <td>20.138964</td>\n",
       "      <td>24.300876</td>\n",
       "      <td>37.337557</td>\n",
       "      <td>482.501445</td>\n",
       "      <td>395.078021</td>\n",
       "    </tr>\n",
       "    <tr>\n",
       "      <th>min</th>\n",
       "      <td>NaN</td>\n",
       "      <td>2001.000000</td>\n",
       "      <td>NaN</td>\n",
       "      <td>NaN</td>\n",
       "      <td>0.000000</td>\n",
       "      <td>0.000000</td>\n",
       "      <td>0.000000</td>\n",
       "      <td>0.000000</td>\n",
       "      <td>0.000000</td>\n",
       "      <td>0.000000</td>\n",
       "      <td>0.000000</td>\n",
       "    </tr>\n",
       "    <tr>\n",
       "      <th>25%</th>\n",
       "      <td>NaN</td>\n",
       "      <td>2003.000000</td>\n",
       "      <td>NaN</td>\n",
       "      <td>NaN</td>\n",
       "      <td>2.000000</td>\n",
       "      <td>31.000000</td>\n",
       "      <td>0.000000</td>\n",
       "      <td>0.000000</td>\n",
       "      <td>0.000000</td>\n",
       "      <td>12.000000</td>\n",
       "      <td>12.000000</td>\n",
       "    </tr>\n",
       "    <tr>\n",
       "      <th>50%</th>\n",
       "      <td>NaN</td>\n",
       "      <td>2006.000000</td>\n",
       "      <td>NaN</td>\n",
       "      <td>NaN</td>\n",
       "      <td>20.000000</td>\n",
       "      <td>258.000000</td>\n",
       "      <td>1.000000</td>\n",
       "      <td>2.000000</td>\n",
       "      <td>2.000000</td>\n",
       "      <td>112.500000</td>\n",
       "      <td>100.000000</td>\n",
       "    </tr>\n",
       "    <tr>\n",
       "      <th>75%</th>\n",
       "      <td>NaN</td>\n",
       "      <td>2008.000000</td>\n",
       "      <td>NaN</td>\n",
       "      <td>NaN</td>\n",
       "      <td>82.000000</td>\n",
       "      <td>1011.750000</td>\n",
       "      <td>8.000000</td>\n",
       "      <td>15.000000</td>\n",
       "      <td>11.000000</td>\n",
       "      <td>415.750000</td>\n",
       "      <td>409.750000</td>\n",
       "    </tr>\n",
       "    <tr>\n",
       "      <th>max</th>\n",
       "      <td>NaN</td>\n",
       "      <td>2010.000000</td>\n",
       "      <td>NaN</td>\n",
       "      <td>NaN</td>\n",
       "      <td>824.000000</td>\n",
       "      <td>8180.000000</td>\n",
       "      <td>218.000000</td>\n",
       "      <td>189.000000</td>\n",
       "      <td>347.000000</td>\n",
       "      <td>3724.000000</td>\n",
       "      <td>3143.000000</td>\n",
       "    </tr>\n",
       "  </tbody>\n",
       "</table>\n",
       "</div>"
      ],
      "text/plain": [
       "        Area_Name         Year              Group_Name Sub_Group_Name  \\\n",
       "count        1018  1018.000000                    1018           1018   \n",
       "unique         35          NaN                       3              3   \n",
       "top     Rajasthan          NaN  Murder - Total Victims       3. Total   \n",
       "freq           30          NaN                     342            342   \n",
       "mean          NaN  2005.512770                     NaN            NaN   \n",
       "std           NaN     2.866127                     NaN            NaN   \n",
       "min           NaN  2001.000000                     NaN            NaN   \n",
       "25%           NaN  2003.000000                     NaN            NaN   \n",
       "50%           NaN  2006.000000                     NaN            NaN   \n",
       "75%           NaN  2008.000000                     NaN            NaN   \n",
       "max           NaN  2010.000000                     NaN            NaN   \n",
       "\n",
       "        Victims_Above_50_Yrs  Victims_Total  Victims_Upto_10_15_Yrs  \\\n",
       "count            1018.000000    1018.000000             1018.000000   \n",
       "unique                   NaN            NaN                     NaN   \n",
       "top                      NaN            NaN                     NaN   \n",
       "freq                     NaN            NaN                     NaN   \n",
       "mean               63.842829     683.406680                8.206287   \n",
       "std                99.046292    1015.595667               20.138964   \n",
       "min                 0.000000       0.000000                0.000000   \n",
       "25%                 2.000000      31.000000                0.000000   \n",
       "50%                20.000000     258.000000                1.000000   \n",
       "75%                82.000000    1011.750000                8.000000   \n",
       "max               824.000000    8180.000000              218.000000   \n",
       "\n",
       "        Victims_Upto_10_Yrs  Victims_Upto_15_18_Yrs  Victims_Upto_18_30_Yrs  \\\n",
       "count           1018.000000             1018.000000             1018.000000   \n",
       "unique                  NaN                     NaN                     NaN   \n",
       "top                     NaN                     NaN                     NaN   \n",
       "freq                    NaN                     NaN                     NaN   \n",
       "mean              13.019646               15.113949              311.956778   \n",
       "std               24.300876               37.337557              482.501445   \n",
       "min                0.000000                0.000000                0.000000   \n",
       "25%                0.000000                0.000000               12.000000   \n",
       "50%                2.000000                2.000000              112.500000   \n",
       "75%               15.000000               11.000000              415.750000   \n",
       "max              189.000000              347.000000             3724.000000   \n",
       "\n",
       "        Victims_Upto_30_50_Yrs  \n",
       "count              1018.000000  \n",
       "unique                     NaN  \n",
       "top                        NaN  \n",
       "freq                       NaN  \n",
       "mean                271.267191  \n",
       "std                 395.078021  \n",
       "min                   0.000000  \n",
       "25%                  12.000000  \n",
       "50%                 100.000000  \n",
       "75%                 409.750000  \n",
       "max                3143.000000  "
      ]
     },
     "execution_count": 194,
     "metadata": {},
     "output_type": "execute_result"
    }
   ],
   "source": [
    "## This will show the description of all the columns\n",
    "\n",
    "md.describe(include=\"all\")"
   ]
  },
  {
   "cell_type": "code",
   "execution_count": 195,
   "metadata": {},
   "outputs": [
    {
     "data": {
      "text/html": [
       "<div>\n",
       "<style scoped>\n",
       "    .dataframe tbody tr th:only-of-type {\n",
       "        vertical-align: middle;\n",
       "    }\n",
       "\n",
       "    .dataframe tbody tr th {\n",
       "        vertical-align: top;\n",
       "    }\n",
       "\n",
       "    .dataframe thead th {\n",
       "        text-align: right;\n",
       "    }\n",
       "</style>\n",
       "<table border=\"1\" class=\"dataframe\">\n",
       "  <thead>\n",
       "    <tr style=\"text-align: right;\">\n",
       "      <th></th>\n",
       "      <th>Area_Name</th>\n",
       "      <th>Year</th>\n",
       "      <th>Subgroup</th>\n",
       "      <th>Rape_Cases_Reported</th>\n",
       "      <th>Victims_Above_50_Yrs</th>\n",
       "      <th>Victims_Between_10-14_Yrs</th>\n",
       "      <th>Victims_Between_14-18_Yrs</th>\n",
       "      <th>Victims_Between_18-30_Yrs</th>\n",
       "      <th>Victims_Between_30-50_Yrs</th>\n",
       "      <th>Victims_of_Rape_Total</th>\n",
       "      <th>Victims_Upto_10_Yrs</th>\n",
       "    </tr>\n",
       "  </thead>\n",
       "  <tbody>\n",
       "    <tr>\n",
       "      <th>count</th>\n",
       "      <td>1050</td>\n",
       "      <td>1050.00000</td>\n",
       "      <td>1050</td>\n",
       "      <td>1050.000000</td>\n",
       "      <td>1050.000000</td>\n",
       "      <td>1050.000000</td>\n",
       "      <td>1050.000000</td>\n",
       "      <td>1050.000000</td>\n",
       "      <td>1050.000000</td>\n",
       "      <td>1050.000000</td>\n",
       "      <td>1050.000000</td>\n",
       "    </tr>\n",
       "    <tr>\n",
       "      <th>unique</th>\n",
       "      <td>35</td>\n",
       "      <td>NaN</td>\n",
       "      <td>3</td>\n",
       "      <td>NaN</td>\n",
       "      <td>NaN</td>\n",
       "      <td>NaN</td>\n",
       "      <td>NaN</td>\n",
       "      <td>NaN</td>\n",
       "      <td>NaN</td>\n",
       "      <td>NaN</td>\n",
       "      <td>NaN</td>\n",
       "    </tr>\n",
       "    <tr>\n",
       "      <th>top</th>\n",
       "      <td>Rajasthan</td>\n",
       "      <td>NaN</td>\n",
       "      <td>Victims of Incest Rape</td>\n",
       "      <td>NaN</td>\n",
       "      <td>NaN</td>\n",
       "      <td>NaN</td>\n",
       "      <td>NaN</td>\n",
       "      <td>NaN</td>\n",
       "      <td>NaN</td>\n",
       "      <td>NaN</td>\n",
       "      <td>NaN</td>\n",
       "    </tr>\n",
       "    <tr>\n",
       "      <th>freq</th>\n",
       "      <td>30</td>\n",
       "      <td>NaN</td>\n",
       "      <td>350</td>\n",
       "      <td>NaN</td>\n",
       "      <td>NaN</td>\n",
       "      <td>NaN</td>\n",
       "      <td>NaN</td>\n",
       "      <td>NaN</td>\n",
       "      <td>NaN</td>\n",
       "      <td>NaN</td>\n",
       "      <td>NaN</td>\n",
       "    </tr>\n",
       "    <tr>\n",
       "      <th>mean</th>\n",
       "      <td>NaN</td>\n",
       "      <td>2005.50000</td>\n",
       "      <td>NaN</td>\n",
       "      <td>361.920000</td>\n",
       "      <td>1.866667</td>\n",
       "      <td>23.657143</td>\n",
       "      <td>53.085714</td>\n",
       "      <td>212.937143</td>\n",
       "      <td>60.236190</td>\n",
       "      <td>362.198095</td>\n",
       "      <td>10.415238</td>\n",
       "    </tr>\n",
       "    <tr>\n",
       "      <th>std</th>\n",
       "      <td>NaN</td>\n",
       "      <td>2.87365</td>\n",
       "      <td>NaN</td>\n",
       "      <td>592.180572</td>\n",
       "      <td>4.640286</td>\n",
       "      <td>50.677418</td>\n",
       "      <td>115.127899</td>\n",
       "      <td>350.135760</td>\n",
       "      <td>118.322713</td>\n",
       "      <td>592.418089</td>\n",
       "      <td>19.533134</td>\n",
       "    </tr>\n",
       "    <tr>\n",
       "      <th>min</th>\n",
       "      <td>NaN</td>\n",
       "      <td>2001.00000</td>\n",
       "      <td>NaN</td>\n",
       "      <td>0.000000</td>\n",
       "      <td>0.000000</td>\n",
       "      <td>0.000000</td>\n",
       "      <td>0.000000</td>\n",
       "      <td>0.000000</td>\n",
       "      <td>0.000000</td>\n",
       "      <td>0.000000</td>\n",
       "      <td>0.000000</td>\n",
       "    </tr>\n",
       "    <tr>\n",
       "      <th>25%</th>\n",
       "      <td>NaN</td>\n",
       "      <td>2003.00000</td>\n",
       "      <td>NaN</td>\n",
       "      <td>4.000000</td>\n",
       "      <td>0.000000</td>\n",
       "      <td>0.000000</td>\n",
       "      <td>0.000000</td>\n",
       "      <td>1.000000</td>\n",
       "      <td>0.000000</td>\n",
       "      <td>4.000000</td>\n",
       "      <td>0.000000</td>\n",
       "    </tr>\n",
       "    <tr>\n",
       "      <th>50%</th>\n",
       "      <td>NaN</td>\n",
       "      <td>2005.50000</td>\n",
       "      <td>NaN</td>\n",
       "      <td>37.000000</td>\n",
       "      <td>0.000000</td>\n",
       "      <td>3.000000</td>\n",
       "      <td>5.000000</td>\n",
       "      <td>15.500000</td>\n",
       "      <td>4.000000</td>\n",
       "      <td>37.000000</td>\n",
       "      <td>2.000000</td>\n",
       "    </tr>\n",
       "    <tr>\n",
       "      <th>75%</th>\n",
       "      <td>NaN</td>\n",
       "      <td>2008.00000</td>\n",
       "      <td>NaN</td>\n",
       "      <td>527.500000</td>\n",
       "      <td>1.000000</td>\n",
       "      <td>19.000000</td>\n",
       "      <td>42.000000</td>\n",
       "      <td>308.000000</td>\n",
       "      <td>58.750000</td>\n",
       "      <td>531.500000</td>\n",
       "      <td>11.000000</td>\n",
       "    </tr>\n",
       "    <tr>\n",
       "      <th>max</th>\n",
       "      <td>NaN</td>\n",
       "      <td>2010.00000</td>\n",
       "      <td>NaN</td>\n",
       "      <td>3135.000000</td>\n",
       "      <td>43.000000</td>\n",
       "      <td>416.000000</td>\n",
       "      <td>826.000000</td>\n",
       "      <td>1835.000000</td>\n",
       "      <td>811.000000</td>\n",
       "      <td>3136.000000</td>\n",
       "      <td>131.000000</td>\n",
       "    </tr>\n",
       "  </tbody>\n",
       "</table>\n",
       "</div>"
      ],
      "text/plain": [
       "        Area_Name        Year                Subgroup  Rape_Cases_Reported  \\\n",
       "count        1050  1050.00000                    1050          1050.000000   \n",
       "unique         35         NaN                       3                  NaN   \n",
       "top     Rajasthan         NaN  Victims of Incest Rape                  NaN   \n",
       "freq           30         NaN                     350                  NaN   \n",
       "mean          NaN  2005.50000                     NaN           361.920000   \n",
       "std           NaN     2.87365                     NaN           592.180572   \n",
       "min           NaN  2001.00000                     NaN             0.000000   \n",
       "25%           NaN  2003.00000                     NaN             4.000000   \n",
       "50%           NaN  2005.50000                     NaN            37.000000   \n",
       "75%           NaN  2008.00000                     NaN           527.500000   \n",
       "max           NaN  2010.00000                     NaN          3135.000000   \n",
       "\n",
       "        Victims_Above_50_Yrs  Victims_Between_10-14_Yrs  \\\n",
       "count            1050.000000                1050.000000   \n",
       "unique                   NaN                        NaN   \n",
       "top                      NaN                        NaN   \n",
       "freq                     NaN                        NaN   \n",
       "mean                1.866667                  23.657143   \n",
       "std                 4.640286                  50.677418   \n",
       "min                 0.000000                   0.000000   \n",
       "25%                 0.000000                   0.000000   \n",
       "50%                 0.000000                   3.000000   \n",
       "75%                 1.000000                  19.000000   \n",
       "max                43.000000                 416.000000   \n",
       "\n",
       "        Victims_Between_14-18_Yrs  Victims_Between_18-30_Yrs  \\\n",
       "count                 1050.000000                1050.000000   \n",
       "unique                        NaN                        NaN   \n",
       "top                           NaN                        NaN   \n",
       "freq                          NaN                        NaN   \n",
       "mean                    53.085714                 212.937143   \n",
       "std                    115.127899                 350.135760   \n",
       "min                      0.000000                   0.000000   \n",
       "25%                      0.000000                   1.000000   \n",
       "50%                      5.000000                  15.500000   \n",
       "75%                     42.000000                 308.000000   \n",
       "max                    826.000000                1835.000000   \n",
       "\n",
       "        Victims_Between_30-50_Yrs  Victims_of_Rape_Total  Victims_Upto_10_Yrs  \n",
       "count                 1050.000000            1050.000000          1050.000000  \n",
       "unique                        NaN                    NaN                  NaN  \n",
       "top                           NaN                    NaN                  NaN  \n",
       "freq                          NaN                    NaN                  NaN  \n",
       "mean                    60.236190             362.198095            10.415238  \n",
       "std                    118.322713             592.418089            19.533134  \n",
       "min                      0.000000               0.000000             0.000000  \n",
       "25%                      0.000000               4.000000             0.000000  \n",
       "50%                      4.000000              37.000000             2.000000  \n",
       "75%                     58.750000             531.500000            11.000000  \n",
       "max                    811.000000            3136.000000           131.000000  "
      ]
     },
     "execution_count": 195,
     "metadata": {},
     "output_type": "execute_result"
    }
   ],
   "source": [
    "rp.describe(include=\"all\")"
   ]
  },
  {
   "cell_type": "markdown",
   "metadata": {},
   "source": [
    "#### Missing values"
   ]
  },
  {
   "cell_type": "code",
   "execution_count": 196,
   "metadata": {},
   "outputs": [
    {
     "data": {
      "text/plain": [
       "Area_Name                 0\n",
       "Year                      0\n",
       "Group_Name                0\n",
       "Sub_Group_Name            0\n",
       "Victims_Above_50_Yrs      0\n",
       "Victims_Total             0\n",
       "Victims_Upto_10_15_Yrs    0\n",
       "Victims_Upto_10_Yrs       0\n",
       "Victims_Upto_15_18_Yrs    0\n",
       "Victims_Upto_18_30_Yrs    0\n",
       "Victims_Upto_30_50_Yrs    0\n",
       "dtype: int64"
      ]
     },
     "execution_count": 196,
     "metadata": {},
     "output_type": "execute_result"
    }
   ],
   "source": [
    "md.isnull().sum()"
   ]
  },
  {
   "cell_type": "code",
   "execution_count": 197,
   "metadata": {},
   "outputs": [
    {
     "data": {
      "text/plain": [
       "Area_Name                    0\n",
       "Year                         0\n",
       "Subgroup                     0\n",
       "Rape_Cases_Reported          0\n",
       "Victims_Above_50_Yrs         0\n",
       "Victims_Between_10-14_Yrs    0\n",
       "Victims_Between_14-18_Yrs    0\n",
       "Victims_Between_18-30_Yrs    0\n",
       "Victims_Between_30-50_Yrs    0\n",
       "Victims_of_Rape_Total        0\n",
       "Victims_Upto_10_Yrs          0\n",
       "dtype: int64"
      ]
     },
     "execution_count": 197,
     "metadata": {},
     "output_type": "execute_result"
    }
   ],
   "source": [
    "rp.isnull().sum()"
   ]
  },
  {
   "cell_type": "markdown",
   "metadata": {},
   "source": [
    "##### Observaions:\n",
    "\n",
    "- There are missing value in count for Victims of dfferent age groups in the murder crime dataset. Which means the count is 0 in those cases.\n",
    "- In case of rape victom data there is no missing count value for any age group. Which means in every area, there is atleast one victim from every age group."
   ]
  },
  {
   "cell_type": "markdown",
   "metadata": {},
   "source": [
    "### Treating the missing values of murder victim data\n",
    "\n",
    "- According to this data if the count is missing it must be 0.\n",
    "- So, let us fill the NaN values with 0."
   ]
  },
  {
   "cell_type": "code",
   "execution_count": 198,
   "metadata": {},
   "outputs": [],
   "source": [
    "md = md.fillna(0)"
   ]
  },
  {
   "cell_type": "code",
   "execution_count": 199,
   "metadata": {},
   "outputs": [
    {
     "data": {
      "text/plain": [
       "Area_Name                 0\n",
       "Year                      0\n",
       "Group_Name                0\n",
       "Sub_Group_Name            0\n",
       "Victims_Above_50_Yrs      0\n",
       "Victims_Total             0\n",
       "Victims_Upto_10_15_Yrs    0\n",
       "Victims_Upto_10_Yrs       0\n",
       "Victims_Upto_15_18_Yrs    0\n",
       "Victims_Upto_18_30_Yrs    0\n",
       "Victims_Upto_30_50_Yrs    0\n",
       "dtype: int64"
      ]
     },
     "execution_count": 199,
     "metadata": {},
     "output_type": "execute_result"
    }
   ],
   "source": [
    "## Check for missing values after filling the NaN values\n",
    "\n",
    "md.isnull().sum()"
   ]
  },
  {
   "cell_type": "markdown",
   "metadata": {},
   "source": [
    "### Visualization of the Percentage of Male and Female victims in murder crime\n",
    "\n",
    "##### Pie Chart\n"
   ]
  },
  {
   "cell_type": "code",
   "execution_count": 200,
   "metadata": {},
   "outputs": [
    {
     "data": {
      "text/plain": [
       "array(['Murder - Female Victims', 'Murder - Male Victims',\n",
       "       'Murder - Total Victims'], dtype=object)"
      ]
     },
     "execution_count": 200,
     "metadata": {},
     "output_type": "execute_result"
    }
   ],
   "source": [
    "## Unique Group Names\n",
    "\n",
    "md.Group_Name.unique()"
   ]
  },
  {
   "cell_type": "code",
   "execution_count": 201,
   "metadata": {},
   "outputs": [
    {
     "data": {
      "text/plain": [
       "Group_Name\n",
       "Murder - Female Victims     81580\n",
       "Murder - Male Victims      266274\n",
       "Name: Victims_Total, dtype: int64"
      ]
     },
     "execution_count": 201,
     "metadata": {},
     "output_type": "execute_result"
    }
   ],
   "source": [
    "## Count of the Male and Female victims\n",
    "\n",
    "md_ml_fml = md.loc[md.Group_Name != \"Murder - Total Victims\"].groupby(\"Group_Name\").sum()[\"Victims_Total\"]\n",
    "\n",
    "md_ml_fml"
   ]
  },
  {
   "cell_type": "code",
   "execution_count": 202,
   "metadata": {},
   "outputs": [
    {
     "data": {
      "image/png": "[encoded data removed]",
      "text/plain": [
       "<Figure size 432x432 with 1 Axes>"
      ]
     },
     "metadata": {},
     "output_type": "display_data"
    }
   ],
   "source": [
    "## Visualize the percentage\n",
    "\n",
    "fig1, ax1 = plt.subplots(figsize=(6,6))\n",
    "obj1 = ax1.pie(md_ml_fml, colors=[\"#7fc97f\",\"#beaed4\"], autopct=\"%0.2f%%\", labels=[a.split(\" - \")[-1] for a in md_ml_fml.index], labeldistance=0.3)\n",
    "\n",
    "## Add Legend\n",
    "ax1.legend(bbox_to_anchor=(0.9,0.4),fontsize=12)\n",
    "\n",
    "## Add Title\n",
    "ax1.set_title(\"Gender distribution of Murder victims\", fontsize=16)\n",
    "\n",
    "## Add subtitle\n",
    "ax1.text(-0.5,1.15,\"(From 2001 to 2010)\", fontsize=14)\n",
    "\n",
    "plt.show()"
   ]
  },
  {
   "cell_type": "markdown",
   "metadata": {},
   "source": [
    "##### Observaions:\n",
    "\n",
    "- Maximum murder victims are male\n",
    "- The ratio is 3.26"
   ]
  },
  {
   "cell_type": "markdown",
   "metadata": {},
   "source": [
    "### Convertion to Indian Comma separated format\n",
    "\n",
    "- Method will take a number as input parameter.\n",
    "- It will convert the number into Indian comma separated format.\n",
    "- It will return the converted string.\n",
    "- This is used to improve the readability of the number."
   ]
  },
  {
   "cell_type": "code",
   "execution_count": 203,
   "metadata": {},
   "outputs": [
    {
     "data": {
      "text/plain": [
       "'14,21,45,789'"
      ]
     },
     "execution_count": 203,
     "metadata": {},
     "output_type": "execute_result"
    }
   ],
   "source": [
    "def comma_separated(num):\n",
    "    s = str(num)\n",
    "    lst = s.split(\".\")\n",
    "    ns = \"\"\n",
    "    for i, c in enumerate(lst[0][::-1]):        \n",
    "        ns = c + ns\n",
    "        if(i>0 and i%2==0 and i!=(len(lst[0])-1)):        \n",
    "            ns = \",\" + ns\n",
    "    lst[0] = ns        \n",
    "    return \".\".join(lst)\n",
    "\n",
    "comma_separated(142145789)"
   ]
  },
  {
   "cell_type": "markdown",
   "metadata": {},
   "source": [
    "### Count of murder victims variation over ten years\n",
    "\n",
    "##### Line chart"
   ]
  },
  {
   "cell_type": "code",
   "execution_count": 204,
   "metadata": {},
   "outputs": [
    {
     "data": {
      "text/plain": [
       "Year\n",
       "2001    38636\n",
       "2002    38033\n",
       "2003    33821\n",
       "2004    34915\n",
       "2005    34419\n",
       "2006    33808\n",
       "2007    33428\n",
       "2008    33727\n",
       "2009    33159\n",
       "2010    33908\n",
       "Name: Victims_Total, dtype: int64"
      ]
     },
     "execution_count": 204,
     "metadata": {},
     "output_type": "execute_result"
    }
   ],
   "source": [
    "md_year_wise = md.loc[md.Group_Name == \"Murder - Total Victims\"].groupby(\"Year\").sum()[\"Victims_Total\"]\n",
    "md_year_wise_m = md.loc[md.Group_Name == \"Murder - Male Victims\"].groupby(\"Year\").sum()[\"Victims_Total\"]\n",
    "md_year_wise_f = md.loc[md.Group_Name == \"Murder - Female Victims\"].groupby(\"Year\").sum()[\"Victims_Total\"]\n",
    "md_year_wise"
   ]
  },
  {
   "cell_type": "code",
   "execution_count": 205,
   "metadata": {},
   "outputs": [
    {
     "data": {
      "image/png": "[encoded data removed]",
      "text/plain": [
       "<Figure size 1008x576 with 1 Axes>"
      ]
     },
     "metadata": {
      "needs_background": "light"
     },
     "output_type": "display_data"
    }
   ],
   "source": [
    "## Visualize the percentage\n",
    "\n",
    "fig2, ax2 = plt.subplots(figsize=(14,8))\n",
    "p1 = ax2.plot(md_year_wise.index,md_year_wise.values, marker=\"o\", label=\"Total\")\n",
    "p2 = ax2.plot(md_year_wise_m.index,md_year_wise_m.values, marker=\">\", label=\"Male\")\n",
    "p3 = ax2.plot(md_year_wise_f.index,md_year_wise_f.values, marker=\"s\", label=\"Female\")\n",
    "\n",
    "obj2 = [p1,p2,p3]\n",
    "\n",
    "## Add x-axis labels\n",
    "plt.xticks(md_year_wise.index)\n",
    "\n",
    "## Add y-axis labels\n",
    "plt.yticks(range(0,45001,5000),[comma_separated(v) for v in range(0,45001,5000)])\n",
    "\n",
    "## Add x-axis title\n",
    "ax2.set_xlabel(\"<-- Years -->\", fontsize=14)\n",
    "\n",
    "## Add y-axis title\n",
    "ax2.set_ylabel(\"<-- Number of murder victims -->\", fontsize=14)\n",
    "\n",
    "## Add Title\n",
    "ax2.set_title(\"Count of murder victims variation over ten years\", fontsize=16, y=1.1)\n",
    "\n",
    "## Add subtitle\n",
    "ax2.text(2004.5,46500,\"(From 2001 to 2010)\", fontsize=14)\n",
    "\n",
    "## Add Legend\n",
    "ax2.legend(bbox_to_anchor=(1.15,0.4),fontsize=13)\n",
    "\n",
    "## Add data labels\n",
    "for i, v in md_year_wise.items():\n",
    "    ax2.text(i, v+100, str(comma_separated(v)), rotation=45)\n",
    "    \n",
    "for i, v in md_year_wise_m.items():\n",
    "    ax2.text(i, v+100, str(comma_separated(v)), rotation=45)\n",
    "    \n",
    "for i, v in md_year_wise_f.items():\n",
    "    ax2.text(i, v+100, str(comma_separated(v)), rotation=45)\n",
    "\n",
    "\n",
    "plt.show()"
   ]
  },
  {
   "cell_type": "markdown",
   "metadata": {},
   "source": [
    "##### Observaions:\n",
    "\n",
    "- Number of female murder victims was always less compared to male murder victims.\n",
    "- Maximum number of murder happened in 2001 among all 10 years.\n",
    "- Number of female murder victims is not varying much over the years."
   ]
  },
  {
   "cell_type": "code",
   "execution_count": null,
   "metadata": {},
   "outputs": [],
   "source": []
  },
  {
   "cell_type": "code",
   "execution_count": null,
   "metadata": {},
   "outputs": [],
   "source": []
  },
  {
   "cell_type": "code",
   "execution_count": null,
   "metadata": {},
   "outputs": [],
   "source": []
  }
 ],
 "metadata": {
  "kernelspec": {
   "display_name": "Python 3",
   "language": "python",
   "name": "python3"
  },
  "language_info": {
   "codemirror_mode": {
    "name": "ipython",
    "version": 3
   },
   "file_extension": ".py",
   "mimetype": "text/x-python",
   "name": "python",
   "nbconvert_exporter": "python",
   "pygments_lexer": "ipython3",
   "version": "3.6.4"
  }
 },
 "nbformat": 4,
 "nbformat_minor": 2
}
