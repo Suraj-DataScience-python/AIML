{
 "cells": [
  {
   "cell_type": "markdown",
   "metadata": {},
   "source": [
    "## Some insights from the Indian crime data\n",
    "\n",
    "- Dataset Name: Crime in India\n",
    "- Source of dataset: Kaggle\n",
    "- Dataset contains: Information about Crimes happened in India from 2001 to 2010"
   ]
  },
  {
   "cell_type": "markdown",
   "metadata": {},
   "source": [
    "### Import required packages\n",
    "\n",
    "- pandas : For reading and manipulating files\n",
    "- matlotlib.pyplot : For visualizing the data"
   ]
  },
  {
   "cell_type": "code",
   "execution_count": 1,
   "metadata": {},
   "outputs": [],
   "source": [
    "import pandas as pd\n",
    "import matplotlib.pyplot as plt"
   ]
  },
  {
   "cell_type": "markdown",
   "metadata": {},
   "source": [
    "### Read the data from csv file into dataframes\n",
    "\n",
    "- Objective: Comparing murder and rape cases over several years\n",
    "- Files: \n",
    "    - 32_Murder_victim_age_sex.csv : Contains record of murder victims\n",
    "    - 20_Victims_of_rape.csv : Contains record of the rape victims"
   ]
  },
  {
   "cell_type": "code",
   "execution_count": 2,
   "metadata": {},
   "outputs": [],
   "source": [
    "md = pd.read_csv(\"32_Murder_victim_age_sex.csv\")\n",
    "rp = pd.read_csv(\"20_Victims_of_rape.csv\")"
   ]
  },
  {
   "cell_type": "markdown",
   "metadata": {},
   "source": [
    "### Check first 3 rows of the dataframes"
   ]
  },
  {
   "cell_type": "code",
   "execution_count": 3,
   "metadata": {},
   "outputs": [
    {
     "data": {
      "text/html": [
       "<div>\n",
       "<style scoped>\n",
       "    .dataframe tbody tr th:only-of-type {\n",
       "        vertical-align: middle;\n",
       "    }\n",
       "\n",
       "    .dataframe tbody tr th {\n",
       "        vertical-align: top;\n",
       "    }\n",
       "\n",
       "    .dataframe thead th {\n",
       "        text-align: right;\n",
       "    }\n",
       "</style>\n",
       "<table border=\"1\" class=\"dataframe\">\n",
       "  <thead>\n",
       "    <tr style=\"text-align: right;\">\n",
       "      <th></th>\n",
       "      <th>Area_Name</th>\n",
       "      <th>Year</th>\n",
       "      <th>Group_Name</th>\n",
       "      <th>Sub_Group_Name</th>\n",
       "      <th>Victims_Above_50_Yrs</th>\n",
       "      <th>Victims_Total</th>\n",
       "      <th>Victims_Upto_10_15_Yrs</th>\n",
       "      <th>Victims_Upto_10_Yrs</th>\n",
       "      <th>Victims_Upto_15_18_Yrs</th>\n",
       "      <th>Victims_Upto_18_30_Yrs</th>\n",
       "      <th>Victims_Upto_30_50_Yrs</th>\n",
       "    </tr>\n",
       "  </thead>\n",
       "  <tbody>\n",
       "    <tr>\n",
       "      <th>0</th>\n",
       "      <td>Andaman &amp; Nicobar Islands</td>\n",
       "      <td>2001</td>\n",
       "      <td>Murder - Female Victims</td>\n",
       "      <td>2. Female Victims</td>\n",
       "      <td>NaN</td>\n",
       "      <td>6</td>\n",
       "      <td>NaN</td>\n",
       "      <td>NaN</td>\n",
       "      <td>NaN</td>\n",
       "      <td>4.0</td>\n",
       "      <td>2.0</td>\n",
       "    </tr>\n",
       "    <tr>\n",
       "      <th>1</th>\n",
       "      <td>Andhra Pradesh</td>\n",
       "      <td>2001</td>\n",
       "      <td>Murder - Female Victims</td>\n",
       "      <td>2. Female Victims</td>\n",
       "      <td>67.0</td>\n",
       "      <td>607</td>\n",
       "      <td>15.0</td>\n",
       "      <td>38.0</td>\n",
       "      <td>43.0</td>\n",
       "      <td>269.0</td>\n",
       "      <td>175.0</td>\n",
       "    </tr>\n",
       "    <tr>\n",
       "      <th>2</th>\n",
       "      <td>Arunachal Pradesh</td>\n",
       "      <td>2001</td>\n",
       "      <td>Murder - Female Victims</td>\n",
       "      <td>2. Female Victims</td>\n",
       "      <td>2.0</td>\n",
       "      <td>16</td>\n",
       "      <td>0.0</td>\n",
       "      <td>0.0</td>\n",
       "      <td>0.0</td>\n",
       "      <td>10.0</td>\n",
       "      <td>4.0</td>\n",
       "    </tr>\n",
       "  </tbody>\n",
       "</table>\n",
       "</div>"
      ],
      "text/plain": [
       "                   Area_Name  Year               Group_Name  \\\n",
       "0  Andaman & Nicobar Islands  2001  Murder - Female Victims   \n",
       "1             Andhra Pradesh  2001  Murder - Female Victims   \n",
       "2          Arunachal Pradesh  2001  Murder - Female Victims   \n",
       "\n",
       "      Sub_Group_Name  Victims_Above_50_Yrs  Victims_Total  \\\n",
       "0  2. Female Victims                   NaN              6   \n",
       "1  2. Female Victims                  67.0            607   \n",
       "2  2. Female Victims                   2.0             16   \n",
       "\n",
       "   Victims_Upto_10_15_Yrs  Victims_Upto_10_Yrs  Victims_Upto_15_18_Yrs  \\\n",
       "0                     NaN                  NaN                     NaN   \n",
       "1                    15.0                 38.0                    43.0   \n",
       "2                     0.0                  0.0                     0.0   \n",
       "\n",
       "   Victims_Upto_18_30_Yrs  Victims_Upto_30_50_Yrs  \n",
       "0                     4.0                     2.0  \n",
       "1                   269.0                   175.0  \n",
       "2                    10.0                     4.0  "
      ]
     },
     "execution_count": 3,
     "metadata": {},
     "output_type": "execute_result"
    }
   ],
   "source": [
    "md.head(3)"
   ]
  },
  {
   "cell_type": "code",
   "execution_count": 4,
   "metadata": {},
   "outputs": [
    {
     "data": {
      "text/html": [
       "<div>\n",
       "<style scoped>\n",
       "    .dataframe tbody tr th:only-of-type {\n",
       "        vertical-align: middle;\n",
       "    }\n",
       "\n",
       "    .dataframe tbody tr th {\n",
       "        vertical-align: top;\n",
       "    }\n",
       "\n",
       "    .dataframe thead th {\n",
       "        text-align: right;\n",
       "    }\n",
       "</style>\n",
       "<table border=\"1\" class=\"dataframe\">\n",
       "  <thead>\n",
       "    <tr style=\"text-align: right;\">\n",
       "      <th></th>\n",
       "      <th>Area_Name</th>\n",
       "      <th>Year</th>\n",
       "      <th>Subgroup</th>\n",
       "      <th>Rape_Cases_Reported</th>\n",
       "      <th>Victims_Above_50_Yrs</th>\n",
       "      <th>Victims_Between_10-14_Yrs</th>\n",
       "      <th>Victims_Between_14-18_Yrs</th>\n",
       "      <th>Victims_Between_18-30_Yrs</th>\n",
       "      <th>Victims_Between_30-50_Yrs</th>\n",
       "      <th>Victims_of_Rape_Total</th>\n",
       "      <th>Victims_Upto_10_Yrs</th>\n",
       "    </tr>\n",
       "  </thead>\n",
       "  <tbody>\n",
       "    <tr>\n",
       "      <th>0</th>\n",
       "      <td>Andaman &amp; Nicobar Islands</td>\n",
       "      <td>2001</td>\n",
       "      <td>Total Rape Victims</td>\n",
       "      <td>3</td>\n",
       "      <td>0</td>\n",
       "      <td>0</td>\n",
       "      <td>3</td>\n",
       "      <td>0</td>\n",
       "      <td>0</td>\n",
       "      <td>3</td>\n",
       "      <td>0</td>\n",
       "    </tr>\n",
       "    <tr>\n",
       "      <th>1</th>\n",
       "      <td>Andaman &amp; Nicobar Islands</td>\n",
       "      <td>2001</td>\n",
       "      <td>Victims of Incest Rape</td>\n",
       "      <td>1</td>\n",
       "      <td>0</td>\n",
       "      <td>0</td>\n",
       "      <td>1</td>\n",
       "      <td>0</td>\n",
       "      <td>0</td>\n",
       "      <td>1</td>\n",
       "      <td>0</td>\n",
       "    </tr>\n",
       "    <tr>\n",
       "      <th>2</th>\n",
       "      <td>Andaman &amp; Nicobar Islands</td>\n",
       "      <td>2001</td>\n",
       "      <td>Victims of Other Rape</td>\n",
       "      <td>2</td>\n",
       "      <td>0</td>\n",
       "      <td>0</td>\n",
       "      <td>2</td>\n",
       "      <td>0</td>\n",
       "      <td>0</td>\n",
       "      <td>2</td>\n",
       "      <td>0</td>\n",
       "    </tr>\n",
       "  </tbody>\n",
       "</table>\n",
       "</div>"
      ],
      "text/plain": [
       "                   Area_Name  Year                Subgroup  \\\n",
       "0  Andaman & Nicobar Islands  2001      Total Rape Victims   \n",
       "1  Andaman & Nicobar Islands  2001  Victims of Incest Rape   \n",
       "2  Andaman & Nicobar Islands  2001   Victims of Other Rape   \n",
       "\n",
       "   Rape_Cases_Reported  Victims_Above_50_Yrs  Victims_Between_10-14_Yrs  \\\n",
       "0                    3                     0                          0   \n",
       "1                    1                     0                          0   \n",
       "2                    2                     0                          0   \n",
       "\n",
       "   Victims_Between_14-18_Yrs  Victims_Between_18-30_Yrs  \\\n",
       "0                          3                          0   \n",
       "1                          1                          0   \n",
       "2                          2                          0   \n",
       "\n",
       "   Victims_Between_30-50_Yrs  Victims_of_Rape_Total  Victims_Upto_10_Yrs  \n",
       "0                          0                      3                    0  \n",
       "1                          0                      1                    0  \n",
       "2                          0                      2                    0  "
      ]
     },
     "execution_count": 4,
     "metadata": {},
     "output_type": "execute_result"
    }
   ],
   "source": [
    "rp.head(3)"
   ]
  },
  {
   "cell_type": "markdown",
   "metadata": {},
   "source": [
    "### Get the overall sense of the data\n",
    "\n",
    "- Number of rows and columns\n",
    "- All the available column names\n",
    "- Datatypes of different columns\n",
    "- Description of the data\n",
    "- Amount of missing values"
   ]
  },
  {
   "cell_type": "markdown",
   "metadata": {},
   "source": [
    "#### Number of rows and columns"
   ]
  },
  {
   "cell_type": "code",
   "execution_count": 5,
   "metadata": {},
   "outputs": [
    {
     "data": {
      "text/plain": [
       "(1018, 11)"
      ]
     },
     "execution_count": 5,
     "metadata": {},
     "output_type": "execute_result"
    }
   ],
   "source": [
    "md.shape"
   ]
  },
  {
   "cell_type": "code",
   "execution_count": 6,
   "metadata": {},
   "outputs": [
    {
     "data": {
      "text/plain": [
       "(1050, 11)"
      ]
     },
     "execution_count": 6,
     "metadata": {},
     "output_type": "execute_result"
    }
   ],
   "source": [
    "rp.shape"
   ]
  },
  {
   "cell_type": "markdown",
   "metadata": {},
   "source": [
    "#### Column names"
   ]
  },
  {
   "cell_type": "code",
   "execution_count": 7,
   "metadata": {},
   "outputs": [
    {
     "data": {
      "text/plain": [
       "Index(['Area_Name', 'Year', 'Group_Name', 'Sub_Group_Name',\n",
       "       'Victims_Above_50_Yrs', 'Victims_Total', 'Victims_Upto_10_15_Yrs',\n",
       "       'Victims_Upto_10_Yrs', 'Victims_Upto_15_18_Yrs',\n",
       "       'Victims_Upto_18_30_Yrs', 'Victims_Upto_30_50_Yrs'],\n",
       "      dtype='object')"
      ]
     },
     "execution_count": 7,
     "metadata": {},
     "output_type": "execute_result"
    }
   ],
   "source": [
    "md.keys()"
   ]
  },
  {
   "cell_type": "code",
   "execution_count": 8,
   "metadata": {},
   "outputs": [
    {
     "data": {
      "text/plain": [
       "Index(['Area_Name', 'Year', 'Subgroup', 'Rape_Cases_Reported',\n",
       "       'Victims_Above_50_Yrs', 'Victims_Between_10-14_Yrs',\n",
       "       'Victims_Between_14-18_Yrs', 'Victims_Between_18-30_Yrs',\n",
       "       'Victims_Between_30-50_Yrs', 'Victims_of_Rape_Total',\n",
       "       'Victims_Upto_10_Yrs'],\n",
       "      dtype='object')"
      ]
     },
     "execution_count": 8,
     "metadata": {},
     "output_type": "execute_result"
    }
   ],
   "source": [
    "rp.columns"
   ]
  },
  {
   "cell_type": "markdown",
   "metadata": {},
   "source": [
    "#### Check datatypes"
   ]
  },
  {
   "cell_type": "code",
   "execution_count": 9,
   "metadata": {},
   "outputs": [
    {
     "data": {
      "text/plain": [
       "Area_Name                  object\n",
       "Year                        int64\n",
       "Group_Name                 object\n",
       "Sub_Group_Name             object\n",
       "Victims_Above_50_Yrs      float64\n",
       "Victims_Total               int64\n",
       "Victims_Upto_10_15_Yrs    float64\n",
       "Victims_Upto_10_Yrs       float64\n",
       "Victims_Upto_15_18_Yrs    float64\n",
       "Victims_Upto_18_30_Yrs    float64\n",
       "Victims_Upto_30_50_Yrs    float64\n",
       "dtype: object"
      ]
     },
     "execution_count": 9,
     "metadata": {},
     "output_type": "execute_result"
    }
   ],
   "source": [
    "md.dtypes"
   ]
  },
  {
   "cell_type": "code",
   "execution_count": 10,
   "metadata": {},
   "outputs": [
    {
     "data": {
      "text/plain": [
       "Area_Name                    object\n",
       "Year                          int64\n",
       "Subgroup                     object\n",
       "Rape_Cases_Reported           int64\n",
       "Victims_Above_50_Yrs          int64\n",
       "Victims_Between_10-14_Yrs     int64\n",
       "Victims_Between_14-18_Yrs     int64\n",
       "Victims_Between_18-30_Yrs     int64\n",
       "Victims_Between_30-50_Yrs     int64\n",
       "Victims_of_Rape_Total         int64\n",
       "Victims_Upto_10_Yrs           int64\n",
       "dtype: object"
      ]
     },
     "execution_count": 10,
     "metadata": {},
     "output_type": "execute_result"
    }
   ],
   "source": [
    "rp.dtypes"
   ]
  },
  {
   "cell_type": "markdown",
   "metadata": {},
   "source": [
    "#### Description of the data"
   ]
  },
  {
   "cell_type": "code",
   "execution_count": 11,
   "metadata": {},
   "outputs": [
    {
     "data": {
      "text/html": [
       "<div>\n",
       "<style scoped>\n",
       "    .dataframe tbody tr th:only-of-type {\n",
       "        vertical-align: middle;\n",
       "    }\n",
       "\n",
       "    .dataframe tbody tr th {\n",
       "        vertical-align: top;\n",
       "    }\n",
       "\n",
       "    .dataframe thead th {\n",
       "        text-align: right;\n",
       "    }\n",
       "</style>\n",
       "<table border=\"1\" class=\"dataframe\">\n",
       "  <thead>\n",
       "    <tr style=\"text-align: right;\">\n",
       "      <th></th>\n",
       "      <th>Year</th>\n",
       "      <th>Victims_Above_50_Yrs</th>\n",
       "      <th>Victims_Total</th>\n",
       "      <th>Victims_Upto_10_15_Yrs</th>\n",
       "      <th>Victims_Upto_10_Yrs</th>\n",
       "      <th>Victims_Upto_15_18_Yrs</th>\n",
       "      <th>Victims_Upto_18_30_Yrs</th>\n",
       "      <th>Victims_Upto_30_50_Yrs</th>\n",
       "    </tr>\n",
       "  </thead>\n",
       "  <tbody>\n",
       "    <tr>\n",
       "      <th>count</th>\n",
       "      <td>1018.000000</td>\n",
       "      <td>962.000000</td>\n",
       "      <td>1018.000000</td>\n",
       "      <td>876.000000</td>\n",
       "      <td>900.000000</td>\n",
       "      <td>888.000000</td>\n",
       "      <td>1009.000000</td>\n",
       "      <td>1007.000000</td>\n",
       "    </tr>\n",
       "    <tr>\n",
       "      <th>mean</th>\n",
       "      <td>2005.512770</td>\n",
       "      <td>67.559252</td>\n",
       "      <td>683.406680</td>\n",
       "      <td>9.536530</td>\n",
       "      <td>14.726667</td>\n",
       "      <td>17.326577</td>\n",
       "      <td>314.739346</td>\n",
       "      <td>274.230387</td>\n",
       "    </tr>\n",
       "    <tr>\n",
       "      <th>std</th>\n",
       "      <td>2.866127</td>\n",
       "      <td>100.650347</td>\n",
       "      <td>1015.595667</td>\n",
       "      <td>21.417212</td>\n",
       "      <td>25.355027</td>\n",
       "      <td>39.497253</td>\n",
       "      <td>483.745420</td>\n",
       "      <td>396.206952</td>\n",
       "    </tr>\n",
       "    <tr>\n",
       "      <th>min</th>\n",
       "      <td>2001.000000</td>\n",
       "      <td>0.000000</td>\n",
       "      <td>0.000000</td>\n",
       "      <td>0.000000</td>\n",
       "      <td>0.000000</td>\n",
       "      <td>0.000000</td>\n",
       "      <td>0.000000</td>\n",
       "      <td>0.000000</td>\n",
       "    </tr>\n",
       "    <tr>\n",
       "      <th>25%</th>\n",
       "      <td>2003.000000</td>\n",
       "      <td>3.000000</td>\n",
       "      <td>31.000000</td>\n",
       "      <td>0.000000</td>\n",
       "      <td>1.000000</td>\n",
       "      <td>0.000000</td>\n",
       "      <td>13.000000</td>\n",
       "      <td>13.000000</td>\n",
       "    </tr>\n",
       "    <tr>\n",
       "      <th>50%</th>\n",
       "      <td>2006.000000</td>\n",
       "      <td>25.000000</td>\n",
       "      <td>258.000000</td>\n",
       "      <td>2.000000</td>\n",
       "      <td>3.000000</td>\n",
       "      <td>3.000000</td>\n",
       "      <td>116.000000</td>\n",
       "      <td>102.000000</td>\n",
       "    </tr>\n",
       "    <tr>\n",
       "      <th>75%</th>\n",
       "      <td>2008.000000</td>\n",
       "      <td>86.000000</td>\n",
       "      <td>1011.750000</td>\n",
       "      <td>10.000000</td>\n",
       "      <td>18.000000</td>\n",
       "      <td>14.000000</td>\n",
       "      <td>421.000000</td>\n",
       "      <td>416.500000</td>\n",
       "    </tr>\n",
       "    <tr>\n",
       "      <th>max</th>\n",
       "      <td>2010.000000</td>\n",
       "      <td>824.000000</td>\n",
       "      <td>8180.000000</td>\n",
       "      <td>218.000000</td>\n",
       "      <td>189.000000</td>\n",
       "      <td>347.000000</td>\n",
       "      <td>3724.000000</td>\n",
       "      <td>3143.000000</td>\n",
       "    </tr>\n",
       "  </tbody>\n",
       "</table>\n",
       "</div>"
      ],
      "text/plain": [
       "              Year  Victims_Above_50_Yrs  Victims_Total  \\\n",
       "count  1018.000000            962.000000    1018.000000   \n",
       "mean   2005.512770             67.559252     683.406680   \n",
       "std       2.866127            100.650347    1015.595667   \n",
       "min    2001.000000              0.000000       0.000000   \n",
       "25%    2003.000000              3.000000      31.000000   \n",
       "50%    2006.000000             25.000000     258.000000   \n",
       "75%    2008.000000             86.000000    1011.750000   \n",
       "max    2010.000000            824.000000    8180.000000   \n",
       "\n",
       "       Victims_Upto_10_15_Yrs  Victims_Upto_10_Yrs  Victims_Upto_15_18_Yrs  \\\n",
       "count              876.000000           900.000000              888.000000   \n",
       "mean                 9.536530            14.726667               17.326577   \n",
       "std                 21.417212            25.355027               39.497253   \n",
       "min                  0.000000             0.000000                0.000000   \n",
       "25%                  0.000000             1.000000                0.000000   \n",
       "50%                  2.000000             3.000000                3.000000   \n",
       "75%                 10.000000            18.000000               14.000000   \n",
       "max                218.000000           189.000000              347.000000   \n",
       "\n",
       "       Victims_Upto_18_30_Yrs  Victims_Upto_30_50_Yrs  \n",
       "count             1009.000000             1007.000000  \n",
       "mean               314.739346              274.230387  \n",
       "std                483.745420              396.206952  \n",
       "min                  0.000000                0.000000  \n",
       "25%                 13.000000               13.000000  \n",
       "50%                116.000000              102.000000  \n",
       "75%                421.000000              416.500000  \n",
       "max               3724.000000             3143.000000  "
      ]
     },
     "execution_count": 11,
     "metadata": {},
     "output_type": "execute_result"
    }
   ],
   "source": [
    "## This will show the description of the numerical columns only\n",
    "\n",
    "md.describe()"
   ]
  },
  {
   "cell_type": "code",
   "execution_count": 12,
   "metadata": {},
   "outputs": [
    {
     "data": {
      "text/html": [
       "<div>\n",
       "<style scoped>\n",
       "    .dataframe tbody tr th:only-of-type {\n",
       "        vertical-align: middle;\n",
       "    }\n",
       "\n",
       "    .dataframe tbody tr th {\n",
       "        vertical-align: top;\n",
       "    }\n",
       "\n",
       "    .dataframe thead th {\n",
       "        text-align: right;\n",
       "    }\n",
       "</style>\n",
       "<table border=\"1\" class=\"dataframe\">\n",
       "  <thead>\n",
       "    <tr style=\"text-align: right;\">\n",
       "      <th></th>\n",
       "      <th>Year</th>\n",
       "      <th>Rape_Cases_Reported</th>\n",
       "      <th>Victims_Above_50_Yrs</th>\n",
       "      <th>Victims_Between_10-14_Yrs</th>\n",
       "      <th>Victims_Between_14-18_Yrs</th>\n",
       "      <th>Victims_Between_18-30_Yrs</th>\n",
       "      <th>Victims_Between_30-50_Yrs</th>\n",
       "      <th>Victims_of_Rape_Total</th>\n",
       "      <th>Victims_Upto_10_Yrs</th>\n",
       "    </tr>\n",
       "  </thead>\n",
       "  <tbody>\n",
       "    <tr>\n",
       "      <th>count</th>\n",
       "      <td>1050.00000</td>\n",
       "      <td>1050.000000</td>\n",
       "      <td>1050.000000</td>\n",
       "      <td>1050.000000</td>\n",
       "      <td>1050.000000</td>\n",
       "      <td>1050.000000</td>\n",
       "      <td>1050.000000</td>\n",
       "      <td>1050.000000</td>\n",
       "      <td>1050.000000</td>\n",
       "    </tr>\n",
       "    <tr>\n",
       "      <th>mean</th>\n",
       "      <td>2005.50000</td>\n",
       "      <td>361.920000</td>\n",
       "      <td>1.866667</td>\n",
       "      <td>23.657143</td>\n",
       "      <td>53.085714</td>\n",
       "      <td>212.937143</td>\n",
       "      <td>60.236190</td>\n",
       "      <td>362.198095</td>\n",
       "      <td>10.415238</td>\n",
       "    </tr>\n",
       "    <tr>\n",
       "      <th>std</th>\n",
       "      <td>2.87365</td>\n",
       "      <td>592.180572</td>\n",
       "      <td>4.640286</td>\n",
       "      <td>50.677418</td>\n",
       "      <td>115.127899</td>\n",
       "      <td>350.135760</td>\n",
       "      <td>118.322713</td>\n",
       "      <td>592.418089</td>\n",
       "      <td>19.533134</td>\n",
       "    </tr>\n",
       "    <tr>\n",
       "      <th>min</th>\n",
       "      <td>2001.00000</td>\n",
       "      <td>0.000000</td>\n",
       "      <td>0.000000</td>\n",
       "      <td>0.000000</td>\n",
       "      <td>0.000000</td>\n",
       "      <td>0.000000</td>\n",
       "      <td>0.000000</td>\n",
       "      <td>0.000000</td>\n",
       "      <td>0.000000</td>\n",
       "    </tr>\n",
       "    <tr>\n",
       "      <th>25%</th>\n",
       "      <td>2003.00000</td>\n",
       "      <td>4.000000</td>\n",
       "      <td>0.000000</td>\n",
       "      <td>0.000000</td>\n",
       "      <td>0.000000</td>\n",
       "      <td>1.000000</td>\n",
       "      <td>0.000000</td>\n",
       "      <td>4.000000</td>\n",
       "      <td>0.000000</td>\n",
       "    </tr>\n",
       "    <tr>\n",
       "      <th>50%</th>\n",
       "      <td>2005.50000</td>\n",
       "      <td>37.000000</td>\n",
       "      <td>0.000000</td>\n",
       "      <td>3.000000</td>\n",
       "      <td>5.000000</td>\n",
       "      <td>15.500000</td>\n",
       "      <td>4.000000</td>\n",
       "      <td>37.000000</td>\n",
       "      <td>2.000000</td>\n",
       "    </tr>\n",
       "    <tr>\n",
       "      <th>75%</th>\n",
       "      <td>2008.00000</td>\n",
       "      <td>527.500000</td>\n",
       "      <td>1.000000</td>\n",
       "      <td>19.000000</td>\n",
       "      <td>42.000000</td>\n",
       "      <td>308.000000</td>\n",
       "      <td>58.750000</td>\n",
       "      <td>531.500000</td>\n",
       "      <td>11.000000</td>\n",
       "    </tr>\n",
       "    <tr>\n",
       "      <th>max</th>\n",
       "      <td>2010.00000</td>\n",
       "      <td>3135.000000</td>\n",
       "      <td>43.000000</td>\n",
       "      <td>416.000000</td>\n",
       "      <td>826.000000</td>\n",
       "      <td>1835.000000</td>\n",
       "      <td>811.000000</td>\n",
       "      <td>3136.000000</td>\n",
       "      <td>131.000000</td>\n",
       "    </tr>\n",
       "  </tbody>\n",
       "</table>\n",
       "</div>"
      ],
      "text/plain": [
       "             Year  Rape_Cases_Reported  Victims_Above_50_Yrs  \\\n",
       "count  1050.00000          1050.000000           1050.000000   \n",
       "mean   2005.50000           361.920000              1.866667   \n",
       "std       2.87365           592.180572              4.640286   \n",
       "min    2001.00000             0.000000              0.000000   \n",
       "25%    2003.00000             4.000000              0.000000   \n",
       "50%    2005.50000            37.000000              0.000000   \n",
       "75%    2008.00000           527.500000              1.000000   \n",
       "max    2010.00000          3135.000000             43.000000   \n",
       "\n",
       "       Victims_Between_10-14_Yrs  Victims_Between_14-18_Yrs  \\\n",
       "count                1050.000000                1050.000000   \n",
       "mean                   23.657143                  53.085714   \n",
       "std                    50.677418                 115.127899   \n",
       "min                     0.000000                   0.000000   \n",
       "25%                     0.000000                   0.000000   \n",
       "50%                     3.000000                   5.000000   \n",
       "75%                    19.000000                  42.000000   \n",
       "max                   416.000000                 826.000000   \n",
       "\n",
       "       Victims_Between_18-30_Yrs  Victims_Between_30-50_Yrs  \\\n",
       "count                1050.000000                1050.000000   \n",
       "mean                  212.937143                  60.236190   \n",
       "std                   350.135760                 118.322713   \n",
       "min                     0.000000                   0.000000   \n",
       "25%                     1.000000                   0.000000   \n",
       "50%                    15.500000                   4.000000   \n",
       "75%                   308.000000                  58.750000   \n",
       "max                  1835.000000                 811.000000   \n",
       "\n",
       "       Victims_of_Rape_Total  Victims_Upto_10_Yrs  \n",
       "count            1050.000000          1050.000000  \n",
       "mean              362.198095            10.415238  \n",
       "std               592.418089            19.533134  \n",
       "min                 0.000000             0.000000  \n",
       "25%                 4.000000             0.000000  \n",
       "50%                37.000000             2.000000  \n",
       "75%               531.500000            11.000000  \n",
       "max              3136.000000           131.000000  "
      ]
     },
     "execution_count": 12,
     "metadata": {},
     "output_type": "execute_result"
    }
   ],
   "source": [
    "rp.describe()"
   ]
  },
  {
   "cell_type": "code",
   "execution_count": 13,
   "metadata": {},
   "outputs": [
    {
     "data": {
      "text/html": [
       "<div>\n",
       "<style scoped>\n",
       "    .dataframe tbody tr th:only-of-type {\n",
       "        vertical-align: middle;\n",
       "    }\n",
       "\n",
       "    .dataframe tbody tr th {\n",
       "        vertical-align: top;\n",
       "    }\n",
       "\n",
       "    .dataframe thead th {\n",
       "        text-align: right;\n",
       "    }\n",
       "</style>\n",
       "<table border=\"1\" class=\"dataframe\">\n",
       "  <thead>\n",
       "    <tr style=\"text-align: right;\">\n",
       "      <th></th>\n",
       "      <th>Area_Name</th>\n",
       "      <th>Group_Name</th>\n",
       "      <th>Sub_Group_Name</th>\n",
       "    </tr>\n",
       "  </thead>\n",
       "  <tbody>\n",
       "    <tr>\n",
       "      <th>count</th>\n",
       "      <td>1018</td>\n",
       "      <td>1018</td>\n",
       "      <td>1018</td>\n",
       "    </tr>\n",
       "    <tr>\n",
       "      <th>unique</th>\n",
       "      <td>35</td>\n",
       "      <td>3</td>\n",
       "      <td>3</td>\n",
       "    </tr>\n",
       "    <tr>\n",
       "      <th>top</th>\n",
       "      <td>Jammu &amp; Kashmir</td>\n",
       "      <td>Murder - Total Victims</td>\n",
       "      <td>3. Total</td>\n",
       "    </tr>\n",
       "    <tr>\n",
       "      <th>freq</th>\n",
       "      <td>30</td>\n",
       "      <td>342</td>\n",
       "      <td>342</td>\n",
       "    </tr>\n",
       "  </tbody>\n",
       "</table>\n",
       "</div>"
      ],
      "text/plain": [
       "              Area_Name              Group_Name Sub_Group_Name\n",
       "count              1018                    1018           1018\n",
       "unique               35                       3              3\n",
       "top     Jammu & Kashmir  Murder - Total Victims       3. Total\n",
       "freq                 30                     342            342"
      ]
     },
     "execution_count": 13,
     "metadata": {},
     "output_type": "execute_result"
    }
   ],
   "source": [
    "## This will show the description of the Categorical columns only\n",
    "\n",
    "md.describe(include=\"object\")"
   ]
  },
  {
   "cell_type": "code",
   "execution_count": 14,
   "metadata": {},
   "outputs": [
    {
     "data": {
      "text/html": [
       "<div>\n",
       "<style scoped>\n",
       "    .dataframe tbody tr th:only-of-type {\n",
       "        vertical-align: middle;\n",
       "    }\n",
       "\n",
       "    .dataframe tbody tr th {\n",
       "        vertical-align: top;\n",
       "    }\n",
       "\n",
       "    .dataframe thead th {\n",
       "        text-align: right;\n",
       "    }\n",
       "</style>\n",
       "<table border=\"1\" class=\"dataframe\">\n",
       "  <thead>\n",
       "    <tr style=\"text-align: right;\">\n",
       "      <th></th>\n",
       "      <th>Area_Name</th>\n",
       "      <th>Subgroup</th>\n",
       "    </tr>\n",
       "  </thead>\n",
       "  <tbody>\n",
       "    <tr>\n",
       "      <th>count</th>\n",
       "      <td>1050</td>\n",
       "      <td>1050</td>\n",
       "    </tr>\n",
       "    <tr>\n",
       "      <th>unique</th>\n",
       "      <td>35</td>\n",
       "      <td>3</td>\n",
       "    </tr>\n",
       "    <tr>\n",
       "      <th>top</th>\n",
       "      <td>Jammu &amp; Kashmir</td>\n",
       "      <td>Victims of Other Rape</td>\n",
       "    </tr>\n",
       "    <tr>\n",
       "      <th>freq</th>\n",
       "      <td>30</td>\n",
       "      <td>350</td>\n",
       "    </tr>\n",
       "  </tbody>\n",
       "</table>\n",
       "</div>"
      ],
      "text/plain": [
       "              Area_Name               Subgroup\n",
       "count              1050                   1050\n",
       "unique               35                      3\n",
       "top     Jammu & Kashmir  Victims of Other Rape\n",
       "freq                 30                    350"
      ]
     },
     "execution_count": 14,
     "metadata": {},
     "output_type": "execute_result"
    }
   ],
   "source": [
    "rp.describe(include=\"object\")"
   ]
  },
  {
   "cell_type": "code",
   "execution_count": 15,
   "metadata": {},
   "outputs": [
    {
     "data": {
      "text/html": [
       "<div>\n",
       "<style scoped>\n",
       "    .dataframe tbody tr th:only-of-type {\n",
       "        vertical-align: middle;\n",
       "    }\n",
       "\n",
       "    .dataframe tbody tr th {\n",
       "        vertical-align: top;\n",
       "    }\n",
       "\n",
       "    .dataframe thead th {\n",
       "        text-align: right;\n",
       "    }\n",
       "</style>\n",
       "<table border=\"1\" class=\"dataframe\">\n",
       "  <thead>\n",
       "    <tr style=\"text-align: right;\">\n",
       "      <th></th>\n",
       "      <th>Area_Name</th>\n",
       "      <th>Year</th>\n",
       "      <th>Group_Name</th>\n",
       "      <th>Sub_Group_Name</th>\n",
       "      <th>Victims_Above_50_Yrs</th>\n",
       "      <th>Victims_Total</th>\n",
       "      <th>Victims_Upto_10_15_Yrs</th>\n",
       "      <th>Victims_Upto_10_Yrs</th>\n",
       "      <th>Victims_Upto_15_18_Yrs</th>\n",
       "      <th>Victims_Upto_18_30_Yrs</th>\n",
       "      <th>Victims_Upto_30_50_Yrs</th>\n",
       "    </tr>\n",
       "  </thead>\n",
       "  <tbody>\n",
       "    <tr>\n",
       "      <th>count</th>\n",
       "      <td>1018</td>\n",
       "      <td>1018.000000</td>\n",
       "      <td>1018</td>\n",
       "      <td>1018</td>\n",
       "      <td>962.000000</td>\n",
       "      <td>1018.000000</td>\n",
       "      <td>876.000000</td>\n",
       "      <td>900.000000</td>\n",
       "      <td>888.000000</td>\n",
       "      <td>1009.000000</td>\n",
       "      <td>1007.000000</td>\n",
       "    </tr>\n",
       "    <tr>\n",
       "      <th>unique</th>\n",
       "      <td>35</td>\n",
       "      <td>NaN</td>\n",
       "      <td>3</td>\n",
       "      <td>3</td>\n",
       "      <td>NaN</td>\n",
       "      <td>NaN</td>\n",
       "      <td>NaN</td>\n",
       "      <td>NaN</td>\n",
       "      <td>NaN</td>\n",
       "      <td>NaN</td>\n",
       "      <td>NaN</td>\n",
       "    </tr>\n",
       "    <tr>\n",
       "      <th>top</th>\n",
       "      <td>Jammu &amp; Kashmir</td>\n",
       "      <td>NaN</td>\n",
       "      <td>Murder - Total Victims</td>\n",
       "      <td>3. Total</td>\n",
       "      <td>NaN</td>\n",
       "      <td>NaN</td>\n",
       "      <td>NaN</td>\n",
       "      <td>NaN</td>\n",
       "      <td>NaN</td>\n",
       "      <td>NaN</td>\n",
       "      <td>NaN</td>\n",
       "    </tr>\n",
       "    <tr>\n",
       "      <th>freq</th>\n",
       "      <td>30</td>\n",
       "      <td>NaN</td>\n",
       "      <td>342</td>\n",
       "      <td>342</td>\n",
       "      <td>NaN</td>\n",
       "      <td>NaN</td>\n",
       "      <td>NaN</td>\n",
       "      <td>NaN</td>\n",
       "      <td>NaN</td>\n",
       "      <td>NaN</td>\n",
       "      <td>NaN</td>\n",
       "    </tr>\n",
       "    <tr>\n",
       "      <th>mean</th>\n",
       "      <td>NaN</td>\n",
       "      <td>2005.512770</td>\n",
       "      <td>NaN</td>\n",
       "      <td>NaN</td>\n",
       "      <td>67.559252</td>\n",
       "      <td>683.406680</td>\n",
       "      <td>9.536530</td>\n",
       "      <td>14.726667</td>\n",
       "      <td>17.326577</td>\n",
       "      <td>314.739346</td>\n",
       "      <td>274.230387</td>\n",
       "    </tr>\n",
       "    <tr>\n",
       "      <th>std</th>\n",
       "      <td>NaN</td>\n",
       "      <td>2.866127</td>\n",
       "      <td>NaN</td>\n",
       "      <td>NaN</td>\n",
       "      <td>100.650347</td>\n",
       "      <td>1015.595667</td>\n",
       "      <td>21.417212</td>\n",
       "      <td>25.355027</td>\n",
       "      <td>39.497253</td>\n",
       "      <td>483.745420</td>\n",
       "      <td>396.206952</td>\n",
       "    </tr>\n",
       "    <tr>\n",
       "      <th>min</th>\n",
       "      <td>NaN</td>\n",
       "      <td>2001.000000</td>\n",
       "      <td>NaN</td>\n",
       "      <td>NaN</td>\n",
       "      <td>0.000000</td>\n",
       "      <td>0.000000</td>\n",
       "      <td>0.000000</td>\n",
       "      <td>0.000000</td>\n",
       "      <td>0.000000</td>\n",
       "      <td>0.000000</td>\n",
       "      <td>0.000000</td>\n",
       "    </tr>\n",
       "    <tr>\n",
       "      <th>25%</th>\n",
       "      <td>NaN</td>\n",
       "      <td>2003.000000</td>\n",
       "      <td>NaN</td>\n",
       "      <td>NaN</td>\n",
       "      <td>3.000000</td>\n",
       "      <td>31.000000</td>\n",
       "      <td>0.000000</td>\n",
       "      <td>1.000000</td>\n",
       "      <td>0.000000</td>\n",
       "      <td>13.000000</td>\n",
       "      <td>13.000000</td>\n",
       "    </tr>\n",
       "    <tr>\n",
       "      <th>50%</th>\n",
       "      <td>NaN</td>\n",
       "      <td>2006.000000</td>\n",
       "      <td>NaN</td>\n",
       "      <td>NaN</td>\n",
       "      <td>25.000000</td>\n",
       "      <td>258.000000</td>\n",
       "      <td>2.000000</td>\n",
       "      <td>3.000000</td>\n",
       "      <td>3.000000</td>\n",
       "      <td>116.000000</td>\n",
       "      <td>102.000000</td>\n",
       "    </tr>\n",
       "    <tr>\n",
       "      <th>75%</th>\n",
       "      <td>NaN</td>\n",
       "      <td>2008.000000</td>\n",
       "      <td>NaN</td>\n",
       "      <td>NaN</td>\n",
       "      <td>86.000000</td>\n",
       "      <td>1011.750000</td>\n",
       "      <td>10.000000</td>\n",
       "      <td>18.000000</td>\n",
       "      <td>14.000000</td>\n",
       "      <td>421.000000</td>\n",
       "      <td>416.500000</td>\n",
       "    </tr>\n",
       "    <tr>\n",
       "      <th>max</th>\n",
       "      <td>NaN</td>\n",
       "      <td>2010.000000</td>\n",
       "      <td>NaN</td>\n",
       "      <td>NaN</td>\n",
       "      <td>824.000000</td>\n",
       "      <td>8180.000000</td>\n",
       "      <td>218.000000</td>\n",
       "      <td>189.000000</td>\n",
       "      <td>347.000000</td>\n",
       "      <td>3724.000000</td>\n",
       "      <td>3143.000000</td>\n",
       "    </tr>\n",
       "  </tbody>\n",
       "</table>\n",
       "</div>"
      ],
      "text/plain": [
       "              Area_Name         Year              Group_Name Sub_Group_Name  \\\n",
       "count              1018  1018.000000                    1018           1018   \n",
       "unique               35          NaN                       3              3   \n",
       "top     Jammu & Kashmir          NaN  Murder - Total Victims       3. Total   \n",
       "freq                 30          NaN                     342            342   \n",
       "mean                NaN  2005.512770                     NaN            NaN   \n",
       "std                 NaN     2.866127                     NaN            NaN   \n",
       "min                 NaN  2001.000000                     NaN            NaN   \n",
       "25%                 NaN  2003.000000                     NaN            NaN   \n",
       "50%                 NaN  2006.000000                     NaN            NaN   \n",
       "75%                 NaN  2008.000000                     NaN            NaN   \n",
       "max                 NaN  2010.000000                     NaN            NaN   \n",
       "\n",
       "        Victims_Above_50_Yrs  Victims_Total  Victims_Upto_10_15_Yrs  \\\n",
       "count             962.000000    1018.000000              876.000000   \n",
       "unique                   NaN            NaN                     NaN   \n",
       "top                      NaN            NaN                     NaN   \n",
       "freq                     NaN            NaN                     NaN   \n",
       "mean               67.559252     683.406680                9.536530   \n",
       "std               100.650347    1015.595667               21.417212   \n",
       "min                 0.000000       0.000000                0.000000   \n",
       "25%                 3.000000      31.000000                0.000000   \n",
       "50%                25.000000     258.000000                2.000000   \n",
       "75%                86.000000    1011.750000               10.000000   \n",
       "max               824.000000    8180.000000              218.000000   \n",
       "\n",
       "        Victims_Upto_10_Yrs  Victims_Upto_15_18_Yrs  Victims_Upto_18_30_Yrs  \\\n",
       "count            900.000000              888.000000             1009.000000   \n",
       "unique                  NaN                     NaN                     NaN   \n",
       "top                     NaN                     NaN                     NaN   \n",
       "freq                    NaN                     NaN                     NaN   \n",
       "mean              14.726667               17.326577              314.739346   \n",
       "std               25.355027               39.497253              483.745420   \n",
       "min                0.000000                0.000000                0.000000   \n",
       "25%                1.000000                0.000000               13.000000   \n",
       "50%                3.000000                3.000000              116.000000   \n",
       "75%               18.000000               14.000000              421.000000   \n",
       "max              189.000000              347.000000             3724.000000   \n",
       "\n",
       "        Victims_Upto_30_50_Yrs  \n",
       "count              1007.000000  \n",
       "unique                     NaN  \n",
       "top                        NaN  \n",
       "freq                       NaN  \n",
       "mean                274.230387  \n",
       "std                 396.206952  \n",
       "min                   0.000000  \n",
       "25%                  13.000000  \n",
       "50%                 102.000000  \n",
       "75%                 416.500000  \n",
       "max                3143.000000  "
      ]
     },
     "execution_count": 15,
     "metadata": {},
     "output_type": "execute_result"
    }
   ],
   "source": [
    "## This will show the description of all the columns\n",
    "\n",
    "md.describe(include=\"all\")"
   ]
  },
  {
   "cell_type": "code",
   "execution_count": 16,
   "metadata": {},
   "outputs": [
    {
     "data": {
      "text/html": [
       "<div>\n",
       "<style scoped>\n",
       "    .dataframe tbody tr th:only-of-type {\n",
       "        vertical-align: middle;\n",
       "    }\n",
       "\n",
       "    .dataframe tbody tr th {\n",
       "        vertical-align: top;\n",
       "    }\n",
       "\n",
       "    .dataframe thead th {\n",
       "        text-align: right;\n",
       "    }\n",
       "</style>\n",
       "<table border=\"1\" class=\"dataframe\">\n",
       "  <thead>\n",
       "    <tr style=\"text-align: right;\">\n",
       "      <th></th>\n",
       "      <th>Area_Name</th>\n",
       "      <th>Year</th>\n",
       "      <th>Subgroup</th>\n",
       "      <th>Rape_Cases_Reported</th>\n",
       "      <th>Victims_Above_50_Yrs</th>\n",
       "      <th>Victims_Between_10-14_Yrs</th>\n",
       "      <th>Victims_Between_14-18_Yrs</th>\n",
       "      <th>Victims_Between_18-30_Yrs</th>\n",
       "      <th>Victims_Between_30-50_Yrs</th>\n",
       "      <th>Victims_of_Rape_Total</th>\n",
       "      <th>Victims_Upto_10_Yrs</th>\n",
       "    </tr>\n",
       "  </thead>\n",
       "  <tbody>\n",
       "    <tr>\n",
       "      <th>count</th>\n",
       "      <td>1050</td>\n",
       "      <td>1050.00000</td>\n",
       "      <td>1050</td>\n",
       "      <td>1050.000000</td>\n",
       "      <td>1050.000000</td>\n",
       "      <td>1050.000000</td>\n",
       "      <td>1050.000000</td>\n",
       "      <td>1050.000000</td>\n",
       "      <td>1050.000000</td>\n",
       "      <td>1050.000000</td>\n",
       "      <td>1050.000000</td>\n",
       "    </tr>\n",
       "    <tr>\n",
       "      <th>unique</th>\n",
       "      <td>35</td>\n",
       "      <td>NaN</td>\n",
       "      <td>3</td>\n",
       "      <td>NaN</td>\n",
       "      <td>NaN</td>\n",
       "      <td>NaN</td>\n",
       "      <td>NaN</td>\n",
       "      <td>NaN</td>\n",
       "      <td>NaN</td>\n",
       "      <td>NaN</td>\n",
       "      <td>NaN</td>\n",
       "    </tr>\n",
       "    <tr>\n",
       "      <th>top</th>\n",
       "      <td>Jammu &amp; Kashmir</td>\n",
       "      <td>NaN</td>\n",
       "      <td>Victims of Other Rape</td>\n",
       "      <td>NaN</td>\n",
       "      <td>NaN</td>\n",
       "      <td>NaN</td>\n",
       "      <td>NaN</td>\n",
       "      <td>NaN</td>\n",
       "      <td>NaN</td>\n",
       "      <td>NaN</td>\n",
       "      <td>NaN</td>\n",
       "    </tr>\n",
       "    <tr>\n",
       "      <th>freq</th>\n",
       "      <td>30</td>\n",
       "      <td>NaN</td>\n",
       "      <td>350</td>\n",
       "      <td>NaN</td>\n",
       "      <td>NaN</td>\n",
       "      <td>NaN</td>\n",
       "      <td>NaN</td>\n",
       "      <td>NaN</td>\n",
       "      <td>NaN</td>\n",
       "      <td>NaN</td>\n",
       "      <td>NaN</td>\n",
       "    </tr>\n",
       "    <tr>\n",
       "      <th>mean</th>\n",
       "      <td>NaN</td>\n",
       "      <td>2005.50000</td>\n",
       "      <td>NaN</td>\n",
       "      <td>361.920000</td>\n",
       "      <td>1.866667</td>\n",
       "      <td>23.657143</td>\n",
       "      <td>53.085714</td>\n",
       "      <td>212.937143</td>\n",
       "      <td>60.236190</td>\n",
       "      <td>362.198095</td>\n",
       "      <td>10.415238</td>\n",
       "    </tr>\n",
       "    <tr>\n",
       "      <th>std</th>\n",
       "      <td>NaN</td>\n",
       "      <td>2.87365</td>\n",
       "      <td>NaN</td>\n",
       "      <td>592.180572</td>\n",
       "      <td>4.640286</td>\n",
       "      <td>50.677418</td>\n",
       "      <td>115.127899</td>\n",
       "      <td>350.135760</td>\n",
       "      <td>118.322713</td>\n",
       "      <td>592.418089</td>\n",
       "      <td>19.533134</td>\n",
       "    </tr>\n",
       "    <tr>\n",
       "      <th>min</th>\n",
       "      <td>NaN</td>\n",
       "      <td>2001.00000</td>\n",
       "      <td>NaN</td>\n",
       "      <td>0.000000</td>\n",
       "      <td>0.000000</td>\n",
       "      <td>0.000000</td>\n",
       "      <td>0.000000</td>\n",
       "      <td>0.000000</td>\n",
       "      <td>0.000000</td>\n",
       "      <td>0.000000</td>\n",
       "      <td>0.000000</td>\n",
       "    </tr>\n",
       "    <tr>\n",
       "      <th>25%</th>\n",
       "      <td>NaN</td>\n",
       "      <td>2003.00000</td>\n",
       "      <td>NaN</td>\n",
       "      <td>4.000000</td>\n",
       "      <td>0.000000</td>\n",
       "      <td>0.000000</td>\n",
       "      <td>0.000000</td>\n",
       "      <td>1.000000</td>\n",
       "      <td>0.000000</td>\n",
       "      <td>4.000000</td>\n",
       "      <td>0.000000</td>\n",
       "    </tr>\n",
       "    <tr>\n",
       "      <th>50%</th>\n",
       "      <td>NaN</td>\n",
       "      <td>2005.50000</td>\n",
       "      <td>NaN</td>\n",
       "      <td>37.000000</td>\n",
       "      <td>0.000000</td>\n",
       "      <td>3.000000</td>\n",
       "      <td>5.000000</td>\n",
       "      <td>15.500000</td>\n",
       "      <td>4.000000</td>\n",
       "      <td>37.000000</td>\n",
       "      <td>2.000000</td>\n",
       "    </tr>\n",
       "    <tr>\n",
       "      <th>75%</th>\n",
       "      <td>NaN</td>\n",
       "      <td>2008.00000</td>\n",
       "      <td>NaN</td>\n",
       "      <td>527.500000</td>\n",
       "      <td>1.000000</td>\n",
       "      <td>19.000000</td>\n",
       "      <td>42.000000</td>\n",
       "      <td>308.000000</td>\n",
       "      <td>58.750000</td>\n",
       "      <td>531.500000</td>\n",
       "      <td>11.000000</td>\n",
       "    </tr>\n",
       "    <tr>\n",
       "      <th>max</th>\n",
       "      <td>NaN</td>\n",
       "      <td>2010.00000</td>\n",
       "      <td>NaN</td>\n",
       "      <td>3135.000000</td>\n",
       "      <td>43.000000</td>\n",
       "      <td>416.000000</td>\n",
       "      <td>826.000000</td>\n",
       "      <td>1835.000000</td>\n",
       "      <td>811.000000</td>\n",
       "      <td>3136.000000</td>\n",
       "      <td>131.000000</td>\n",
       "    </tr>\n",
       "  </tbody>\n",
       "</table>\n",
       "</div>"
      ],
      "text/plain": [
       "              Area_Name        Year               Subgroup  \\\n",
       "count              1050  1050.00000                   1050   \n",
       "unique               35         NaN                      3   \n",
       "top     Jammu & Kashmir         NaN  Victims of Other Rape   \n",
       "freq                 30         NaN                    350   \n",
       "mean                NaN  2005.50000                    NaN   \n",
       "std                 NaN     2.87365                    NaN   \n",
       "min                 NaN  2001.00000                    NaN   \n",
       "25%                 NaN  2003.00000                    NaN   \n",
       "50%                 NaN  2005.50000                    NaN   \n",
       "75%                 NaN  2008.00000                    NaN   \n",
       "max                 NaN  2010.00000                    NaN   \n",
       "\n",
       "        Rape_Cases_Reported  Victims_Above_50_Yrs  Victims_Between_10-14_Yrs  \\\n",
       "count           1050.000000           1050.000000                1050.000000   \n",
       "unique                  NaN                   NaN                        NaN   \n",
       "top                     NaN                   NaN                        NaN   \n",
       "freq                    NaN                   NaN                        NaN   \n",
       "mean             361.920000              1.866667                  23.657143   \n",
       "std              592.180572              4.640286                  50.677418   \n",
       "min                0.000000              0.000000                   0.000000   \n",
       "25%                4.000000              0.000000                   0.000000   \n",
       "50%               37.000000              0.000000                   3.000000   \n",
       "75%              527.500000              1.000000                  19.000000   \n",
       "max             3135.000000             43.000000                 416.000000   \n",
       "\n",
       "        Victims_Between_14-18_Yrs  Victims_Between_18-30_Yrs  \\\n",
       "count                 1050.000000                1050.000000   \n",
       "unique                        NaN                        NaN   \n",
       "top                           NaN                        NaN   \n",
       "freq                          NaN                        NaN   \n",
       "mean                    53.085714                 212.937143   \n",
       "std                    115.127899                 350.135760   \n",
       "min                      0.000000                   0.000000   \n",
       "25%                      0.000000                   1.000000   \n",
       "50%                      5.000000                  15.500000   \n",
       "75%                     42.000000                 308.000000   \n",
       "max                    826.000000                1835.000000   \n",
       "\n",
       "        Victims_Between_30-50_Yrs  Victims_of_Rape_Total  Victims_Upto_10_Yrs  \n",
       "count                 1050.000000            1050.000000          1050.000000  \n",
       "unique                        NaN                    NaN                  NaN  \n",
       "top                           NaN                    NaN                  NaN  \n",
       "freq                          NaN                    NaN                  NaN  \n",
       "mean                    60.236190             362.198095            10.415238  \n",
       "std                    118.322713             592.418089            19.533134  \n",
       "min                      0.000000               0.000000             0.000000  \n",
       "25%                      0.000000               4.000000             0.000000  \n",
       "50%                      4.000000              37.000000             2.000000  \n",
       "75%                     58.750000             531.500000            11.000000  \n",
       "max                    811.000000            3136.000000           131.000000  "
      ]
     },
     "execution_count": 16,
     "metadata": {},
     "output_type": "execute_result"
    }
   ],
   "source": [
    "rp.describe(include=\"all\")"
   ]
  },
  {
   "cell_type": "markdown",
   "metadata": {},
   "source": [
    "#### Missing values"
   ]
  },
  {
   "cell_type": "code",
   "execution_count": 17,
   "metadata": {},
   "outputs": [
    {
     "data": {
      "text/plain": [
       "Area_Name                   0\n",
       "Year                        0\n",
       "Group_Name                  0\n",
       "Sub_Group_Name              0\n",
       "Victims_Above_50_Yrs       56\n",
       "Victims_Total               0\n",
       "Victims_Upto_10_15_Yrs    142\n",
       "Victims_Upto_10_Yrs       118\n",
       "Victims_Upto_15_18_Yrs    130\n",
       "Victims_Upto_18_30_Yrs      9\n",
       "Victims_Upto_30_50_Yrs     11\n",
       "dtype: int64"
      ]
     },
     "execution_count": 17,
     "metadata": {},
     "output_type": "execute_result"
    }
   ],
   "source": [
    "md.isnull().sum()"
   ]
  },
  {
   "cell_type": "code",
   "execution_count": 18,
   "metadata": {},
   "outputs": [
    {
     "data": {
      "text/plain": [
       "Area_Name                    0\n",
       "Year                         0\n",
       "Subgroup                     0\n",
       "Rape_Cases_Reported          0\n",
       "Victims_Above_50_Yrs         0\n",
       "Victims_Between_10-14_Yrs    0\n",
       "Victims_Between_14-18_Yrs    0\n",
       "Victims_Between_18-30_Yrs    0\n",
       "Victims_Between_30-50_Yrs    0\n",
       "Victims_of_Rape_Total        0\n",
       "Victims_Upto_10_Yrs          0\n",
       "dtype: int64"
      ]
     },
     "execution_count": 18,
     "metadata": {},
     "output_type": "execute_result"
    }
   ],
   "source": [
    "rp.isnull().sum()"
   ]
  },
  {
   "cell_type": "markdown",
   "metadata": {},
   "source": [
    "##### Observaions:\n",
    "\n",
    "- There are missing value in count for Victims of dfferent age groups in the murder crime dataset. Which means the count is 0 in those cases.\n",
    "- In case of rape victom data there is no missing count value for any age group. Which means in every area, there is atleast one victim from every age group."
   ]
  },
  {
   "cell_type": "markdown",
   "metadata": {},
   "source": [
    "### Treating the missing values of murder victim data\n",
    "\n",
    "- According to this data if the count is missing it must be 0.\n",
    "- So, let us fill the NaN values with 0."
   ]
  },
  {
   "cell_type": "code",
   "execution_count": 19,
   "metadata": {},
   "outputs": [],
   "source": [
    "md = md.fillna(0)"
   ]
  },
  {
   "cell_type": "code",
   "execution_count": 20,
   "metadata": {},
   "outputs": [
    {
     "data": {
      "text/plain": [
       "Area_Name                 0\n",
       "Year                      0\n",
       "Group_Name                0\n",
       "Sub_Group_Name            0\n",
       "Victims_Above_50_Yrs      0\n",
       "Victims_Total             0\n",
       "Victims_Upto_10_15_Yrs    0\n",
       "Victims_Upto_10_Yrs       0\n",
       "Victims_Upto_15_18_Yrs    0\n",
       "Victims_Upto_18_30_Yrs    0\n",
       "Victims_Upto_30_50_Yrs    0\n",
       "dtype: int64"
      ]
     },
     "execution_count": 20,
     "metadata": {},
     "output_type": "execute_result"
    }
   ],
   "source": [
    "## Check for missing values after filling the NaN values\n",
    "\n",
    "md.isnull().sum()"
   ]
  },
  {
   "cell_type": "markdown",
   "metadata": {},
   "source": [
    "### Visualization of the Percentage of Male and Female victims in murder crime\n",
    "\n",
    "##### Pie Chart\n"
   ]
  },
  {
   "cell_type": "code",
   "execution_count": 21,
   "metadata": {},
   "outputs": [
    {
     "data": {
      "text/plain": [
       "array(['Murder - Female Victims', 'Murder - Male Victims',\n",
       "       'Murder - Total Victims'], dtype=object)"
      ]
     },
     "execution_count": 21,
     "metadata": {},
     "output_type": "execute_result"
    }
   ],
   "source": [
    "## Unique Group Names\n",
    "\n",
    "md.Group_Name.unique()"
   ]
  },
  {
   "cell_type": "code",
   "execution_count": 22,
   "metadata": {},
   "outputs": [
    {
     "data": {
      "text/plain": [
       "Group_Name\n",
       "Murder - Female Victims     81580\n",
       "Murder - Male Victims      266274\n",
       "Name: Victims_Total, dtype: int64"
      ]
     },
     "execution_count": 22,
     "metadata": {},
     "output_type": "execute_result"
    }
   ],
   "source": [
    "## Count of the Male and Female victims\n",
    "\n",
    "md_ml_fml = md.loc[md.Group_Name != \"Murder - Total Victims\"].groupby(\"Group_Name\").sum()[\"Victims_Total\"]\n",
    "\n",
    "md_ml_fml"
   ]
  },
  {
   "cell_type": "code",
   "execution_count": 23,
   "metadata": {},
   "outputs": [
    {
     "data": {
      "image/png": "[encoded data removed]",
      "text/plain": [
       "<Figure size 432x432 with 1 Axes>"
      ]
     },
     "metadata": {},
     "output_type": "display_data"
    }
   ],
   "source": [
    "## Visualize the percentage\n",
    "\n",
    "fig1, ax1 = plt.subplots(figsize=(6,6))\n",
    "obj1 = ax1.pie(md_ml_fml, colors=[\"#7fc97f\",\"#beaed4\"], autopct=\"%0.2f%%\", labels=[a.split(\" - \")[-1] for a in md_ml_fml.index], labeldistance=0.3)\n",
    "\n",
    "## Add Legend\n",
    "ax1.legend(bbox_to_anchor=(0.9,0.4),fontsize=12)\n",
    "\n",
    "## Add Title\n",
    "ax1.set_title(\"Gender distribution of Murder victims\", fontsize=16)\n",
    "\n",
    "## Add subtitle\n",
    "ax1.text(-0.5,1.15,\"(From 2001 to 2010)\", fontsize=14)\n",
    "\n",
    "plt.show()"
   ]
  },
  {
   "cell_type": "markdown",
   "metadata": {},
   "source": [
    "##### Observaions:\n",
    "\n",
    "- Maximum murder victims are male\n",
    "- The ratio is 3.26"
   ]
  },
  {
   "cell_type": "markdown",
   "metadata": {},
   "source": [
    "### Convertion to Indian Comma separated format\n",
    "\n",
    "- Method will take a number as input parameter.\n",
    "- It will convert the number into Indian comma separated format.\n",
    "- It will return the converted string.\n",
    "- This is used to improve the readability of the number."
   ]
  },
  {
   "cell_type": "code",
   "execution_count": 24,
   "metadata": {},
   "outputs": [
    {
     "data": {
      "text/plain": [
       "'14,21,45,789'"
      ]
     },
     "execution_count": 24,
     "metadata": {},
     "output_type": "execute_result"
    }
   ],
   "source": [
    "def comma_separated(num):\n",
    "    s = str(num)\n",
    "    lst = s.split(\".\")\n",
    "    ns = \"\"\n",
    "    for i, c in enumerate(lst[0][::-1]):        \n",
    "        ns = c + ns\n",
    "        if(i>0 and i%2==0 and i!=(len(lst[0])-1)):        \n",
    "            ns = \",\" + ns\n",
    "    lst[0] = ns        \n",
    "    return \".\".join(lst)\n",
    "\n",
    "comma_separated(142145789)"
   ]
  },
  {
   "cell_type": "markdown",
   "metadata": {},
   "source": [
    "### Change in the count of murder victims over ten years\n",
    "\n",
    "##### Line chart"
   ]
  },
  {
   "cell_type": "code",
   "execution_count": 25,
   "metadata": {},
   "outputs": [
    {
     "data": {
      "text/plain": [
       "Year\n",
       "2001    38636\n",
       "2002    38033\n",
       "2003    33821\n",
       "2004    34915\n",
       "2005    34419\n",
       "2006    33808\n",
       "2007    33428\n",
       "2008    33727\n",
       "2009    33159\n",
       "2010    33908\n",
       "Name: Victims_Total, dtype: int64"
      ]
     },
     "execution_count": 25,
     "metadata": {},
     "output_type": "execute_result"
    }
   ],
   "source": [
    "md_year_wise = md.loc[md.Group_Name == \"Murder - Total Victims\"].groupby(\"Year\").sum()[\"Victims_Total\"]\n",
    "md_year_wise_m = md.loc[md.Group_Name == \"Murder - Male Victims\"].groupby(\"Year\").sum()[\"Victims_Total\"]\n",
    "md_year_wise_f = md.loc[md.Group_Name == \"Murder - Female Victims\"].groupby(\"Year\").sum()[\"Victims_Total\"]\n",
    "md_year_wise"
   ]
  },
  {
   "cell_type": "code",
   "execution_count": 26,
   "metadata": {},
   "outputs": [
    {
     "data": {
      "image/png": "[encoded data removed]",
      "text/plain": [
       "<Figure size 1008x576 with 1 Axes>"
      ]
     },
     "metadata": {
      "needs_background": "light"
     },
     "output_type": "display_data"
    }
   ],
   "source": [
    "## Visualize the percentage\n",
    "\n",
    "fig2, ax2 = plt.subplots(figsize=(14,8))\n",
    "p1 = ax2.plot(md_year_wise.index,md_year_wise.values, marker=\"o\", label=\"Total\")\n",
    "p2 = ax2.plot(md_year_wise_m.index,md_year_wise_m.values, marker=\">\", label=\"Male\")\n",
    "p3 = ax2.plot(md_year_wise_f.index,md_year_wise_f.values, marker=\"s\", label=\"Female\")\n",
    "\n",
    "obj2 = [p1,p2,p3]\n",
    "\n",
    "## Add x-axis labels\n",
    "plt.xticks(md_year_wise.index)\n",
    "\n",
    "## Add y-axis labels\n",
    "plt.yticks(range(0,45001,5000),[comma_separated(v) for v in range(0,45001,5000)])\n",
    "\n",
    "## Add x-axis title\n",
    "ax2.set_xlabel(\"<-- Years -->\", fontsize=14)\n",
    "\n",
    "## Add y-axis title\n",
    "ax2.set_ylabel(\"<-- Number of murder victims -->\", fontsize=14)\n",
    "\n",
    "## Add Title\n",
    "ax2.set_title(\"Change in the count of murder victims over ten years\", fontsize=16, y=1.1)\n",
    "\n",
    "## Add subtitle\n",
    "ax2.text(2004.5,46500,\"(From 2001 to 2010)\", fontsize=14)\n",
    "\n",
    "## Add Legend\n",
    "ax2.legend(bbox_to_anchor=(1.15,0.4),fontsize=13)\n",
    "\n",
    "## Add data labels\n",
    "for i, v in md_year_wise.items():\n",
    "    ax2.text(i, v+100, str(comma_separated(v)), rotation=45)\n",
    "    \n",
    "for i, v in md_year_wise_m.items():\n",
    "    ax2.text(i, v+100, str(comma_separated(v)), rotation=45)\n",
    "    \n",
    "for i, v in md_year_wise_f.items():\n",
    "    ax2.text(i, v+100, str(comma_separated(v)), rotation=45)\n",
    "\n",
    "\n",
    "plt.show()"
   ]
  },
  {
   "cell_type": "markdown",
   "metadata": {},
   "source": [
    "##### Observaions:\n",
    "\n",
    "- Number of female murder victims was always less compared to male murder victims.\n",
    "- Maximum number of murder happened in 2001 among all 10 years.\n",
    "- Number of female murder victims is not varying much over the years."
   ]
  },
  {
   "cell_type": "markdown",
   "metadata": {},
   "source": [
    "### Top ten States based on the number of murders in the ten years\n",
    "\n",
    "##### Bar chart (Horizontal Bar chart)"
   ]
  },
  {
   "cell_type": "code",
   "execution_count": 27,
   "metadata": {},
   "outputs": [
    {
     "data": {
      "text/html": [
       "<div>\n",
       "<style scoped>\n",
       "    .dataframe tbody tr th:only-of-type {\n",
       "        vertical-align: middle;\n",
       "    }\n",
       "\n",
       "    .dataframe tbody tr th {\n",
       "        vertical-align: top;\n",
       "    }\n",
       "\n",
       "    .dataframe thead th {\n",
       "        text-align: right;\n",
       "    }\n",
       "</style>\n",
       "<table border=\"1\" class=\"dataframe\">\n",
       "  <thead>\n",
       "    <tr style=\"text-align: right;\">\n",
       "      <th></th>\n",
       "      <th>Victims_Total</th>\n",
       "    </tr>\n",
       "    <tr>\n",
       "      <th>Area_Name</th>\n",
       "      <th></th>\n",
       "    </tr>\n",
       "  </thead>\n",
       "  <tbody>\n",
       "    <tr>\n",
       "      <th>Uttar Pradesh</th>\n",
       "      <td>58810</td>\n",
       "    </tr>\n",
       "    <tr>\n",
       "      <th>Bihar</th>\n",
       "      <td>34675</td>\n",
       "    </tr>\n",
       "    <tr>\n",
       "      <th>Maharashtra</th>\n",
       "      <td>28693</td>\n",
       "    </tr>\n",
       "    <tr>\n",
       "      <th>Andhra Pradesh</th>\n",
       "      <td>27481</td>\n",
       "    </tr>\n",
       "    <tr>\n",
       "      <th>Madhya Pradesh</th>\n",
       "      <td>23694</td>\n",
       "    </tr>\n",
       "    <tr>\n",
       "      <th>West Bengal</th>\n",
       "      <td>16959</td>\n",
       "    </tr>\n",
       "    <tr>\n",
       "      <th>Karnataka</th>\n",
       "      <td>16891</td>\n",
       "    </tr>\n",
       "    <tr>\n",
       "      <th>Tamil Nadu</th>\n",
       "      <td>16876</td>\n",
       "    </tr>\n",
       "    <tr>\n",
       "      <th>Jharkhand</th>\n",
       "      <td>15682</td>\n",
       "    </tr>\n",
       "    <tr>\n",
       "      <th>Rajasthan</th>\n",
       "      <td>13176</td>\n",
       "    </tr>\n",
       "  </tbody>\n",
       "</table>\n",
       "</div>"
      ],
      "text/plain": [
       "                Victims_Total\n",
       "Area_Name                    \n",
       "Uttar Pradesh           58810\n",
       "Bihar                   34675\n",
       "Maharashtra             28693\n",
       "Andhra Pradesh          27481\n",
       "Madhya Pradesh          23694\n",
       "West Bengal             16959\n",
       "Karnataka               16891\n",
       "Tamil Nadu              16876\n",
       "Jharkhand               15682\n",
       "Rajasthan               13176"
      ]
     },
     "execution_count": 27,
     "metadata": {},
     "output_type": "execute_result"
    }
   ],
   "source": [
    "md_top_ten = md.loc[md.Group_Name == 'Murder - Total Victims'].groupby(\"Area_Name\").agg({\"Victims_Total\":\"sum\"}).sort_values(by=\"Victims_Total\",ascending=False).head(10)\n",
    "md_top_ten"
   ]
  },
  {
   "cell_type": "code",
   "execution_count": 28,
   "metadata": {},
   "outputs": [
    {
     "data": {
      "image/png": "[encoded data removed]",
      "text/plain": [
       "<Figure size 1152x432 with 1 Axes>"
      ]
     },
     "metadata": {
      "needs_background": "light"
     },
     "output_type": "display_data"
    }
   ],
   "source": [
    "## Visualize the percentage\n",
    "\n",
    "fig3, ax3 = plt.subplots(figsize=(16,6))\n",
    "obj3 = ax3.barh(md_top_ten.index,md_top_ten.Victims_Total,color=\"#377eb8\")\n",
    "\n",
    "## Add x-axis labels\n",
    "plt.xticks(range(0,70001,10000),[comma_separated(v) for v in range(0,70001,10000)])\n",
    "\n",
    "## Add y-axis title\n",
    "ax3.set_ylabel(\"<-- States -->\", fontsize=14, labelpad=20)\n",
    "\n",
    "## Add x-axis title\n",
    "ax3.set_xlabel(\"<-- Number of murder victims -->\", fontsize=14, labelpad=20)\n",
    "\n",
    "## Add Title\n",
    "ax3.set_title(\"Top ten States based on the number of murders in ten years\", fontsize=16, y=1.1)\n",
    "\n",
    "## Add subtitle\n",
    "ax3.text(30000,10.3,\"(From 2001 to 2010)\", fontsize=14)\n",
    "\n",
    "## Add data labels\n",
    "for i, v in enumerate(md_top_ten.Victims_Total):\n",
    "    ax3.text(v+1000, i-0.2, str(comma_separated(v)))\n",
    "\n",
    "\n",
    "plt.show()"
   ]
  },
  {
   "cell_type": "markdown",
   "metadata": {},
   "source": [
    "##### Observaions:\n",
    "\n",
    "- Maximum number of murder victims are from Uttar Pradesh"
   ]
  },
  {
   "cell_type": "markdown",
   "metadata": {},
   "source": [
    "### Male and Female victims of top ten States based on the number of murders in ten years\n",
    "\n",
    "##### Stacked bar chart (Horizontal)"
   ]
  },
  {
   "cell_type": "code",
   "execution_count": 29,
   "metadata": {},
   "outputs": [
    {
     "data": {
      "text/html": [
       "<div>\n",
       "<style scoped>\n",
       "    .dataframe tbody tr th:only-of-type {\n",
       "        vertical-align: middle;\n",
       "    }\n",
       "\n",
       "    .dataframe tbody tr th {\n",
       "        vertical-align: top;\n",
       "    }\n",
       "\n",
       "    .dataframe thead th {\n",
       "        text-align: right;\n",
       "    }\n",
       "</style>\n",
       "<table border=\"1\" class=\"dataframe\">\n",
       "  <thead>\n",
       "    <tr style=\"text-align: right;\">\n",
       "      <th></th>\n",
       "      <th>Total</th>\n",
       "      <th>Male</th>\n",
       "      <th>Female</th>\n",
       "    </tr>\n",
       "    <tr>\n",
       "      <th>Area_Name</th>\n",
       "      <th></th>\n",
       "      <th></th>\n",
       "      <th></th>\n",
       "    </tr>\n",
       "  </thead>\n",
       "  <tbody>\n",
       "    <tr>\n",
       "      <th>Uttar Pradesh</th>\n",
       "      <td>58810</td>\n",
       "      <td>47800</td>\n",
       "      <td>11010</td>\n",
       "    </tr>\n",
       "    <tr>\n",
       "      <th>Bihar</th>\n",
       "      <td>34675</td>\n",
       "      <td>29878</td>\n",
       "      <td>4797</td>\n",
       "    </tr>\n",
       "    <tr>\n",
       "      <th>Maharashtra</th>\n",
       "      <td>28693</td>\n",
       "      <td>18574</td>\n",
       "      <td>10119</td>\n",
       "    </tr>\n",
       "    <tr>\n",
       "      <th>Andhra Pradesh</th>\n",
       "      <td>27481</td>\n",
       "      <td>20214</td>\n",
       "      <td>7267</td>\n",
       "    </tr>\n",
       "    <tr>\n",
       "      <th>Madhya Pradesh</th>\n",
       "      <td>23694</td>\n",
       "      <td>18306</td>\n",
       "      <td>5388</td>\n",
       "    </tr>\n",
       "    <tr>\n",
       "      <th>West Bengal</th>\n",
       "      <td>16959</td>\n",
       "      <td>12312</td>\n",
       "      <td>4647</td>\n",
       "    </tr>\n",
       "    <tr>\n",
       "      <th>Karnataka</th>\n",
       "      <td>16891</td>\n",
       "      <td>10921</td>\n",
       "      <td>5970</td>\n",
       "    </tr>\n",
       "    <tr>\n",
       "      <th>Tamil Nadu</th>\n",
       "      <td>16876</td>\n",
       "      <td>11376</td>\n",
       "      <td>5500</td>\n",
       "    </tr>\n",
       "    <tr>\n",
       "      <th>Jharkhand</th>\n",
       "      <td>15682</td>\n",
       "      <td>12943</td>\n",
       "      <td>2739</td>\n",
       "    </tr>\n",
       "    <tr>\n",
       "      <th>Rajasthan</th>\n",
       "      <td>13176</td>\n",
       "      <td>10324</td>\n",
       "      <td>2852</td>\n",
       "    </tr>\n",
       "  </tbody>\n",
       "</table>\n",
       "</div>"
      ],
      "text/plain": [
       "                Total   Male  Female\n",
       "Area_Name                           \n",
       "Uttar Pradesh   58810  47800   11010\n",
       "Bihar           34675  29878    4797\n",
       "Maharashtra     28693  18574   10119\n",
       "Andhra Pradesh  27481  20214    7267\n",
       "Madhya Pradesh  23694  18306    5388\n",
       "West Bengal     16959  12312    4647\n",
       "Karnataka       16891  10921    5970\n",
       "Tamil Nadu      16876  11376    5500\n",
       "Jharkhand       15682  12943    2739\n",
       "Rajasthan       13176  10324    2852"
      ]
     },
     "execution_count": 29,
     "metadata": {},
     "output_type": "execute_result"
    }
   ],
   "source": [
    "md_top_ten = md.loc[md.Group_Name == 'Murder - Total Victims'].groupby(\"Area_Name\").agg({\"Victims_Total\":\"sum\"}).sort_values(by=\"Victims_Total\",ascending=False).head(10)\n",
    "md_top_ten_m = md.loc[md.Group_Name == 'Murder - Male Victims'].groupby(\"Area_Name\").agg({\"Victims_Total\":\"sum\"})\n",
    "md_top_ten_f = md.loc[md.Group_Name == 'Murder - Female Victims'].groupby(\"Area_Name\").agg({\"Victims_Total\":\"sum\"})\n",
    "md_top_ten = pd.merge(md_top_ten,md_top_ten_m,left_index=True,right_index=True,how=\"inner\")\n",
    "md_top_ten = pd.merge(md_top_ten,md_top_ten_f,left_index=True,right_index=True,how=\"inner\")\n",
    "md_top_ten = md_top_ten.rename(columns={\"Victims_Total_x\":\"Total\",\"Victims_Total_y\":\"Male\",\"Victims_Total\":\"Female\"})\n",
    "md_top_ten"
   ]
  },
  {
   "cell_type": "code",
   "execution_count": 30,
   "metadata": {},
   "outputs": [
    {
     "data": {
      "image/png": "[encoded data removed]",
      "text/plain": [
       "<Figure size 1008x432 with 1 Axes>"
      ]
     },
     "metadata": {
      "needs_background": "light"
     },
     "output_type": "display_data"
    }
   ],
   "source": [
    "## Visualize the percentage\n",
    "\n",
    "fig4, ax4 = plt.subplots(figsize=(14,6))\n",
    "p1 = ax4.barh(range(len(md_top_ten)),md_top_ten.Male,label=\"Male\",color=\"#8da0cb\")\n",
    "p1 = ax4.barh(range(len(md_top_ten)),md_top_ten.Female,left=md_top_ten.Male,label=\"Female\",color=\"#fc8d62\")\n",
    "obj4 = [p1,p2]\n",
    "\n",
    "## Add y-axis labels\n",
    "plt.yticks(range(len(md_top_ten)),md_top_ten.index)\n",
    "\n",
    "## Add x-axis labels\n",
    "plt.xticks(range(0,70001,10000),[comma_separated(v) for v in range(0,70001,10000)])\n",
    "\n",
    "## Add y-axis title\n",
    "ax4.set_ylabel(\"<-- States -->\", fontsize=14, labelpad=20)\n",
    "\n",
    "## Add x-axis title\n",
    "ax4.set_xlabel(\"<-- Number of murder victims -->\", fontsize=14, labelpad=20)\n",
    "\n",
    "## Add Title\n",
    "ax4.set_title(\"Male and Female victims of top ten States based on the number of murders in ten years\", fontsize=16, y=1.1)\n",
    "\n",
    "## Add subtitle\n",
    "ax4.text(30000,10.5,\"(From 2001 to 2010)\", fontsize=14)\n",
    "\n",
    "## Add legends\n",
    "ax4.legend(bbox_to_anchor=(1,1),fontsize=14)\n",
    "\n",
    "## Add data labels\n",
    "for i, v in enumerate(md_top_ten.Male):\n",
    "    ax4.text(v-int(v/2), i-0.2, str(comma_separated(v)))\n",
    "    \n",
    "for i, v in enumerate(md_top_ten.Female):\n",
    "    ax4.text(int(v/10)+md_top_ten.Male[i], i-0.2, str(comma_separated(v)))\n",
    "\n",
    "\n",
    "plt.show()"
   ]
  },
  {
   "cell_type": "markdown",
   "metadata": {},
   "source": [
    "##### Observaions:\n",
    "\n",
    "- Male murder victims is more in count in every state."
   ]
  },
  {
   "cell_type": "markdown",
   "metadata": {},
   "source": [
    "### Count of murder victims of different age groups\n",
    "\n",
    "##### Column chart (Vertical)"
   ]
  },
  {
   "cell_type": "code",
   "execution_count": 31,
   "metadata": {},
   "outputs": [
    {
     "data": {
      "text/html": [
       "<div>\n",
       "<style scoped>\n",
       "    .dataframe tbody tr th:only-of-type {\n",
       "        vertical-align: middle;\n",
       "    }\n",
       "\n",
       "    .dataframe tbody tr th {\n",
       "        vertical-align: top;\n",
       "    }\n",
       "\n",
       "    .dataframe thead th {\n",
       "        text-align: right;\n",
       "    }\n",
       "</style>\n",
       "<table border=\"1\" class=\"dataframe\">\n",
       "  <thead>\n",
       "    <tr style=\"text-align: right;\">\n",
       "      <th></th>\n",
       "      <th>Victims_Upto_10_Yrs</th>\n",
       "      <th>Victims_Upto_10_15_Yrs</th>\n",
       "      <th>Victims_Upto_15_18_Yrs</th>\n",
       "      <th>Victims_Upto_18_30_Yrs</th>\n",
       "      <th>Victims_Upto_30_50_Yrs</th>\n",
       "      <th>Victims_Above_50_Yrs</th>\n",
       "    </tr>\n",
       "    <tr>\n",
       "      <th>Group_Name</th>\n",
       "      <th></th>\n",
       "      <th></th>\n",
       "      <th></th>\n",
       "      <th></th>\n",
       "      <th></th>\n",
       "      <th></th>\n",
       "    </tr>\n",
       "  </thead>\n",
       "  <tbody>\n",
       "    <tr>\n",
       "      <th>Murder - Female Victims</th>\n",
       "      <td>3133.0</td>\n",
       "      <td>1534.0</td>\n",
       "      <td>2429.0</td>\n",
       "      <td>39611.0</td>\n",
       "      <td>27858.0</td>\n",
       "      <td>7015.0</td>\n",
       "    </tr>\n",
       "    <tr>\n",
       "      <th>Murder - Male Victims</th>\n",
       "      <td>3494.0</td>\n",
       "      <td>2643.0</td>\n",
       "      <td>5264.0</td>\n",
       "      <td>119175.0</td>\n",
       "      <td>110217.0</td>\n",
       "      <td>25481.0</td>\n",
       "    </tr>\n",
       "    <tr>\n",
       "      <th>Murder - Total Victims</th>\n",
       "      <td>6627.0</td>\n",
       "      <td>4177.0</td>\n",
       "      <td>7693.0</td>\n",
       "      <td>158786.0</td>\n",
       "      <td>138075.0</td>\n",
       "      <td>32496.0</td>\n",
       "    </tr>\n",
       "  </tbody>\n",
       "</table>\n",
       "</div>"
      ],
      "text/plain": [
       "                         Victims_Upto_10_Yrs  Victims_Upto_10_15_Yrs  \\\n",
       "Group_Name                                                             \n",
       "Murder - Female Victims               3133.0                  1534.0   \n",
       "Murder - Male Victims                 3494.0                  2643.0   \n",
       "Murder - Total Victims                6627.0                  4177.0   \n",
       "\n",
       "                         Victims_Upto_15_18_Yrs  Victims_Upto_18_30_Yrs  \\\n",
       "Group_Name                                                                \n",
       "Murder - Female Victims                  2429.0                 39611.0   \n",
       "Murder - Male Victims                    5264.0                119175.0   \n",
       "Murder - Total Victims                   7693.0                158786.0   \n",
       "\n",
       "                         Victims_Upto_30_50_Yrs  Victims_Above_50_Yrs  \n",
       "Group_Name                                                             \n",
       "Murder - Female Victims                 27858.0                7015.0  \n",
       "Murder - Male Victims                  110217.0               25481.0  \n",
       "Murder - Total Victims                 138075.0               32496.0  "
      ]
     },
     "execution_count": 31,
     "metadata": {},
     "output_type": "execute_result"
    }
   ],
   "source": [
    "md_age_grp = md.groupby(\"Group_Name\").sum().loc[:,['Victims_Upto_10_Yrs', 'Victims_Upto_10_15_Yrs', 'Victims_Upto_15_18_Yrs','Victims_Upto_18_30_Yrs', 'Victims_Upto_30_50_Yrs', 'Victims_Above_50_Yrs']]\n",
    "md_age_grp"
   ]
  },
  {
   "cell_type": "code",
   "execution_count": 32,
   "metadata": {},
   "outputs": [
    {
     "data": {
      "text/plain": [
       "Victims_Upto_10_Yrs         6627.0\n",
       "Victims_Upto_10_15_Yrs      4177.0\n",
       "Victims_Upto_15_18_Yrs      7693.0\n",
       "Victims_Upto_18_30_Yrs    158786.0\n",
       "Victims_Upto_30_50_Yrs    138075.0\n",
       "Victims_Above_50_Yrs       32496.0\n",
       "Name: Murder - Total Victims, dtype: float64"
      ]
     },
     "execution_count": 32,
     "metadata": {},
     "output_type": "execute_result"
    }
   ],
   "source": [
    "md_age_grp_tot = md_age_grp.loc[\"Murder - Total Victims\"]\n",
    "md_age_grp_tot"
   ]
  },
  {
   "cell_type": "code",
   "execution_count": 33,
   "metadata": {},
   "outputs": [
    {
     "data": {
      "image/png": "[encoded data removed]",
      "text/plain": [
       "<Figure size 1008x576 with 1 Axes>"
      ]
     },
     "metadata": {
      "needs_background": "light"
     },
     "output_type": "display_data"
    }
   ],
   "source": [
    "## Visualize the percentage\n",
    "\n",
    "fig5, ax5 = plt.subplots(figsize=(14,8))\n",
    "obj5 = ax5.bar(range(len(md_age_grp_tot)),md_age_grp_tot.values,0.4,color=\"#377eb8\")\n",
    "\n",
    "## Add x-axis labels\n",
    "plt.xticks(range(len(md_age_grp_tot)),[x.replace(\"Victims_\",\"\") for x in md_age_grp_tot.index])\n",
    "\n",
    "## Add y-axis labels\n",
    "plt.yticks(range(0,180001,20000),[comma_separated(v) for v in range(0,180001,20000)])\n",
    "\n",
    "## Add x-axis title\n",
    "ax5.set_xlabel(\"<-- Age Groups -->\", fontsize=14, labelpad=20)\n",
    "\n",
    "## Add y-axis title\n",
    "ax5.set_ylabel(\"<-- Number of murder victims -->\", fontsize=14, labelpad=20)\n",
    "\n",
    "## Add Title\n",
    "ax5.set_title(\"Count of murder victims of different age groups\", fontsize=16, y=1.1)\n",
    "\n",
    "## Add subtitle\n",
    "ax5.text(1.8,188000,\"(From 2001 to 2010)\", fontsize=14)\n",
    "\n",
    "## Add data labels\n",
    "for i, v in enumerate(md_age_grp_tot.values):\n",
    "    ax5.text(i-0.18, v+2000, str(comma_separated(int(v))))\n",
    "\n",
    "\n",
    "plt.show()"
   ]
  },
  {
   "cell_type": "markdown",
   "metadata": {},
   "source": [
    "##### Observaions:\n",
    "\n",
    "- Maximum number of murder victims belonged to the age group of 18 to 50 years."
   ]
  },
  {
   "cell_type": "markdown",
   "metadata": {},
   "source": [
    "### Count of male and female murder victims of different age groups\n",
    "\n",
    "##### Stacked column chart (Vertical)"
   ]
  },
  {
   "cell_type": "code",
   "execution_count": 34,
   "metadata": {},
   "outputs": [
    {
     "data": {
      "image/png": "[encoded data removed]",
      "text/plain": [
       "<Figure size 1008x1008 with 1 Axes>"
      ]
     },
     "metadata": {
      "needs_background": "light"
     },
     "output_type": "display_data"
    }
   ],
   "source": [
    "## Male and Female data\n",
    "md_age_grp_m = md_age_grp.loc[\"Murder - Male Victims\"]\n",
    "md_age_grp_f = md_age_grp.loc[\"Murder - Female Victims\"]\n",
    "\n",
    "## Visualize the percentage\n",
    "\n",
    "fig6, ax6 = plt.subplots(figsize=(14,14))\n",
    "p1 = ax6.bar(range(len(md_age_grp_m)),md_age_grp_m,0.4,color=\"#66c2a5\",label=\"Male\")\n",
    "p2 = ax6.bar(range(len(md_age_grp_f)),md_age_grp_f,0.4,bottom=md_age_grp_m,color=\"#fc8d62\",label=\"Female\")\n",
    "obj6 = [p1, p2]\n",
    "\n",
    "## Change x-limit\n",
    "plt.xlim(-0.5,len(md_age_grp_m)+0.05)\n",
    "\n",
    "## Add x-axis labels\n",
    "plt.xticks(range(len(md_age_grp_m)),[x.replace(\"Victims_\",\"\") for x in md_age_grp_m.index])\n",
    "\n",
    "## Add y-axis labels\n",
    "plt.yticks(range(0,180001,20000),[comma_separated(v) for v in range(0,180001,20000)])\n",
    "\n",
    "## Add x-axis title\n",
    "ax6.set_xlabel(\"<-- Age Groups -->\", fontsize=14, labelpad=20)\n",
    "\n",
    "## Add y-axis title\n",
    "ax6.set_ylabel(\"<-- Number of murder victims -->\", fontsize=14, labelpad=20)\n",
    "\n",
    "## Add Title\n",
    "ax6.set_title(\"Count of murder victims of different age groups\", fontsize=16, y=1.04)\n",
    "\n",
    "## Add subtitle\n",
    "ax6.text(2,184000,\"(From 2001 to 2010)\", fontsize=14)\n",
    "\n",
    "## Add legends\n",
    "ax6.legend(fontsize=14)\n",
    "\n",
    "## Add data labels\n",
    "for i, v in enumerate(md_age_grp_m):\n",
    "    ax6.text(i-0.2, int(v/3), str(comma_separated(int(v))))\n",
    "\n",
    "for i, v in enumerate(md_age_grp_f):\n",
    "    ax6.text(i-0.2, int(v/3)+md_age_grp_m[md_age_grp_m.index[i]], str(comma_separated(int(v))))\n",
    "\n",
    "plt.show()"
   ]
  },
  {
   "cell_type": "markdown",
   "metadata": {},
   "source": [
    "##### Observaions:\n",
    "\n",
    "- Maximum number of female victims of murder case belong to the age group 18 to 30.\n",
    "- Number of Male victims of any age group is higher than the number of Female victims. "
   ]
  },
  {
   "cell_type": "markdown",
   "metadata": {},
   "source": [
    "### Ten States which are having the maximum number of rape victims in the ten years\n",
    "\n",
    "##### Clustered bar chart (horizontal bar chart)"
   ]
  },
  {
   "cell_type": "code",
   "execution_count": 35,
   "metadata": {},
   "outputs": [
    {
     "data": {
      "text/html": [
       "<div>\n",
       "<style scoped>\n",
       "    .dataframe tbody tr th:only-of-type {\n",
       "        vertical-align: middle;\n",
       "    }\n",
       "\n",
       "    .dataframe tbody tr th {\n",
       "        vertical-align: top;\n",
       "    }\n",
       "\n",
       "    .dataframe thead th {\n",
       "        text-align: right;\n",
       "    }\n",
       "</style>\n",
       "<table border=\"1\" class=\"dataframe\">\n",
       "  <thead>\n",
       "    <tr style=\"text-align: right;\">\n",
       "      <th></th>\n",
       "      <th>Total</th>\n",
       "      <th>Incest</th>\n",
       "      <th>Other</th>\n",
       "    </tr>\n",
       "    <tr>\n",
       "      <th>Area_Name</th>\n",
       "      <th></th>\n",
       "      <th></th>\n",
       "      <th></th>\n",
       "    </tr>\n",
       "  </thead>\n",
       "  <tbody>\n",
       "    <tr>\n",
       "      <th>Madhya Pradesh</th>\n",
       "      <td>29257</td>\n",
       "      <td>865</td>\n",
       "      <td>28392</td>\n",
       "    </tr>\n",
       "    <tr>\n",
       "      <th>West Bengal</th>\n",
       "      <td>16378</td>\n",
       "      <td>211</td>\n",
       "      <td>16167</td>\n",
       "    </tr>\n",
       "    <tr>\n",
       "      <th>Uttar Pradesh</th>\n",
       "      <td>15053</td>\n",
       "      <td>138</td>\n",
       "      <td>14915</td>\n",
       "    </tr>\n",
       "    <tr>\n",
       "      <th>Maharashtra</th>\n",
       "      <td>14505</td>\n",
       "      <td>362</td>\n",
       "      <td>14143</td>\n",
       "    </tr>\n",
       "    <tr>\n",
       "      <th>Assam</th>\n",
       "      <td>12762</td>\n",
       "      <td>101</td>\n",
       "      <td>12661</td>\n",
       "    </tr>\n",
       "    <tr>\n",
       "      <th>Rajasthan</th>\n",
       "      <td>11954</td>\n",
       "      <td>337</td>\n",
       "      <td>11617</td>\n",
       "    </tr>\n",
       "    <tr>\n",
       "      <th>Bihar</th>\n",
       "      <td>11263</td>\n",
       "      <td>43</td>\n",
       "      <td>11220</td>\n",
       "    </tr>\n",
       "    <tr>\n",
       "      <th>Andhra Pradesh</th>\n",
       "      <td>10696</td>\n",
       "      <td>70</td>\n",
       "      <td>10626</td>\n",
       "    </tr>\n",
       "    <tr>\n",
       "      <th>Chhattisgarh</th>\n",
       "      <td>9751</td>\n",
       "      <td>532</td>\n",
       "      <td>9219</td>\n",
       "    </tr>\n",
       "    <tr>\n",
       "      <th>Odisha</th>\n",
       "      <td>8860</td>\n",
       "      <td>73</td>\n",
       "      <td>8787</td>\n",
       "    </tr>\n",
       "  </tbody>\n",
       "</table>\n",
       "</div>"
      ],
      "text/plain": [
       "                Total  Incest  Other\n",
       "Area_Name                           \n",
       "Madhya Pradesh  29257     865  28392\n",
       "West Bengal     16378     211  16167\n",
       "Uttar Pradesh   15053     138  14915\n",
       "Maharashtra     14505     362  14143\n",
       "Assam           12762     101  12661\n",
       "Rajasthan       11954     337  11617\n",
       "Bihar           11263      43  11220\n",
       "Andhra Pradesh  10696      70  10626\n",
       "Chhattisgarh     9751     532   9219\n",
       "Odisha           8860      73   8787"
      ]
     },
     "execution_count": 35,
     "metadata": {},
     "output_type": "execute_result"
    }
   ],
   "source": [
    "rp_top_ten = rp.loc[rp.Subgroup == 'Total Rape Victims'].groupby(\"Area_Name\").agg({\"Victims_of_Rape_Total\":\"sum\"}).sort_values(by=\"Victims_of_Rape_Total\",ascending=False).head(10)\n",
    "rp_top_ten_i = rp.loc[rp.Subgroup == 'Victims of Incest Rape'].groupby(\"Area_Name\").agg({\"Victims_of_Rape_Total\":\"sum\"})\n",
    "rp_top_ten_o = rp.loc[rp.Subgroup == 'Victims of Other Rape'].groupby(\"Area_Name\").agg({\"Victims_of_Rape_Total\":\"sum\"})\n",
    "rp_top_ten = pd.merge(rp_top_ten,rp_top_ten_i,left_index=True,right_index=True,how=\"inner\")\n",
    "rp_top_ten = pd.merge(rp_top_ten,rp_top_ten_o,left_index=True,right_index=True,how=\"inner\")\n",
    "rp_top_ten = rp_top_ten.rename(columns={\"Victims_of_Rape_Total_x\":\"Total\",\"Victims_of_Rape_Total_y\":\"Incest\",\"Victims_of_Rape_Total\":\"Other\"})\n",
    "rp_top_ten"
   ]
  },
  {
   "cell_type": "code",
   "execution_count": 36,
   "metadata": {},
   "outputs": [
    {
     "data": {
      "image/png": "[encoded data removed]",
      "text/plain": [
       "<Figure size 1008x576 with 1 Axes>"
      ]
     },
     "metadata": {
      "needs_background": "light"
     },
     "output_type": "display_data"
    }
   ],
   "source": [
    "## Set height and postions\n",
    "pos = pd.Series(range(len(md_top_ten)))\n",
    "ht = 0.4\n",
    "\n",
    "## Visualize the percentage\n",
    "\n",
    "fig4, ax4 = plt.subplots(figsize=(14,8))\n",
    "p1 = ax4.barh(pos,rp_top_ten.Incest,ht,label=\"Incest\",color=\"#8da0cb\",align=\"edge\")\n",
    "p1 = ax4.barh(pos+ht,rp_top_ten.Other,ht,label=\"Other\",color=\"#fc8d62\",align=\"edge\")\n",
    "obj4 = [p1,p2]\n",
    "\n",
    "## Add y-axis labels\n",
    "plt.yticks(pos+ht,rp_top_ten.index)\n",
    "\n",
    "## Add x-axis labels\n",
    "# plt.xticks(range(0,70001,10000),[comma_separated(v) for v in range(0,70001,10000)])\n",
    "\n",
    "## Add y-axis title\n",
    "ax4.set_ylabel(\"<-- States -->\", fontsize=14, labelpad=20)\n",
    "\n",
    "## Add x-axis title\n",
    "ax4.set_xlabel(\"<-- Number of rape victims -->\", fontsize=14, labelpad=20)\n",
    "\n",
    "## Add Title\n",
    "ax4.set_title(\"Ten States which are having the maximum number of rape victims in the ten years\", fontsize=16, y=1.05)\n",
    "\n",
    "## Add subtitle\n",
    "ax4.text(10500,10.5,\"(From 2001 to 2010)\", fontsize=14)\n",
    "\n",
    "## Add legends\n",
    "ax4.legend(bbox_to_anchor=(1,1),fontsize=14)\n",
    "\n",
    "## Add data labels\n",
    "for i, v in zip(pos,rp_top_ten.Incest):\n",
    "    ax4.text(v+20, i+0.1, str(comma_separated(v)))\n",
    "    \n",
    "for i, v in zip(pos,rp_top_ten.Other):\n",
    "    ax4.text(v+20, i+ht+0.1, str(comma_separated(v)))\n",
    "\n",
    "\n",
    "plt.show()"
   ]
  },
  {
   "cell_type": "markdown",
   "metadata": {},
   "source": [
    "##### Observaions:\n",
    "\n",
    "- Madhya Pradesh had the maximum number of rape victims in the ten years\n",
    "- Number of Incest rape is very low compared to the number of Other rape cases for all states."
   ]
  },
  {
   "cell_type": "markdown",
   "metadata": {},
   "source": [
    "### Count of Incest and other rape victims in India of different age groups\n",
    "\n",
    "##### Stacked bar chart (Horizontal)"
   ]
  },
  {
   "cell_type": "code",
   "execution_count": 37,
   "metadata": {},
   "outputs": [
    {
     "data": {
      "text/html": [
       "<div>\n",
       "<style scoped>\n",
       "    .dataframe tbody tr th:only-of-type {\n",
       "        vertical-align: middle;\n",
       "    }\n",
       "\n",
       "    .dataframe tbody tr th {\n",
       "        vertical-align: top;\n",
       "    }\n",
       "\n",
       "    .dataframe thead th {\n",
       "        text-align: right;\n",
       "    }\n",
       "</style>\n",
       "<table border=\"1\" class=\"dataframe\">\n",
       "  <thead>\n",
       "    <tr style=\"text-align: right;\">\n",
       "      <th></th>\n",
       "      <th>Victims_Upto_10_Yrs</th>\n",
       "      <th>Victims_Between_10-14_Yrs</th>\n",
       "      <th>Victims_Between_14-18_Yrs</th>\n",
       "      <th>Victims_Between_18-30_Yrs</th>\n",
       "      <th>Victims_Between_30-50_Yrs</th>\n",
       "      <th>Victims_Above_50_Yrs</th>\n",
       "    </tr>\n",
       "    <tr>\n",
       "      <th>Subgroup</th>\n",
       "      <th></th>\n",
       "      <th></th>\n",
       "      <th></th>\n",
       "      <th></th>\n",
       "      <th></th>\n",
       "      <th></th>\n",
       "    </tr>\n",
       "  </thead>\n",
       "  <tbody>\n",
       "    <tr>\n",
       "      <th>Total Rape Victims</th>\n",
       "      <td>5468</td>\n",
       "      <td>12420</td>\n",
       "      <td>27870</td>\n",
       "      <td>111792</td>\n",
       "      <td>31624</td>\n",
       "      <td>980</td>\n",
       "    </tr>\n",
       "    <tr>\n",
       "      <th>Victims of Incest Rape</th>\n",
       "      <td>239</td>\n",
       "      <td>513</td>\n",
       "      <td>1042</td>\n",
       "      <td>1882</td>\n",
       "      <td>517</td>\n",
       "      <td>26</td>\n",
       "    </tr>\n",
       "    <tr>\n",
       "      <th>Victims of Other Rape</th>\n",
       "      <td>5229</td>\n",
       "      <td>11907</td>\n",
       "      <td>26828</td>\n",
       "      <td>109910</td>\n",
       "      <td>31107</td>\n",
       "      <td>954</td>\n",
       "    </tr>\n",
       "  </tbody>\n",
       "</table>\n",
       "</div>"
      ],
      "text/plain": [
       "                        Victims_Upto_10_Yrs  Victims_Between_10-14_Yrs  \\\n",
       "Subgroup                                                                 \n",
       "Total Rape Victims                     5468                      12420   \n",
       "Victims of Incest Rape                  239                        513   \n",
       "Victims of Other Rape                  5229                      11907   \n",
       "\n",
       "                        Victims_Between_14-18_Yrs  Victims_Between_18-30_Yrs  \\\n",
       "Subgroup                                                                       \n",
       "Total Rape Victims                          27870                     111792   \n",
       "Victims of Incest Rape                       1042                       1882   \n",
       "Victims of Other Rape                       26828                     109910   \n",
       "\n",
       "                        Victims_Between_30-50_Yrs  Victims_Above_50_Yrs  \n",
       "Subgroup                                                                 \n",
       "Total Rape Victims                          31624                   980  \n",
       "Victims of Incest Rape                        517                    26  \n",
       "Victims of Other Rape                       31107                   954  "
      ]
     },
     "execution_count": 37,
     "metadata": {},
     "output_type": "execute_result"
    }
   ],
   "source": [
    "reqcols = ['Victims_Upto_10_Yrs', 'Victims_Between_10-14_Yrs','Victims_Between_14-18_Yrs', 'Victims_Between_18-30_Yrs','Victims_Between_30-50_Yrs', 'Victims_Above_50_Yrs']\n",
    "rp_age_grp = rp.groupby(\"Subgroup\").sum().loc[:,reqcols]\n",
    "rp_age_grp"
   ]
  },
  {
   "cell_type": "code",
   "execution_count": 38,
   "metadata": {},
   "outputs": [
    {
     "data": {
      "image/png": "[encoded data removed]",
      "text/plain": [
       "<Figure size 1008x432 with 1 Axes>"
      ]
     },
     "metadata": {
      "needs_background": "light"
     },
     "output_type": "display_data"
    }
   ],
   "source": [
    "## Separate the data\n",
    "rp_age_grp_i = rp_age_grp.loc[\"Victims of Incest Rape\"]\n",
    "rp_age_grp_o = rp_age_grp.loc[\"Victims of Other Rape\"]\n",
    "\n",
    "## Width and positions\n",
    "wd = 0.4\n",
    "pos = pd.Series(range(len(rp_age_grp_i)))\n",
    "\n",
    "## Visualize the percentage\n",
    "\n",
    "fig7, ax7 = plt.subplots(figsize=(14,6))\n",
    "p1 = ax7.bar(pos,rp_age_grp_i,wd,color=\"#66c2a5\",label=\"Incest\",align=\"edge\")\n",
    "p2 = ax7.bar(pos+wd,rp_age_grp_o,wd,color=\"#fc8d62\",label=\"Other\",align=\"edge\")\n",
    "obj7 = [p1, p2]\n",
    "\n",
    "\n",
    "## Add x-axis labels\n",
    "plt.xticks(pos+wd,[x.replace(\"Victims_\",\"\") for x in rp_age_grp_i.index])\n",
    "\n",
    "## Add y-axis labels\n",
    "plt.yticks(range(0,110001,20000),[comma_separated(v) for v in range(0,110001,20000)])\n",
    "\n",
    "## Add x-axis title\n",
    "ax7.set_xlabel(\"<-- Subgroups -->\", fontsize=14, labelpad=20)\n",
    "\n",
    "## Add y-axis title\n",
    "ax7.set_ylabel(\"<-- Number of rape victims -->\", fontsize=14, labelpad=20)\n",
    "\n",
    "## Add Title\n",
    "ax7.set_title(\"Count of Incest and other rape victims in India of different age groups\", fontsize=16, y=1.08)\n",
    "\n",
    "## Add subtitle\n",
    "ax7.text(2,120000,\"(From 2001 to 2010)\", fontsize=14)\n",
    "\n",
    "## Add legends\n",
    "ax7.legend(fontsize=14)\n",
    "\n",
    "## Add data labels\n",
    "for i, v in zip(pos,rp_age_grp_i):\n",
    "    ax7.text(i+0.15, v+1000, str(comma_separated(int(v))))\n",
    "\n",
    "for i, v in zip(pos,rp_age_grp_o):\n",
    "    ax7.text(i+wd+0.04, v+1000, str(comma_separated(int(v))))\n",
    "\n",
    "plt.show()"
   ]
  },
  {
   "cell_type": "markdown",
   "metadata": {},
   "source": [
    "##### Observaions:\n",
    "\n",
    "- Maximum number of rape victims belonged to the age group of 18 to 30 years.\n",
    "- Maximum number of Incest rape happend in the age group of 14 to 30 years.\n",
    "- Number of Incest rape is very low compared to the number of Other rape cases for all age groups."
   ]
  },
  {
   "cell_type": "markdown",
   "metadata": {},
   "source": [
    "### Correlation between number of murder and number of rape victims for all the states\n",
    "\n",
    "##### Scatter Plot"
   ]
  },
  {
   "cell_type": "code",
   "execution_count": 39,
   "metadata": {},
   "outputs": [
    {
     "data": {
      "text/html": [
       "<div>\n",
       "<style scoped>\n",
       "    .dataframe tbody tr th:only-of-type {\n",
       "        vertical-align: middle;\n",
       "    }\n",
       "\n",
       "    .dataframe tbody tr th {\n",
       "        vertical-align: top;\n",
       "    }\n",
       "\n",
       "    .dataframe thead th {\n",
       "        text-align: right;\n",
       "    }\n",
       "</style>\n",
       "<table border=\"1\" class=\"dataframe\">\n",
       "  <thead>\n",
       "    <tr style=\"text-align: right;\">\n",
       "      <th></th>\n",
       "      <th>Victims_Total</th>\n",
       "      <th>Victims_of_Rape_Total</th>\n",
       "    </tr>\n",
       "    <tr>\n",
       "      <th>Area_Name</th>\n",
       "      <th></th>\n",
       "      <th></th>\n",
       "    </tr>\n",
       "  </thead>\n",
       "  <tbody>\n",
       "    <tr>\n",
       "      <th>Andaman &amp; Nicobar Islands</th>\n",
       "      <td>137</td>\n",
       "      <td>84</td>\n",
       "    </tr>\n",
       "    <tr>\n",
       "      <th>Andhra Pradesh</th>\n",
       "      <td>27481</td>\n",
       "      <td>10696</td>\n",
       "    </tr>\n",
       "    <tr>\n",
       "      <th>Arunachal Pradesh</th>\n",
       "      <td>703</td>\n",
       "      <td>412</td>\n",
       "    </tr>\n",
       "    <tr>\n",
       "      <th>Assam</th>\n",
       "      <td>12761</td>\n",
       "      <td>12762</td>\n",
       "    </tr>\n",
       "    <tr>\n",
       "      <th>Bihar</th>\n",
       "      <td>34675</td>\n",
       "      <td>11263</td>\n",
       "    </tr>\n",
       "  </tbody>\n",
       "</table>\n",
       "</div>"
      ],
      "text/plain": [
       "                           Victims_Total  Victims_of_Rape_Total\n",
       "Area_Name                                                      \n",
       "Andaman & Nicobar Islands            137                     84\n",
       "Andhra Pradesh                     27481                  10696\n",
       "Arunachal Pradesh                    703                    412\n",
       "Assam                              12761                  12762\n",
       "Bihar                              34675                  11263"
      ]
     },
     "execution_count": 39,
     "metadata": {},
     "output_type": "execute_result"
    }
   ],
   "source": [
    "md_st = md.loc[md.Group_Name==\"Murder - Total Victims\"].groupby(\"Area_Name\").agg({\"Victims_Total\":\"sum\"})\n",
    "rp_st = rp.loc[rp.Subgroup==\"Total Rape Victims\"].groupby(\"Area_Name\").agg({\"Victims_of_Rape_Total\":\"sum\"})\n",
    "\n",
    "md_rp = pd.merge(md_st, rp_st, left_index=True, right_index=True, how=\"inner\")\n",
    "md_rp.head()"
   ]
  },
  {
   "cell_type": "code",
   "execution_count": 40,
   "metadata": {},
   "outputs": [
    {
     "data": {
      "image/png": "[encoded data removed]",
      "text/plain": [
       "<Figure size 1008x432 with 1 Axes>"
      ]
     },
     "metadata": {
      "needs_background": "light"
     },
     "output_type": "display_data"
    }
   ],
   "source": [
    "## Visualize the percentage\n",
    "\n",
    "fig8, ax8 = plt.subplots(figsize=(14,6))\n",
    "obj8 = ax8.scatter(md_rp.Victims_Total,md_rp.Victims_of_Rape_Total)\n",
    "\n",
    "## Add x-axis labels\n",
    "plt.xticks(range(0,60001,10000),[comma_separated(v) for v in range(0,60001,10000)])\n",
    "\n",
    "## Add y-axis labels\n",
    "plt.yticks(range(0,30001,5000),[comma_separated(v) for v in range(0,30001,5000)])\n",
    "\n",
    "## Add x-axis title\n",
    "ax8.set_xlabel(\"<-- Count of murder victims -->\", fontsize=14, labelpad=20)\n",
    "\n",
    "## Add y-axis title\n",
    "ax8.set_ylabel(\"<-- Count of rape victims -->\", fontsize=14, labelpad=20)\n",
    "\n",
    "## Add Title\n",
    "ax8.set_title(\"Correlation between number of murder and number of rape victims for different states\", fontsize=16, y=1.08)\n",
    "\n",
    "## Add subtitle\n",
    "ax8.text(22000,31500,\"(From 2001 to 2010)\", fontsize=14)\n",
    "\n",
    "plt.show()"
   ]
  },
  {
   "cell_type": "markdown",
   "metadata": {},
   "source": [
    "##### Observaions:\n",
    "\n",
    "- The number of murder victims and the number of rape victims are positively correlated to each other."
   ]
  },
  {
   "cell_type": "markdown",
   "metadata": {},
   "source": [
    "### Distribution of the areas based on number of murder victims (Male and Female) for 10 years\n",
    "\n",
    "##### Histogram"
   ]
  },
  {
   "cell_type": "code",
   "execution_count": 98,
   "metadata": {},
   "outputs": [
    {
     "data": {
      "image/png": "[encoded data removed]",
      "text/plain": [
       "<Figure size 1152x576 with 1 Axes>"
      ]
     },
     "metadata": {
      "needs_background": "light"
     },
     "output_type": "display_data"
    }
   ],
   "source": [
    "md_distr = md.groupby([\"Area_Name\",\"Group_Name\"]).agg({\"Victims_Total\":\"sum\"})\n",
    "md_distr = md_distr.reset_index()\n",
    "range_val = (md_distr.Victims_Total.min(), md_distr.Victims_Total.max()) \n",
    "\n",
    "## Visualize the data\n",
    "\n",
    "fig9, ax9 = plt.subplots(figsize=(16,8))\n",
    "obj9_p1 = ax9.hist(md_distr.loc[md_distr.Group_Name==\"Murder - Male Victims\"].Victims_Total,range=range_val, bins=20,color=\"#a1d99b\",edgecolor=\"#31a354\",label=\"Male\")\n",
    "obj9_p2 = ax9.hist(md_distr.loc[md_distr.Group_Name==\"Murder - Female Victims\"].Victims_Total, bottom=obj9_p1[0],range=range_val, bins=20,color=\"#fdbb84\",edgecolor=\"#e34a33\",label=\"Female\")\n",
    "obj9 = [obj9_p1, obj9_p2]\n",
    "\n",
    "## Add x-axis labels\n",
    "plt.xticks(obj9_p1[1],[comma_separated(int(v)) for v in obj9_p1[1]*2],rotation=90)\n",
    "\n",
    "## Add x-axis title\n",
    "ax9.set_xlabel(\"<-- Number of murder victims -->\", fontsize=14, labelpad=20)\n",
    "\n",
    "## Add y-axis title\n",
    "ax9.set_ylabel(\"<-- Count of Areas -->\", fontsize=14, labelpad=20)\n",
    "\n",
    "## Add Title\n",
    "ax9.set_title(\"Distribution of the areas based on number of murder victims (Male and Female) in 10 years\", fontsize=16, y=1.08)\n",
    "\n",
    "## Add subtitle\n",
    "ax9.text(20000,44,\"(From 2001 to 2010)\", fontsize=14)\n",
    "\n",
    "wd = obj9_p1[1][1] - obj9_p1[1][0]\n",
    "\n",
    "## Add data labels\n",
    "for i, j, k in zip(obj9_p1[1],obj9_p1[0],obj9_p2[0]):\n",
    "    ax9.text(i+wd/3, j+k+0.5, str(j+k))\n",
    "\n",
    "## Add legends\n",
    "ax9.legend(fontsize=14)\n",
    "\n",
    "plt.show()"
   ]
  },
  {
   "cell_type": "markdown",
   "metadata": {},
   "source": [
    "##### Observaions:\n",
    "\n",
    "- Maximum number of areas are having murder vicims between 8 to 5,888\n",
    "- Number of female murder victims are lying between 8 to 23,530\n",
    "- There are twoareas which are having more than 41,172 murder victims (Only male)"
   ]
  },
  {
   "cell_type": "markdown",
   "metadata": {},
   "source": [
    "### Distribution of number of rape victims for all the years\n",
    "\n",
    "\n",
    "##### Boxplot"
   ]
  },
  {
   "cell_type": "code",
   "execution_count": 119,
   "metadata": {},
   "outputs": [
    {
     "data": {
      "image/png": "[encoded data removed]",
      "text/plain": [
       "<Figure size 864x576 with 1 Axes>"
      ]
     },
     "metadata": {
      "needs_background": "light"
     },
     "output_type": "display_data"
    }
   ],
   "source": [
    "rp_tot_vict = rp.loc[rp.Subgroup==\"Total Rape Victims\"]\n",
    "\n",
    "## Unique Years\n",
    "years = rp_tot_vict.Year.unique()\n",
    "\n",
    "## Prepare data\n",
    "year_data = []\n",
    "\n",
    "for y in years:\n",
    "    year_data.append(rp_tot_vict.loc[rp_tot_vict.Year==y].Victims_of_Rape_Total)\n",
    "    \n",
    "## Visualize the data\n",
    "\n",
    "fig10, ax10 = plt.subplots(figsize=(12,8))\n",
    "obj10_p1 = ax10.boxplot(year_data)\n",
    "obj10_p2 = ax10.plot(range(1,len(years)+1),[x.mean() for x in year_data],marker=\"d\",color=\"green\",label=\"Mean\",linewidth=0)\n",
    "obj10 = [obj10_p1, obj10_p2]\n",
    "\n",
    "## Add x-axis labels\n",
    "plt.xticks(range(1,len(years)+1),years)\n",
    "\n",
    "## Add y-axis labels\n",
    "plt.yticks(range(0,3001,500),[comma_separated(v) for v in range(0,3001,500)])\n",
    "\n",
    "## Add x-axis title\n",
    "ax10.set_xlabel(\"<-- Years -->\", fontsize=14, labelpad=20)\n",
    "\n",
    "## Add y-axis title\n",
    "ax10.set_ylabel(\"<-- Dstribution of the count of murder victims -->\", fontsize=14, labelpad=20)\n",
    "\n",
    "## Add Title\n",
    "ax10.set_title(\"Distribution of number of rape victims for all the years\", fontsize=16, y=1.08)\n",
    "\n",
    "## Add subtitle\n",
    "ax10.text(4, 3400,\"(From 2001 to 2010)\", fontsize=14)\n",
    "\n",
    "\n",
    "## Add legends\n",
    "ax10.legend(fontsize=14)\n",
    "\n",
    "plt.show()"
   ]
  },
  {
   "cell_type": "code",
   "execution_count": null,
   "metadata": {},
   "outputs": [],
   "source": []
  }
 ],
 "metadata": {
  "kernelspec": {
   "display_name": "Python 3",
   "language": "python",
   "name": "python3"
  },
  "language_info": {
   "codemirror_mode": {
    "name": "ipython",
    "version": 3
   },
   "file_extension": ".py",
   "mimetype": "text/x-python",
   "name": "python",
   "nbconvert_exporter": "python",
   "pygments_lexer": "ipython3",
   "version": "3.6.4"
  }
 },
 "nbformat": 4,
 "nbformat_minor": 2
}
