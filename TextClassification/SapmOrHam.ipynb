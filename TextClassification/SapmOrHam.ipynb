{
 "cells": [
  {
   "cell_type": "code",
   "execution_count": 127,
   "metadata": {},
   "outputs": [],
   "source": [
    "import sys\n",
    "import nltk\n",
    "import sklearn\n",
    "import pandas as pd\n",
    "import numpy as np"
   ]
  },
  {
   "cell_type": "markdown",
   "metadata": {},
   "source": [
    "### 1. Load the dataset"
   ]
  },
  {
   "cell_type": "code",
   "execution_count": 387,
   "metadata": {},
   "outputs": [],
   "source": [
    "# SMSSpamCollection\n",
    "\n",
    "df = pd.read_table(\"SMSSpamCollection\", header=None, encoding=\"utf-8\")"
   ]
  },
  {
   "cell_type": "code",
   "execution_count": 388,
   "metadata": {},
   "outputs": [
    {
     "name": "stdout",
     "output_type": "stream",
     "text": [
      "<class 'pandas.core.frame.DataFrame'>\n",
      "RangeIndex: 5572 entries, 0 to 5571\n",
      "Data columns (total 2 columns):\n",
      "0    5572 non-null object\n",
      "1    5572 non-null object\n",
      "dtypes: object(2)\n",
      "memory usage: 87.2+ KB\n"
     ]
    }
   ],
   "source": [
    "df.info()"
   ]
  },
  {
   "cell_type": "code",
   "execution_count": 389,
   "metadata": {},
   "outputs": [
    {
     "data": {
      "text/html": [
       "<div>\n",
       "<style scoped>\n",
       "    .dataframe tbody tr th:only-of-type {\n",
       "        vertical-align: middle;\n",
       "    }\n",
       "\n",
       "    .dataframe tbody tr th {\n",
       "        vertical-align: top;\n",
       "    }\n",
       "\n",
       "    .dataframe thead th {\n",
       "        text-align: right;\n",
       "    }\n",
       "</style>\n",
       "<table border=\"1\" class=\"dataframe\">\n",
       "  <thead>\n",
       "    <tr style=\"text-align: right;\">\n",
       "      <th></th>\n",
       "      <th>0</th>\n",
       "      <th>1</th>\n",
       "    </tr>\n",
       "  </thead>\n",
       "  <tbody>\n",
       "    <tr>\n",
       "      <th>0</th>\n",
       "      <td>ham</td>\n",
       "      <td>Go until jurong point, crazy.. Available only ...</td>\n",
       "    </tr>\n",
       "    <tr>\n",
       "      <th>1</th>\n",
       "      <td>ham</td>\n",
       "      <td>Ok lar... Joking wif u oni...</td>\n",
       "    </tr>\n",
       "    <tr>\n",
       "      <th>2</th>\n",
       "      <td>spam</td>\n",
       "      <td>Free entry in 2 a wkly comp to win FA Cup fina...</td>\n",
       "    </tr>\n",
       "    <tr>\n",
       "      <th>3</th>\n",
       "      <td>ham</td>\n",
       "      <td>U dun say so early hor... U c already then say...</td>\n",
       "    </tr>\n",
       "    <tr>\n",
       "      <th>4</th>\n",
       "      <td>ham</td>\n",
       "      <td>Nah I don't think he goes to usf, he lives aro...</td>\n",
       "    </tr>\n",
       "  </tbody>\n",
       "</table>\n",
       "</div>"
      ],
      "text/plain": [
       "      0                                                  1\n",
       "0   ham  Go until jurong point, crazy.. Available only ...\n",
       "1   ham                      Ok lar... Joking wif u oni...\n",
       "2  spam  Free entry in 2 a wkly comp to win FA Cup fina...\n",
       "3   ham  U dun say so early hor... U c already then say...\n",
       "4   ham  Nah I don't think he goes to usf, he lives aro..."
      ]
     },
     "execution_count": 389,
     "metadata": {},
     "output_type": "execute_result"
    }
   ],
   "source": [
    "df.head()"
   ]
  },
  {
   "cell_type": "code",
   "execution_count": 390,
   "metadata": {},
   "outputs": [],
   "source": [
    "df_ham = df[df[0]==\"ham\"][:1000]\n",
    "df_spam = df[df[0]==\"spam\"]"
   ]
  },
  {
   "cell_type": "code",
   "execution_count": 391,
   "metadata": {},
   "outputs": [],
   "source": [
    "# df_ham\n",
    "df = pd.concat([df_ham, df_spam], axis=0)"
   ]
  },
  {
   "cell_type": "code",
   "execution_count": 392,
   "metadata": {},
   "outputs": [],
   "source": [
    "# df"
   ]
  },
  {
   "cell_type": "code",
   "execution_count": 393,
   "metadata": {},
   "outputs": [
    {
     "name": "stdout",
     "output_type": "stream",
     "text": [
      "ham     1000\n",
      "spam     747\n",
      "Name: 0, dtype: int64\n"
     ]
    }
   ],
   "source": [
    "## Check the class distribution\n",
    "\n",
    "classes = df[0]\n",
    "print(classes.value_counts())"
   ]
  },
  {
   "cell_type": "code",
   "execution_count": null,
   "metadata": {},
   "outputs": [],
   "source": []
  },
  {
   "cell_type": "code",
   "execution_count": null,
   "metadata": {},
   "outputs": [],
   "source": []
  },
  {
   "cell_type": "markdown",
   "metadata": {},
   "source": [
    "## 2. Pre-process the data"
   ]
  },
  {
   "cell_type": "code",
   "execution_count": 394,
   "metadata": {},
   "outputs": [
    {
     "name": "stdout",
     "output_type": "stream",
     "text": [
      "[0 0 0 0 0 0 0 0 0 0]\n",
      "0     ham\n",
      "1     ham\n",
      "3     ham\n",
      "4     ham\n",
      "6     ham\n",
      "7     ham\n",
      "10    ham\n",
      "13    ham\n",
      "14    ham\n",
      "16    ham\n",
      "Name: 0, dtype: object\n"
     ]
    }
   ],
   "source": [
    "## convert the class to  binary value, 0=spam, 1= ham\n",
    "\n",
    "from sklearn.preprocessing import LabelEncoder\n",
    "encoder = LabelEncoder()\n",
    "\n",
    "Y = encoder.fit_transform(classes)\n",
    "print(Y[:10])\n",
    "print(classes[:10])"
   ]
  },
  {
   "cell_type": "code",
   "execution_count": 395,
   "metadata": {
    "scrolled": true
   },
   "outputs": [
    {
     "data": {
      "text/plain": [
       "0     Go until jurong point, crazy.. Available only ...\n",
       "1                         Ok lar... Joking wif u oni...\n",
       "3     U dun say so early hor... U c already then say...\n",
       "4     Nah I don't think he goes to usf, he lives aro...\n",
       "6     Even my brother is not like to speak with me. ...\n",
       "7     As per your request 'Melle Melle (Oru Minnamin...\n",
       "10    I'm gonna be home soon and i don't want to tal...\n",
       "13    I've been searching for the right words to tha...\n",
       "14                  I HAVE A DATE ON SUNDAY WITH WILL!!\n",
       "16                           Oh k...i'm watching here:)\n",
       "Name: 1, dtype: object"
      ]
     },
     "execution_count": 395,
     "metadata": {},
     "output_type": "execute_result"
    }
   ],
   "source": [
    "## Store the sms message data\n",
    "\n",
    "text_messages = df[1]\n",
    "text_messages[:10]"
   ]
  },
  {
   "cell_type": "code",
   "execution_count": 396,
   "metadata": {},
   "outputs": [],
   "source": [
    "## Regular expression to switch text from message, eg: email, phone, currency, urls\n",
    "\n",
    "## email address with emailaddr\n",
    "\n",
    "processed = text_messages.str.replace(r\"^.+@[^\\.].*\\.[a-z]{2,}$\", \"emailaddr\")\n",
    "\n",
    "## replace urls with webaddrs\n",
    "\n",
    "processed = processed.str.replace(r\"^http\\://[a-zA-Z0-9\\-\\.]+\\.[a-zA-Z]{2,3}(/\\S*)?$\", \"webaddrs\")\n",
    "\n",
    "## replace currency with moneysymb \n",
    "processed = processed.str.replace(r\"$\", \"moneysymb\")\n",
    "\n",
    "## replace phone number with phonenumbr \n",
    "processed = processed.str.replace(r\"/^[0-9]\\d{2,4}-\\d{6,8}$/\", \"phonenumbr\")\n",
    "\n",
    "## replace normal numbers with numbr \n",
    "processed = processed.str.replace(r\"\\d+(\\.\\d+)?\", \"numbr\")\n",
    "\n"
   ]
  },
  {
   "cell_type": "code",
   "execution_count": 397,
   "metadata": {},
   "outputs": [],
   "source": [
    "## Remove punctuation\n",
    "processed = processed.str.replace(r\"[^\\w\\d\\s]\", \" \")\n",
    "\n",
    "## Remove spacess\n",
    "processed = processed.str.replace(r\"\\s+\", \" \")\n",
    "\n",
    "# Leadind and trailing whitespaces\n",
    "\n",
    "processed = processed.str.replace(r\"^\\s+|\\s+?$\", \"\")\n"
   ]
  },
  {
   "cell_type": "code",
   "execution_count": 398,
   "metadata": {},
   "outputs": [],
   "source": [
    "## Changing the word to lower case\n",
    "processed = processed.str.lower()"
   ]
  },
  {
   "cell_type": "code",
   "execution_count": 399,
   "metadata": {},
   "outputs": [],
   "source": [
    "## Remove Stop word \n",
    "\n",
    "# from nltk.corpus import stopwords\n",
    "# nltk.download('stopwords')\n",
    "\n",
    "# stop_words = set(stopwords.words('english'))\n",
    "\n",
    "from nltk.corpus import stopwords \n",
    "from nltk.stem.porter import PorterStemmer \n",
    "# from nltk.tokenize import word_tokenize \n",
    "\n",
    "  \n",
    "# example_sent = \"This is a sample sentence, showing off the stop words filtration.\"\n",
    "  \n",
    "stop_words = set(stopwords.words('english'))\n",
    "\n",
    "\n",
    "# stopwords"
   ]
  },
  {
   "cell_type": "code",
   "execution_count": 400,
   "metadata": {},
   "outputs": [],
   "source": [
    "tags = Y\n",
    "texts_ = processed"
   ]
  },
  {
   "cell_type": "code",
   "execution_count": 401,
   "metadata": {},
   "outputs": [
    {
     "data": {
      "text/plain": [
       "(0       go until jurong point crazy available only in ...\n",
       " 1                                 ok lar joking wif u oni\n",
       " 3             u dun say so early hor u c already then say\n",
       " 4       nah i don t think he goes to usf he lives arou...\n",
       " 6       even my brother is not like to speak with me t...\n",
       "                               ...                        \n",
       " 5537    want explicit sex in numbr secs ring numbr now...\n",
       " 5540    asked numbrmobile if numbr chatlines inclu in ...\n",
       " 5547    had your contract mobile numbr mnths latest mo...\n",
       " 5566    reminder from onumbr to get numbr pounds free ...\n",
       " 5567    this is the numbrnd time we have tried numbr c...\n",
       " Name: 1, Length: 1747, dtype: object, array([0, 0, 0, ..., 1, 1, 1]))"
      ]
     },
     "execution_count": 401,
     "metadata": {},
     "output_type": "execute_result"
    }
   ],
   "source": [
    "texts_, tags"
   ]
  },
  {
   "cell_type": "code",
   "execution_count": 402,
   "metadata": {},
   "outputs": [],
   "source": [
    "texts = []\n",
    "for x in texts_:\n",
    "    try:\n",
    "        review = re.sub('[^a-zA-Z]',  x)  \n",
    "\n",
    "        # convert all cases to lower cases \n",
    "        review = review.lower()  \n",
    "\n",
    "        # split to array(default delimiter is \" \") \n",
    "        review = review.split()  \n",
    "\n",
    "        # creating PorterStemmer object to \n",
    "        # take main stem of each word \n",
    "        ps = PorterStemmer()  \n",
    "\n",
    "        # loop for stemming each word \n",
    "        # in string array at ith row     \n",
    "        review = [ps.stem(word) for word in review \n",
    "                    if not word in set(stopwords.words('english'))]  \n",
    "\n",
    "        # rejoin all string array elements \n",
    "        # to create back into a string \n",
    "        review = ' '.join(review)\n",
    "        texts.append(review)\n",
    "    except:\n",
    "        texts.append(x)"
   ]
  },
  {
   "cell_type": "code",
   "execution_count": 403,
   "metadata": {},
   "outputs": [],
   "source": [
    "from keras.models import Sequential\n",
    "from keras.layers import Dense, Dropout, Activation\n",
    "from keras.layers import Embedding\n",
    "from keras.layers import Conv1D, GlobalMaxPooling1D\n",
    "from keras.preprocessing.text import Tokenizer\n",
    "from keras.preprocessing import sequence\n",
    "from sklearn.preprocessing import LabelEncoder\n",
    "from keras import metrics"
   ]
  },
  {
   "cell_type": "code",
   "execution_count": 404,
   "metadata": {},
   "outputs": [],
   "source": [
    "texts = [str(x) for x in texts]"
   ]
  },
  {
   "cell_type": "code",
   "execution_count": 405,
   "metadata": {},
   "outputs": [],
   "source": [
    "# texts"
   ]
  },
  {
   "cell_type": "code",
   "execution_count": 406,
   "metadata": {},
   "outputs": [],
   "source": [
    "num_max = 10\n",
    "tok = Tokenizer(num_words=num_max)\n",
    "tok.fit_on_texts(texts)"
   ]
  },
  {
   "cell_type": "code",
   "execution_count": 407,
   "metadata": {},
   "outputs": [],
   "source": [
    "from sklearn.model_selection import train_test_split\n",
    "x_train,x_test,y_train,y_test = train_test_split(texts,tags, test_size = 0.1,random_state=101)\n",
    "mat_texts_tr = tok.texts_to_matrix(x_train,mode='count')\n",
    "mat_texts_tst = tok.texts_to_matrix(x_test,mode='count')"
   ]
  },
  {
   "cell_type": "code",
   "execution_count": 408,
   "metadata": {},
   "outputs": [
    {
     "data": {
      "text/plain": [
       "(['congrats nokia numbr video camera phone is your call numbr calls cost numbrppm ave call numbrmins vary from mobiles numbr close numbr post bcmnumbr ldn wcnumbrnnumbrxx',\n",
       "  'on ma way to school can you pls send me ashley s number',\n",
       "  'money i have won wining number numbr wot do i do next'],\n",
       " array([1, 0, 1, ..., 1, 1, 0]))"
      ]
     },
     "execution_count": 408,
     "metadata": {},
     "output_type": "execute_result"
    }
   ],
   "source": [
    "x_train[:3], y_train[:]"
   ]
  },
  {
   "cell_type": "code",
   "execution_count": 409,
   "metadata": {},
   "outputs": [
    {
     "data": {
      "text/plain": [
       "array([0, 0, 0, ..., 1, 1, 1])"
      ]
     },
     "execution_count": 409,
     "metadata": {},
     "output_type": "execute_result"
    }
   ],
   "source": [
    "tags[:]"
   ]
  },
  {
   "cell_type": "code",
   "execution_count": 410,
   "metadata": {},
   "outputs": [],
   "source": [
    "# max_len = 500\n",
    "# x_train = tok.texts_to_sequences(x_train)\n",
    "# x_test = tok.texts_to_sequences(x_test)\n",
    "# cnn_texts_mat = sequence.pad_sequences(x_train,maxlen=max_len)\n",
    "# max_len = 500\n",
    "# cnn_texts_mat_tst = sequence.pad_sequences(x_test,maxlen=max_len)"
   ]
  },
  {
   "cell_type": "code",
   "execution_count": 411,
   "metadata": {},
   "outputs": [
    {
     "name": "stdout",
     "output_type": "stream",
     "text": [
      "_________________________________________________________________\n",
      "Layer (type)                 Output Shape              Param #   \n",
      "=================================================================\n",
      "dense_51 (Dense)             (None, 10)                110       \n",
      "_________________________________________________________________\n",
      "dropout_38 (Dropout)         (None, 10)                0         \n",
      "_________________________________________________________________\n",
      "dense_52 (Dense)             (None, 10)                110       \n",
      "_________________________________________________________________\n",
      "dropout_39 (Dropout)         (None, 10)                0         \n",
      "_________________________________________________________________\n",
      "dense_53 (Dense)             (None, 5)                 55        \n",
      "_________________________________________________________________\n",
      "dropout_40 (Dropout)         (None, 5)                 0         \n",
      "_________________________________________________________________\n",
      "dense_54 (Dense)             (None, 3)                 18        \n",
      "_________________________________________________________________\n",
      "dropout_41 (Dropout)         (None, 3)                 0         \n",
      "_________________________________________________________________\n",
      "dense_55 (Dense)             (None, 2)                 8         \n",
      "=================================================================\n",
      "Total params: 301\n",
      "Trainable params: 301\n",
      "Non-trainable params: 0\n",
      "_________________________________________________________________\n"
     ]
    }
   ],
   "source": [
    "model = Sequential()\n",
    "model.add(Dense(10, activation='relu', input_shape=(num_max,)))\n",
    "model.add(Dropout(0.2))\n",
    "model.add(Dense(10, activation='relu'))\n",
    "model.add(Dropout(0.3))\n",
    "model.add(Dense(5, activation='relu'))\n",
    "model.add(Dropout(0.3))\n",
    "model.add(Dense(3, activation='relu'))\n",
    "model.add(Dropout(0.2))\n",
    "model.add(Dense(2, activation='softmax'))\n",
    "model.summary()\n",
    "model.compile(loss='sparse_categorical_crossentropy',optimizer='adam',metrics=['acc',metrics.binary_accuracy])\n",
    "\n"
   ]
  },
  {
   "cell_type": "code",
   "execution_count": 437,
   "metadata": {},
   "outputs": [
    {
     "name": "stdout",
     "output_type": "stream",
     "text": [
      "Train on 1100 samples, validate on 472 samples\n",
      "Epoch 1/100\n",
      "1100/1100 [==============================] - 0s 232us/step - loss: 0.2738 - acc: 0.9000 - binary_accuracy: 0.5000 - val_loss: 0.2500 - val_acc: 0.9237 - val_binary_accuracy: 0.5000\n",
      "Epoch 2/100\n",
      "1100/1100 [==============================] - 0s 223us/step - loss: 0.2697 - acc: 0.9109 - binary_accuracy: 0.5000 - val_loss: 0.2487 - val_acc: 0.9237 - val_binary_accuracy: 0.5000\n",
      "Epoch 3/100\n",
      "1100/1100 [==============================] - 0s 221us/step - loss: 0.2799 - acc: 0.9073 - binary_accuracy: 0.5000 - val_loss: 0.2430 - val_acc: 0.9258 - val_binary_accuracy: 0.5000\n",
      "Epoch 4/100\n",
      "1100/1100 [==============================] - 0s 230us/step - loss: 0.3098 - acc: 0.8927 - binary_accuracy: 0.5000 - val_loss: 0.2415 - val_acc: 0.9237 - val_binary_accuracy: 0.5000\n",
      "Epoch 5/100\n",
      "1100/1100 [==============================] - 0s 216us/step - loss: 0.2897 - acc: 0.9027 - binary_accuracy: 0.5000 - val_loss: 0.2440 - val_acc: 0.9258 - val_binary_accuracy: 0.5000\n",
      "Epoch 6/100\n",
      "1100/1100 [==============================] - 0s 209us/step - loss: 0.2892 - acc: 0.9045 - binary_accuracy: 0.5000 - val_loss: 0.2474 - val_acc: 0.9131 - val_binary_accuracy: 0.5000\n",
      "Epoch 7/100\n",
      "1100/1100 [==============================] - 0s 217us/step - loss: 0.2669 - acc: 0.9118 - binary_accuracy: 0.5000 - val_loss: 0.2495 - val_acc: 0.9153 - val_binary_accuracy: 0.5000\n",
      "Epoch 8/100\n",
      "1100/1100 [==============================] - 0s 213us/step - loss: 0.2718 - acc: 0.9100 - binary_accuracy: 0.5000 - val_loss: 0.2529 - val_acc: 0.9131 - val_binary_accuracy: 0.5000\n",
      "Epoch 9/100\n",
      "1100/1100 [==============================] - 0s 210us/step - loss: 0.2833 - acc: 0.9145 - binary_accuracy: 0.5000 - val_loss: 0.2461 - val_acc: 0.9237 - val_binary_accuracy: 0.5000\n",
      "Epoch 10/100\n",
      "1100/1100 [==============================] - 0s 210us/step - loss: 0.2628 - acc: 0.9109 - binary_accuracy: 0.5000 - val_loss: 0.2479 - val_acc: 0.9237 - val_binary_accuracy: 0.5000\n",
      "Epoch 11/100\n",
      "1100/1100 [==============================] - 0s 208us/step - loss: 0.2710 - acc: 0.9109 - binary_accuracy: 0.5000 - val_loss: 0.2503 - val_acc: 0.9258 - val_binary_accuracy: 0.5000\n",
      "Epoch 12/100\n",
      "1100/1100 [==============================] - 0s 210us/step - loss: 0.2576 - acc: 0.9109 - binary_accuracy: 0.5000 - val_loss: 0.2458 - val_acc: 0.9280 - val_binary_accuracy: 0.5000\n",
      "Epoch 13/100\n",
      "1100/1100 [==============================] - 0s 222us/step - loss: 0.2493 - acc: 0.9164 - binary_accuracy: 0.5000 - val_loss: 0.2461 - val_acc: 0.9280 - val_binary_accuracy: 0.5000\n",
      "Epoch 14/100\n",
      "1100/1100 [==============================] - 0s 226us/step - loss: 0.2647 - acc: 0.9127 - binary_accuracy: 0.5000 - val_loss: 0.2487 - val_acc: 0.9280 - val_binary_accuracy: 0.5000\n",
      "Epoch 15/100\n",
      "1100/1100 [==============================] - 0s 222us/step - loss: 0.2736 - acc: 0.9018 - binary_accuracy: 0.5000 - val_loss: 0.2449 - val_acc: 0.9258 - val_binary_accuracy: 0.5000\n",
      "Epoch 16/100\n",
      "1100/1100 [==============================] - 0s 220us/step - loss: 0.2828 - acc: 0.9082 - binary_accuracy: 0.5000 - val_loss: 0.2433 - val_acc: 0.9258 - val_binary_accuracy: 0.5000\n",
      "Epoch 17/100\n",
      "1100/1100 [==============================] - 0s 211us/step - loss: 0.2811 - acc: 0.9000 - binary_accuracy: 0.5000 - val_loss: 0.2421 - val_acc: 0.9258 - val_binary_accuracy: 0.5000\n",
      "Epoch 18/100\n",
      "1100/1100 [==============================] - 0s 215us/step - loss: 0.2816 - acc: 0.9036 - binary_accuracy: 0.5000 - val_loss: 0.2471 - val_acc: 0.9258 - val_binary_accuracy: 0.5000\n",
      "Epoch 19/100\n",
      "1100/1100 [==============================] - 0s 213us/step - loss: 0.2721 - acc: 0.9018 - binary_accuracy: 0.5000 - val_loss: 0.2507 - val_acc: 0.9280 - val_binary_accuracy: 0.5000\n",
      "Epoch 20/100\n",
      "1100/1100 [==============================] - 0s 219us/step - loss: 0.2625 - acc: 0.9118 - binary_accuracy: 0.5000 - val_loss: 0.2496 - val_acc: 0.9258 - val_binary_accuracy: 0.5000\n",
      "Epoch 21/100\n",
      "1100/1100 [==============================] - 0s 219us/step - loss: 0.2401 - acc: 0.9236 - binary_accuracy: 0.5000 - val_loss: 0.2500 - val_acc: 0.9258 - val_binary_accuracy: 0.5000\n",
      "Epoch 22/100\n",
      "1100/1100 [==============================] - 0s 211us/step - loss: 0.2671 - acc: 0.9100 - binary_accuracy: 0.5000 - val_loss: 0.2514 - val_acc: 0.9280 - val_binary_accuracy: 0.5000\n",
      "Epoch 23/100\n",
      "1100/1100 [==============================] - 0s 208us/step - loss: 0.2683 - acc: 0.9164 - binary_accuracy: 0.5000 - val_loss: 0.2534 - val_acc: 0.9258 - val_binary_accuracy: 0.5000\n",
      "Epoch 24/100\n",
      "1100/1100 [==============================] - 0s 208us/step - loss: 0.2497 - acc: 0.9118 - binary_accuracy: 0.5000 - val_loss: 0.2593 - val_acc: 0.9237 - val_binary_accuracy: 0.5000\n",
      "Epoch 25/100\n",
      "1100/1100 [==============================] - 0s 210us/step - loss: 0.2784 - acc: 0.9118 - binary_accuracy: 0.5000 - val_loss: 0.2538 - val_acc: 0.9237 - val_binary_accuracy: 0.5000\n",
      "Epoch 26/100\n",
      "1100/1100 [==============================] - 0s 212us/step - loss: 0.2844 - acc: 0.9055 - binary_accuracy: 0.5000 - val_loss: 0.2541 - val_acc: 0.9258 - val_binary_accuracy: 0.5000\n",
      "Epoch 27/100\n",
      "1100/1100 [==============================] - 0s 230us/step - loss: 0.2461 - acc: 0.9191 - binary_accuracy: 0.5000 - val_loss: 0.2514 - val_acc: 0.9258 - val_binary_accuracy: 0.5000\n",
      "Epoch 28/100\n",
      "1100/1100 [==============================] - 0s 209us/step - loss: 0.2754 - acc: 0.9136 - binary_accuracy: 0.5000 - val_loss: 0.2508 - val_acc: 0.9237 - val_binary_accuracy: 0.5000\n",
      "Epoch 29/100\n",
      "1100/1100 [==============================] - 0s 209us/step - loss: 0.2642 - acc: 0.9118 - binary_accuracy: 0.5000 - val_loss: 0.2547 - val_acc: 0.9237 - val_binary_accuracy: 0.5000\n",
      "Epoch 30/100\n",
      "1100/1100 [==============================] - 0s 215us/step - loss: 0.2846 - acc: 0.9018 - binary_accuracy: 0.5000 - val_loss: 0.2556 - val_acc: 0.9216 - val_binary_accuracy: 0.5000\n",
      "Epoch 31/100\n",
      "1100/1100 [==============================] - 0s 207us/step - loss: 0.2617 - acc: 0.9145 - binary_accuracy: 0.5000 - val_loss: 0.2603 - val_acc: 0.9258 - val_binary_accuracy: 0.5000\n",
      "Epoch 32/100\n",
      "1100/1100 [==============================] - 0s 211us/step - loss: 0.2430 - acc: 0.9173 - binary_accuracy: 0.5000 - val_loss: 0.2571 - val_acc: 0.9280 - val_binary_accuracy: 0.5000\n",
      "Epoch 33/100\n",
      "1100/1100 [==============================] - 0s 223us/step - loss: 0.2701 - acc: 0.9155 - binary_accuracy: 0.5000 - val_loss: 0.2585 - val_acc: 0.9280 - val_binary_accuracy: 0.5000\n",
      "Epoch 34/100\n",
      "1100/1100 [==============================] - 0s 227us/step - loss: 0.2797 - acc: 0.9073 - binary_accuracy: 0.5000 - val_loss: 0.2548 - val_acc: 0.9258 - val_binary_accuracy: 0.5000\n",
      "Epoch 35/100\n",
      "1100/1100 [==============================] - 0s 209us/step - loss: 0.2494 - acc: 0.9191 - binary_accuracy: 0.5000 - val_loss: 0.2574 - val_acc: 0.9280 - val_binary_accuracy: 0.5000\n",
      "Epoch 36/100\n",
      "1100/1100 [==============================] - 0s 208us/step - loss: 0.2937 - acc: 0.9000 - binary_accuracy: 0.5000 - val_loss: 0.2612 - val_acc: 0.9280 - val_binary_accuracy: 0.5000\n",
      "Epoch 37/100\n",
      "1100/1100 [==============================] - 0s 210us/step - loss: 0.2730 - acc: 0.9109 - binary_accuracy: 0.5000 - val_loss: 0.2565 - val_acc: 0.9280 - val_binary_accuracy: 0.5000\n",
      "Epoch 38/100\n",
      "1100/1100 [==============================] - 0s 227us/step - loss: 0.2639 - acc: 0.9109 - binary_accuracy: 0.5000 - val_loss: 0.2599 - val_acc: 0.9280 - val_binary_accuracy: 0.5000\n",
      "Epoch 39/100\n",
      "1100/1100 [==============================] - 0s 219us/step - loss: 0.2611 - acc: 0.9164 - binary_accuracy: 0.5000 - val_loss: 0.2585 - val_acc: 0.9280 - val_binary_accuracy: 0.5000\n",
      "Epoch 40/100\n",
      "1100/1100 [==============================] - 0s 210us/step - loss: 0.2927 - acc: 0.9045 - binary_accuracy: 0.5000 - val_loss: 0.2506 - val_acc: 0.9280 - val_binary_accuracy: 0.5000\n",
      "Epoch 41/100\n",
      "1100/1100 [==============================] - 0s 211us/step - loss: 0.2855 - acc: 0.9055 - binary_accuracy: 0.5000 - val_loss: 0.2527 - val_acc: 0.9280 - val_binary_accuracy: 0.5000\n",
      "Epoch 42/100\n",
      "1100/1100 [==============================] - 0s 218us/step - loss: 0.2665 - acc: 0.8991 - binary_accuracy: 0.5000 - val_loss: 0.2583 - val_acc: 0.9258 - val_binary_accuracy: 0.5000\n",
      "Epoch 43/100\n",
      "1100/1100 [==============================] - 0s 211us/step - loss: 0.2691 - acc: 0.9145 - binary_accuracy: 0.5000 - val_loss: 0.2598 - val_acc: 0.9258 - val_binary_accuracy: 0.5000\n",
      "Epoch 44/100\n",
      "1100/1100 [==============================] - 0s 213us/step - loss: 0.2454 - acc: 0.9145 - binary_accuracy: 0.5000 - val_loss: 0.2600 - val_acc: 0.9280 - val_binary_accuracy: 0.5000\n",
      "Epoch 45/100\n",
      "1100/1100 [==============================] - 0s 225us/step - loss: 0.2299 - acc: 0.9255 - binary_accuracy: 0.5000 - val_loss: 0.2711 - val_acc: 0.9237 - val_binary_accuracy: 0.5000\n",
      "Epoch 46/100\n",
      "1100/1100 [==============================] - 0s 231us/step - loss: 0.2637 - acc: 0.9091 - binary_accuracy: 0.5000 - val_loss: 0.2622 - val_acc: 0.9258 - val_binary_accuracy: 0.5000\n",
      "Epoch 47/100\n",
      "1100/1100 [==============================] - 0s 210us/step - loss: 0.2720 - acc: 0.9082 - binary_accuracy: 0.5000 - val_loss: 0.2529 - val_acc: 0.9280 - val_binary_accuracy: 0.5000\n",
      "Epoch 48/100\n",
      "1100/1100 [==============================] - 0s 209us/step - loss: 0.2657 - acc: 0.9036 - binary_accuracy: 0.5000 - val_loss: 0.2537 - val_acc: 0.9280 - val_binary_accuracy: 0.5000\n",
      "Epoch 49/100\n",
      "1100/1100 [==============================] - 0s 218us/step - loss: 0.2693 - acc: 0.9018 - binary_accuracy: 0.5000 - val_loss: 0.2522 - val_acc: 0.9237 - val_binary_accuracy: 0.5000\n",
      "Epoch 50/100\n",
      "1100/1100 [==============================] - 0s 229us/step - loss: 0.2734 - acc: 0.9045 - binary_accuracy: 0.5000 - val_loss: 0.2523 - val_acc: 0.9258 - val_binary_accuracy: 0.5000\n",
      "Epoch 51/100\n",
      "1100/1100 [==============================] - 0s 220us/step - loss: 0.2782 - acc: 0.9018 - binary_accuracy: 0.5000 - val_loss: 0.2522 - val_acc: 0.9258 - val_binary_accuracy: 0.5000\n",
      "Epoch 52/100\n",
      "1100/1100 [==============================] - 0s 225us/step - loss: 0.2452 - acc: 0.9182 - binary_accuracy: 0.5000 - val_loss: 0.2526 - val_acc: 0.9237 - val_binary_accuracy: 0.5000\n",
      "Epoch 53/100\n",
      "1100/1100 [==============================] - 0s 226us/step - loss: 0.2698 - acc: 0.9127 - binary_accuracy: 0.5000 - val_loss: 0.2579 - val_acc: 0.9237 - val_binary_accuracy: 0.5000\n",
      "Epoch 54/100\n",
      "1100/1100 [==============================] - 0s 212us/step - loss: 0.2662 - acc: 0.9082 - binary_accuracy: 0.5000 - val_loss: 0.2515 - val_acc: 0.9258 - val_binary_accuracy: 0.5000\n",
      "Epoch 55/100\n",
      "1100/1100 [==============================] - 0s 225us/step - loss: 0.2558 - acc: 0.9109 - binary_accuracy: 0.5000 - val_loss: 0.2519 - val_acc: 0.9237 - val_binary_accuracy: 0.5000\n",
      "Epoch 56/100\n",
      "1100/1100 [==============================] - 0s 215us/step - loss: 0.2721 - acc: 0.9145 - binary_accuracy: 0.5000 - val_loss: 0.2472 - val_acc: 0.9237 - val_binary_accuracy: 0.5000\n",
      "Epoch 57/100\n",
      "1100/1100 [==============================] - 0s 208us/step - loss: 0.2442 - acc: 0.9209 - binary_accuracy: 0.5000 - val_loss: 0.2505 - val_acc: 0.9258 - val_binary_accuracy: 0.5000\n",
      "Epoch 58/100\n",
      "1100/1100 [==============================] - 0s 211us/step - loss: 0.2724 - acc: 0.9055 - binary_accuracy: 0.5000 - val_loss: 0.2495 - val_acc: 0.9258 - val_binary_accuracy: 0.5000\n",
      "Epoch 59/100\n",
      "1100/1100 [==============================] - 0s 208us/step - loss: 0.2507 - acc: 0.9136 - binary_accuracy: 0.5000 - val_loss: 0.2512 - val_acc: 0.9280 - val_binary_accuracy: 0.5000\n",
      "Epoch 60/100\n",
      "1100/1100 [==============================] - 0s 210us/step - loss: 0.2416 - acc: 0.9155 - binary_accuracy: 0.5000 - val_loss: 0.2511 - val_acc: 0.9280 - val_binary_accuracy: 0.5000\n",
      "Epoch 61/100\n",
      "1100/1100 [==============================] - 0s 209us/step - loss: 0.2569 - acc: 0.9136 - binary_accuracy: 0.5000 - val_loss: 0.2545 - val_acc: 0.9280 - val_binary_accuracy: 0.5000\n",
      "Epoch 62/100\n",
      "1100/1100 [==============================] - 0s 208us/step - loss: 0.2360 - acc: 0.9182 - binary_accuracy: 0.5000 - val_loss: 0.2505 - val_acc: 0.9258 - val_binary_accuracy: 0.5000\n",
      "Epoch 63/100\n",
      "1100/1100 [==============================] - 0s 221us/step - loss: 0.2468 - acc: 0.9209 - binary_accuracy: 0.5000 - val_loss: 0.2570 - val_acc: 0.9258 - val_binary_accuracy: 0.5000\n",
      "Epoch 64/100\n",
      "1100/1100 [==============================] - 0s 207us/step - loss: 0.2626 - acc: 0.9073 - binary_accuracy: 0.5000 - val_loss: 0.2534 - val_acc: 0.9258 - val_binary_accuracy: 0.5000\n",
      "Epoch 65/100\n",
      "1100/1100 [==============================] - 0s 208us/step - loss: 0.2868 - acc: 0.9109 - binary_accuracy: 0.5000 - val_loss: 0.2532 - val_acc: 0.9258 - val_binary_accuracy: 0.5000\n",
      "Epoch 66/100\n",
      "1100/1100 [==============================] - 0s 209us/step - loss: 0.2505 - acc: 0.9200 - binary_accuracy: 0.5000 - val_loss: 0.2480 - val_acc: 0.9258 - val_binary_accuracy: 0.5000\n",
      "Epoch 67/100\n",
      "1100/1100 [==============================] - 0s 209us/step - loss: 0.2529 - acc: 0.9082 - binary_accuracy: 0.5000 - val_loss: 0.2504 - val_acc: 0.9258 - val_binary_accuracy: 0.5000\n",
      "Epoch 68/100\n",
      "1100/1100 [==============================] - 0s 212us/step - loss: 0.2439 - acc: 0.9164 - binary_accuracy: 0.5000 - val_loss: 0.2523 - val_acc: 0.9258 - val_binary_accuracy: 0.5000\n",
      "Epoch 69/100\n",
      "1100/1100 [==============================] - 0s 209us/step - loss: 0.2463 - acc: 0.9091 - binary_accuracy: 0.5000 - val_loss: 0.2527 - val_acc: 0.9280 - val_binary_accuracy: 0.5000\n",
      "Epoch 70/100\n",
      "1100/1100 [==============================] - 0s 212us/step - loss: 0.2356 - acc: 0.9209 - binary_accuracy: 0.5000 - val_loss: 0.2512 - val_acc: 0.9258 - val_binary_accuracy: 0.5000\n",
      "Epoch 71/100\n",
      "1100/1100 [==============================] - 0s 212us/step - loss: 0.2508 - acc: 0.9109 - binary_accuracy: 0.5000 - val_loss: 0.2517 - val_acc: 0.9280 - val_binary_accuracy: 0.5000\n",
      "Epoch 72/100\n",
      "1100/1100 [==============================] - 0s 220us/step - loss: 0.2596 - acc: 0.9091 - binary_accuracy: 0.5000 - val_loss: 0.2503 - val_acc: 0.9280 - val_binary_accuracy: 0.5000\n",
      "Epoch 73/100\n",
      "1100/1100 [==============================] - 0s 213us/step - loss: 0.2414 - acc: 0.9109 - binary_accuracy: 0.5000 - val_loss: 0.2485 - val_acc: 0.9280 - val_binary_accuracy: 0.5000\n",
      "Epoch 74/100\n",
      "1100/1100 [==============================] - 0s 210us/step - loss: 0.2480 - acc: 0.9164 - binary_accuracy: 0.5000 - val_loss: 0.2498 - val_acc: 0.9280 - val_binary_accuracy: 0.5000\n",
      "Epoch 75/100\n",
      "1100/1100 [==============================] - 0s 215us/step - loss: 0.2499 - acc: 0.9045 - binary_accuracy: 0.5000 - val_loss: 0.2508 - val_acc: 0.9280 - val_binary_accuracy: 0.5000\n",
      "Epoch 76/100\n",
      "1100/1100 [==============================] - 0s 212us/step - loss: 0.2570 - acc: 0.9191 - binary_accuracy: 0.5000 - val_loss: 0.2503 - val_acc: 0.9280 - val_binary_accuracy: 0.5000\n",
      "Epoch 77/100\n",
      "1100/1100 [==============================] - 0s 209us/step - loss: 0.2473 - acc: 0.9100 - binary_accuracy: 0.5000 - val_loss: 0.2486 - val_acc: 0.9280 - val_binary_accuracy: 0.5000\n",
      "Epoch 78/100\n",
      "1100/1100 [==============================] - 0s 209us/step - loss: 0.2568 - acc: 0.9091 - binary_accuracy: 0.5000 - val_loss: 0.2478 - val_acc: 0.9280 - val_binary_accuracy: 0.5000\n",
      "Epoch 79/100\n",
      "1100/1100 [==============================] - 0s 208us/step - loss: 0.2471 - acc: 0.9136 - binary_accuracy: 0.5000 - val_loss: 0.2437 - val_acc: 0.9280 - val_binary_accuracy: 0.5000\n",
      "Epoch 80/100\n",
      "1100/1100 [==============================] - 0s 218us/step - loss: 0.2372 - acc: 0.9091 - binary_accuracy: 0.5000 - val_loss: 0.2464 - val_acc: 0.9280 - val_binary_accuracy: 0.5000\n",
      "Epoch 81/100\n",
      "1100/1100 [==============================] - 0s 213us/step - loss: 0.2511 - acc: 0.9091 - binary_accuracy: 0.5000 - val_loss: 0.2443 - val_acc: 0.9280 - val_binary_accuracy: 0.5000\n",
      "Epoch 82/100\n",
      "1100/1100 [==============================] - 0s 208us/step - loss: 0.2564 - acc: 0.9109 - binary_accuracy: 0.5000 - val_loss: 0.2426 - val_acc: 0.9280 - val_binary_accuracy: 0.5000\n",
      "Epoch 83/100\n",
      "1100/1100 [==============================] - 0s 209us/step - loss: 0.2336 - acc: 0.9245 - binary_accuracy: 0.5000 - val_loss: 0.2451 - val_acc: 0.9280 - val_binary_accuracy: 0.5000\n",
      "Epoch 84/100\n",
      "1100/1100 [==============================] - 0s 211us/step - loss: 0.2398 - acc: 0.9182 - binary_accuracy: 0.5000 - val_loss: 0.2507 - val_acc: 0.9258 - val_binary_accuracy: 0.5000\n",
      "Epoch 85/100\n",
      "1100/1100 [==============================] - 0s 210us/step - loss: 0.2528 - acc: 0.9091 - binary_accuracy: 0.5000 - val_loss: 0.2462 - val_acc: 0.9258 - val_binary_accuracy: 0.5000\n",
      "Epoch 86/100\n",
      "1100/1100 [==============================] - 0s 210us/step - loss: 0.2462 - acc: 0.9045 - binary_accuracy: 0.5000 - val_loss: 0.2469 - val_acc: 0.9258 - val_binary_accuracy: 0.5000\n",
      "Epoch 87/100\n",
      "1100/1100 [==============================] - 0s 208us/step - loss: 0.2441 - acc: 0.9136 - binary_accuracy: 0.5000 - val_loss: 0.2483 - val_acc: 0.9258 - val_binary_accuracy: 0.5000\n",
      "Epoch 88/100\n",
      "1100/1100 [==============================] - 0s 209us/step - loss: 0.2401 - acc: 0.9127 - binary_accuracy: 0.5000 - val_loss: 0.2507 - val_acc: 0.9280 - val_binary_accuracy: 0.5000\n",
      "Epoch 89/100\n",
      "1100/1100 [==============================] - 0s 223us/step - loss: 0.2694 - acc: 0.9127 - binary_accuracy: 0.5000 - val_loss: 0.2464 - val_acc: 0.9258 - val_binary_accuracy: 0.5000\n",
      "Epoch 90/100\n",
      "1100/1100 [==============================] - 0s 208us/step - loss: 0.2304 - acc: 0.9273 - binary_accuracy: 0.5000 - val_loss: 0.2437 - val_acc: 0.9258 - val_binary_accuracy: 0.5000\n",
      "Epoch 91/100\n",
      "1100/1100 [==============================] - 0s 209us/step - loss: 0.2390 - acc: 0.9200 - binary_accuracy: 0.5000 - val_loss: 0.2453 - val_acc: 0.9258 - val_binary_accuracy: 0.5000\n",
      "Epoch 92/100\n",
      "1100/1100 [==============================] - 0s 209us/step - loss: 0.2495 - acc: 0.9182 - binary_accuracy: 0.5000 - val_loss: 0.2462 - val_acc: 0.9258 - val_binary_accuracy: 0.5000\n",
      "Epoch 93/100\n",
      "1100/1100 [==============================] - 0s 210us/step - loss: 0.2545 - acc: 0.9255 - binary_accuracy: 0.5000 - val_loss: 0.2489 - val_acc: 0.9280 - val_binary_accuracy: 0.5000\n",
      "Epoch 94/100\n",
      "1100/1100 [==============================] - 0s 212us/step - loss: 0.2542 - acc: 0.9145 - binary_accuracy: 0.5000 - val_loss: 0.2431 - val_acc: 0.9280 - val_binary_accuracy: 0.5000\n",
      "Epoch 95/100\n",
      "1100/1100 [==============================] - 0s 207us/step - loss: 0.2648 - acc: 0.9055 - binary_accuracy: 0.5000 - val_loss: 0.2456 - val_acc: 0.9280 - val_binary_accuracy: 0.5000\n",
      "Epoch 96/100\n",
      "1100/1100 [==============================] - 0s 209us/step - loss: 0.2420 - acc: 0.9173 - binary_accuracy: 0.5000 - val_loss: 0.2462 - val_acc: 0.9280 - val_binary_accuracy: 0.5000\n",
      "Epoch 97/100\n",
      "1100/1100 [==============================] - 0s 209us/step - loss: 0.2516 - acc: 0.9200 - binary_accuracy: 0.5000 - val_loss: 0.2480 - val_acc: 0.9280 - val_binary_accuracy: 0.5000\n",
      "Epoch 98/100\n",
      "1100/1100 [==============================] - 0s 218us/step - loss: 0.2442 - acc: 0.9255 - binary_accuracy: 0.5000 - val_loss: 0.2477 - val_acc: 0.9280 - val_binary_accuracy: 0.5000\n",
      "Epoch 99/100\n",
      "1100/1100 [==============================] - 0s 209us/step - loss: 0.2348 - acc: 0.9264 - binary_accuracy: 0.5000 - val_loss: 0.2468 - val_acc: 0.9258 - val_binary_accuracy: 0.5000\n",
      "Epoch 100/100\n",
      "1100/1100 [==============================] - 0s 208us/step - loss: 0.2506 - acc: 0.9136 - binary_accuracy: 0.5000 - val_loss: 0.2446 - val_acc: 0.9258 - val_binary_accuracy: 0.5000\n"
     ]
    },
    {
     "data": {
      "text/plain": [
       "<keras.callbacks.History at 0x7f4a6c365e80>"
      ]
     },
     "execution_count": 437,
     "metadata": {},
     "output_type": "execute_result"
    }
   ],
   "source": [
    "model.fit(mat_texts_tr,y_train,batch_size=10,epochs=100,verbose=1,validation_split=0.3)"
   ]
  },
  {
   "cell_type": "code",
   "execution_count": 438,
   "metadata": {},
   "outputs": [
    {
     "name": "stdout",
     "output_type": "stream",
     "text": [
      "175/175 [==============================] - 0s 21us/step\n"
     ]
    },
    {
     "data": {
      "text/plain": [
       "[0.25716722611870085, 0.9142857146263123, 0.5]"
      ]
     },
     "execution_count": 438,
     "metadata": {},
     "output_type": "execute_result"
    }
   ],
   "source": [
    "model.evaluate(mat_texts_tst,y_test)"
   ]
  },
  {
   "cell_type": "code",
   "execution_count": 439,
   "metadata": {},
   "outputs": [],
   "source": [
    "checktext = text_messages[2]"
   ]
  },
  {
   "cell_type": "code",
   "execution_count": 440,
   "metadata": {},
   "outputs": [
    {
     "data": {
      "text/plain": [
       "0       Go until jurong point, crazy.. Available only ...\n",
       "1                           Ok lar... Joking wif u oni...\n",
       "3       U dun say so early hor... U c already then say...\n",
       "4       Nah I don't think he goes to usf, he lives aro...\n",
       "6       Even my brother is not like to speak with me. ...\n",
       "                              ...                        \n",
       "5537    Want explicit SEX in 30 secs? Ring 02073162414...\n",
       "5540    ASKED 3MOBILE IF 0870 CHATLINES INCLU IN FREE ...\n",
       "5547    Had your contract mobile 11 Mnths? Latest Moto...\n",
       "5566    REMINDER FROM O2: To get 2.50 pounds free call...\n",
       "5567    This is the 2nd time we have tried 2 contact u...\n",
       "Name: 1, Length: 1747, dtype: object"
      ]
     },
     "execution_count": 440,
     "metadata": {},
     "output_type": "execute_result"
    }
   ],
   "source": [
    "text_messages"
   ]
  },
  {
   "cell_type": "code",
   "execution_count": 445,
   "metadata": {},
   "outputs": [],
   "source": [
    "processed = pd.Series(text_messages[-5:]).str.replace(r\"^.+@[^\\.].*\\.[a-z]{2,}$\", \"emailaddr\")\n",
    "processed = processed.str.replace(r\"^http\\://[a-zA-Z0-9\\-\\.]+\\.[a-zA-Z]{2,3}(/\\S*)?$\", \"webaddrs\")\n",
    "processed = processed.str.replace(r\"$\", \"moneysymb\")\n",
    "processed = processed.str.replace(r\"/^[0-9]\\d{2,4}-\\d{6,8}$/\", \"phonenumbr\")\n",
    "processed = processed.str.replace(r\"\\d+(\\.\\d+)?\", \"numbr\")\n",
    "processed = processed.str.replace(r\"[^\\w\\d\\s]\", \" \")\n",
    "processed = processed.str.replace(r\"\\s+\", \" \")\n",
    "\n",
    "processed = processed.str.replace(r\"^\\s+|\\s+?$\", \"\")\n",
    "processed = processed.str.lower()\n",
    "\n",
    "\n",
    "texts = []\n",
    "for x in processed:\n",
    "    try:\n",
    "        review = re.sub('[^a-zA-Z]',  x)  \n",
    "        review = review.lower() \n",
    "        review = review.split()  \n",
    "        ps = PorterStemmer()\n",
    "        review = [ps.stem(word) for word in review \n",
    "                    if not word in set(stopwords.words('english'))]  \n",
    "\n",
    "        review = ' '.join(review)\n",
    "        texts.append(review)\n",
    "    except:\n",
    "        texts.append(x)\n",
    "        \n",
    "texts = [str(x) for x in texts]"
   ]
  },
  {
   "cell_type": "code",
   "execution_count": 446,
   "metadata": {},
   "outputs": [],
   "source": [
    "num_max = 10\n",
    "le = LabelEncoder()\n",
    "tok = Tokenizer(num_words=num_max)\n",
    "tok.fit_on_texts(texts)"
   ]
  },
  {
   "cell_type": "code",
   "execution_count": 451,
   "metadata": {},
   "outputs": [
    {
     "name": "stdout",
     "output_type": "stream",
     "text": [
      "5/5 [==============================] - 0s 217us/step\n",
      "Text:  want explicit sex in numbr secs ring numbr now costs numbrp min gsex pobox numbr wcnumbrn numbrxx\n",
      "Predict:  spam\n",
      "------------------\n",
      "Text:  asked numbrmobile if numbr chatlines inclu in free mins india cust servs sed yes lnumbrer got mega bill numbr dont giv a shit bailiff due in days i o numbr numbr want numbr\n",
      "Predict:  spam\n",
      "------------------\n",
      "Text:  had your contract mobile numbr mnths latest motorola nokia etc all free double mins text on orange tariffs text yes for callback no to remove from records\n",
      "Predict:  ham\n",
      "------------------\n",
      "Text:  reminder from onumbr to get numbr pounds free call credit and details of great offers pls reply numbr this text with your valid name house no and postcode\n",
      "Predict:  spam\n",
      "------------------\n",
      "Text:  this is the numbrnd time we have tried numbr contact u u have won the numbr pound prize numbr claim is easy call numbr nownumbr only numbrp per minute bt national rate\n",
      "Predict:  spam\n",
      "------------------\n"
     ]
    }
   ],
   "source": [
    "\n",
    "check_text_tr = tok.texts_to_matrix(texts,mode='count')\n",
    "\n",
    "pred = model.predict(check_text_tr, verbose=1)\n",
    "classes = [\"ham\", \"spam\"]\n",
    "all_result = []\n",
    "for i,p in enumerate(pred):\n",
    "    print(\"Text: \",texts[i])\n",
    "    print(\"Predict: \",classes[np.argmax(p)])\n",
    "    print(\"------------------\")"
   ]
  },
  {
   "cell_type": "code",
   "execution_count": 448,
   "metadata": {},
   "outputs": [],
   "source": [
    "# check_text_tr"
   ]
  },
  {
   "cell_type": "code",
   "execution_count": 435,
   "metadata": {},
   "outputs": [
    {
     "name": "stdout",
     "output_type": "stream",
     "text": [
      "5566    REMINDER FROM O2: To get 2.50 pounds free call...\n",
      "Name: 1, dtype: object\n"
     ]
    }
   ],
   "source": [
    "print(text_messages[-2:-1])"
   ]
  },
  {
   "cell_type": "code",
   "execution_count": 420,
   "metadata": {},
   "outputs": [
    {
     "data": {
      "text/plain": [
       "array([0, 0, 0, ..., 1, 1, 1])"
      ]
     },
     "execution_count": 420,
     "metadata": {},
     "output_type": "execute_result"
    }
   ],
   "source": [
    "tags"
   ]
  },
  {
   "cell_type": "code",
   "execution_count": null,
   "metadata": {},
   "outputs": [],
   "source": []
  }
 ],
 "metadata": {
  "kernelspec": {
   "display_name": "Python 3",
   "language": "python",
   "name": "python3"
  },
  "language_info": {
   "codemirror_mode": {
    "name": "ipython",
    "version": 3
   },
   "file_extension": ".py",
   "mimetype": "text/x-python",
   "name": "python",
   "nbconvert_exporter": "python",
   "pygments_lexer": "ipython3",
   "version": "3.6.7"
  }
 },
 "nbformat": 4,
 "nbformat_minor": 2
}
