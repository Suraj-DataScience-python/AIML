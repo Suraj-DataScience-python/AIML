{
 "cells": [
  {
   "cell_type": "code",
   "execution_count": 25,
   "metadata": {},
   "outputs": [],
   "source": [
    "import math"
   ]
  },
  {
   "cell_type": "markdown",
   "metadata": {},
   "source": [
    "### LUHN Text Implementation"
   ]
  },
  {
   "cell_type": "code",
   "execution_count": 4,
   "metadata": {},
   "outputs": [],
   "source": [
    "import string"
   ]
  },
  {
   "cell_type": "code",
   "execution_count": 5,
   "metadata": {},
   "outputs": [
    {
     "data": {
      "text/plain": [
       "'!\"#$%&\\'()*+,-./:;<=>?@[\\\\]^_`{|}~'"
      ]
     },
     "execution_count": 5,
     "metadata": {},
     "output_type": "execute_result"
    }
   ],
   "source": [
    "string.punctuation"
   ]
  },
  {
   "cell_type": "code",
   "execution_count": 7,
   "metadata": {},
   "outputs": [],
   "source": [
    "from nltk.corpus import stopwords \n",
    "from nltk.tokenize import word_tokenize "
   ]
  },
  {
   "cell_type": "markdown",
   "metadata": {},
   "source": [
    "### Stopwords removal , Tokenizing and occurance count"
   ]
  },
  {
   "cell_type": "code",
   "execution_count": 13,
   "metadata": {},
   "outputs": [
    {
     "name": "stdout",
     "output_type": "stream",
     "text": [
      "python is an interpreted, object-oriented, high-level programming language with dynamic semantics. its high-level built in data structures, combined with dynamic typing and dynamic binding, make it very attractive for rapid application development, as well as for use as a scripting or glue language to connect existing components together. python's simple, easy to learn syntax emphasizes readability and therefore reduces the cost of program maintenance. python supports modules and packages, which encourages program modularity and code reuse. the python interpreter and the extensive standard library are available in source or binary form without charge for all major platforms, and can be freely distributed.\n",
      "['python', 'is', 'an', 'interpreted', ',', 'object-oriented', ',', 'high-level', 'programming', 'language', 'with', 'dynamic', 'semantics', '.', 'its', 'high-level', 'built', 'in', 'data', 'structures', ',', 'combined', 'with', 'dynamic', 'typing', 'and', 'dynamic', 'binding', ',', 'make', 'it', 'very', 'attractive', 'for', 'rapid', 'application', 'development', ',', 'as', 'well', 'as', 'for', 'use', 'as', 'a', 'scripting', 'or', 'glue', 'language', 'to', 'connect', 'existing', 'components', 'together', '.', 'python', \"'s\", 'simple', ',', 'easy', 'to', 'learn', 'syntax', 'emphasizes', 'readability', 'and', 'therefore', 'reduces', 'the', 'cost', 'of', 'program', 'maintenance', '.', 'python', 'supports', 'modules', 'and', 'packages', ',', 'which', 'encourages', 'program', 'modularity', 'and', 'code', 'reuse', '.', 'the', 'python', 'interpreter', 'and', 'the', 'extensive', 'standard', 'library', 'are', 'available', 'in', 'source', 'or', 'binary', 'form', 'without', 'charge', 'for', 'all', 'major', 'platforms', ',', 'and', 'can', 'be', 'freely', 'distributed', '.']\n",
      "['python', 'interpret', 'object-ori', 'high-level', 'program', 'languag', 'dynam', 'semant', 'high-level', 'built', 'data', 'structur', 'combin', 'dynam', 'type', 'dynam', 'bind', 'make', 'attract', 'rapid', 'applic', 'develop', 'well', 'use', 'script', 'glue', 'languag', 'connect', 'exist', 'compon', 'togeth', 'python', \"'s\", 'simpl', 'easi', 'learn', 'syntax', 'emphas', 'readabl', 'therefor', 'reduc', 'cost', 'program', 'mainten', 'python', 'support', 'modul', 'packag', 'encourag', 'program', 'modular', 'code', 'reus', 'python', 'interpret', 'extens', 'standard', 'librari', 'avail', 'sourc', 'binari', 'form', 'without', 'charg', 'major', 'platform', 'freeli', 'distribut']\n",
      "python interpret object-ori high-level program languag dynam semant high-level built data structur combin dynam type dynam bind make attract rapid applic develop well use script glue languag connect exist compon togeth python 's simpl easi learn syntax emphas readabl therefor reduc cost program mainten python support modul packag encourag program modular code reus python interpret extens standard librari avail sourc binari form without charg major platform freeli distribut\n"
     ]
    }
   ],
   "source": [
    "example_sent = \"Python is an interpreted, object-oriented, high-level programming language with dynamic semantics. Its high-level built in data structures, combined with dynamic typing and dynamic binding, make it very attractive for Rapid Application Development, as well as for use as a scripting or glue language to connect existing components together. Python's simple, easy to learn syntax emphasizes readability and therefore reduces the cost of program maintenance. Python supports modules and packages, which encourages program modularity and code reuse. The Python interpreter and the extensive standard library are available in source or binary form without charge for all major platforms, and can be freely distributed.\"\n",
    "  \n",
    "example_sent = example_sent.lower()\n",
    "\n",
    "print(example_sent)\n",
    "    \n",
    "stop_words = set(stopwords.words('english'))\n",
    "\n",
    "word_tokens = word_tokenize(example_sent) \n",
    "  \n",
    "filtered_sentence = [w for w in word_tokens if not w in stop_words] \n",
    "  \n",
    "filtered_sentence = [] \n",
    "  \n",
    "for w in word_tokens: \n",
    "    if w not in stop_words:\n",
    "        if w not in string.punctuation:\n",
    "            filtered_sentence.append(ps.stem(w)) \n",
    "        \n",
    "print(word_tokens) \n",
    "print(filtered_sentence)\n",
    "\n",
    "count_wrd_sentence = {}\n",
    "for wrd in filtered_sentence:\n",
    "    count_wrd_sentence[wrd] = filtered_sentence.count(wrd)\n",
    "    \n",
    "print(\" \".join(filtered_sentence))"
   ]
  },
  {
   "cell_type": "code",
   "execution_count": 14,
   "metadata": {},
   "outputs": [],
   "source": [
    "# T"
   ]
  },
  {
   "cell_type": "code",
   "execution_count": null,
   "metadata": {},
   "outputs": [],
   "source": [
    "\n"
   ]
  },
  {
   "cell_type": "code",
   "execution_count": null,
   "metadata": {},
   "outputs": [],
   "source": []
  },
  {
   "cell_type": "code",
   "execution_count": 15,
   "metadata": {},
   "outputs": [
    {
     "data": {
      "text/plain": [
       "{'python': 4,\n",
       " 'interpret': 2,\n",
       " 'object-ori': 1,\n",
       " 'high-level': 2,\n",
       " 'program': 3,\n",
       " 'languag': 2,\n",
       " 'dynam': 3,\n",
       " 'semant': 1,\n",
       " 'built': 1,\n",
       " 'data': 1,\n",
       " 'structur': 1,\n",
       " 'combin': 1,\n",
       " 'type': 1,\n",
       " 'bind': 1,\n",
       " 'make': 1,\n",
       " 'attract': 1,\n",
       " 'rapid': 1,\n",
       " 'applic': 1,\n",
       " 'develop': 1,\n",
       " 'well': 1,\n",
       " 'use': 1,\n",
       " 'script': 1,\n",
       " 'glue': 1,\n",
       " 'connect': 1,\n",
       " 'exist': 1,\n",
       " 'compon': 1,\n",
       " 'togeth': 1,\n",
       " \"'s\": 1,\n",
       " 'simpl': 1,\n",
       " 'easi': 1,\n",
       " 'learn': 1,\n",
       " 'syntax': 1,\n",
       " 'emphas': 1,\n",
       " 'readabl': 1,\n",
       " 'therefor': 1,\n",
       " 'reduc': 1,\n",
       " 'cost': 1,\n",
       " 'mainten': 1,\n",
       " 'support': 1,\n",
       " 'modul': 1,\n",
       " 'packag': 1,\n",
       " 'encourag': 1,\n",
       " 'modular': 1,\n",
       " 'code': 1,\n",
       " 'reus': 1,\n",
       " 'extens': 1,\n",
       " 'standard': 1,\n",
       " 'librari': 1,\n",
       " 'avail': 1,\n",
       " 'sourc': 1,\n",
       " 'binari': 1,\n",
       " 'form': 1,\n",
       " 'without': 1,\n",
       " 'charg': 1,\n",
       " 'major': 1,\n",
       " 'platform': 1,\n",
       " 'freeli': 1,\n",
       " 'distribut': 1}"
      ]
     },
     "execution_count": 15,
     "metadata": {},
     "output_type": "execute_result"
    }
   ],
   "source": [
    "count_wrd_sentence"
   ]
  },
  {
   "cell_type": "markdown",
   "metadata": {},
   "source": [
    "### Sort based on occurance"
   ]
  },
  {
   "cell_type": "code",
   "execution_count": 16,
   "metadata": {},
   "outputs": [],
   "source": [
    "import operator\n",
    "sorted_count_wrd_sentence = sorted(count_wrd_sentence.items(), key=operator.itemgetter(1), reverse=True)"
   ]
  },
  {
   "cell_type": "code",
   "execution_count": 17,
   "metadata": {},
   "outputs": [
    {
     "data": {
      "text/plain": [
       "[('python', 4),\n",
       " ('program', 3),\n",
       " ('dynam', 3),\n",
       " ('interpret', 2),\n",
       " ('high-level', 2),\n",
       " ('languag', 2),\n",
       " ('object-ori', 1),\n",
       " ('semant', 1),\n",
       " ('built', 1),\n",
       " ('data', 1),\n",
       " ('structur', 1),\n",
       " ('combin', 1),\n",
       " ('type', 1),\n",
       " ('bind', 1),\n",
       " ('make', 1),\n",
       " ('attract', 1),\n",
       " ('rapid', 1),\n",
       " ('applic', 1),\n",
       " ('develop', 1),\n",
       " ('well', 1),\n",
       " ('use', 1),\n",
       " ('script', 1),\n",
       " ('glue', 1),\n",
       " ('connect', 1),\n",
       " ('exist', 1),\n",
       " ('compon', 1),\n",
       " ('togeth', 1),\n",
       " (\"'s\", 1),\n",
       " ('simpl', 1),\n",
       " ('easi', 1),\n",
       " ('learn', 1),\n",
       " ('syntax', 1),\n",
       " ('emphas', 1),\n",
       " ('readabl', 1),\n",
       " ('therefor', 1),\n",
       " ('reduc', 1),\n",
       " ('cost', 1),\n",
       " ('mainten', 1),\n",
       " ('support', 1),\n",
       " ('modul', 1),\n",
       " ('packag', 1),\n",
       " ('encourag', 1),\n",
       " ('modular', 1),\n",
       " ('code', 1),\n",
       " ('reus', 1),\n",
       " ('extens', 1),\n",
       " ('standard', 1),\n",
       " ('librari', 1),\n",
       " ('avail', 1),\n",
       " ('sourc', 1),\n",
       " ('binari', 1),\n",
       " ('form', 1),\n",
       " ('without', 1),\n",
       " ('charg', 1),\n",
       " ('major', 1),\n",
       " ('platform', 1),\n",
       " ('freeli', 1),\n",
       " ('distribut', 1)]"
      ]
     },
     "execution_count": 17,
     "metadata": {},
     "output_type": "execute_result"
    }
   ],
   "source": [
    "sorted_count_wrd_sentence"
   ]
  },
  {
   "cell_type": "code",
   "execution_count": 18,
   "metadata": {},
   "outputs": [
    {
     "data": {
      "text/plain": [
       "\"python is an interpreted, object-oriented, high-level programming language with dynamic semantics. its high-level built in data structures, combined with dynamic typing and dynamic binding, make it very attractive for rapid application development, as well as for use as a scripting or glue language to connect existing components together. python's simple, easy to learn syntax emphasizes readability and therefore reduces the cost of program maintenance. python supports modules and packages, which encourages program modularity and code reuse. the python interpreter and the extensive standard library are available in source or binary form without charge for all major platforms, and can be freely distributed.\""
      ]
     },
     "execution_count": 18,
     "metadata": {},
     "output_type": "execute_result"
    }
   ],
   "source": [
    "example_sent"
   ]
  },
  {
   "cell_type": "code",
   "execution_count": 22,
   "metadata": {},
   "outputs": [],
   "source": [
    "## Splitting the text into sentences, to calculate significance\n",
    "sent = example_sent.split(\".\") "
   ]
  },
  {
   "cell_type": "code",
   "execution_count": 23,
   "metadata": {},
   "outputs": [
    {
     "data": {
      "text/plain": [
       "['python is an interpreted, object-oriented, high-level programming language with dynamic semantics',\n",
       " ' its high-level built in data structures, combined with dynamic typing and dynamic binding, make it very attractive for rapid application development, as well as for use as a scripting or glue language to connect existing components together',\n",
       " \" python's simple, easy to learn syntax emphasizes readability and therefore reduces the cost of program maintenance\",\n",
       " ' python supports modules and packages, which encourages program modularity and code reuse',\n",
       " ' the python interpreter and the extensive standard library are available in source or binary form without charge for all major platforms, and can be freely distributed',\n",
       " '']"
      ]
     },
     "execution_count": 23,
     "metadata": {},
     "output_type": "execute_result"
    }
   ],
   "source": [
    "sent"
   ]
  },
  {
   "cell_type": "code",
   "execution_count": 32,
   "metadata": {},
   "outputs": [],
   "source": [
    "def Remove(duplicate): \n",
    "    final_list = [] \n",
    "    for num in duplicate: \n",
    "        if num not in final_list: \n",
    "            final_list.append(num) \n",
    "    return final_list"
   ]
  },
  {
   "cell_type": "markdown",
   "metadata": {},
   "source": [
    "## Calculating significance of the sentence"
   ]
  },
  {
   "cell_type": "code",
   "execution_count": 28,
   "metadata": {},
   "outputs": [
    {
     "name": "stdout",
     "output_type": "stream",
     "text": [
      "python is an interpreted, object-oriented, high-level programming language with dynamic semantics\n",
      "2.5\n",
      " its high-level built in data structures, combined with dynamic typing and dynamic binding, make it very attractive for rapid application development, as well as for use as a scripting or glue language to connect existing components together\n",
      "8.841269841269842\n",
      " python's simple, easy to learn syntax emphasizes readability and therefore reduces the cost of program maintenance\n",
      "5.333333333333333\n",
      " python supports modules and packages, which encourages program modularity and code reuse\n",
      "7.166666666666667\n",
      " the python interpreter and the extensive standard library are available in source or binary form without charge for all major platforms, and can be freely distributed\n",
      "5.6\n"
     ]
    }
   ],
   "source": [
    "final_mapping = {}\n",
    "for s in sent:\n",
    "#     s= \"Created by Guido van Rossum and first released in 1991, Python's design philosophy emphasizes code readability with its notable use of significant whitespace\"\n",
    "    if len(s) < 3:\n",
    "        continue\n",
    "    sent_sig = 0\n",
    "    sent_dis = 0\n",
    "    distance = 0\n",
    "    currnt_ind = 0\n",
    "    last_in = 0\n",
    "    temp_significance = 0\n",
    "    s_ind_list = []\n",
    "    ns_ind_list = []\n",
    "    for i, wrd in enumerate(s.split(\" \")):\n",
    "        status = False\n",
    "        for k in list(count_wrd_sentence.keys()):\n",
    "            if wrd.startswith(k):\n",
    "                if SequenceMatcher(None, wrd, k).ratio() > 0.8:\n",
    "                    sent_sig += 1\n",
    "                    temp_significance +=  count_wrd_sentence[k]\n",
    "                    status = True\n",
    "                    last_in = currnt_ind\n",
    "                    currnt_ind = i\n",
    "                    s_ind_list.append(i)\n",
    "        if not status:\n",
    "            ns_ind_list.append(i)\n",
    "            \n",
    "    print(s)\n",
    "#     print(s_ind_list)\n",
    "#     print(ns_ind_list)\n",
    "    counter = 0\n",
    "    factor = 0\n",
    "    \n",
    "    factor = math.sqrt(len(s_ind_list))/ (s_ind_list[-1] - s_ind_list[0])\n",
    "    temp_lst = []\n",
    "    for i in range(len(s_ind_list) - 1):\n",
    "        if s_ind_list[i+1] - s_ind_list[i] < 4:\n",
    "            temp_lst.append(str(s_ind_list[i]))\n",
    "            temp_lst.append(str(s_ind_list[i+1]))\n",
    "        else:\n",
    "            temp_lst.append(\"_\")\n",
    "            \n",
    "    text = ' '.join(temp_lst)\n",
    "    temp_lst = text.split(\"_\")\n",
    "    summition = 0\n",
    "    for lst in temp_lst:\n",
    "        t_lst = lst.strip().split(\" \")\n",
    "        if len(t_lst) > 1:\n",
    "            t_lst = list(map(int, t_lst))\n",
    "            t_lst_ = Remove(t_lst)\n",
    "            summition += ( (len(t_lst_) * len(t_lst_) ) / (( int(t_lst_[-1]) - int(t_lst_[0]) ) + 1) )\n",
    "    \n",
    "    print(summition)\n",
    "    final_mapping[s] = (summition, temp_significance)"
   ]
  },
  {
   "cell_type": "code",
   "execution_count": 29,
   "metadata": {},
   "outputs": [],
   "source": [
    "temp = sorted(final_mapping.items(), key=operator.itemgetter(1), reverse=True)"
   ]
  },
  {
   "cell_type": "code",
   "execution_count": 30,
   "metadata": {},
   "outputs": [
    {
     "data": {
      "text/plain": [
       "[(' its high-level built in data structures, combined with dynamic typing and dynamic binding, make it very attractive for rapid application development, as well as for use as a scripting or glue language to connect existing components together',\n",
       "  (8.841269841269842, 22)),\n",
       " (' python supports modules and packages, which encourages program modularity and code reuse',\n",
       "  (7.166666666666667, 13)),\n",
       " (' the python interpreter and the extensive standard library are available in source or binary form without charge for all major platforms, and can be freely distributed',\n",
       "  (5.6, 14)),\n",
       " (\" python's simple, easy to learn syntax emphasizes readability and therefore reduces the cost of program maintenance\",\n",
       "  (5.333333333333333, 13)),\n",
       " ('python is an interpreted, object-oriented, high-level programming language with dynamic semantics',\n",
       "  (2.5, 13))]"
      ]
     },
     "execution_count": 30,
     "metadata": {},
     "output_type": "execute_result"
    }
   ],
   "source": [
    "temp"
   ]
  },
  {
   "cell_type": "code",
   "execution_count": 31,
   "metadata": {},
   "outputs": [],
   "source": [
    "## Comparison with LuhnSummarizer package"
   ]
  },
  {
   "cell_type": "code",
   "execution_count": 588,
   "metadata": {},
   "outputs": [
    {
     "name": "stdout",
     "output_type": "stream",
     "text": [
      "its high-level built in data structures, combined with dynamic typing and dynamic binding, make it very attractive for rapid application development, as well as for use as a scripting or glue language to connect existing components together.\n",
      "the python interpreter and the extensive standard library are available in source or binary form without charge for all major platforms, and can be freely distributed.\n"
     ]
    }
   ],
   "source": [
    "file = \"SampleText.txt\"\n",
    "parser = PlaintextParser.from_file(file, Tokenizer(\"english\"))\n",
    "\n",
    "from sumy.summarizers.luhn import LuhnSummarizer\n",
    "summarizer_1 = LuhnSummarizer()\n",
    "summary_1 =summarizer_1(parser.document,2)\n",
    "for sentence in summary_1:\n",
    "    print(sentence)"
   ]
  },
  {
   "cell_type": "code",
   "execution_count": null,
   "metadata": {},
   "outputs": [],
   "source": []
  }
 ],
 "metadata": {
  "kernelspec": {
   "display_name": "Python 3",
   "language": "python",
   "name": "python3"
  },
  "language_info": {
   "codemirror_mode": {
    "name": "ipython",
    "version": 3
   },
   "file_extension": ".py",
   "mimetype": "text/x-python",
   "name": "python",
   "nbconvert_exporter": "python",
   "pygments_lexer": "ipython3",
   "version": "3.7.0"
  }
 },
 "nbformat": 4,
 "nbformat_minor": 2
}
