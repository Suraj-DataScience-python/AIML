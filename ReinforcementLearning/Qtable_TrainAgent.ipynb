{
 "cells": [
  {
   "cell_type": "markdown",
   "metadata": {},
   "source": [
    "## Reinforcement Learning -Qtable"
   ]
  },
  {
   "cell_type": "code",
   "execution_count": 19,
   "metadata": {},
   "outputs": [],
   "source": [
    "import numpy as np\n",
    "import gym\n",
    "import random\n",
    "import time\n",
    "from IPython.display import clear_output\n"
   ]
  },
  {
   "cell_type": "code",
   "execution_count": 54,
   "metadata": {},
   "outputs": [
    {
     "name": "stderr",
     "output_type": "stream",
     "text": [
      "[2019-12-11 19:21:23,455] Making new env: FrozenLake-v0\n"
     ]
    }
   ],
   "source": [
    "## initialise the environment\n",
    "env = gym.make(\"FrozenLake-v0\")"
   ]
  },
  {
   "cell_type": "code",
   "execution_count": 55,
   "metadata": {},
   "outputs": [
    {
     "name": "stdout",
     "output_type": "stream",
     "text": [
      "[[0. 0. 0. 0.]\n",
      " [0. 0. 0. 0.]\n",
      " [0. 0. 0. 0.]\n",
      " [0. 0. 0. 0.]\n",
      " [0. 0. 0. 0.]\n",
      " [0. 0. 0. 0.]\n",
      " [0. 0. 0. 0.]\n",
      " [0. 0. 0. 0.]\n",
      " [0. 0. 0. 0.]\n",
      " [0. 0. 0. 0.]\n",
      " [0. 0. 0. 0.]\n",
      " [0. 0. 0. 0.]\n",
      " [0. 0. 0. 0.]\n",
      " [0. 0. 0. 0.]\n",
      " [0. 0. 0. 0.]\n",
      " [0. 0. 0. 0.]]\n"
     ]
    }
   ],
   "source": [
    "## initialise all required variable\n",
    "\n",
    "action_space_size = env.action_space.n ## Number of action we can take i.e. Left, right, Up, Down\n",
    "state_space_size = env.observation_space.n  ## Number os different states i.e grid of size 4*4, 16 different states that an agent can change\n",
    "\n",
    "## initialize q-table (4*4 grid) to all zeros\n",
    "q_table = np.zeros((state_space_size , action_space_size))\n",
    "print(q_table)"
   ]
  },
  {
   "cell_type": "code",
   "execution_count": 56,
   "metadata": {},
   "outputs": [],
   "source": [
    "num_episode = 1000 ## Number of different attempts agent can take\n",
    "max_step_per_episode = 100 ## Number of step agent can take in one episode\n",
    "learning_rate = 0.1\n",
    "discount_rate = 0.99\n",
    "\n",
    "\n",
    "## Explain_Exploration\n",
    "exploration_rate = 1\n",
    "max_exploration_rate = 1\n",
    "min_exploration_rate = 0.01\n",
    "exploration_decay_rate = 0.001"
   ]
  },
  {
   "cell_type": "code",
   "execution_count": 62,
   "metadata": {},
   "outputs": [
    {
     "name": "stdout",
     "output_type": "stream",
     "text": [
      "[[0.46513474 0.43103342 0.44277339 0.43544142]\n",
      " [0.27819846 0.17144955 0.18826956 0.40156416]\n",
      " [0.34820023 0.28691688 0.27719863 0.3054823 ]\n",
      " [0.13138783 0.20823706 0.13773312 0.27742716]\n",
      " [0.47656083 0.29481313 0.29257991 0.23184208]\n",
      " [0.         0.         0.         0.        ]\n",
      " [0.24612189 0.16467723 0.28733029 0.10572149]\n",
      " [0.         0.         0.         0.        ]\n",
      " [0.29465744 0.328133   0.31923999 0.50410656]\n",
      " [0.31727776 0.55585588 0.36505744 0.34257252]\n",
      " [0.49224693 0.34395975 0.33675278 0.22295893]\n",
      " [0.         0.         0.         0.        ]\n",
      " [0.         0.         0.         0.        ]\n",
      " [0.21263412 0.31704263 0.63201141 0.45888577]\n",
      " [0.55960894 0.87863507 0.7083325  0.62756738]\n",
      " [0.         0.         0.         0.        ]]\n"
     ]
    }
   ],
   "source": [
    "## Learning of agent\n",
    "\n",
    "rewards_all_episode = [] ## \n",
    "for episode in range(num_episode):\n",
    "    state = env.reset()\n",
    "    done = False\n",
    "    reward_current_episode = 0\n",
    "    \n",
    "    for step in range(max_step_per_episode):\n",
    "        exploration_rate_threshold = random.uniform(0,1)\n",
    "        if exploration_rate_threshold > exploration_rate:\n",
    "            action = np.argmax(q_table[state,:])\n",
    "        else:\n",
    "            action = env.action_space.sample()\n",
    "            \n",
    "        new_state, reward, done, info = env.step(action) ## Step taken to change state\n",
    "        q_table[state,action] = q_table[state,action] * (1 - learning_rate) + learning_rate * (reward + discount_rate * np.max(q_table[new_state,:]))\n",
    "        \n",
    "        state = new_state\n",
    "        reward_current_episode += reward\n",
    "        \n",
    "        if done:\n",
    "            break\n",
    "    \n",
    "    exploration_rate = min_exploration_rate + (max_exploration_rate - min_exploration_rate) * np.exp(-exploration_decay_rate * episode)\n",
    "    rewards_all_episode.append(reward_current_episode)\n",
    "    \n",
    "print(q_table)\n",
    "    "
   ]
  },
  {
   "cell_type": "code",
   "execution_count": 63,
   "metadata": {},
   "outputs": [
    {
     "name": "stdout",
     "output_type": "stream",
     "text": [
      "  (Down)\n",
      "SFFF\n",
      "FHFH\n",
      "FFFH\n",
      "HFF\u001b[41mG\u001b[0m\n",
      "Win\n"
     ]
    }
   ],
   "source": [
    "for episode in range(3):\n",
    "    state = env.reset()\n",
    "    done = False\n",
    "    print(\"Episode\")\n",
    "    \n",
    "    time.sleep(1)\n",
    "    \n",
    "    for steps in range(max_step_per_episode):\n",
    "        clear_output(wait = True)\n",
    "        env.render()\n",
    "        time.sleep(0.3)\n",
    "        action = np.argmax(q_table[state,:])\n",
    "        new_state, reward, done, info = env.step(action)\n",
    "        \n",
    "        if done:\n",
    "            clear_output(wait = True)\n",
    "            env.render()\n",
    "            if reward == 1:\n",
    "                print(\"Win\")\n",
    "            else:\n",
    "                print(\"Lost\")\n",
    "            clear_output(wait=True)\n",
    "            break\n",
    "        state = new_state\n",
    "env.close()"
   ]
  },
  {
   "cell_type": "code",
   "execution_count": null,
   "metadata": {},
   "outputs": [],
   "source": []
  }
 ],
 "metadata": {
  "kernelspec": {
   "display_name": "Python 3",
   "language": "python",
   "name": "python3"
  },
  "language_info": {
   "codemirror_mode": {
    "name": "ipython",
    "version": 3
   },
   "file_extension": ".py",
   "mimetype": "text/x-python",
   "name": "python",
   "nbconvert_exporter": "python",
   "pygments_lexer": "ipython3",
   "version": "3.7.0"
  }
 },
 "nbformat": 4,
 "nbformat_minor": 2
}
