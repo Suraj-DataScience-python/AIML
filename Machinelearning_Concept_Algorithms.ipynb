{
 "cells": [
  {
   "cell_type": "markdown",
   "metadata": {},
   "source": [
    "## Machine Learning\n",
    "\n",
    "- Enabling a machine to learn by its own and improve\n",
    "- Finds out patterns and inferences \n",
    "- Basic step to Artificial Intelligence (AI)\n",
    "- Uses different algoriths"
   ]
  },
  {
   "cell_type": "markdown",
   "metadata": {},
   "source": [
    "### Index of Content\n",
    "\n",
    "- <a href=\"#linreg\">Linear Regression</a>\n",
    "    - <a href=\"#lrown\">Without using predefined model</a>\n",
    "    - <a href=\"#lrpredf\">Using predefined model</a>\n",
    "    - <a href=\"#lrpredfmult\">Multiple Linear Regression</a>\n",
    "- <a href=\"#savemodel\">Saving the Model</a>\n",
    "    - <a href=\"#pickle\">Using pickle</a>\n",
    "    - <a href=\"#joblib\">Using joblib</a>\n",
    "- <a href=\"#graddec\">Gradient decent</a>\n",
    "- <a href=\"#onehotenc\">One hot encoding</a>\n",
    "- <a href=\"#split\">Train-Test split</a>\n",
    "- <a href=\"#logreg\">Logistic regression</a>\n",
    "- <a href=\"#dectree\">Decision tree</a>\n",
    "- <a href=\"#svm\">SVM</a>\n",
    "- <a href=\"#randfrst\">Random Forest</a>\n",
    "- <a href=\"#kmean\">Unsupervised learning: KMEANS</a>"
   ]
  },
  {
   "cell_type": "markdown",
   "metadata": {},
   "source": [
    "## <a id=\"linreg\">Linear Regression</a>\n",
    "\n",
    "- Linear regression is a statistical approach for modelling relationship between a dependent variable with a given set of independent variables\n",
    "- Supervised Learning based Machine Learning algorithm\n",
    "- Considers a linear relationship between the independent and the dependent variable\n",
    "- Simplest form of regression\n",
    "- It uses the line equation formula : y = mx + c\n",
    "- y : The dependent variable (Output)\n",
    "- x : The independent variable (Input)\n",
    "- m : The slope of the best fit line\n",
    "- c : The intercept of the best fit line"
   ]
  },
  {
   "cell_type": "markdown",
   "metadata": {},
   "source": [
    "## <a id=\"lrown\">Using own model</a>"
   ]
  },
  {
   "cell_type": "markdown",
   "metadata": {},
   "source": [
    "### Import required packages\n",
    "\n",
    "- math, numpy (Numerical Python) : for the numerical operations\n",
    "- statistics : for statistical operations"
   ]
  },
  {
   "cell_type": "code",
   "execution_count": 5,
   "metadata": {},
   "outputs": [],
   "source": [
    "import numpy as np\n",
    "import math\n",
    "import statistics as st"
   ]
  },
  {
   "cell_type": "markdown",
   "metadata": {},
   "source": [
    "### Method for finding the slope of two variables\n",
    "\n",
    "- Takes four parameters : x, y, x_mean and y_mean\n",
    "- x : Independent variable (Array like)\n",
    "- y : Dependent variable (Array like)\n",
    "- x_mean : Average/Mean of the values in x (float or int)\n",
    "- y_mean : Average/Mean of the values in y (float or int)\n",
    "- Method will return the slope of the best fit line for x and y"
   ]
  },
  {
   "cell_type": "code",
   "execution_count": 6,
   "metadata": {},
   "outputs": [],
   "source": [
    "def get_slope(x,y,x_mean, y_mean):\n",
    "    ## Lets calculate slope : for slope we need r(PCC) , standard deviation of y and x\n",
    "        # r(PCC)  = Summation of ( (x - mean of x) * (y - mean of y)) / sq ( summation of ((x - mean of x)*2) * summation of ((y - mean of y)*2))\n",
    "    # notebook varible : \n",
    "    # x_min_xmean = (x - mean of x)\n",
    "    # y_min_ymean = (y - mean of y)\n",
    "    # summ_xxm_yym = summation of ( x_min_xmean * y_min_ymean)\n",
    "    # summ_xxm_sq = summation of ((x - mean of x)*2)\n",
    "    # summ_yym_sq = summation of ((y - mean of y)*2)\n",
    "    # r = pearson correlation coefficient \n",
    "    # st_x = standard deviation of x\n",
    "    # st_y = standard deviation of y\n",
    "    # slope = slope of line\n",
    "    \n",
    "    x_min_xmean = [(i-x_mean) for i in x]\n",
    "    y_min_ymean = [(i-y_mean) for i in y]\n",
    "    summ_xxm_yym = sum([(y_min_ymean[i] * x_min_xmean[i]) for i in range(0, len(x_min_xmean))])\n",
    "    summ_xxm_sq = sum([(i-x_mean)*(i-x_mean)  for i in x])\n",
    "    summ_yym_sq = sum([(i-y_mean)*(i-y_mean)  for i in y])\n",
    "\n",
    "    r = summ_xxm_yym / math.sqrt(summ_xxm_sq * summ_yym_sq)\n",
    "\n",
    "    st_x = st.stdev(x)\n",
    "    st_y = st.stdev(y)\n",
    "\n",
    "    slope = r * (st_y / st_x)\n",
    "    return slope"
   ]
  },
  {
   "cell_type": "markdown",
   "metadata": {},
   "source": [
    "### Method for finding the intercept\n",
    "\n",
    "- Takes three parameters : x_mean, y_mean and slope\n",
    "- x_mean : Average/Mean of the values of the dependent variable (x) (float or int)\n",
    "- y_mean : Average/Mean of the values of the independent variable (y) (float or int)\n",
    "- slope : The slope of the best fit line for x and y (float or int)\n",
    "- Method will return the intercept of the best fit line for x and y"
   ]
  },
  {
   "cell_type": "code",
   "execution_count": 7,
   "metadata": {},
   "outputs": [],
   "source": [
    "def get_y_intercept(x_mean, y_mean, slope):\n",
    "    y_intercept = y_mean - (slope * x_mean)\n",
    "    return y_intercept"
   ]
  },
  {
   "cell_type": "markdown",
   "metadata": {},
   "source": [
    "### Method for predicting the y value while x value is given as an input\n",
    "\n",
    "- Takes three parameters : slope, y_intercept and new_input\n",
    "- slope : The slope of the best fit line for x and y (float or int)\n",
    "- y_intercept : The intercept of the best fit line for x and y (float or int)\n",
    "- new_input : The x value for which the prediction is required (float or int)\n",
    "- The method returns the predicted y value"
   ]
  },
  {
   "cell_type": "code",
   "execution_count": 8,
   "metadata": {},
   "outputs": [],
   "source": [
    "def prediction(slope, y_intercept, new_input):\n",
    "    y = (slope * new_input) + y_intercept\n",
    "    return y"
   ]
  },
  {
   "cell_type": "markdown",
   "metadata": {},
   "source": [
    "### Preparing the dataset"
   ]
  },
  {
   "cell_type": "code",
   "execution_count": 9,
   "metadata": {},
   "outputs": [],
   "source": [
    "x = [0,1,2,3,4,5,6,7,8,9] ## Independent variable\n",
    "y = [1,3,2,5,7,8,8,9,10,12]  ## Dependent Variable"
   ]
  },
  {
   "cell_type": "markdown",
   "metadata": {},
   "source": [
    "### Finding the equation\n",
    "\n",
    "- Equation: y = m * x + c\n",
    "- y : Dependent variable\n",
    "- x : Indepedent variable\n",
    "- m : Slope of the best fit line\n",
    "- c : y-intercept of the best fit line\n",
    "- m and c are needed to be found for forming the equation"
   ]
  },
  {
   "cell_type": "code",
   "execution_count": 11,
   "metadata": {},
   "outputs": [
    {
     "name": "stdout",
     "output_type": "stream",
     "text": [
      "The slope is: 1.1696969696969697\n",
      "The y intercept is: 1.2363636363636363\n",
      "\n",
      "The Equation is: y = 1.1696969696969697 * x + 1.2363636363636363\n"
     ]
    }
   ],
   "source": [
    "x_mean = np.mean(x) \n",
    "y_mean = np.mean(y)\n",
    "\n",
    "b = get_slope(x,y,x_mean, y_mean)\n",
    "a = get_y_intercept(x_mean, y_mean, b)\n",
    "\n",
    "print(\"The slope is: \" + str(b))\n",
    "print(\"The y intercept is: \" + str(a))\n",
    "print(\"\\nThe Equation is: y = \" + str(b) + \" * x + \" + str(a))"
   ]
  },
  {
   "cell_type": "markdown",
   "metadata": {},
   "source": [
    "### Find the prediction for new input"
   ]
  },
  {
   "cell_type": "code",
   "execution_count": 13,
   "metadata": {},
   "outputs": [
    {
     "name": "stdout",
     "output_type": "stream",
     "text": [
      "The predicted y value for the input 10 is: 12.933333333333334\n"
     ]
    }
   ],
   "source": [
    "new_input = 10\n",
    "pred = prediction(b, a, new_input)\n",
    "print(\"The predicted y value for the input \" + str(new_input) + \" is: \" + str(pred))"
   ]
  },
  {
   "cell_type": "markdown",
   "metadata": {},
   "source": [
    "## <a id=\"lrpredf\">Using sklearn's prebuilt model</a>"
   ]
  },
  {
   "cell_type": "markdown",
   "metadata": {},
   "source": [
    "### Import required packages\n",
    "\n",
    "- numpy (Numerical Python) : for the numerical operations\n",
    "- pandas : for importing and manipulating the data\n",
    "- matplotlib.pyplot : for visualizing the data\n",
    "- sklearn : for using the prebuild machine learning models"
   ]
  },
  {
   "cell_type": "code",
   "execution_count": 15,
   "metadata": {},
   "outputs": [],
   "source": [
    "import pandas as pd\n",
    "import numpy as  np\n",
    "import matplotlib.pyplot as plt\n",
    "from sklearn import linear_model"
   ]
  },
  {
   "cell_type": "markdown",
   "metadata": {},
   "source": [
    "### Preparing the data\n",
    "\n",
    "- area : Independent variable\n",
    "- price : Dependent variable"
   ]
  },
  {
   "cell_type": "code",
   "execution_count": 16,
   "metadata": {},
   "outputs": [
    {
     "data": {
      "text/html": [
       "<div>\n",
       "<style scoped>\n",
       "    .dataframe tbody tr th:only-of-type {\n",
       "        vertical-align: middle;\n",
       "    }\n",
       "\n",
       "    .dataframe tbody tr th {\n",
       "        vertical-align: top;\n",
       "    }\n",
       "\n",
       "    .dataframe thead th {\n",
       "        text-align: right;\n",
       "    }\n",
       "</style>\n",
       "<table border=\"1\" class=\"dataframe\">\n",
       "  <thead>\n",
       "    <tr style=\"text-align: right;\">\n",
       "      <th></th>\n",
       "      <th>area</th>\n",
       "      <th>price</th>\n",
       "    </tr>\n",
       "  </thead>\n",
       "  <tbody>\n",
       "    <tr>\n",
       "      <th>0</th>\n",
       "      <td>2600</td>\n",
       "      <td>550000</td>\n",
       "    </tr>\n",
       "    <tr>\n",
       "      <th>1</th>\n",
       "      <td>3000</td>\n",
       "      <td>565000</td>\n",
       "    </tr>\n",
       "    <tr>\n",
       "      <th>2</th>\n",
       "      <td>3200</td>\n",
       "      <td>610000</td>\n",
       "    </tr>\n",
       "    <tr>\n",
       "      <th>3</th>\n",
       "      <td>3600</td>\n",
       "      <td>680000</td>\n",
       "    </tr>\n",
       "    <tr>\n",
       "      <th>4</th>\n",
       "      <td>4000</td>\n",
       "      <td>725000</td>\n",
       "    </tr>\n",
       "  </tbody>\n",
       "</table>\n",
       "</div>"
      ],
      "text/plain": [
       "   area   price\n",
       "0  2600  550000\n",
       "1  3000  565000\n",
       "2  3200  610000\n",
       "3  3600  680000\n",
       "4  4000  725000"
      ]
     },
     "execution_count": 16,
     "metadata": {},
     "output_type": "execute_result"
    }
   ],
   "source": [
    "df_json = {\n",
    "    \"area\": [2600, 3000, 3200, 3600, 4000],\n",
    "    \"price\": [550000, 565000, 610000, 680000, 725000]\n",
    "}\n",
    "\n",
    "df = pd.DataFrame(df_json)\n",
    "\n",
    "df"
   ]
  },
  {
   "cell_type": "markdown",
   "metadata": {},
   "source": [
    "### Visualizing the relation between area and price"
   ]
  },
  {
   "cell_type": "code",
   "execution_count": 18,
   "metadata": {},
   "outputs": [
    {
     "data": {
      "image/png": "[encoded data removed]",
      "text/plain": [
       "<Figure size 432x288 with 1 Axes>"
      ]
     },
     "metadata": {},
     "output_type": "display_data"
    }
   ],
   "source": [
    "plt.scatter(df[\"area\"], df[\"price\"], color=\"r\", marker=\"+\")\n",
    "plt.title(\"Correlation between area and price\", fontsize=16)\n",
    "plt.xlabel(\"area\", fontsize=14)\n",
    "plt.ylabel(\"price\", fontsize=14)\n",
    "plt.show()"
   ]
  },
  {
   "cell_type": "markdown",
   "metadata": {},
   "source": [
    "**Note:** From the above visualization following inferences can be drawn -\n",
    " \n",
    "- price and area is having a positive correlation\n",
    "- The relation between area and price is Linear"
   ]
  },
  {
   "cell_type": "markdown",
   "metadata": {},
   "source": [
    "### Build the linear regression model\n",
    "\n",
    "- Using sklearn's prebuilt model : **linear_model.LinearRegression()**"
   ]
  },
  {
   "cell_type": "code",
   "execution_count": 20,
   "metadata": {},
   "outputs": [],
   "source": [
    "model =  linear_model.LinearRegression()"
   ]
  },
  {
   "cell_type": "markdown",
   "metadata": {},
   "source": [
    "### Train the linear regression model with the training data set\n",
    "\n",
    "- Using .fit() method of the model\n",
    "- Passing two parameters:\n",
    "    - 1. The independent variables (numpy array or sparse matrix of shape [n_samples,n_features])\n",
    "    - 2. The dependent variable or target data (numpy array of shape [n_samples, n_targets])    "
   ]
  },
  {
   "cell_type": "code",
   "execution_count": 23,
   "metadata": {},
   "outputs": [
    {
     "data": {
      "text/plain": [
       "LinearRegression(copy_X=True, fit_intercept=True, n_jobs=1, normalize=False)"
      ]
     },
     "execution_count": 23,
     "metadata": {},
     "output_type": "execute_result"
    }
   ],
   "source": [
    "model.fit(df.loc[:,[\"area\"]], df.loc[:,\"price\"])"
   ]
  },
  {
   "cell_type": "markdown",
   "metadata": {},
   "source": [
    "### Make prediction based for a new input data\n",
    "\n",
    "- Using .predict() method of the model\n",
    "- Parameter is x values as input\n",
    "- It will return predicted y values for the input x values\n",
    "- Shape of the input should be same as the shape of the independent variable for training"
   ]
  },
  {
   "cell_type": "code",
   "execution_count": 27,
   "metadata": {},
   "outputs": [
    {
     "data": {
      "text/plain": [
       "array([587979.45205479])"
      ]
     },
     "execution_count": 27,
     "metadata": {},
     "output_type": "execute_result"
    }
   ],
   "source": [
    "model.predict([[3000]])"
   ]
  },
  {
   "cell_type": "markdown",
   "metadata": {},
   "source": [
    "### Check the coefficient values\n",
    "\n",
    "- Using .coef_ we can get the array of coeeficients of all independent variable in the best fit equation"
   ]
  },
  {
   "cell_type": "code",
   "execution_count": 16,
   "metadata": {},
   "outputs": [
    {
     "data": {
      "text/plain": [
       "array([135.78767123])"
      ]
     },
     "execution_count": 16,
     "metadata": {},
     "output_type": "execute_result"
    }
   ],
   "source": [
    "model.coef_"
   ]
  },
  {
   "cell_type": "markdown",
   "metadata": {},
   "source": [
    "### Check the coefficient values\n",
    "\n",
    "- Using .intercept_ we can get the y-intercept in the best fit equation"
   ]
  },
  {
   "cell_type": "code",
   "execution_count": 28,
   "metadata": {},
   "outputs": [
    {
     "data": {
      "text/plain": [
       "180616.43835616432"
      ]
     },
     "execution_count": 28,
     "metadata": {},
     "output_type": "execute_result"
    }
   ],
   "source": [
    "model.intercept_"
   ]
  },
  {
   "cell_type": "markdown",
   "metadata": {},
   "source": [
    "### Evaluating the accuracy score of the model\n",
    "\n",
    "- Using the .score() method of the model\n",
    "- Parameters will be the independent and the dependent variables\n",
    "- It will return the training accuracy score of the model"
   ]
  },
  {
   "cell_type": "code",
   "execution_count": 18,
   "metadata": {},
   "outputs": [
    {
     "data": {
      "text/plain": [
       "0.9584301138199486"
      ]
     },
     "execution_count": 18,
     "metadata": {},
     "output_type": "execute_result"
    }
   ],
   "source": [
    "model.score(df[[\"area\"]], df[\"price\"])"
   ]
  },
  {
   "cell_type": "markdown",
   "metadata": {},
   "source": [
    "### Creating inputs for prediction"
   ]
  },
  {
   "cell_type": "code",
   "execution_count": 19,
   "metadata": {},
   "outputs": [],
   "source": [
    "df_check = {\n",
    "    \"price\": [1000, 1500,2300, 3500,4100,4200,4800]\n",
    "}\n",
    "df_check = pd.DataFrame(df_check)"
   ]
  },
  {
   "cell_type": "markdown",
   "metadata": {},
   "source": [
    "### Predicting the dependent variable for the created input"
   ]
  },
  {
   "cell_type": "code",
   "execution_count": 20,
   "metadata": {},
   "outputs": [
    {
     "data": {
      "text/plain": [
       "array([316404.10958904, 384297.94520548, 492928.08219178, 655873.28767123,\n",
       "       737345.89041096, 750924.65753425, 832397.26027397])"
      ]
     },
     "execution_count": 20,
     "metadata": {},
     "output_type": "execute_result"
    }
   ],
   "source": [
    "model.predict(df_check)"
   ]
  },
  {
   "cell_type": "markdown",
   "metadata": {},
   "source": [
    "### Viaualizing the distribution of the predicted values around the best fit line"
   ]
  },
  {
   "cell_type": "code",
   "execution_count": 29,
   "metadata": {},
   "outputs": [
    {
     "data": {
      "image/png": "[encoded data removed]",
      "text/plain": [
       "<Figure size 432x288 with 1 Axes>"
      ]
     },
     "metadata": {},
     "output_type": "display_data"
    }
   ],
   "source": [
    "plt.scatter(df[\"area\"], df[\"price\"], color=\"r\", marker=\"+\")\n",
    "plt.plot(df[\"area\"], model.predict(df[[\"area\"]]))\n",
    "plt.xlabel(\"area\")\n",
    "plt.ylabel(\"price\")\n",
    "plt.show()"
   ]
  },
  {
   "cell_type": "markdown",
   "metadata": {},
   "source": [
    "## <a id=\"lrpredfmult\">Multiple linear regression</a>\n",
    "\n",
    "- Linear regression with more than one independent variables\n",
    "- The equation used is : y = m1 * x1 + m2 * x2 + .... + mn * xn + c"
   ]
  },
  {
   "cell_type": "markdown",
   "metadata": {},
   "source": [
    "### Preparing the data\n",
    "\n",
    "- Columns : size, age, bedroom, price\n",
    "- size : Size of the flat (in squarefeet)\n",
    "- age : Based on the time the flat was built\n",
    "- bedroom : Number of bedrooms\n",
    "- price : price of the flat"
   ]
  },
  {
   "cell_type": "code",
   "execution_count": 30,
   "metadata": {},
   "outputs": [
    {
     "data": {
      "text/html": [
       "<div>\n",
       "<style scoped>\n",
       "    .dataframe tbody tr th:only-of-type {\n",
       "        vertical-align: middle;\n",
       "    }\n",
       "\n",
       "    .dataframe tbody tr th {\n",
       "        vertical-align: top;\n",
       "    }\n",
       "\n",
       "    .dataframe thead th {\n",
       "        text-align: right;\n",
       "    }\n",
       "</style>\n",
       "<table border=\"1\" class=\"dataframe\">\n",
       "  <thead>\n",
       "    <tr style=\"text-align: right;\">\n",
       "      <th></th>\n",
       "      <th>size</th>\n",
       "      <th>age</th>\n",
       "      <th>bedroom</th>\n",
       "      <th>price</th>\n",
       "    </tr>\n",
       "  </thead>\n",
       "  <tbody>\n",
       "    <tr>\n",
       "      <th>0</th>\n",
       "      <td>100</td>\n",
       "      <td>4</td>\n",
       "      <td>2</td>\n",
       "      <td>50000</td>\n",
       "    </tr>\n",
       "    <tr>\n",
       "      <th>1</th>\n",
       "      <td>255</td>\n",
       "      <td>10</td>\n",
       "      <td>6</td>\n",
       "      <td>90000</td>\n",
       "    </tr>\n",
       "    <tr>\n",
       "      <th>2</th>\n",
       "      <td>90</td>\n",
       "      <td>2</td>\n",
       "      <td>2</td>\n",
       "      <td>49000</td>\n",
       "    </tr>\n",
       "    <tr>\n",
       "      <th>3</th>\n",
       "      <td>154</td>\n",
       "      <td>6</td>\n",
       "      <td>3</td>\n",
       "      <td>72000</td>\n",
       "    </tr>\n",
       "    <tr>\n",
       "      <th>4</th>\n",
       "      <td>172</td>\n",
       "      <td>1</td>\n",
       "      <td>3</td>\n",
       "      <td>78000</td>\n",
       "    </tr>\n",
       "  </tbody>\n",
       "</table>\n",
       "</div>"
      ],
      "text/plain": [
       "   size  age  bedroom  price\n",
       "0   100    4        2  50000\n",
       "1   255   10        6  90000\n",
       "2    90    2        2  49000\n",
       "3   154    6        3  72000\n",
       "4   172    1        3  78000"
      ]
     },
     "execution_count": 30,
     "metadata": {},
     "output_type": "execute_result"
    }
   ],
   "source": [
    "df = {\n",
    "    \"size\":[100,255,90,154,172],\n",
    "    \"age\":[4,10,2,6,1],\n",
    "    \"bedroom\":[2,6,2,3,3],\n",
    "    \"price\": [50000,90000,49000,72000,78000]\n",
    "}\n",
    "df = pd.DataFrame(df)\n",
    "\n",
    "df"
   ]
  },
  {
   "cell_type": "markdown",
   "metadata": {},
   "source": [
    "### Creating the model\n",
    "\n",
    "- Using linear_model.LinearRegression() model from sklearn\n",
    "- Named it as model"
   ]
  },
  {
   "cell_type": "code",
   "execution_count": null,
   "metadata": {},
   "outputs": [],
   "source": [
    "model = linear_model.LinearRegression()"
   ]
  },
  {
   "cell_type": "markdown",
   "metadata": {},
   "source": [
    "### Training the model\n",
    "\n",
    "- Passing two parameters : independent variables (X) and dependent variable (y) \n",
    "- X : size, age, bedroom\n",
    "- y : price\n",
    "- Consideration : price is dependent on the size, age and number of bedrooms of the flat\n",
    "- Using .fit() method of the model"
   ]
  },
  {
   "cell_type": "code",
   "execution_count": 31,
   "metadata": {},
   "outputs": [
    {
     "data": {
      "text/plain": [
       "LinearRegression(copy_X=True, fit_intercept=True, n_jobs=1, normalize=False)"
      ]
     },
     "execution_count": 31,
     "metadata": {},
     "output_type": "execute_result"
    }
   ],
   "source": [
    "model.fit(df[[\"size\",\"age\",\"bedroom\"]], df[\"price\"])"
   ]
  },
  {
   "cell_type": "markdown",
   "metadata": {},
   "source": [
    "### Making predictions for a new x value\n",
    "\n",
    "- Input will be size, age and the number of bedrooms\n",
    "- Output will be the price of the flat"
   ]
  },
  {
   "cell_type": "code",
   "execution_count": 25,
   "metadata": {},
   "outputs": [
    {
     "data": {
      "text/plain": [
       "array([121647.08917921,  47590.61749239])"
      ]
     },
     "execution_count": 25,
     "metadata": {},
     "output_type": "execute_result"
    }
   ],
   "source": [
    "model.predict([[255,10,3],[70,1,1]])"
   ]
  },
  {
   "cell_type": "markdown",
   "metadata": {},
   "source": [
    "## <a id=\"savemodel\">Saving the model</a>\n",
    "\n",
    "- 1. As pickle file\n",
    "- 2. As joblib"
   ]
  },
  {
   "cell_type": "markdown",
   "metadata": {},
   "source": [
    "##### <a id=\"pickle\">1. pickle</a>"
   ]
  },
  {
   "cell_type": "markdown",
   "metadata": {},
   "source": [
    "#### Save the model as pickle file"
   ]
  },
  {
   "cell_type": "code",
   "execution_count": 32,
   "metadata": {},
   "outputs": [],
   "source": [
    "import pickle\n",
    "\n",
    "with open(\"log_pickle\", \"wb\") as f:\n",
    "    pickle.dump(model,f)"
   ]
  },
  {
   "cell_type": "markdown",
   "metadata": {},
   "source": [
    "#### Opening the saved model (pickle) for reuse"
   ]
  },
  {
   "cell_type": "code",
   "execution_count": 27,
   "metadata": {},
   "outputs": [],
   "source": [
    "with open(\"log_pickle\", \"rb\") as f:\n",
    "    mp = pickle.load(f)"
   ]
  },
  {
   "cell_type": "markdown",
   "metadata": {},
   "source": [
    "#### Use the model"
   ]
  },
  {
   "cell_type": "code",
   "execution_count": 28,
   "metadata": {},
   "outputs": [
    {
     "data": {
      "text/plain": [
       "array([121647.08917921,  47590.61749239])"
      ]
     },
     "execution_count": 28,
     "metadata": {},
     "output_type": "execute_result"
    }
   ],
   "source": [
    "mp.predict([[255,10,3],[70,1,1]])"
   ]
  },
  {
   "cell_type": "markdown",
   "metadata": {},
   "source": [
    "##### <a id=\"joblib\">2. joblib</a>"
   ]
  },
  {
   "cell_type": "markdown",
   "metadata": {},
   "source": [
    "#### Save the model as joblib"
   ]
  },
  {
   "cell_type": "code",
   "execution_count": 34,
   "metadata": {},
   "outputs": [
    {
     "data": {
      "text/plain": [
       "['log_joblib']"
      ]
     },
     "execution_count": 34,
     "metadata": {},
     "output_type": "execute_result"
    }
   ],
   "source": [
    "from sklearn.externals import joblib\n",
    "\n",
    "joblib.dump(model,\"log_joblib\")"
   ]
  },
  {
   "cell_type": "markdown",
   "metadata": {},
   "source": [
    "#### Loading the joblib"
   ]
  },
  {
   "cell_type": "code",
   "execution_count": 35,
   "metadata": {},
   "outputs": [],
   "source": [
    "mj = joblib.load(\"log_joblib\")"
   ]
  },
  {
   "cell_type": "markdown",
   "metadata": {},
   "source": [
    "#### Using the model"
   ]
  },
  {
   "cell_type": "code",
   "execution_count": 36,
   "metadata": {},
   "outputs": [
    {
     "data": {
      "text/plain": [
       "array([121647.08917921,  47590.61749239])"
      ]
     },
     "execution_count": 36,
     "metadata": {},
     "output_type": "execute_result"
    }
   ],
   "source": [
    "mj.predict([[255,10,3],[70,1,1]])"
   ]
  },
  {
   "cell_type": "markdown",
   "metadata": {},
   "source": [
    "## <a id=\"graddec\">Gradient descent method</a>\n",
    "\n",
    "- Optimization algorithm used for minimization of some functions\n",
    "- In machine learning it is used for updating the parameter values\n",
    "- Here let us consider linear regression equation y = m * x + b\n",
    "- Gradient decent can be used for finding the best values of m and b where cost will be optimised\n",
    "- The method takes two parameters : y and x which are dependent and independent variables respectively"
   ]
  },
  {
   "cell_type": "code",
   "execution_count": 37,
   "metadata": {},
   "outputs": [],
   "source": [
    "def gradient_decent(x,y):\n",
    "    ## assume a value for mcurr and bcurr\n",
    "    mcurr = bcurr = 0\n",
    "    ## No of iteration you want\n",
    "    iteration = 1000000\n",
    "    ## Learning rate\n",
    "    l_rate = 0.08\n",
    "    n = len(x)\n",
    "    cost = 0\n",
    "    \n",
    "    for i in range(iteration):\n",
    "        y_predicted = mcurr* x + bcurr\n",
    "#         cost\n",
    "        prev_cost = cost\n",
    "        cost = (1/n) * sum([val**2 for val in (y - y_predicted)])\n",
    "        if (math.isclose(cost, prev_cost, rel_tol=1e-09)):\n",
    "            break\n",
    "        \n",
    "        plt.plot(x, y_predicted, color=\"r\")\n",
    "        plt.scatter(x,y,c=\"b\")\n",
    "        ## derivative wrt m\n",
    "        dm = -(2/n) * sum(x* (y-y_predicted))\n",
    "        db = -(2/n) * sum(y-y_predicted)\n",
    "        \n",
    "        ## we try to fin derivatives to update the mcurr and bcurr, mcurr = mcurr - learningRate * d/dm\n",
    "        \n",
    "        mcurr = mcurr - l_rate * dm\n",
    "        bcurr = bcurr - l_rate * db\n",
    "        print(\" cost={},m={}, b={}, iter={}\".format(cost,mcurr, bcurr, i))\n",
    "        \n",
    "#         print(y_predicted)"
   ]
  },
  {
   "cell_type": "markdown",
   "metadata": {},
   "source": [
    "## Using the gradient decent method for some data\n",
    "\n",
    "- Creating dummy x and y data"
   ]
  },
  {
   "cell_type": "code",
   "execution_count": 39,
   "metadata": {},
   "outputs": [
    {
     "name": "stdout",
     "output_type": "stream",
     "text": [
      " cost=89.0,m=4.96, b=1.44, iter=0\n",
      " cost=71.10560000000002,m=0.4991999999999983, b=0.26879999999999993, iter=1\n",
      " cost=56.8297702400001,m=4.451584000000002, b=1.426176000000001, iter=2\n",
      " cost=45.43965675929613,m=0.892231679999997, b=0.5012275199999995, iter=3\n",
      " cost=36.35088701894832,m=4.041314713600002, b=1.432759910400001, iter=4\n",
      " cost=29.097483330142282,m=1.2008760606719973, b=0.7036872622079998, iter=5\n",
      " cost=23.307872849944438,m=3.7095643080294423, b=1.4546767911321612, iter=6\n",
      " cost=18.685758762535738,m=1.4424862661541864, b=0.881337636696883, iter=7\n",
      " cost=14.994867596913156,m=3.4406683721083144, b=1.4879302070713722, iter=8\n",
      " cost=12.046787238456794,m=1.6308855378034224, b=1.0383405553279617, iter=9\n",
      " cost=9.691269350698109,m=3.2221235247119777, b=1.5293810083298451, iter=10\n",
      " cost=7.8084968312098315,m=1.7770832372205707, b=1.1780607551353204, iter=11\n",
      " cost=6.302918117062937,m=3.0439475772474127, b=1.5765710804477953, iter=12\n",
      " cost=5.098330841763168,m=1.8898457226770244, b=1.3032248704973899, iter=13\n",
      " cost=4.133961682056365,m=2.898169312926714, b=1.6275829443328358, iter=14\n",
      " cost=3.361340532576948,m=1.9761515088959358, b=1.4160484030347593, iter=15\n",
      " cost=2.741808050753047,m=2.7784216197824048, b=1.6809279342791488, iter=16\n",
      " cost=2.244528230107478,m=2.0415541605113807, b=1.5183370872989306, iter=17\n",
      " cost=1.8449036666988363,m=2.6796170361078637, b=1.735457156285639, iter=18\n",
      " cost=1.5233119201782324,m=2.090471617540917, b=1.611567833948162, iter=19\n",
      " cost=1.2640979056612756,m=2.5976890103737853, b=1.790290604096816, iter=20\n",
      " cost=1.0547704368105268,m=2.1264168621494517, b=1.6969533824619085, iter=21\n",
      " cost=0.8853615531285763,m=2.529385561184701, b=1.8447607474362664, iter=22\n",
      " cost=0.7479156468369821,m=2.1521818147302194, b=1.7754939584778073, iter=23\n",
      " cost=0.6360820885229722,m=2.472104720735685, b=1.8983676540508527, iter=24\n",
      " cost=0.5447903801652151,m=2.1699839382964696, b=1.8480185634495874, iter=25\n",
      " cost=0.4699911136477278,m=2.423763296438881, b=1.950743302915348, iter=26\n",
      " cost=0.4084494012702221,m=2.1815831093070837, b=1.9152179921582295, iter=27\n",
      " cost=0.35758014655339476,m=2.3826922006906663, b=2.0016232209455125, iter=28\n",
      " cost=0.31531667795040486,m=2.1883747814212473, b=1.9776712492627107, iter=29\n",
      " cost=0.280005985849834,m=2.3475529664737507, b=2.0508239542984783, iter=30\n",
      " cost=0.2503251729489924,m=2.19146424741668, b=2.0358666977033213, iter=31\n",
      " cost=0.2252148202231392,m=2.317271157065729, b=2.0982251873107836, iter=32\n",
      " cost=0.2038258415569305,m=2.19172583072087, b=2.0902190019495084, iter=33\n",
      " cost=0.1854770944836773,m=2.2909832477163747, b=2.1437555628915694, iter=34\n",
      " cost=0.16962156815305135,m=2.1898500615476015, b=2.1410827139250586, iter=35\n",
      " cost=0.15581941113049289,m=2.2679942505397945, b=2.1873814501542004, iter=36\n",
      " cost=0.14371641365577967,m=2.1863812735157397, b=2.188763177870427, iter=37\n",
      " cost=0.13302683968149862,m=2.247743906750233, b=2.2290980581236037, iter=38\n",
      " cost=0.1235197278285518,m=2.181747562970493, b=2.2335252935837153, iter=39\n",
      " cost=0.11500795886067308,m=2.2297797112222417, b=2.268922416384484, iter=40\n",
      " cost=0.1073395295828815,m=2.176284659606544, b=2.2756005683762908, iter=41\n",
      " cost=0.10039058653754176,m=2.213735385878407, b=2.306887840824943, iter=42\n",
      " cost=0.09405986334903649,m=2.170254943136438, b=2.315192801071317, iter=43\n",
      " cost=0.08826423771269985,m=2.1993136987020745, b=2.3430395801944157, iter=44\n",
      " cost=0.08293518155053264,m=2.1638625904931037, b=2.3524826719863134, iter=45\n",
      " cost=0.07801592372722821,m=2.1862727486718105, b=2.3774314010318136, iter=46\n",
      " cost=0.07345918129710392,m=2.1572656385141533, b=2.3876314575042543, iter=47\n",
      " cost=0.06922534441882239,m=2.1744150151272015, b=2.4101229178167802, iter=48\n",
      " cost=0.06528102333197575,m=2.150585587951272, b=2.4207840437050385, iter=49\n",
      " cost=0.06159788433500965,m=2.1635786121786147, b=2.441177514495622, iter=50\n",
      " cost=0.05815171649232756,m=2.1439150477863547, b=2.4520713783305874, iter=51\n",
      " cost=0.054921682590988646,m=2.153630302083688, b=2.470660734860243, iter=52\n",
      " cost=0.05188971727120564,m=2.137323817683481, b=2.4816124722824338, iter=53\n",
      " cost=0.04904004275389065,m=2.1444599118649865, b=2.4986390442291735, iter=54\n",
      " cost=0.04635877856867898,m=2.1308637257526066, b=2.509516039457312, iter=55\n",
      " cost=0.04383362645496491,m=2.1359758694885094, b=2.525178884782891, iter=56\n",
      " cost=0.04145361541183607,m=2.124572474492945, b=2.535881845863144, iter=57\n",
      " cost=0.03920889490609494,m=2.128101633371053, b=2.5503459627684273, iter=58\n",
      " cost=0.03709056666678448,m=2.118476696509155, b=2.5608018247073736, iter=59\n",
      " cost=0.03509054742420437,m=2.120772834793503, b=2.5742047184297996, iter=60\n",
      " cost=0.03320145649050715,m=2.112594380710634, b=2.5843610027801502, iter=61\n",
      " cost=0.03141652330669783,m=2.1139349893254455, b=2.5968179395942217, iter=62\n",
      " cost=0.0297295110602709,m=2.1069367971074353, b=2.606638274382932, iter=63\n",
      " cost=0.0281346532591438,m=2.1075416624945413, b=2.618246487870094, iter=64\n",
      " cost=0.02662660077102551,m=2.1015100223265035, b=2.6277070518134993, iter=65\n",
      " cost=0.025200377334927134,m=2.101552998161378, b=2.6385491128066176, iter=66\n",
      " cost=0.023851341948628327,m=2.096316147250177, b=2.6476358156400974, iter=67\n",
      " cost=0.022575156852933542,m=2.095934536582619, b=2.657782334457597, iter=68\n",
      " cost=0.021367760086655644,m=2.0913542316575633, b=2.6664885833847243, iter=69\n",
      " cost=0.020225341788425083,m=2.090656263915584, b=2.676000378847538, iter=70\n",
      " cost=0.019144323582910155,m=2.0866210575773376, b=2.6843253115524512, iter=71\n",
      " cost=0.018121340518098442,m=2.0856918466960472, b=2.693255154066937, iter=72\n",
      " cost=0.017153225123473996,m=2.082111722558874, b=2.7012022430021245, iter=73\n",
      " cost=0.01623699324146153,m=2.0810180142142363, b=2.709596257293525, iter=74\n",
      " cost=0.015369831350564987,m=2.077820105696288, b=2.717172209303728, iter=75\n",
      " cost=0.014549085151541019,m=2.0766140592050317, b=2.7250710050809133, iter=76\n",
      " cost=0.013772249230347736,m=2.0737392325653374, b=2.732284895849552, iter=77\n",
      " cost=0.013036957645638886,m=2.0724614332425584, b=2.7397244808822614, iter=78\n",
      " cost=0.012340975315898037,m=2.0698615599121704, b=2.7465870759846718, iter=79\n",
      " cost=0.011682190103287127,m=2.0685434179941087, b=2.7535995950692826, iter=80\n",
      " cost=0.011058605508984853,m=2.066179196691222, b=2.760122819221025, iter=81\n",
      " cost=0.010468333909073289,m=2.064844857288579, b=2.7667371537338745, iter=82\n",
      " cost=0.009909590271584152,m=2.0626840746684203, b=2.7729336776379365, iter=83\n",
      " cost=0.009380686304666458,m=2.061351937985791, b=2.7791759333750248, iter=84\n",
      " cost=0.00888002499345325,m=2.0593680791107873, b=2.785058853801841, iter=85\n",
      " cost=0.00840609548939642,m=2.0580520100509183, b=2.7909527592203687, iter=86\n",
      " cost=0.007957468320912865,m=2.056223147935525, b=2.7965353529206687, iter=87\n",
      " cost=0.007532790898352296,m=2.05493343816708, b=2.8021025854443096, iter=88\n",
      " cost=0.007130783289727114,m=2.0532413459797505, b=2.8073981214530215, iter=89\n",
      " cost=0.0067502342464980354,m=2.0519854787579397, b=2.812658575950258, iter=90\n",
      " cost=0.006389997461079277,m=2.050414919687842, b=2.8176801739944057, iter=91\n",
      " cost=0.006048988039717134,m=2.0491981775199255, b=2.8226521847051367, iter=92\n",
      " cost=0.005726179176078216,m=2.047736336426391, b=2.8274127099427506, iter=93\n",
      " cost=0.005420599012302664,m=2.0465622835434223, b=2.8321132348672426, iter=94\n",
      " cost=0.005131327675503935,m=2.045198311770722, b=2.836625221187641, iter=95\n",
      " cost=0.0048574944787420265,m=2.0440691768841837, b=2.8410699961476715, iter=96\n",
      " cost=0.004598275276411798,m=2.042793827417138, b=2.845345591859636, iter=97\n",
      " cost=0.004352889964781892,m=2.0417108070703494, b=2.8495492600018677, iter=98\n",
      " cost=0.004120600119124239,m=2.0405161418256377, b=2.8536001910078013, iter=99\n",
      " cost=0.003900706759494166,m=2.0394796405287705, b=2.8575764123702467, iter=100\n",
      " cost=0.0036925482377773012,m=2.038358795260416, b=2.8614139589371974, iter=101\n",
      " cost=0.003495498239118547,m=2.0373686153122295, b=2.8651755037822464, iter=102\n",
      " cost=0.003308963891300129,m=2.0363156105472275, b=2.8688104878272167, iter=103\n",
      " cost=0.0031323839760444175,m=2.0353711018270433, b=2.872369316712193, iter=104\n",
      " cost=0.0029652272365934215,m=2.0343806905895945, b=2.875812097161261, iter=105\n",
      " cost=0.0028069907762599973,m=2.033480868514503, b=2.879179430132454, iter=106\n",
      " cost=0.0026571985429625707,m=2.0325484134654004, b=2.8824399044243, iter=107\n",
      " cost=0.00251539989504975,m=2.0316920516426316, b=2.88562628125302, iter=108\n",
      " cost=0.0023811682439901036,m=2.030813425750151, b=2.8887138914640733, iter=109\n",
      " cost=0.0022540997697606665,m=2.0299991285271304, b=2.8917292244697492, iter=110\n",
      " cost=0.00213381220499766,m=2.029170634573901, b=2.8946529668615666, iter=111\n",
      " cost=0.002019943684199672,m=2.0283968936302834, b=2.8975065875682433, iter=112\n",
      " cost=0.001912151654475956,m=2.027615198808228, b=2.9002750246147886, iter=113\n",
      " cost=0.0018101118445290139,m=2.026880437090648, b=2.902975725248473, iter=114\n",
      " cost=0.0017135172887419179,m=2.026142519691841, b=2.905596999405206, iter=115\n",
      " cost=0.0016220774034122563,m=2.0254451253197017, b=2.90815307004829, iter=116\n"
     ]
    },
    {
     "name": "stdout",
     "output_type": "stream",
     "text": [
      " cost=0.0015355171123361485,m=2.0247482311338474, b=2.9106349186871068, iter=117\n",
      " cost=0.0014535760190984004,m=2.0240865833684647, b=2.913054180752923, iter=118\n",
      " cost=0.0013760076235662848,m=2.023428189878564, b=2.9154039518155925, iter=119\n",
      " cost=0.0013025785802224434,m=2.022800678820807, b=2.917693788383387, iter=120\n",
      " cost=0.0012330679960976523,m=2.022178465672161, b=2.9199184564080576, iter=121\n",
      " cost=0.0011672667661862604,m=2.02158350701329, b=2.9220858398601313, iter=122\n",
      " cost=0.0011049769443404755,m=2.0209953315370366, b=2.924192022116131, iter=123\n",
      " cost=0.0010460111477470864,m=2.0204313774161093, b=2.9262435394397723, iter=124\n",
      " cost=0.0009901919931925812,m=2.0198752542326663, b=2.928237511969676, iter=125\n",
      " cost=0.0009373515634185398,m=2.0193408010377287, b=2.930179388022848, iter=126\n",
      " cost=0.0008873309019597829,m=2.018814884960359, b=2.9320671014410826, iter=127\n",
      " cost=0.0008399795349445472,m=2.0183084787384074, b=2.933905220429537, iter=128\n",
      " cost=0.000795155018416705,m=2.0178110503526328, b=2.9356923153663756, iter=129\n",
      " cost=0.0007527225098176352,m=2.0173312903561387, b=2.9374322407384916, iter=130\n",
      " cost=0.0007125543623376009,m=2.0168607437748585, b=2.939124062849386, iter=131\n",
      " cost=0.0006745297409158596,m=2.0164062845634025, b=2.9407710557815525, iter=132\n",
      " cost=0.0006385342587342182,m=2.015961116956669, b=2.942372670266071, iter=133\n",
      " cost=0.0006044596331094956,m=2.0155306693852175, b=2.9439317068842983, iter=134\n",
      " cost=0.0005722033597499278,m=2.015109471962772, b=2.9454479124779063, iter=135\n",
      " cost=0.0005416684043953411,m=2.0147018033188986, b=2.946923699939311, iter=136\n",
      " cost=0.0005127629109130704,m=2.0143032535067675, b=2.94835904235595, iter=137\n",
      " cost=0.00048539992497145367,m=2.013917187004001, b=2.9497560338957496, iter=138\n",
      " cost=0.00045949713245950556,m=2.0135400416069995, b=2.951114818710509, iter=139\n",
      " cost=0.00043497661186591466,m=2.013174455397636, b=2.952437227745468, iter=140\n",
      " cost=0.0004117645998722782,m=2.012817544579972, b=2.953723532715328, iter=141\n",
      " cost=0.0003897912694551873,m=2.012471370415864, b=2.954975346082489, iter=142\n",
      " cost=0.00036899051983001863,m=2.012133592364349, b=2.956193032909676, iter=143\n",
      " cost=0.00034929977760413925,m=2.01180581400645, b=2.9573780233092406, iter=144\n",
      " cost=0.0003306598085413326,m=2.0114861301666624, b=2.958530748856666, iter=145\n",
      " cost=0.0003130145393714564,m=2.011175781622137, b=2.9596524865596017, iter=146\n",
      " cost=0.00029631088910899323,m=2.010873212418567, b=2.9607437135314396, iter=147\n",
      " cost=0.0002804986093730967,m=2.0105793760667985, b=2.961805577405497, iter=148\n",
      " cost=0.0002655301332288879,m=2.010292997034594, b=2.9628385845085545, iter=149\n",
      " cost=0.00025136043209503223,m=2.0100148016896022, b=2.9638437724105806, iter=150\n",
      " cost=0.000237946880287589,m=2.009743739958824, b=2.9648216640138787, iter=151\n",
      " cost=0.00022524912679201806,m=2.009480358904632, b=2.9657732025914227, iter=152\n",
      " cost=0.00021322897387812892,m=2.0092237899885963, b=2.966698917902572, iter=153\n",
      " cost=0.00020185026219257416,m=2.0089744390154327, b=2.967599671843634, iter=154\n",
      " cost=0.00019107876198324561,m=2.0087315838633266, b=2.9684759936212446, iter=155\n",
      " cost=0.00018088207012829515,m=2.008495519325675, b=2.969328674387449, iter=156\n",
      " cost=0.00017122951266022304,m=2.008265641606512, b=2.9701582372091333, iter=157\n",
      " cost=0.00016209205249158605,m=2.0080421585186667, b=2.970965411284546, iter=158\n",
      " cost=0.00015344220206472406,m=2.0078245621092314, b=2.971750709390059, iter=159\n",
      " cost=0.00014525394066305212,m=2.007612992289756, b=2.9725148060752185, iter=160\n",
      " cost=0.0001375026361347149,m=2.0074070189436806, b=2.9732582008041004, iter=161\n",
      " cost=0.00013016497079350537,m=2.0072067292168345, b=2.9739815195824777, iter=162\n",
      " cost=0.00012321887127396302,m=2.0070117563956162, b=2.9746852464252007, iter=163\n",
      " cost=0.00011664344212964908,m=2.006822146855235, b=2.975369963927273, iter=164\n",
      " cost=0.00011041890297488132,m=2.0066375857049303, b=2.9760361392083965, iter=165\n",
      " cost=0.00010452652898087014,m=2.006458088044223, b=2.9766843157966867, iter=166\n",
      " cost=9.894859454714616e-05,m=2.0062833815039807, b=2.9773149430079897, iter=167\n",
      " cost=9.366831997891688e-05,m=2.00611345741314, b=2.9779285290048008, iter=168\n",
      " cost=8.866982100993075e-05,m=2.0059480784437094, b=2.9785255048057255, iter=169\n",
      " cost=8.393806101900992e-05,m=2.005787218076033, b=2.979106346383829, iter=170\n",
      " cost=7.945880579646961e-05,m=2.0056306679979774, b=2.9796714662859207, iter=171\n",
      " cost=7.521858072434086e-05,m=2.0054783885042955, b=2.980221311041144, iter=172\n",
      " cost=7.120463024173995e-05,m=2.0053301954369864, b=2.9807562747924994, iter=173\n",
      " cost=6.740487947313205e-05,m=2.0051860395674908, b=2.981276777015946, iter=174\n",
      " cost=6.380789790444601e-05,m=2.005045756961053, b=2.9817831937009993, iter=175\n",
      " cost=6.04028649974506e-05,m=2.0049092917331204, b=2.982275919367534, iter=176\n",
      " cost=5.7179537639138785e-05,m=2.004776496986412, b=2.9827553122368307, iter=177\n",
      " cost=5.412821932807328e-05,m=2.004647312416648, b=2.98322174372546, iter=178\n",
      " cost=5.123973100514835e-05,m=2.004521605575127, b=2.983675554769395, iter=179\n",
      " cost=4.850538344087913e-05,m=2.004399313473594, b=2.984117095330231, iter=180\n",
      " cost=4.591695109622822e-05,m=2.004280316001558, b=2.984546689610069, iter=181\n",
      " cost=4.346664737829208e-05,m=2.0041645488259827, b=2.98496466759171, iter=182\n",
      " cost=4.1147101216484756e-05,m=2.0040519024482326, b=2.9853713373405646, iter=183\n",
      " cost=3.8951334888676245e-05,m=2.003942312215872, b=2.9857670101909224, iter=184\n",
      " cost=3.687274303061114e-05,m=2.003835677824294, b=2.986151978696756, iter=185\n",
      " cost=3.49050727654685e-05,m=2.0037319350790934, b=2.9865265367496137, iter=186\n",
      " cost=3.3042404893804384e-05,m=2.0036309917000747, b=2.9868909620317106, iter=187\n",
      " cost=3.1279136087237673e-05,m=2.003532784532722, b=2.987245532090601, iter=188\n",
      " cost=2.9609962032382946e-05,m=2.0034372283516424, b=2.9875905103803984, iter=189\n",
      " cost=2.8029861474238542e-05,m=2.0033442614701604, b=2.987926159110746, iter=190\n",
      " cost=2.653408111113801e-05,m=2.00325380490952, b=2.9882527281473497, iter=191\n",
      " cost=2.5118121295733493e-05,m=2.003165798758037, b=2.988570465287204, iter=192\n",
      " cost=2.3777722499018603e-05,m=2.003080169606034, b=2.9888796074373936, iter=193\n",
      " cost=2.2508852496720994e-05,m=2.0029968595294654, b=2.9891803888365143, iter=194\n",
      " cost=2.1307694239433456e-05,m=2.0029158001160794, b=2.9894730340485287, iter=195\n",
      " cost=2.017063437007042e-05,m=2.0028369355684856, b=2.989757764545046, iter=196\n",
      " cost=1.9094252354059613e-05,m=2.0027602019863293, b=2.9900347931449653, iter=197\n",
      " cost=1.8075310189633598e-05,m=2.0026855457808064, b=2.9903043292883327, iter=198\n",
      " cost=1.711074266712627e-05,m=2.0026129071481873, b=2.990566574627412, iter=199\n",
      " cost=1.619764814815573e-05,m=2.00254223474622, b=2.9908217272558963, iter=200\n",
      " cost=1.5333279836861332e-05,m=2.002473472510043, b=2.9910699782167676, iter=201\n",
      " cost=1.4515037516866418e-05,m=2.002406571348319, b=2.991311514897264, iter=202\n",
      " cost=1.3740459729269397e-05,m=2.002341478624591, b=2.991546518266509, iter=203\n",
      " cost=1.3007216368008118e-05,m=2.0022781474773867, b=2.991775165604064, iter=204\n",
      " cost=1.231310167038171e-05,m=2.002216528427235, b=2.991997628318268, iter=205\n",
      " cost=1.1656027581579527e-05,m=2.0021565768025327, b=2.9922140741422725, iter=206\n",
      " cost=1.1034017473383649e-05,m=2.0020982460417844, b=2.992424665414293, iter=207\n",
      " cost=1.0445200197997724e-05,m=2.0020414936093833, b=2.99262956084795, iter=208\n",
      " cost=9.887804459202346e-06,m=2.0019862756498528, b=2.992828914179774, iter=209\n",
      " cost=9.360153483909046e-06,m=2.00193255169982, b=2.9930228755990806, iter=210\n",
      " cost=8.860659978038374e-06,m=2.0018802804205778, b=2.9932115906873142, iter=211\n",
      " cost=8.387821351583289e-06,m=2.00182942335045, b=2.9933952015754666, iter=212\n",
      " cost=7.94021519846867e-06,m=2.0017799414974338, b=2.9935738461151757, iter=213\n",
      " cost=7.516495017632822e-06,m=2.001731798326666, b=2.993747658817979, iter=214\n",
      " cost=7.115386162456479e-06,m=2.001684957039104, b=2.9939167702103027, iter=215\n",
      " cost=6.735682006322532e-06,m=2.0016393829493357, b=2.9940813075978845, iter=216\n",
      " cost=6.376240312813328e-06,m=2.0015950413115204, b=2.994241394566542, iter=217\n",
      " cost=6.0359797996086215e-06,m=2.001551899211304, b=2.9943971516063654, iter=218\n",
      " cost=5.713876885735283e-06,m=2.0015099238283534, b=2.994548695727921, iter=219\n",
      " cost=5.408962612409525e-06,m=2.0014690839410494, b=2.994696140973844, iter=220\n",
      " cost=5.120319728183814e-06,m=2.0014293485373575, b=2.994839598126325, iter=221\n",
      " cost=4.8470799296471095e-06,m=2.0013906880109724, b=2.9949791751281816, iter=222\n",
      " cost=4.588421249375545e-06,m=2.001353073050134, b=2.9951149768624057, iter=223\n",
      " cost=4.343565583259036e-06,m=2.001316475587944, b=2.9952471055003564, iter=224\n",
      " cost=4.111776349793937e-06,m=2.0012808679129916, b=2.9953756603380866, iter=225\n",
      " cost=3.892356274277112e-06,m=2.0012462234238444, b=2.995500738085757, iter=226\n",
      " cost=3.6846452912387705e-06,m=2.0012125159167145, b=2.9956224327485903, iter=227\n",
      " cost=3.4880185588269177e-06,m=2.001179720183974, b=2.995740835868793, iter=228\n",
      " cost=3.3018845791335586e-06,m=2.0011478114431593, b=2.9958560364414786, iter=229\n",
      " cost=3.125683418838578e-06,m=2.001116765811289, b=2.9959681211181253, iter=230\n",
      " cost=2.958885024796177e-06,m=2.00108655984672, b=2.9960771741498067, iter=231\n",
      " cost=2.8009876295193158e-06,m=2.0010571709245855, b=2.996183277559412, iter=232\n",
      " cost=2.6515162417504e-06,m=2.001028576868797, b=2.996286511106105, iter=233\n",
      " cost=2.5100212175783197e-06,m=2.001000756248784, b=2.996386952432106, iter=234\n",
      " cost=2.3760769078048484e-06,m=2.0009736880835134, b=2.9964846770435525, iter=235\n",
      " cost=2.2492803774985294e-06,m=2.0009473520756247, b=2.9965797584364977, iter=236\n",
      " cost=2.129250193872807e-06,m=2.0009217283730063, b=2.996672268090358, iter=237\n",
      " cost=2.0156252788500054e-06,m=2.000896797753143, b=2.9967622755768577, iter=238\n",
      " cost=1.908063822856548e-06,m=2.0008725414307196, b=2.996849848563052, iter=239\n",
      " cost=1.8062422565817326e-06,m=2.000848941202388, b=2.996935052906218, iter=240\n",
      " cost=1.7098542776096693e-06,m=2.0008259792912004, b=2.997017952664077, iter=241\n",
      " cost=1.6186099289863015e-06,m=2.0008036384599306, b=2.9970986101780484, iter=242\n",
      " cost=1.532234726971179e-06,m=2.0007819018849897, b=2.997177086088794, iter=243\n",
      " cost=1.4504688353219143e-06,m=2.000760753244787, b=2.997253439409792, iter=244\n",
      " cost=1.3730662836486492e-06,m=2.0007401766172612, b=2.997327727546727, iter=245\n",
      " cost=1.2997942274806573e-06,m=2.0007201565484523, b=2.9974000063629656, iter=246\n",
      " cost=1.230432247817714e-06,m=2.0007006779689527, b=2.997470330201634, iter=247\n",
      " cost=1.1647716880565342e-06,m=2.0006817262468117, b=2.9975387519442753, iter=248\n",
      " cost=1.1026150263101287e-06,m=2.000663287119171, b=2.9976053230347217, iter=249\n",
      " cost=1.0437752812058797e-06,m=2.000645346732764, b=2.9976700935319642, iter=250\n",
      " cost=9.880754494205263e-07,m=2.0006278915877567, b=2.997733112135123, iter=251\n",
      " cost=9.353479731937711e-07,m=2.000610908568446, b=2.9977944262313803, iter=252\n",
      " cost=8.854342362938688e-07,m=2.0005943848969188, b=2.9978540819215054, iter=253\n",
      " cost=8.381840868542202e-07,m=2.000578308156019, b=2.9979121240635433, iter=254\n",
      " cost=7.934553856819546e-07,m=2.000562666250925, b=2.997968596298487, iter=255\n",
      " cost=7.511135786778299e-07,m=2.000547447426023, b=2.9980235410902853, iter=256\n",
      " cost=7.110312920607064e-07,m=2.0005326402328856, b=2.9980769997513486, iter=257\n",
      " cost=6.730879492010557e-07,m=2.0005182335423597, b=2.998129012479348, iter=258\n",
      " cost=6.371694078994163e-07,m=2.0005042165177196, b=2.9981796183823195, iter=259\n",
      " cost=6.031676170174003e-07,m=2.00049057862302, b=2.998228855512643, iter=260\n",
      " cost=5.709802914385001e-07,m=2.0004773096004365, b=2.998276760891571, iter=261\n",
      " cost=5.405106043719204e-07,m=2.0004643994757143, b=2.99832337054071, iter=262\n"
     ]
    },
    {
     "name": "stdout",
     "output_type": "stream",
     "text": [
      " cost=5.116668960713494e-07,m=2.000451838538916, b=2.9983687195058537, iter=263\n",
      " cost=4.843623981059332e-07,m=2.000439617347614, b=2.9984128418862372, iter=264\n",
      " cost=4.5851497233914773e-07,m=2.0004277267104196, b=2.9984557708575847, iter=265\n",
      " cost=4.340468638386762e-07,m=2.000416157688441, b=2.99849753869937, iter=266\n",
      " cost=4.108844669714397e-07,m=2.000404901581087, b=2.998538176817019, iter=267\n",
      " cost=3.8895810398314835e-07,m=2.0003939499262042, b=2.9985777157673743, iter=268\n",
      " cost=3.6820181538911237e-07,m=2.000383294487745, b=2.9986161852800164, iter=269\n",
      " cost=3.4855316155576877e-07,m=2.000372927254906, b=2.9986536142810962, iter=270\n",
      " cost=3.299530348643825e-07,m=2.0003628404313454, b=2.998690030913766, iter=271\n",
      " cost=3.1234548190677067e-07,m=2.00035302643357, b=2.9987254625605178, iter=272\n",
      " cost=2.956775351618141e-07,m=2.000343477881438, b=2.9987599358627213, iter=273\n",
      " cost=2.79899053655233e-07,m=2.000334187596001, b=2.9987934767415956, iter=274\n",
      " cost=2.649625721285466e-07,m=2.0003251485910734, b=2.99882611041686, iter=275\n",
      " cost=2.5082315824969805e-07,m=2.0003163540706916, b=2.998857861426447, iter=276\n",
      " cost=2.374382774479254e-07,m=2.0003077974215797, b=2.998888753644284, iter=277\n",
      " cost=2.2476766495925085e-07,m=2.0002994722103433, b=2.99891881029884, iter=278\n",
      " cost=2.1277320470087698e-07,m=2.0002913721766955, b=2.998948053990061, iter=279\n",
      " cost=2.0141881460922471e-07,m=2.000283491230482, b=2.9989765067068372, iter=280\n",
      " cost=1.9067033809866312e-07,m=2.0002758234455515, b=2.9990041898431117, iter=281\n",
      " cost=1.804954413081243e-07,m=2.0002683630566875, b=2.999031124214349, iter=282\n",
      " cost=1.708635158352821e-07,m=2.00026110445403, b=2.999057330072843, iter=283\n",
      " cost=1.6174558665836015e-07,m=2.000254042179973, b=2.999082827123254, iter=284\n",
      " cost=1.5311422497452432e-07,m=2.000247170924059, b=2.9991076345371463, iter=285\n",
      " cost=1.4494346568459373e-07,m=2.000240485519885, b=2.999131770967655, iter=286\n",
      " cost=1.372087292882723e-07,m=2.000233980940413, b=2.999155254563285, iter=287\n",
      " cost=1.2988674793988807e-07,m=2.000227652294909, b=2.999178102981761, iter=288\n",
      " cost=1.2295549545479907e-07,m=2.000221494824624, b=2.999200333403123, iter=289\n",
      " cost=1.1639412105044217e-07,m=2.0002155038997866, b=2.9992219625428036, iter=290\n",
      " cost=1.1018288662107781e-07,m=2.0002096750156166, b=2.9992430066640576, iter=291\n",
      " cost=1.0430310736092492e-07,m=2.0002040037893836, b=2.9992634815903125, iter=292\n",
      " cost=9.87370955577529e-08,m=2.0001984859567186, b=2.9992834027169586, iter=293\n",
      " cost=9.346810738340458e-08,m=2.0001931173687537, b=2.9993027850230205, iter=294\n",
      " cost=8.848029252285201e-08,m=2.0001878939886972, b=2.9993216430823355, iter=295\n",
      " cost=8.375864649535986e-08,m=2.000182811889069, b=2.9993399910745873, iter=296\n",
      " cost=7.928896551644077e-08,m=2.0001778672485058, b=2.9993578427959, iter=297\n",
      " cost=7.50578037703178e-08,m=2.0001730563491034, b=2.9993752116692733, iter=298\n",
      " cost=7.105243295949286e-08,m=2.0001683755734305, b=2.99939211075462, iter=299\n",
      " cost=6.72608040186699e-08,m=2.000163821401975, b=2.9994085527586343, iter=300\n",
      " cost=6.367151086606964e-08,m=2.0001593904103547, b=2.9994245500443046, iter=301\n",
      " cost=6.027375609196589e-08,m=2.000155079266864, b=2.9994401146402456, iter=302\n",
      " cost=5.7057318477534605e-08,m=2.0001508847298655, b=2.9994552582497116, iter=303\n",
      " cost=5.401252224753898e-08,m=2.0001468036454404, b=2.999469992259422, iter=304\n",
      " cost=5.113020796231489e-08,m=2.0001428329449427, b=2.999484327748103, iter=305\n",
      " cost=4.840170496534923e-08,m=2.0001389696427543, b=2.999498275494834, iter=306\n",
      " cost=4.581880529989197e-08,m=2.0001352108339865, b=2.9995118459871386, iter=307\n",
      " cost=4.3373739016162356e-08,m=2.0001315536923436, b=2.999525049428883, iter=308\n",
      " cost=4.105915079897952e-08,m=2.000127995467955, b=2.999537895747937, iter=309\n",
      " cost=3.886807784114403e-08,m=2.0001245334853444, b=2.9995503946036486, iter=310\n",
      " cost=3.679392889682155e-08,m=2.000121165141387, b=2.9995625553940997, iter=311\n",
      " cost=3.483046445457403e-08,m=2.0001178879033783, b=2.999574387263178, iter=312\n",
      " cost=3.2971777967239036e-08,m=2.000114699307107, b=2.9995858991074478, iter=313\n",
      " cost=3.121227808285789e-08,m=2.000111596955024, b=2.9995970995828447, iter=314\n",
      " cost=2.9546671826234157e-08,m=2.0001085785144164, b=2.999607997111178, iter=315\n",
      " cost=2.796994867499655e-08,m=2.000105641715678, b=2.9996185998864697, iter=316\n",
      " cost=2.64773654873868e-08,m=2.0001027843505796, b=2.999628915881109, iter=317\n",
      " cost=2.5064432234189543e-08,m=2.000100004270627, b=2.9996389528518534, iter=318\n",
      " cost=2.3726898490730158e-08,m=2.0000972993854336, b=2.999648718345656, iter=319\n",
      " cost=2.246074065135188e-08,m=2.000094667661156, b=2.999658219705343, iter=320\n",
      " cost=2.1262149825689404e-08,m=2.0000921071189564, b=2.999667464075133, iter=321\n",
      " cost=2.0127520379988353e-08,m=2.0000896158335295, b=2.9996764584060127, iter=322\n",
      " cost=1.9053439091099336e-08,m=2.0000871919316316, b=2.9996852094609565, iter=323\n",
      " cost=1.8036674878101242e-08,m=2.0000848335907007, b=2.99969372382002, iter=324\n",
      " cost=1.7074169083251496e-08,m=2.0000825390374577, b=2.9997020078852805, iter=325\n",
      " cost=1.61630262702964e-08,m=2.0000803065465975, b=2.999710067885656, iter=326\n",
      " cost=1.5300505514495307e-08,m=2.000078134439471, b=2.9997179098815843, iter=327\n",
      " cost=1.4484012157382354e-08,m=2.0000760210828417, b=2.999725539769585, iter=328\n",
      " cost=1.371109000142475e-08,m=2.0000739648876396, b=2.999732963286687, iter=329\n",
      " cost=1.2979413920936318e-08,m=2.000071964307784, b=2.9997401860147503, iter=330\n",
      " cost=1.2286782867868455e-08,m=2.000070017839004, b=2.999747213384654, iter=331\n",
      " cost=1.1631113250824706e-08,m=2.0000681240177225, b=2.9997540506803873, iter=332\n",
      " cost=1.1010432666362606e-08,m=2.000066281419945, b=2.9997607030430187, iter=333\n",
      " cost=1.0422873966327388e-08,m=2.000064488660193, b=2.999767175474562, iter=334\n",
      " cost=9.866669640393898e-09,m=2.0000627443904637, b=2.9997734728417393, iter=335\n",
      " cost=9.340146499697551e-09,m=2.0000610472992126, b=2.9997795998796386, iter=336\n",
      " cost=8.841720642802677e-09,m=2.0000593961103714, b=2.9997855611952744, iter=337\n",
      " cost=8.369892691554556e-09,m=2.000057789582386, b=2.9997913612710523, iter=338\n",
      " cost=7.923243280129882e-09,m=2.0000562265072817, b=2.999797004468139, iter=339\n",
      " cost=7.500428785628784e-09,m=2.0000547057097595, b=2.9998024950297415, iter=340\n",
      " cost=7.1001772858949445e-09,m=2.000053226046307, b=2.9998078370842984, iter=341\n",
      " cost=6.721284733379612e-09,m=2.0000517864043434, b=2.9998130346485836, iter=342\n",
      " cost=6.362611333295288e-09,m=2.0000503857013787, b=2.999818091630725, iter=343\n",
      " cost=6.023078114490944e-09,m=2.000049022884204, b=2.9998230118331475, iter=344\n",
      " cost=5.7016636837055725e-09,m=2.0000476969280943, b=2.999827798955426, iter=345\n",
      " cost=5.397401153476927e-09,m=2.0000464068360437, b=2.9998324565970726, iter=346\n",
      " cost=5.109375232818724e-09,m=2.000045151638012, b=2.99983698826024, iter=347\n",
      " cost=4.8367194743094804e-09,m=2.000043930390196, b=2.999841397352356, iter=348\n",
      " cost=4.5786136674248236e-09,m=2.0000427421743208, b=2.999845687188685, iter=349\n",
      " cost=4.334281371345362e-09,m=2.0000415860969474, b=2.9998498609948214, iter=350\n",
      " cost=4.102987578890916e-09,m=2.0000404612888056, b=2.999853921909115, iter=351\n",
      " cost=3.884036505653702e-09,m=2.000039366904133, b=2.99985787298503, iter=352\n",
      " cost=3.67676949724336e-09,m=2.0000383021200445, b=2.999861717193441, iter=353\n",
      " cost=3.48056304726143e-09,m=2.000037266135914, b=2.9998654574248693, iter=354\n",
      " cost=3.294826922126242e-09,m=2.000036258172768, b=2.9998690964916515, iter=355\n",
      " cost=3.1190023853473363e-09,m=2.0000352774727035, b=2.9998726371300584, iter=356\n",
      " cost=2.9525605167500866e-09,m=2.0000343232983173, b=2.999876082002351, iter=357\n",
      " cost=2.7950006213554726e-09,m=2.0000333949321503, b=2.9998794336987826, iter=358\n",
      " cost=2.6458487231962797e-09,m=2.00003249167615, b=2.9998826947395454, iter=359\n",
      " cost=2.50465613943384e-09,m=2.0000316128511444, b=2.999885867576666, iter=360\n",
      " cost=2.3709981306789576e-09,m=2.0000307577963308, b=2.9998889545958503, iter=361\n",
      " cost=2.2444726233170024e-09,m=2.000029925868781, b=2.9998919581182757, iter=362\n",
      " cost=2.1246989998017426e-09,m=2.000029116442954, b=2.9998948804023366, iter=363\n",
      " cost=2.0113169538840538e-09,m=2.000028328910233, b=2.999897723645345, iter=364\n",
      " cost=1.9039854065314962e-09,m=2.0000275626784574, b=2.9999004899851776, iter=365\n",
      " cost=1.802381480139776e-09,m=2.000026817171487, b=2.9999031815018897, iter=366\n",
      " cost=1.706199526898246e-09,m=2.000026091828763, b=2.9999058002192736, iter=367\n",
      " cost=1.6151502097471165e-09,m=2.000025386104889, b=2.9999083481063837, iter=368\n",
      " cost=1.5289596315482696e-09,m=2.00002469946922, b=2.999910827079016, iter=369\n",
      " cost=1.447368511458677e-09,m=2.000024031405465, b=2.9999132390011476, iter=370\n",
      " cost=1.3701314048801627e-09,m=2.000023381411296, b=2.999915585686341, iter=371\n",
      " cost=1.2970159650694865e-09,m=2.000022748997971, b=2.999917868899104, iter=372\n",
      " cost=1.2278022440618343e-09,m=2.000022133689972, b=2.9999200903562215, iter=373\n",
      " cost=1.1622820313480879e-09,m=2.000021535024635, b=2.9999222517280395, iter=374\n",
      " cost=1.1002582271685302e-09,m=2.0000209525518184, b=2.9999243546397283, iter=375\n",
      " cost=1.0415442498716268e-09,m=2.000020385833548, b=2.9999264006724986, iter=376\n",
      " cost=9.85963474424977e-10,m=2.0000198344437043, b=2.999928391364796, iter=377\n",
      " cost=9.333487012583248e-10,m=2.0000192979676825, b=2.99993032821345, iter=378\n",
      " cost=8.83541653143942e-10,m=2.000018776002105, b=2.9999322126748105, iter=379\n",
      " cost=8.363924991492807e-10,m=2.0000182681544914, b=2.9999340461658304, iter=380\n",
      " cost=7.917594039570304e-10,m=2.000017774042988, b=2.9999358300651418, iter=381\n",
      " cost=7.495081009911787e-10,m=2.0000172932960605, b=2.9999375657140845, iter=382\n",
      " cost=7.095114887968163e-10,m=2.0000168255522333, b=2.999939254417722, iter=383\n",
      " cost=6.716492484411294e-10,m=2.000016370459796, b=2.9999408974458146, iter=384\n",
      " cost=6.358074816958316e-10,m=2.000015927676564, b=2.999942496033782, iter=385\n",
      " cost=6.018783683962265e-10,m=2.000015496869596, b=2.999944051383626, iter=386\n",
      " cost=5.697598420352549e-10,m=2.000015077714967, b=2.9999455646648396, iter=387\n",
      " cost=5.393552828222372e-10,m=2.000014669897502, b=2.999947037015281, iter=388\n",
      " cost=5.105732269030786e-10,m=2.0000142731105632, b=2.9999484695420353, iter=389\n",
      " cost=4.833270912778101e-10,m=2.000013887055795, b=2.9999498633222395, iter=390\n",
      " cost=4.575349134332935e-10,m=2.000013511442921, b=2.9999512194038993, iter=391\n",
      " cost=4.331191046266821e-10,m=2.0000131459895085, b=2.9999525388066735, iter=392\n",
      " cost=4.100062165382359e-10,m=2.00001279042077, b=2.9999538225226416, iter=393\n",
      " cost=3.881267203273858e-10,m=2.0000124444693466, b=2.9999550715170495, iter=394\n",
      " cost=3.6741479752852025e-10,m=2.0000121078751127, b=2.9999562867290352, iter=395\n",
      " cost=3.47808141985386e-10,m=2.0000117803849773, b=2.9999574690723354, iter=396\n",
      " cost=3.2924777236457754e-10,m=2.0000114617526963, b=2.9999586194359726, iter=397\n",
      " cost=3.116778549023161e-10,m=2.000011151738684, b=2.999959738684923, iter=398\n",
      " cost=2.950455352995138e-10,m=2.000010850109837, b=2.9999608276607668, iter=399\n"
     ]
    },
    {
     "name": "stdout",
     "output_type": "stream",
     "text": [
      " cost=2.7930077970132387e-10,m=2.000010556639356, b=2.9999618871823226, iter=400\n",
      " cost=2.643962243711541e-10,m=2.0000102711065746, b=2.99996291804626, iter=401\n",
      " cost=2.502870329622e-10,m=2.0000099932967985, b=2.9999639210277027, iter=402\n",
      " cost=2.3693076185203976e-10,m=2.0000097230011358, b=2.999964896880807, iter=403\n",
      " cost=2.2428723232198128e-10,m=2.00000946001635, b=2.9999658463393324, iter=404\n",
      " cost=2.123184098017384e-10,m=2.0000092041446944, b=2.9999667701171915, iter=405\n",
      " cost=2.009882892874985e-10,m=2.0000089551937803, b=2.9999676689089876, iter=406\n",
      " cost=1.9026278725365386e-10,m=2.0000087129764132, b=2.999968543390535, iter=407\n",
      " cost=1.801096389315596e-10,m=2.000008477310469, b=2.999969394219371, iter=408\n",
      " cost=1.7049830135819875e-10,m=2.000008248018745, b=2.9999702220352464, iter=409\n",
      " cost=1.6139986140957615e-10,m=2.0000080249288357, b=2.9999710274606093, iter=410\n",
      " cost=1.5278694893507006e-10,m=2.0000078078729926, b=2.9999718111010707, iter=411\n",
      " cost=1.4463365436189395e-10,m=2.0000075966880115, b=2.999972573545863, iter=412\n",
      " cost=1.3691545067266555e-10,m=2.0000073912150973, b=2.9999733153682793, iter=413\n",
      " cost=1.296091197964687e-10,m=2.0000071912997517, b=2.999974037126108, iter=414\n",
      " cost=1.226926826029293e-10,m=2.0000069967916567, b=2.9999747393620497, iter=415\n",
      " cost=1.1614533288773966e-10,m=2.000006807544557, b=2.9999754226041264, iter=416\n",
      " cost=1.099473747519162e-10,m=2.000006623416156, b=2.999976087366079, iter=417\n",
      " cost=1.0408016329689046e-10,m=2.0000064442680037, b=2.9999767341477517, iter=418\n",
      " cost=9.852604863601567e-11,m=2.0000062699653967, b=2.9999773634354696, iter=419\n",
      " cost=9.326832273809117e-11,m=2.000006100377273, b=2.999977975702404, iter=420\n",
      " cost=8.82911691475456e-11,m=2.0000059353761186, b=2.999978571408928, iter=421\n",
      " cost=8.357961546659391e-11,m=2.0000057748378643, b=2.9999791510029628, iter=422\n",
      " cost=7.911948826685768e-11,m=2.000005618641801, b=2.999979714920314, iter=423\n",
      " cost=7.489737046730761e-11,m=2.0000054666704807, b=2.999980263584999, iter=424\n",
      " cost=7.090056099066877e-11,m=2.0000053188096354, b=2.9999807974095685, iter=425\n",
      " cost=6.711703652231015e-11,m=2.0000051749480843, b=2.9999813167954126, iter=426\n",
      " cost=6.353541535023184e-11,m=2.000005034977658, b=2.999981822133066, iter=427\n",
      " cost=6.014492315774089e-11,m=2.0000048987931085, b=2.9999823138024997, iter=428\n",
      " cost=5.6935360558731206e-11,m=2.000004766292038, b=2.9999827921734075, iter=429\n",
      " cost=5.3897072468819074e-11,m=2.0000046373748157, b=2.999983257605484, iter=430\n",
      " cost=5.1020919024785823e-11,m=2.0000045119445082, b=2.999983710448695, iter=431\n",
      " cost=4.829824810955626e-11,m=2.0000043899068003, b=2.99998415104354, iter=432\n",
      " cost=4.5720869291172715e-11,m=2.0000042711699324, b=2.999984579721309, iter=433\n",
      " cost=4.328102924302778e-11,m=2.000004155644623, b=2.9999849968043324, iter=434\n",
      " cost=4.097138837427283e-11,m=2.0000040432440067, b=2.99998540260622, iter=435\n",
      " cost=3.878499875376334e-11,m=2.000003933883569, b=2.9999857974321014, iter=436\n",
      " cost=3.671528323014563e-11,m=2.0000038274810787, b=2.9999861815788518, iter=437\n",
      " cost=3.4756015623686374e-11,m=2.0000037239565316, b=2.9999865553353176, iter=438\n",
      " cost=3.290130201093798e-11,m=2.0000036232320837, b=2.9999869189825317, iter=439\n",
      " cost=3.114556299394091e-11,m=2.000003525232001, b=2.9999872727939265, iter=440\n",
      " cost=2.9483516908100285e-11,m=2.0000034298825944, b=2.9999876170355377, iter=441\n",
      " cost=2.7910163944484376e-11,m=2.00000333711217, b=2.9999879519662063, iter=442\n",
      " cost=2.6420771095698997e-11,m=2.0000032468509716, b=2.9999882778377716, iter=443\n",
      " cost=2.501085793331616e-11,m=2.000003159031131, b=2.9999885948952616, iter=444\n",
      " cost=2.3676183119449937e-11,m=2.0000030735866146, b=2.999988903377077, iter=445\n",
      " cost=2.2412731647177096e-11,m=2.000002990453176, b=2.9999892035151694, iter=446\n",
      " cost=2.1216702762397014e-11,m=2.000002909568305, b=2.999989495535218, iter=447\n",
      " cost=2.0084498547766956e-11,m=2.0000028308711837, b=2.9999897796567967, iter=448\n",
      " cost=1.9012713066968067e-11,m=2.000002754302638, b=2.999990056093541, iter=449\n",
      " cost=1.799812215182562e-11,m=2.0000026798050956, b=2.999990325053308, iter=450\n",
      " cost=1.7037673680848017e-11,m=2.000002607322539, b=2.999990586738333, iter=451\n",
      " cost=1.6128478398612786e-11,m=2.0000025368004706, b=2.999990841345381, iter=452\n",
      " cost=1.52678012514625e-11,m=2.0000024681858593, b=2.999991089065894, iter=453\n",
      " cost=1.4453053115177369e-11,m=2.000002401427118, b=2.9999913300861385, iter=454\n",
      " cost=1.3681783050256832e-11,m=2.000002336474044, b=2.9999915645873396, iter=455\n",
      " cost=1.2951670903936172e-11,m=2.0000022732778033, b=2.999991792745824, iter=456\n",
      " cost=1.2260520325325532e-11,m=2.000002211790874, b=2.999992014733147, iter=457\n",
      " cost=1.160625217634914e-11,m=2.000002151967025, b=2.9999922307162237, iter=458\n",
      " cost=1.0986898272005101e-11,m=2.0000020937612737, b=2.999992440857456, iter=459\n",
      " cost=1.0400595458530711e-11,m=2.000002037129853, b=2.9999926453148515, iter=460\n",
      " cost=9.845579998304735e-12,m=2.000001982030183, b=2.999992844242146, iter=461\n",
      " cost=9.320182279698576e-12,m=2.0000019284208306, b=2.999993037788915, iter=462\n",
      " cost=8.822821790553173e-12,m=2.0000018762614897, b=2.99999322610069, iter=463\n",
      " cost=8.352002354351023e-12,m=2.000001825512937, b=2.9999934093190648, iter=464\n",
      " cost=7.906307640410839e-12,m=2.000001776137017, b=2.999993587581805, iter=465\n",
      " cost=7.484396893824865e-12,m=2.0000017280966005, b=2.9999937610229477, iter=466\n",
      " cost=7.085000918164201e-12,m=2.0000016813555686, b=2.999993929772908, iter=467\n",
      " cost=6.7069182354025935e-12,m=2.0000016358787724, b=2.99999409395857, iter=468\n",
      " cost=6.349011485363463e-12,m=2.0000015916320195, b=2.9999942537033877, iter=469\n",
      " cost=6.010204007183652e-12,m=2.000001548582039, b=2.9999944091274764, iter=470\n",
      " cost=5.6894765873055024e-12,m=2.000001506696462, b=2.9999945603477016, iter=471\n",
      " cost=5.385864406934489e-12,m=2.000001465943792, b=2.9999947074777675, iter=472\n",
      " cost=5.0984541329296966e-12,m=2.000001426293389, b=2.9999948506283043, iter=473\n",
      " cost=4.8263811638794955e-12,m=2.000001387715438, b=2.999994989906949, iter=474\n",
      " cost=4.568827048078563e-12,m=2.000001350180932, b=2.999995125418427, iter=475\n",
      " cost=4.32501700525866e-12,m=2.000001313661647, b=2.999995257264631, iter=476\n",
      " cost=4.094217594209424e-12,m=2.0000012781301253, b=2.9999953855446995, iter=477\n",
      " cost=3.875734521215958e-12,m=2.000001243559649, b=2.9999955103550873, iter=478\n",
      " cost=3.668910538565823e-12,m=2.000001209924225, b=2.9999956317896417, iter=479\n",
      " cost=3.473123473206841e-12,m=2.0000011771985613, b=2.999995749939671, iter=480\n",
      " cost=3.2877843518784828e-12,m=2.000001145358051, b=2.9999958648940144, iter=481\n",
      " cost=3.112335633845177e-12,m=2.000001114378754, b=2.9999959767391076, iter=482\n",
      " cost=2.9462495276029544e-12,m=2.000001084237375, b=2.999996085559048, iter=483\n",
      " cost=2.7890264122798486e-12,m=2.0000010549112517, b=2.9999961914356605, iter=484\n",
      " cost=2.6401933188381097e-12,m=2.000001026378332, b=2.9999962944485543, iter=485\n",
      " cost=2.499302528401523e-12,m=2.000000998617162, b=2.999996394675186, iter=486\n",
      " cost=2.3659302096286654e-12,m=2.0000009716068674, b=2.9999964921909186, iter=487\n",
      " cost=2.2396751459498584e-12,m=2.0000009453271397, b=2.999996587069075, iter=488\n",
      " cost=2.120157534570819e-12,m=2.0000009197582176, b=2.999996679380996, iter=489\n",
      " cost=2.007017838414401e-12,m=2.000000894880877, b=2.999996769196092, iter=490\n",
      " cost=1.899915708107191e-12,m=2.0000008706764096, b=2.9999968565818964, iter=491\n",
      " cost=1.798528956824233e-12,m=2.0000008471266186, b=2.9999969416041163, iter=492\n",
      " cost=1.7025525890454465e-12,m=2.000000824213794, b=2.9999970243266807, iter=493\n",
      " cost=1.6116978863037941e-12,m=2.00000080192071, b=2.999997104811791, iter=494\n",
      " cost=1.5256915368606595e-12,m=2.0000007802306006, b=2.9999971831199637, iter=495\n",
      " cost=1.4442748150385418e-12,m=2.0000007591271607, b=2.999997259310081, iter=496\n",
      " cost=1.3672028005799555e-12,m=2.000000738594519, b=2.9999973334394308, iter=497\n",
      " cost=1.29424364132902e-12,m=2.0000007186172386, b=2.999997405563753, iter=498\n",
      " cost=1.2251778622864507e-12,m=2.000000699180297, b=2.999997475737278, iter=499\n",
      " cost=1.1597976963969667e-12,m=2.0000006802690806, b=2.999997544012771, iter=500\n",
      " cost=1.0979064660309657e-12,m=2.0000006618693686, b=2.999997610441569, iter=501\n",
      " cost=1.0393179872561135e-12,m=2.0000006439673266, b=2.9999976750736206, iter=502\n",
      " cost=9.83856013966074e-13,m=2.000000626549494, b=2.9999977379575244, iter=503\n",
      " cost=9.313537032509616e-13,m=2.0000006096027727, b=2.9999977991405635, iter=504\n",
      " cost=8.816531157177407e-13,m=2.0000005931144225, b=2.9999978586687424, iter=505\n",
      " cost=8.346047407060947e-13,m=2.000000577072043, b=2.9999979165868207, iter=506\n",
      " cost=7.900670483692547e-13,m=2.000000561463573, b=2.9999979729383486, iter=507\n",
      " cost=7.479060556102648e-13,m=2.000000546277277, b=2.999998027765698, iter=508\n",
      " cost=7.079949347208101e-13,m=2.0000005315017346, b=2.9999980811100935, iter=509\n",
      " cost=6.702136234949317e-13,m=2.000000517125837, b=2.999998133011646, iter=510\n",
      " cost=6.344484668042712e-13,m=2.0000005031387738, b=2.9999981835093807, iter=511\n",
      " cost=6.005918753159277e-13,m=2.0000004895300294, b=2.9999982326412686, iter=512\n",
      " cost=5.685420010382668e-13,m=2.000000476289369, b=2.9999982804442515, iter=513\n",
      " cost=5.38202431112516e-13,m=2.0000004634068387, b=2.999998326954274, iter=514\n",
      " cost=5.094818954491134e-13,m=2.0000004508727507, b=2.9999983722063077, iter=515\n",
      " cost=4.822939972813659e-13,m=2.0000004386776817, b=2.9999984162343782, iter=516\n",
      " cost=4.565569493321215e-13,m=2.0000004268124605, b=2.9999984590715907, iter=517\n",
      " cost=4.3219332880902576e-13,m=2.0000004152681665, b=2.9999985007501553, iter=518\n",
      " cost=4.09129843006154e-13,m=2.000000404036119, b=2.9999985413014105, iter=519\n"
     ]
    },
    {
     "name": "stdout",
     "output_type": "stream",
     "text": [
      " cost=3.8729711367894076e-13,m=2.000000393107873, b=2.999998580755848, iter=520\n",
      " cost=3.6662946209719744e-13,m=2.0000003824752093, b=2.9999986191431334, iter=521\n",
      " cost=3.4706471434540025e-13,m=2.000000372130137, b=2.9999986564921315, iter=522\n",
      " cost=3.285440172652174e-13,m=2.0000003620648727, b=2.999998692830925, iter=523\n",
      " cost=3.110116548243936e-13,m=2.000000352271853, b=2.999998728186838, iter=524\n",
      " cost=2.9441488613447097e-13,m=2.0000003427437094, b=2.9999987625864546, iter=525\n",
      " cost=2.7870378404590235e-13,m=2.0000003334732828, b=2.9999987960556416, iter=526\n",
      " cost=2.6383108681567987e-13,m=2.0000003244535973, b=2.9999988286195634, iter=527\n",
      " cost=2.497520536662102e-13,m=2.0000003156778754, b=2.9999988603027066, iter=528\n",
      " cost=2.364243307472874e-13,m=2.0000003071395156, b=2.9999988911288935, iter=529\n",
      " cost=2.2380782638747993e-13,m=2.0000002988320995, b=2.999998921121303, iter=530\n",
      " cost=2.1186458671642428e-13,m=2.000000290749379, b=2.9999989503024866, iter=531\n",
      " cost=2.0055868396687573e-13,m=2.0000002828852783, b=2.999998978694387, iter=532\n",
      " cost=1.8985610726554796e-13,m=2.000000275233883, b=2.9999990063183515, iter=533\n",
      " cost=1.7972466089246804e-13,m=2.0000002677894404, b=2.9999990331951514, iter=534\n",
      " cost=1.7013386723862853e-13,m=2.000000260546353, b=2.999999059344996, iter=535\n",
      " cost=1.6105487469610608e-13,m=2.000000253499174, b=2.999999084787547, iter=536\n",
      " cost=1.5246037208444563e-13,m=2.0000002466426055, b=2.999999109541936, iter=537\n",
      " cost=1.44324504946713e-13,m=2.0000002399714907, b=2.9999991336267757, iter=538\n",
      " cost=1.3662279904689535e-13,m=2.0000002334808147, b=2.999999157060176, iter=539\n",
      " cost=1.2933208495726362e-13,m=2.0000002271656965, b=2.9999991798597567, iter=540\n",
      " cost=1.2243043122632542e-13,m=2.0000002210213874, b=2.9999992020426616, iter=541\n",
      " cost=1.1589707645948632e-13,m=2.0000002150432685, b=2.99999922362557, iter=542\n",
      " cost=1.097123660202751e-13,m=2.000000209226842, b=2.9999992446247097, iter=543\n",
      " cost=1.0385769563702018e-13,m=2.0000002035677396, b=2.9999992650558718, iter=544\n",
      " cost=9.831545276054599e-14,m=2.0000001980616995, b=2.9999992849344173, iter=545\n",
      " cost=9.306896511564539e-14,m=2.000000192704588, b=2.9999993042752946, iter=546\n",
      " cost=8.810245018415024e-14,m=2.000000187492372, b=2.999999323093045, iter=547\n",
      " cost=8.340096724671377e-14,m=2.000000182421136, b=2.9999993414018196, iter=548\n",
      " cost=7.895037327095061e-14,m=2.0000001774870633, b=2.999999359215383, iter=549\n",
      " cost=7.473728002167482e-14,m=2.000000172686448, b=2.9999993765471316, iter=550\n",
      " cost=7.074901377548997e-14,m=2.0000001680156765, b=2.9999993934100955, iter=551\n",
      " cost=6.69735762032403e-14,m=2.00000016347124, b=2.9999994098169553, iter=552\n",
      " cost=6.339961078504968e-14,m=2.0000001590497187, b=2.999999425780047, iter=553\n",
      " cost=6.00163656119263e-14,m=2.0000001547477915, b=2.9999994413113744, iter=554\n",
      " cost=5.681366348303909e-14,m=2.000000150562219, b=2.9999994564226147, iter=555\n",
      " cost=5.378186941177374e-14,m=2.0000001464898585, b=2.999999471125131, iter=556\n",
      " cost=5.0911863832355395e-14,m=2.000000142527645, b=2.9999994854299783, iter=557\n",
      " cost=4.819501249915954e-14,m=2.0000001386726005, b=2.999999499347912, iter=558\n",
      " cost=4.5623142617230377e-14,m=2.000000134921826, b=2.999999512889398, iter=559\n",
      " cost=4.3188517709958866e-14,m=2.0000001312725013, b=2.999999526064618, iter=560\n",
      " cost=4.088381360927996e-14,m=2.0000001277218824, b=2.9999995388834786, iter=561\n",
      " cost=3.870209738641519e-14,m=2.0000001242672996, b=2.9999995513556184, iter=562\n",
      " cost=3.6636805566113643e-14,m=2.0000001209061558, b=2.9999995634904155, iter=563\n",
      " cost=3.4681726081089696e-14,m=2.000000117635922, b=2.9999995752969943, iter=564\n",
      " cost=3.283097682194049e-14,m=2.0000001144541417, b=2.9999995867842326, iter=565\n",
      " cost=3.1078990520727807e-14,m=2.0000001113584207, b=2.9999995979607674, iter=566\n",
      " cost=2.9420497098728114e-14,m=2.000000108346432, b=2.9999996088350027, iter=567\n",
      " cost=2.7850507006201465e-14,m=2.0000001054159107, b=2.999999619415115, iter=568\n",
      " cost=2.6364297634707794e-14,m=2.0000001025646523, b=2.9999996297090594, iter=569\n",
      " cost=2.495739808211433e-14,m=2.000000099790516, b=2.9999996397245767, iter=570\n",
      " cost=2.362557610051934e-14,m=2.0000000970914114, b=2.999999649469197, iter=571\n",
      " cost=2.2364825392144398e-14,m=2.0000000944653125, b=2.999999658950248, iter=572\n",
      " cost=2.1171352866286753e-14,m=2.0000000919102434, b=2.9999996681748584, iter=573\n",
      " cost=2.004156868292714e-14,m=2.000000089424283, b=2.9999996771499644, iter=574\n",
      " cost=1.8972074116548644e-14,m=2.0000000870055614, b=2.999999685882314, iter=575\n",
      " cost=1.795965181878754e-14,m=2.0000000846522625, b=2.999999694378474, iter=576\n",
      " cost=1.700125621209334e-14,m=2.000000082362613, b=2.9999997026448324, iter=577\n",
      " cost=1.60940042998773e-14,m=2.0000000801348947, b=2.999999710687605, iter=578\n",
      " cost=1.5235166887415875e-14,m=2.0000000779674294, b=2.999999718512839, iter=579\n",
      " cost=1.4422160293022922e-14,m=2.000000075858591, b=2.9999997261264184, iter=580\n",
      " cost=1.3652538744652895e-14,m=2.00000007380679, b=2.999999733534068, iter=581\n",
      " cost=1.2923987155185765e-14,m=2.000000071810487, b=2.999999740741358, iter=582\n",
      " cost=1.2234313799118598e-14,m=2.0000000698681784, b=2.999999747753707, iter=583\n",
      " cost=1.1581444221379815e-14,m=2.000000067978405, b=2.999999754576388, iter=584\n",
      " cost=1.0963414189511014e-14,m=2.000000066139746, b=2.9999997612145313, iter=585\n",
      " cost=1.0378364578969734e-14,m=2.000000064350818, b=2.999999767673128, iter=586\n",
      " cost=9.824535495906087e-15,m=2.000000062610277, b=2.9999997739570348, iter=587\n",
      " cost=9.300260705397144e-15,m=2.000000060916813, b=2.999999780070976, iter=588\n",
      " cost=8.803963417457573e-15,m=2.000000059269154, b=2.9999997860195498, iter=589\n",
      " cost=8.334150377830393e-15,m=2.0000000576660586, b=2.9999997918072276, iter=590\n",
      " cost=7.889408263483251e-15,m=2.0000000561063263, b=2.999999797438363, iter=591\n",
      " cost=7.468399314637386e-15,m=2.0000000545887775, b=2.9999998029171886, iter=592\n",
      " cost=7.069857091793946e-15,m=2.000000053112278, b=2.999999808247825, iter=593\n",
      " cost=6.692582447224079e-15,m=2.0000000516757126, b=2.9999998134342793, iter=594\n",
      " cost=6.335440781604813e-15,m=2.0000000502780044, b=2.9999998184804526, iter=595\n",
      " cost=5.997357419373101e-15,m=2.0000000489180993, b=2.999999823390138, iter=596\n",
      " cost=5.6773156379782865e-15,m=2.0000000475949777, b=2.999999828167028, iter=597\n",
      " cost=5.374352306836484e-15,m=2.000000046307644, b=2.9999998328147144, iter=598\n",
      " cost=5.087556441739989e-15,m=2.000000045055128, b=2.999999837336691, iter=599\n",
      " cost=4.816065007297071e-15,m=2.000000043836491, b=2.9999998417363587, iter=600\n",
      " cost=4.559061356881592e-15,m=2.0000000426508153, b=2.9999998460170256, iter=601\n",
      " cost=4.315772508974082e-15,m=2.000000041497208, b=2.99999985018191, iter=602\n",
      " cost=4.085466383551531e-15,m=2.0000000403748053, b=2.9999998542341446, iter=603\n",
      " cost=3.867450373130623e-15,m=2.000000039282759, b=2.999999858176775, iter=604\n",
      " cost=3.661068450675061e-15,m=2.0000000382202514, b=2.999999862012767, iter=605\n",
      " cost=3.4656998931722005e-15,m=2.0000000371864806, b=2.9999998657450035, iter=606\n",
      " cost=3.280756905790774e-15,m=2.000000036180673, b=2.999999869376292, iter=607\n",
      " cost=3.1056831864715686e-15,m=2.000000035202068, b=2.9999998729093624, iter=608\n",
      " cost=2.93995207276092e-15,m=2.0000000342499344, b=2.999999876346872, iter=609\n",
      " cost=2.783065027154592e-15,m=2.0000000333235515, b=2.999999879691404, iter=610\n",
      " cost=2.634550045719407e-15,m=2.000000032422227, b=2.999999882945475, iter=611\n",
      " cost=2.493960355055658e-15,m=2.0000000315452797, b=2.99999988611153, iter=612\n",
      " cost=2.360873144175647e-15,m=2.000000030692053, b=2.9999998891919506, iter=613\n",
      " cost=2.2348879777822464e-15,m=2.000000029861903, b=2.999999892189053, iter=614\n",
      " cost=2.1156258016405167e-15,m=2.000000029054208, b=2.9999998951050912, iter=615\n",
      " cost=2.0027279270849575e-15,m=2.0000000282683583, b=2.999999897942257, iter=616\n",
      " cost=1.8958547390633683e-15,m=2.0000000275037646, b=2.999999900702684, iter=617\n",
      " cost=1.7946846843892124e-15,m=2.0000000267598503, b=2.9999999033884475, iter=618\n",
      " cost=1.6989134465020772e-15,m=2.000000026036059, b=2.999999906001568, iter=619\n",
      " cost=1.6082529487895745e-15,m=2.0000000253318424, b=2.9999999085440088, iter=620\n",
      " cost=1.5224304446256556e-15,m=2.0000000246466754, b=2.999999911017683, iter=621\n",
      " cost=1.4411877518222112e-15,m=2.000000023980039, b=2.9999999134244493, iter=622\n",
      " cost=1.3642804803926465e-15,m=2.0000000233314346, b=2.999999915766119, iter=623\n"
     ]
    },
    {
     "name": "stdout",
     "output_type": "stream",
     "text": [
      " cost=1.291477235629079e-15,m=2.000000022700373, b=2.9999999180444514, iter=624\n",
      " cost=1.2225590761280625e-15,m=2.0000000220863794, b=2.99999992026116, iter=625\n",
      " cost=1.1573186729525524e-15,m=2.0000000214889946, b=2.999999922417912, iter=626\n",
      " cost=1.0955597088101686e-15,m=2.0000000209077666, b=2.9999999245163287, iter=627\n",
      " cost=1.0370964926627878e-15,m=2.0000000203422594, b=2.999999926557988, iter=628\n",
      " cost=9.817530551795921e-16,m=2.0000000197920484, b=2.999999928544425, iter=629\n",
      " cost=9.293629982148697e-16,m=2.000000019256719, b=2.999999930477134, iter=630\n",
      " cost=8.797686140212255e-16,m=2.0000000187358693, b=2.9999999323575675, iter=631\n",
      " cost=8.328208274038475e-16,m=2.0000000182291067, b=2.9999999341871395, iter=632\n",
      " cost=7.883783085162685e-16,m=2.000000017736052, b=2.999999935967226, iter=633\n",
      " cost=7.463074562930642e-16,m=2.000000017256332, b=2.9999999376991644, iter=634\n",
      " cost=7.064816213651775e-16,m=2.000000016789589, b=2.9999999393842587, iter=635\n",
      " cost=6.687810649773406e-16,m=2.0000000163354685, b=2.9999999410237748, iter=636\n",
      " cost=6.330923702585846e-16,m=2.0000000158936317, b=2.999999942618946, iter=637\n",
      " cost=5.993081291895781e-16,m=2.000000015463746, b=2.9999999441709715, iter=638\n",
      " cost=5.673267696006955e-16,m=2.0000000150454866, b=2.9999999456810182, iter=639\n",
      " cost=5.370520355714082e-16,m=2.000000014638541, b=2.9999999471502217, iter=640\n",
      " cost=5.08392888995843e-16,m=2.000000014242602, b=2.999999948579686, iter=641\n",
      " cost=4.812631180245661e-16,m=2.000000013857373, b=2.9999999499704875, iter=642\n",
      " cost=4.55581076913386e-16,m=2.0000000134825626, b=2.9999999513236704, iter=643\n",
      " cost=4.312695294529474e-16,m=2.0000000131178908, b=2.999999952640253, iter=644\n",
      " cost=4.082553380067947e-16,m=2.0000000127630813, b=2.999999953921225, iter=645\n",
      " cost=3.8646927647904584e-16,m=2.00000001241787, b=2.99999995516755, iter=646\n",
      " cost=3.6584579820145727e-16,m=2.0000000120819954, b=2.9999999563801643, iter=647\n",
      " cost=3.463228943643794e-16,m=2.0000000117552044, b=2.99999995755998, iter=648\n",
      " cost=3.2784178292549406e-16,m=2.0000000114372543, b=2.999999958707885, iter=649\n",
      " cost=3.103468976661641e-16,m=2.0000000111279017, b=2.9999999598247413, iter=650\n",
      " cost=2.9378559129285506e-16,m=2.000000010826919, b=2.99999996091139, iter=651\n",
      " cost=2.78108084566759e-16,m=2.000000010534074, b=2.9999999619686464, iter=652\n",
      " cost=2.632671521477684e-16,m=2.0000000102491535, b=2.9999999629973075, iter=653\n",
      " cost=2.4921821468440255e-16,m=2.0000000099719357, b=2.9999999639981447, iter=654\n",
      " cost=2.3591898428752684e-16,m=2.0000000097022195, b=2.9999999649719125, iter=655\n",
      " cost=2.233294429972215e-16,m=2.000000009439795, b=2.9999999659193413, iter=656\n",
      " cost=2.1141173622843585e-16,m=2.000000009184472, b=2.999999966841145, iter=657\n",
      " cost=2.0013000018810582e-16,m=2.000000008936052, b=2.999999967738015, iter=658\n",
      " cost=1.8945030205793132e-16,m=2.0000000086943532, b=2.9999999686106276, iter=659\n",
      " cost=1.7934050993782137e-16,m=2.0000000084591902, b=2.9999999694596378, iter=660\n",
      " cost=1.6977022105175783e-16,m=2.0000000082303893, b=2.9999999702856845, iter=661\n",
      " cost=1.607106216795779e-16,m=2.0000000080077753, b=2.9999999710893883, iter=662\n",
      " cost=1.5213449836490596e-16,m=2.0000000077911846, b=2.999999971871354, iter=663\n",
      " cost=1.440160174888627e-16,m=2.00000000758045, b=2.999999972632169, iter=664\n",
      " cost=1.363307678962715e-16,m=2.0000000073754167, b=2.9999999733724056, iter=665\n",
      " cost=1.2905564108162195e-16,m=2.0000000071759287, b=2.9999999740926206, iter=666\n",
      " cost=1.2216874179541722e-16,m=2.000000006981836, b=2.9999999747933557, iter=667\n",
      " cost=1.1564935162463018e-16,m=2.0000000067929937, b=2.9999999754751374, iter=668\n",
      " cost=1.0947786760283467e-16,m=2.0000000066092585, b=2.9999999761384784, iter=669\n",
      " cost=1.036357064310384e-16,m=2.0000000064304944, b=2.9999999767838776, iter=670\n",
      " cost=9.810530710736483e-17,m=2.0000000062565633, b=2.99999997741182, iter=671\n",
      " cost=9.287003687202162e-17,m=2.0000000060873386, b=2.999999978022778, iter=672\n",
      " cost=8.79141383027369e-17,m=2.000000005922689, b=2.999999978617211, iter=673\n",
      " cost=8.322270841978502e-17,m=2.000000005762495, b=2.9999999791955667, iter=674\n",
      " cost=7.878161746798237e-17,m=2.000000005606632, b=2.9999999797582784, iter=675\n",
      " cost=7.457753629012791e-17,m=2.000000005454986, b=2.99999998030577, iter=676\n",
      " cost=7.059779783697456e-17,m=2.000000005307441, b=2.999999980838454, iter=677\n",
      " cost=6.683043323306543e-17,m=2.0000000051638867, b=2.9999999813567295, iter=678\n",
      " cost=6.326410400641176e-17,m=2.0000000050242157, b=2.999999981860987, iter=679\n",
      " cost=5.988808848130311e-17,m=2.0000000048883217, b=2.9999999823516057, iter=680\n",
      " cost=5.669222260733199e-17,m=2.000000004756105, b=2.9999999828289545, iter=681\n",
      " cost=5.366691091884123e-17,m=2.000000004627462, b=2.9999999832933915, iter=682\n",
      " cost=5.080304724582614e-17,m=2.0000000045023008, b=2.999999983745267, iter=683\n",
      " cost=4.809199611608119e-17,m=2.000000004380523, b=2.9999999841849196, iter=684\n",
      " cost=4.552562284300762e-17,m=2.0000000042620414, b=2.9999999846126815, iter=685\n",
      " cost=4.309620340562942e-17,m=2.000000004146761, b=2.9999999850288726, iter=686\n",
      " cost=4.079642800031101e-17,m=2.0000000040346024, b=2.9999999854338077, iter=687\n",
      " cost=3.8619373797713286e-17,m=2.000000003925474, b=2.9999999858277895, iter=688\n",
      " cost=3.655849938853835e-17,m=2.0000000038193004, b=2.9999999862111157, iter=689\n",
      " cost=3.4607595212133004e-17,m=2.0000000037159964, b=2.999999986584073, iter=690\n",
      " cost=3.2760798973409414e-17,m=2.000000003615488, b=2.999999986946943, iter=691\n",
      " cost=3.1012558383859103e-17,m=2.000000003517697, b=2.999999987299998, iter=692\n",
      " cost=2.935760734244068e-17,m=2.0000000034225516, b=2.9999999876435037, iter=693\n",
      " cost=2.779097794141815e-17,m=2.000000003329979, b=2.9999999879777186, iter=694\n",
      " cost=2.6307943604241545e-17,m=2.000000003239911, b=2.9999999883028936, iter=695\n",
      " cost=2.490405612319685e-17,m=2.0000000031522784, b=2.9999999886192734, iter=696\n",
      " cost=2.3575076754365497e-17,m=2.000000003067017, b=2.999999988927096, iter=697\n",
      " cost=2.2317021457441506e-17,m=2.0000000029840614, b=2.9999999892265925, iter=698\n",
      " cost=2.1126099640263653e-17,m=2.0000000029033487, b=2.9999999895179883, iter=699\n",
      " cost=1.9998729419109415e-17,m=2.000000002824821, b=2.999999989801503, iter=700\n",
      " cost=1.893152289368322e-17,m=2.000000002748415, b=2.9999999900773484, iter=701\n",
      " cost=1.7921261241523367e-17,m=2.0000000026740774, b=2.9999999903457333, iter=702\n",
      " cost=1.696491626854238e-17,m=2.000000002601749, b=2.9999999906068586, iter=703\n",
      " cost=1.6059604660776816e-17,m=2.0000000025313787, b=2.9999999908609216, iter=704\n",
      " cost=1.5202602596545705e-17,m=2.00000000246291, b=2.9999999911081123, iter=705\n",
      " cost=1.4391335550783058e-17,m=2.0000000023962947, b=2.9999999913486177, iter=706\n",
      " cost=1.3623356212709361e-17,m=2.0000000023314795, b=2.999999991582617, iter=707\n",
      " cost=1.2896364058981451e-17,m=2.0000000022684192, b=2.9999999918102884, iter=708\n",
      " cost=1.2208161681679272e-17,m=2.000000002207063, b=2.999999992031801, iter=709\n",
      " cost=1.155668887011486e-17,m=2.0000000021473676, b=2.9999999922473224, iter=710\n",
      " cost=1.0939979148995296e-17,m=2.000000002089286, b=2.9999999924570147, iter=711\n",
      " cost=1.0356184076045257e-17,m=2.0000000020327753, b=2.999999992661035, iter=712\n",
      " cost=9.803535962244128e-18,m=2.000000001977794, b=2.999999992859537, iter=713\n",
      " cost=9.280381362335918e-18,m=2.0000000019242985, b=2.99999999305267, iter=714\n",
      " cost=8.785145202446772e-18,m=2.0000000018722512, b=2.99999999324058, iter=715\n",
      " cost=8.316337538079158e-18,m=2.0000000018216104, b=2.9999999934234065, iter=716\n",
      " cost=7.872544808221646e-18,m=2.000000001772341, b=2.999999993601288, iter=717\n",
      " cost=7.452434621425758e-18,m=2.0000000017244024, b=2.999999993774358, iter=718\n",
      " cost=7.05474435439521e-18,m=2.0000000016777624, b=2.999999993942748, iter=719\n",
      " cost=6.678275882072254e-18,m=2.000000001632382, b=2.9999999941065822, iter=720\n",
      " cost=6.321899502788195e-18,m=2.0000000015882304, b=2.999999994265986, iter=721\n",
      " cost=5.984538784528759e-18,m=2.000000001545272, b=2.9999999944210773, iter=722\n",
      " cost=5.6651825399017985e-18,m=2.000000001503476, b=2.9999999945719744, iter=723\n",
      " cost=5.3628652894682786e-18,m=2.0000000014628108, b=2.99999999471879, iter=724\n",
      " cost=5.0766830983742304e-18,m=2.0000000014232446, b=2.9999999948616343, iter=725\n",
      " cost=4.805771679422691e-18,m=2.0000000013847496, b=2.9999999950006155, iter=726\n",
      " cost=4.5493183947680156e-18,m=2.0000000013472947, b=2.999999995135837, iter=727\n",
      " cost=4.3065498461013775e-18,m=2.000000001310854, b=2.9999999952674017, iter=728\n",
      " cost=4.0767347039969604e-18,m=2.000000001275398, b=2.9999999953954073, iter=729\n",
      " cost=3.859184844695866e-18,m=2.000000001240902, b=2.9999999955199512, iter=730\n",
      " cost=3.65324470173092e-18,m=2.000000001207338, b=2.999999995641126, iter=731\n",
      " cost=3.458292755370696e-18,m=2.000000001174683, b=2.9999999957590235, iter=732\n",
      " cost=3.2737467391636424e-18,m=2.0000000011429093, b=2.999999995873732, iter=733\n",
      " cost=3.099046931502976e-18,m=2.0000000011119976, b=2.999999995985338, iter=734\n",
      " cost=2.9336697259753203e-18,m=2.00000000108192, b=2.999999996093925, iter=735\n",
      " cost=2.7771175059895685e-18,m=2.000000001052657, b=2.9999999961995756, iter=736\n",
      " cost=2.6289190478198043e-18,m=2.0000000010241847, b=2.999999996302368, iter=737\n",
      " cost=2.48863082450008e-18,m=2.000000000996483, b=2.9999999964023805, iter=738\n",
      " cost=2.3558286441566238e-18,m=2.0000000009695307, b=2.999999996499688, iter=739\n",
      " cost=2.2301113771335912e-18,m=2.0000000009433063, b=2.9999999965943633, iter=740\n",
      " cost=2.1111046014912815e-18,m=2.000000000917793, b=2.999999996686478, iter=741\n",
      " cost=1.998448291043049e-18,m=2.0000000008929675, b=2.999999996776101, iter=742\n",
      " cost=1.891803493360264e-18,m=2.0000000008688166, b=2.9999999968633007, iter=743\n",
      " cost=1.7908484033523714e-18,m=2.0000000008453154, b=2.999999996948141, iter=744\n",
      " cost=1.6952825686267863e-18,m=2.0000000008224528, b=2.9999999970306868, iter=745\n",
      " cost=1.6048157560893625e-18,m=2.0000000008002066, b=2.9999999971109994, iter=746\n",
      " cost=1.519176317507584e-18,m=2.0000000007785634, b=2.9999999971891405, iter=747\n",
      " cost=1.4381079594315513e-18,m=2.0000000007575043, b=2.9999999972651676, iter=748\n",
      " cost=1.36136521855257e-18,m=2.0000000007370167, b=2.9999999973391387, iter=749\n",
      " cost=1.2887172685611294e-18,m=2.0000000007170806, b=2.9999999974111087, iter=750\n",
      " cost=1.2199463611376609e-18,m=2.000000000697687, b=2.9999999974811327, iter=751\n"
     ]
    },
    {
     "name": "stdout",
     "output_type": "stream",
     "text": [
      " cost=1.1548458810001985e-18,m=2.0000000006788143, b=2.9999999975492617, iter=752\n",
      " cost=1.0932181895991652e-18,m=2.0000000006604557, b=2.999999997615549, iter=753\n",
      " cost=1.034880721471997e-18,m=2.0000000006425895, b=2.9999999976800424, iter=754\n",
      " cost=9.796547277287717e-19,m=2.0000000006252114, b=2.9999999977427927, iter=755\n",
      " cost=9.273765491320285e-19,m=2.0000000006082987, b=2.9999999978038443, iter=756\n",
      " cost=8.77888233707648e-19,m=2.000000000591848, b=2.9999999978632457, iter=757\n",
      " cost=8.310409108585063e-19,m=2.0000000005758376, b=2.9999999979210394, iter=758\n",
      " cost=7.866933308831736e-19,m=2.0000000005602647, b=2.999999997977271, iter=759\n",
      " cost=7.44712309917287e-19,m=2.0000000005451084, b=2.9999999980319805, iter=760\n",
      " cost=7.049723718834706e-19,m=2.000000000530367, b=2.9999999980852117, iter=761\n",
      " cost=6.67351770785807e-19,m=2.0000000005160197, b=2.999999998137002, iter=762\n",
      " cost=6.317388553066741e-19,m=2.000000000502064, b=2.999999998187392, iter=763\n",
      " cost=5.980272862076605e-19,m=2.000000000488483, b=2.9999999982364187, iter=764\n",
      " cost=5.661144918991054e-19,m=2.000000000475272, b=2.9999999982841197, iter=765\n",
      " cost=5.359038294794252e-19,m=2.0000000004624163, b=2.99999999833053, iter=766\n",
      " cost=5.073064138269787e-19,m=2.000000000449909, b=2.9999999983756855, iter=767\n",
      " cost=4.802341080163544e-19,m=2.00000000043774, b=2.9999999984196197, iter=768\n",
      " cost=4.546071880232971e-19,m=2.0000000004259, b=2.9999999984623655, iter=769\n",
      " cost=4.303476212263711e-19,m=2.0000000004143805, b=2.999999998503955, iter=770\n",
      " cost=4.073830817854882e-19,m=2.000000000403172, b=2.9999999985444195, iter=771\n",
      " cost=3.856430618817085e-19,m=2.000000000392268, b=2.9999999985837897, iter=772\n",
      " cost=3.650633489530016e-19,m=2.0000000003816574, b=2.9999999986220947, iter=773\n",
      " cost=3.4558279548728005e-19,m=2.000000000371335, b=2.999999998659364, iter=774\n",
      " cost=3.2714099106909807e-19,m=2.0000000003612906, b=2.9999999986956247, iter=775\n",
      " cost=3.096833150957537e-19,m=2.0000000003515193, b=2.9999999987309054, iter=776\n",
      " cost=2.9315758163289856e-19,m=2.000000000342011, b=2.9999999987652313, iter=777\n",
      " cost=2.775136382159747e-19,m=2.000000000332761, b=2.999999998798629, iter=778\n",
      " cost=2.6270444912063556e-19,m=2.0000000003237597, b=2.999999998831123, iter=779\n",
      " cost=2.4868564841198565e-19,m=2.0000000003150036, b=2.9999999988627386, iter=780\n",
      " cost=2.3541486910278857e-19,m=2.000000000306483, b=2.999999998893499, iter=781\n",
      " cost=2.2285179901239243e-19,m=2.000000000298194, b=2.9999999989234274, iter=782\n",
      " cost=2.1095952824844072e-19,m=2.000000000290128, b=2.999999998952546, iter=783\n",
      " cost=1.9970265163541279e-19,m=2.0000000002822804, b=2.999999998980877, iter=784\n",
      " cost=1.8904571156772555e-19,m=2.0000000002746456, b=2.999999999008442, iter=785\n",
      " cost=1.789576027393957e-19,m=2.000000000267217, b=2.9999999990352615, iter=786\n",
      " cost=1.694077086867124e-19,m=2.0000000002599894, b=2.9999999990613553, iter=787\n",
      " cost=1.6036721021344485e-19,m=2.0000000002529577, b=2.9999999990867434, iter=788\n",
      " cost=1.5180917426343875e-19,m=2.0000000002461156, b=2.999999999111445, iter=789\n",
      " cost=1.4370825370035052e-19,m=2.0000000002394587, b=2.999999999135478, iter=790\n",
      " cost=1.3603933501435792e-19,m=2.0000000002329816, b=2.9999999991588613, iter=791\n",
      " cost=1.2877996379965317e-19,m=2.0000000002266805, b=2.9999999991816124, iter=792\n",
      " cost=1.2190792477578367e-19,m=2.000000000220549, b=2.9999999992037476, iter=793\n",
      " cost=1.1540220971745828e-19,m=2.000000000214584, b=2.9999999992252846, iter=794\n",
      " cost=1.09243992216047e-19,m=2.0000000002087797, b=2.999999999246239, iter=795\n",
      " cost=1.0341404892010297e-19,m=2.000000000203133, b=2.9999999992666266, iter=796\n",
      " cost=9.789576033779127e-20,m=2.0000000001976384, b=2.9999999992864628, iter=797\n",
      " cost=9.267132834966487e-20,m=2.000000000192293, b=2.9999999993057624, iter=798\n",
      " cost=8.772623742676278e-20,m=2.0000000001870917, b=2.99999999932454, iter=799\n",
      " cost=8.304485436369195e-20,m=2.0000000001820313, b=2.9999999993428093, iter=800\n",
      " cost=7.861309137064912e-20,m=2.000000000177108, b=2.999999999360585, iter=801\n",
      " cost=7.441829448510146e-20,m=2.0000000001723173, b=2.9999999993778794, iter=802\n",
      " cost=7.044704619074208e-20,m=2.000000000167657, b=2.9999999993947064, iter=803\n",
      " cost=6.668753318002607e-20,m=2.0000000001631215, b=2.999999999411078, iter=804\n",
      " cost=6.312874827747659e-20,m=2.0000000001587104, b=2.9999999994270072, iter=805\n",
      " cost=5.97600575823977e-20,m=2.0000000001544165, b=2.999999999442505, iter=806\n",
      " cost=5.657109129462709e-20,m=2.000000000150241, b=2.9999999994575846, iter=807\n",
      " cost=5.3552101008888283e-20,m=2.0000000001461764, b=2.9999999994722555, iter=808\n",
      " cost=5.069453167334123e-20,m=2.0000000001422236, b=2.99999999948653, iter=809\n",
      " cost=4.798921583001456e-20,m=2.0000000001383755, b=2.999999999500418, iter=810\n",
      " cost=4.542816531497872e-20,m=2.000000000134634, b=2.9999999995139306, iter=811\n",
      " cost=4.300400009149621e-20,m=2.0000000001309917, b=2.9999999995270774, iter=812\n",
      " cost=4.070923227292202e-20,m=2.000000000127449, b=2.999999999539869, iter=813\n",
      " cost=3.853684594035988e-20,m=2.0000000001240017, b=2.999999999552314, iter=814\n",
      " cost=3.648040767359247e-20,m=2.000000000120648, b=2.999999999564423, iter=815\n",
      " cost=3.453366924317979e-20,m=2.0000000001173843, b=2.9999999995762043, iter=816\n",
      " cost=3.269082182782779e-20,m=2.00000000011421, b=2.999999999587667, iter=817\n",
      " cost=3.094620721398875e-20,m=2.0000000001111204, b=2.9999999995988196, iter=818\n",
      " cost=2.929485961045895e-20,m=2.000000000108115, b=2.9999999996096705, iter=819\n",
      " cost=2.773167307542853e-20,m=2.000000000105191, b=2.9999999996202282, iter=820\n",
      " cost=2.625170222363212e-20,m=2.0000000001023452, b=2.9999999996305, iter=821\n",
      " cost=2.4850892061999022e-20,m=2.0000000000995777, b=2.9999999996404942, iter=822\n",
      " cost=2.3524667462493986e-20,m=2.000000000096884, b=2.999999999650218, iter=823\n",
      " cost=2.2269354743426524e-20,m=2.0000000000942637, b=2.999999999659679, iter=824\n",
      " cost=2.1080978911372505e-20,m=2.0000000000917137, b=2.9999999996688835, iter=825\n",
      " cost=1.9956058733254607e-20,m=2.0000000000892335, b=2.9999999996778395, iter=826\n",
      " cost=1.8891080791259437e-20,m=2.0000000000868194, b=2.999999999686553, iter=827\n",
      " cost=1.7883035432569957e-20,m=2.000000000084472, b=2.999999999695031, iter=828\n",
      " cost=1.6928835226470403e-20,m=2.0000000000821863, b=2.9999999997032796, iter=829\n",
      " cost=1.6025341957430972e-20,m=2.0000000000799645, b=2.9999999997113056, iter=830\n",
      " cost=1.5170203188905297e-20,m=2.0000000000778, b=2.9999999997191136, iter=831\n",
      " cost=1.436066182284178e-20,m=2.0000000000756972, b=2.9999999997267115, iter=832\n",
      " cost=1.359427620899433e-20,m=2.0000000000736486, b=2.999999999734103, iter=833\n",
      " cost=1.2868770687019727e-20,m=2.000000000071658, b=2.999999999741295, iter=834\n",
      " cost=1.2182130467669625e-20,m=2.0000000000697185, b=2.999999999748292, iter=835\n",
      " cost=1.1532051599524385e-20,m=2.0000000000678337, b=2.9999999997551003, iter=836\n",
      " cost=1.0916626276600591e-20,m=2.000000000065998, b=2.999999999761724, iter=837\n",
      " cost=1.0334104863470623e-20,m=2.0000000000642144, b=2.999999999768169, iter=838\n",
      " cost=9.782732535422059e-21,m=2.000000000062476, b=2.999999999774439, iter=839\n",
      " cost=9.26065781114011e-21,m=2.000000000060788, b=2.9999999997805404, iter=840\n",
      " cost=8.76637224579017e-21,m=2.000000000059142, b=2.9999999997864757, iter=841\n",
      " cost=8.298616197322837e-21,m=2.000000000057544, b=2.9999999997922515, iter=842\n",
      " cost=7.855754242065666e-21,m=2.000000000055986, b=2.99999999979787, iter=843\n",
      " cost=7.436584831895125e-21,m=2.0000000000544733, b=2.9999999998033378, iter=844\n",
      " cost=7.039728497579165e-21,m=2.000000000052998, b=2.9999999998086566, iter=845\n",
      " cost=6.66401466419775e-21,m=2.0000000000515663, b=2.9999999998138325, iter=846\n",
      " cost=6.308446712020037e-21,m=2.00000000005017, b=2.9999999998188676, iter=847\n",
      " cost=5.971759165370229e-21,m=2.0000000000488143, b=2.999999999823767, iter=848\n",
      " cost=5.6530835852637944e-21,m=2.0000000000474927, b=2.9999999998285336, iter=849\n",
      " cost=5.3514340708541024e-21,m=2.0000000000462093, b=2.9999999998331717, iter=850\n",
      " cost=5.0658951921324486e-21,m=2.0000000000449587, b=2.9999999998376836, iter=851\n",
      " cost=4.7955705156495885e-21,m=2.0000000000437432, b=2.999999999842074, iter=852\n",
      " cost=4.539609788189212e-21,m=2.0000000000425597, b=2.999999999846345, iter=853\n",
      " cost=4.297397061161181e-21,m=2.000000000041409, b=2.9999999998505014, iter=854\n",
      " cost=4.068073244056009e-21,m=2.000000000040288, b=2.999999999854545, iter=855\n",
      " cost=3.8509804983495396e-21,m=2.0000000000391993, b=2.9999999998584794, iter=856\n",
      " cost=3.64546891467412e-21,m=2.0000000000381384, b=2.999999999862307, iter=857\n",
      " cost=3.450908683522416e-21,m=2.000000000037107, b=2.9999999998660316, iter=858\n",
      " cost=3.266760709184715e-21,m=2.0000000000361036, b=2.999999999869655, iter=859\n",
      " cost=3.0924088395447624e-21,m=2.000000000035127, b=2.9999999998731806, iter=860\n",
      " cost=2.927415471370327e-21,m=2.0000000000341767, b=2.9999999998766107, iter=861\n",
      " cost=2.77119566950667e-21,m=2.0000000000332525, b=2.999999999879948, iter=862\n",
      " cost=2.6233595321938653e-21,m=2.000000000032353, b=2.999999999883195, iter=863\n",
      " cost=2.4833094982428405e-21,m=2.000000000031478, b=2.9999999998863545, iter=864\n",
      " cost=2.3507769136570313e-21,m=2.000000000030627, b=2.9999999998894284, iter=865\n",
      " cost=2.2253971378959623e-21,m=2.0000000000297975, b=2.999999999892419, iter=866\n",
      " cost=2.106572878298814e-21,m=2.0000000000289933, b=2.999999999895329, iter=867\n"
     ]
    },
    {
     "name": "stdout",
     "output_type": "stream",
     "text": [
      " cost=1.994206964872547e-21,m=2.0000000000282077, b=2.9999999998981597, iter=868\n",
      " cost=1.887788548492109e-21,m=2.000000000027445, b=2.9999999999009144, iter=869\n",
      " cost=1.787044867088884e-21,m=2.0000000000267026, b=2.9999999999035944, iter=870\n",
      " cost=1.6916639392699475e-21,m=2.0000000000259806, b=2.999999999906202, iter=871\n",
      " cost=1.601429377806871e-21,m=2.0000000000252776, b=2.9999999999087392, iter=872\n",
      " cost=1.5159225260131e-21,m=2.000000000024594, b=2.9999999999112075, iter=873\n",
      " cost=1.4350256386676936e-21,m=2.000000000023929, b=2.999999999913609, iter=874\n",
      " cost=1.3584633605584684e-21,m=2.000000000023282, b=2.999999999915946, iter=875\n",
      " cost=1.2859741822443052e-21,m=2.0000000000226517, b=2.999999999918219, iter=876\n",
      " cost=1.217357952516382e-21,m=2.0000000000220397, b=2.9999999999204316, iter=877\n",
      " cost=1.1523815435712275e-21,m=2.000000000021443, b=2.9999999999225837, iter=878\n",
      " cost=1.0908601702638202e-21,m=2.0000000000208633, b=2.9999999999246776, iter=879\n",
      " cost=1.0326828983982743e-21,m=2.000000000020299, b=2.999999999926715, iter=880\n",
      " cost=9.775416020604545e-22,m=2.00000000001975, b=2.999999999928697, iter=881\n",
      " cost=9.25400933655375e-22,m=2.0000000000192153, b=2.9999999999306257, iter=882\n",
      " cost=8.760131359540777e-22,m=2.0000000000186957, b=2.9999999999325024, iter=883\n",
      " cost=8.292545505920478e-22,m=2.0000000000181903, b=2.999999999934328, iter=884\n",
      " cost=7.850087101452387e-22,m=2.000000000017698, b=2.9999999999361044, iter=885\n",
      " cost=7.4311107163945665e-22,m=2.0000000000172196, b=2.999999999937833, iter=886\n",
      " cost=7.034527798428458e-22,m=2.0000000000167533, b=2.999999999939514, iter=887\n",
      " cost=6.65904344815536e-22,m=2.0000000000163007, b=2.99999999994115, iter=888\n",
      " cost=6.30364512789354e-22,m=2.0000000000158598, b=2.999999999942742, iter=889\n",
      " cost=5.967390205659246e-22,m=2.0000000000154303, b=2.9999999999442903, iter=890\n",
      " cost=5.648845546801909e-22,m=2.0000000000150138, b=2.9999999999457976, iter=891\n",
      " cost=5.347443750493674e-22,m=2.0000000000146065, b=2.999999999947263, iter=892\n",
      " cost=5.062327578943778e-22,m=2.0000000000142126, b=2.99999999994869, iter=893\n",
      " cost=4.792043674263488e-22,m=2.000000000013827, b=2.9999999999500773, iter=894\n",
      " cost=4.53635460667527e-22,m=2.000000000013454, b=2.9999999999514277, iter=895\n",
      " cost=4.294364266478397e-22,m=2.00000000001309, b=2.9999999999527414, iter=896\n",
      " cost=4.0650737979946766e-22,m=2.0000000000127356, b=2.9999999999540194, iter=897\n",
      " cost=3.8482082358669855e-22,m=2.0000000000123914, b=2.9999999999552633, iter=898\n",
      " cost=3.642894620306719e-22,m=2.0000000000120566, b=2.9999999999564735, iter=899\n",
      " cost=3.4484605325891537e-22,m=2.0000000000117297, b=2.9999999999576503, iter=900\n",
      " cost=3.264357747517319e-22,m=2.0000000000114135, b=2.999999999958796, iter=901\n",
      " cost=3.0901576201634233e-22,m=2.0000000000111036, b=2.9999999999599103, iter=902\n",
      " cost=2.925439681354096e-22,m=2.0000000000108042, b=2.9999999999609948, iter=903\n",
      " cost=2.7692576435241496e-22,m=2.000000000010511, b=2.9999999999620495, iter=904\n",
      " cost=2.6214893089639206e-22,m=2.000000000010228, b=2.999999999963076, iter=905\n",
      " cost=2.4816709347462224e-22,m=2.0000000000099503, b=2.9999999999640745, iter=906\n",
      " cost=2.3492829960115386e-22,m=2.0000000000096816, b=2.9999999999650466, iter=907\n",
      " cost=2.223790114951601e-22,m=2.0000000000094196, b=2.999999999965992, iter=908\n",
      " cost=2.105085871074851e-22,m=2.000000000009165, b=2.999999999966912, iter=909\n",
      " cost=1.9928121278412061e-22,m=2.0000000000089164, b=2.9999999999678066, iter=910\n",
      " cost=1.8865308591889898e-22,m=2.000000000008676, b=2.9999999999686775, iter=911\n",
      " cost=1.7857912658207474e-22,m=2.000000000008441, b=2.9999999999695244, iter=912\n",
      " cost=1.6905708257576356e-22,m=2.000000000008213, b=2.999999999970349, iter=913\n",
      " cost=1.6003216104143836e-22,m=2.0000000000079905, b=2.999999999971151, iter=914\n",
      " cost=1.5147556902937515e-22,m=2.000000000007775, b=2.9999999999719313, iter=915\n",
      " cost=1.4339963391116763e-22,m=2.0000000000075637, b=2.9999999999726903, iter=916\n",
      " cost=1.3575074391083607e-22,m=2.0000000000073603, b=2.9999999999734293, iter=917\n",
      " cost=1.2851206237008034e-22,m=2.00000000000716, b=2.999999999974148, iter=918\n",
      " cost=1.2165240924607722e-22,m=2.0000000000069673, b=2.9999999999748472, iter=919\n",
      " cost=1.1515054524781456e-22,m=2.000000000006778, b=2.9999999999755276, iter=920\n",
      " cost=1.0900848922812096e-22,m=2.0000000000065956, b=2.9999999999761897, iter=921\n",
      " cost=1.0319235598235702e-22,m=2.000000000006416, b=2.9999999999768336, iter=922\n",
      " cost=9.768140998608468e-23,m=2.000000000006244, b=2.9999999999774607, iter=923\n",
      " cost=9.246954356263133e-23,m=2.000000000006074, b=2.99999999997807, iter=924\n",
      " cost=8.753010835952987e-23,m=2.0000000000059104, b=2.9999999999786633, iter=925\n",
      " cost=8.285966809867718e-23,m=2.00000000000575, b=2.99999999997924, iter=926\n",
      " cost=7.84472124906469e-23,m=2.000000000005595, b=2.999999999979802, iter=927\n",
      " cost=7.425947432443278e-23,m=2.000000000005443, b=2.999999999980348, iter=928\n",
      " cost=7.029469554462143e-23,m=2.000000000005296, b=2.9999999999808797, iter=929\n",
      " cost=6.654254160003793e-23,m=2.0000000000051528, b=2.9999999999813967, iter=930\n",
      " cost=6.299257980521072e-23,m=2.0000000000050138, b=2.9999999999819, iter=931\n",
      " cost=5.962686389009037e-23,m=2.000000000004878, b=2.999999999982389, iter=932\n",
      " cost=5.645091162116457e-23,m=2.000000000004746, b=2.9999999999828657, iter=933\n",
      " cost=5.343686406002106e-23,m=2.0000000000046176, b=2.9999999999833293, iter=934\n",
      " cost=5.058438341642023e-23,m=2.0000000000044924, b=2.99999999998378, iter=935\n",
      " cost=4.788580701107312e-23,m=2.000000000004371, b=2.999999999984219, iter=936\n",
      " cost=4.5330106095208206e-23,m=2.000000000004253, b=2.9999999999846456, iter=937\n",
      " cost=4.290848865626461e-23,m=2.000000000004138, b=2.999999999985061, iter=938\n",
      " cost=4.062549932191731e-23,m=2.0000000000040257, b=2.999999999985465, iter=939\n",
      " cost=3.844897954627625e-23,m=2.0000000000039178, b=2.9999999999858584, iter=940\n",
      " cost=3.64027287895354e-23,m=2.0000000000038103, b=2.9999999999862403, iter=941\n",
      " cost=3.44598771870855e-23,m=2.000000000003709, b=2.999999999986613, iter=942\n",
      " cost=3.2619310078467453e-23,m=2.000000000003607, b=2.9999999999869744, iter=943\n",
      " cost=3.0876994648961604e-23,m=2.0000000000035114, b=2.999999999987327, iter=944\n",
      " cost=2.923721236224494e-23,m=2.000000000003414, b=2.999999999987669, iter=945\n",
      " cost=2.7676850382655385e-23,m=2.0000000000033245, b=2.9999999999880034, iter=946\n",
      " cost=2.61971210316321e-23,m=2.000000000003232, b=2.999999999988327, iter=947\n",
      " cost=2.480334880474095e-23,m=2.0000000000031464, b=2.9999999999886433, iter=948\n",
      " cost=2.3476853317974129e-23,m=2.0000000000030598, b=2.99999999998895, iter=949\n",
      " cost=2.2223648846873035e-23,m=2.0000000000029785, b=2.9999999999892495, iter=950\n",
      " cost=2.1036875772550235e-23,m=2.0000000000028963, b=2.99999999998954, iter=951\n",
      " cost=1.991462394720982e-23,m=2.0000000000028195, b=2.9999999999898233, iter=952\n",
      " cost=1.8851864855897556e-23,m=2.0000000000027423, b=2.999999999990098, iter=953\n",
      " cost=1.7848182611144208e-23,m=2.0000000000026685, b=2.999999999990366, iter=954\n",
      " cost=1.689298170658739e-23,m=2.000000000002596, b=2.999999999990626, iter=955\n",
      " cost=1.5994149962418403e-23,m=2.000000000002526, b=2.9999999999908797, iter=956\n",
      " cost=1.5138531072004338e-23,m=2.0000000000024576, b=2.9999999999911267, iter=957\n",
      " cost=1.4333920085494047e-23,m=2.000000000002391, b=2.999999999991367, iter=958\n",
      " cost=1.3565618157640542e-23,m=2.0000000000023266, b=2.9999999999916005, iter=959\n",
      " cost=1.2842618933852071e-23,m=2.000000000002264, b=2.999999999991828, iter=960\n",
      " cost=1.215643821509298e-23,m=2.000000000002202, b=2.9999999999920486, iter=961\n",
      " cost=1.1510017032590113e-23,m=2.000000000002143, b=2.999999999992264, iter=962\n",
      " cost=1.089276950408413e-23,m=2.0000000000020846, b=2.999999999992473, iter=963\n",
      " cost=1.0314069190395229e-23,m=2.0000000000020286, b=2.999999999992677, iter=964\n",
      " cost=9.762020226844858e-24,m=2.000000000001973, b=2.999999999992875, iter=965\n",
      " cost=9.239659096829393e-24,m=2.0000000000019202, b=2.9999999999930678, iter=966\n",
      " cost=8.746820612875282e-24,m=2.0000000000018683, b=2.999999999993255, iter=967\n",
      " cost=8.280310203860741e-24,m=2.0000000000018177, b=2.9999999999934377, iter=968\n",
      " cost=7.83863061178766e-24,m=2.0000000000017684, b=2.9999999999936153, iter=969\n",
      " cost=7.421650096884869e-24,m=2.0000000000017204, b=2.999999999993788, iter=970\n",
      " cost=7.023089957435531e-24,m=2.0000000000016747, b=2.9999999999939564, iter=971\n",
      " cost=6.650040790800136e-24,m=2.000000000001628, b=2.9999999999941194, iter=972\n",
      " cost=6.294279037586115e-24,m=2.0000000000015854, b=2.999999999994279, iter=973\n",
      " cost=5.956474756246365e-24,m=2.0000000000015414, b=2.9999999999944333, iter=974\n",
      " cost=5.6398600676817556e-24,m=2.0000000000015006, b=2.9999999999945843, iter=975\n",
      " cost=5.338535396726503e-24,m=2.0000000000014593, b=2.9999999999947304, iter=976\n",
      " cost=5.055806543890025e-24,m=2.0000000000014198, b=2.999999999994873, iter=977\n",
      " cost=4.784585278394549e-24,m=2.000000000001382, b=2.999999999995012, iter=978\n",
      " cost=4.5288315242121035e-24,m=2.000000000001344, b=2.9999999999951465, iter=979\n",
      " cost=4.287517080038824e-24,m=2.0000000000013083, b=2.999999999995278, iter=980\n",
      " cost=4.0588029533324576e-24,m=2.0000000000012723, b=2.9999999999954055, iter=981\n",
      " cost=3.8406671358207434e-24,m=2.0000000000012386, b=2.99999999999553, iter=982\n",
      " cost=3.63652571076765e-24,m=2.0000000000012044, b=2.9999999999956506, iter=983\n",
      " cost=3.443650797162923e-24,m=2.000000000001172, b=2.9999999999957683, iter=984\n",
      " cost=3.2604077174387638e-24,m=2.0000000000011404, b=2.999999999995883, iter=985\n",
      " cost=3.085998617675631e-24,m=2.00000000000111, b=2.9999999999959943, iter=986\n",
      " cost=2.9205449824529297e-24,m=2.000000000001079, b=2.9999999999961027, iter=987\n",
      " cost=2.765329341830368e-24,m=2.0000000000010507, b=2.9999999999962084, iter=988\n",
      " cost=2.618135469980817e-24,m=2.000000000001021, b=2.9999999999963105, iter=989\n",
      " cost=2.4772518542843103e-24,m=2.000000000000995, b=2.999999999996411, iter=990\n",
      " cost=2.3438635215926703e-24,m=2.000000000000967, b=2.9999999999965077, iter=991\n",
      " cost=2.219870522282213e-24,m=2.0000000000009415, b=2.9999999999966023, iter=992\n",
      " cost=2.1019325037358695e-24,m=2.0000000000009157, b=2.999999999996694, iter=993\n",
      " cost=1.9894164839632914e-24,m=2.0000000000008904, b=2.9999999999967835, iter=994\n",
      " cost=1.8822626673078625e-24,m=2.0000000000008673, b=2.999999999996871, iter=995\n",
      " cost=1.7819635786022613e-24,m=2.0000000000008424, b=2.9999999999969553, iter=996\n",
      " cost=1.687158432784981e-24,m=2.000000000000821, b=2.999999999997038, iter=997\n",
      " cost=1.5968652558012031e-24,m=2.0000000000007976, b=2.9999999999971174, iter=998\n",
      " cost=1.5126502520921528e-24,m=2.0000000000007776, b=2.999999999997196, iter=999\n",
      " cost=1.4316437034568175e-24,m=2.0000000000007554, b=2.9999999999972715, iter=1000\n",
      " cost=1.3550460984207625e-24,m=2.0000000000007354, b=2.9999999999973457, iter=1001\n",
      " cost=1.2820441213907048e-24,m=2.000000000000715, b=2.999999999997417, iter=1002\n"
     ]
    },
    {
     "name": "stdout",
     "output_type": "stream",
     "text": [
      " cost=1.213627319486154e-24,m=2.0000000000006963, b=2.9999999999974873, iter=1003\n",
      " cost=1.1495359996971106e-24,m=2.0000000000006763, b=2.999999999997555, iter=1004\n",
      " cost=1.0886892648112415e-24,m=2.0000000000006595, b=2.9999999999976215, iter=1005\n",
      " cost=1.0299786074845297e-24,m=2.0000000000006404, b=2.9999999999976854, iter=1006\n",
      " cost=9.748025203297513e-25,m=2.0000000000006244, b=2.9999999999977485, iter=1007\n",
      " cost=9.22796391836513e-25,m=2.000000000000606, b=2.999999999997809, iter=1008\n",
      " cost=8.731573193754809e-25,m=2.000000000000591, b=2.9999999999978684, iter=1009\n",
      " cost=8.271302832272746e-25,m=2.0000000000005738, b=2.9999999999979257, iter=1010\n",
      " cost=7.833672778770527e-25,m=2.00000000000056, b=2.999999999997982, iter=1011\n",
      " cost=7.4146377545261775e-25,m=2.000000000000543, b=2.9999999999980362, iter=1012\n",
      " cost=7.024522371067231e-25,m=2.0000000000005294, b=2.9999999999980895, iter=1013\n",
      " cost=6.641593510454847e-25,m=2.000000000000515, b=2.999999999998141, iter=1014\n",
      " cost=6.292601445985071e-25,m=2.0000000000005005, b=2.9999999999981912, iter=1015\n",
      " cost=5.958413145262674e-25,m=2.0000000000004876, b=2.9999999999982405, iter=1016\n",
      " cost=5.635970983419017e-25,m=2.000000000000474, b=2.999999999998288, iter=1017\n",
      " cost=5.333419160439602e-25,m=2.000000000000462, b=2.9999999999983347, iter=1018\n",
      " cost=5.046971143979369e-25,m=2.0000000000004485, b=2.9999999999983795, iter=1019\n",
      " cost=4.779727157395836e-25,m=2.000000000000437, b=2.9999999999984235, iter=1020\n",
      " cost=4.522523792413956e-25,m=2.000000000000425, b=2.999999999998466, iter=1021\n",
      " cost=4.278636399512207e-25,m=2.0000000000004134, b=2.9999999999985074, iter=1022\n",
      " cost=4.058545784677356e-25,m=2.000000000000402, b=2.999999999998548, iter=1023\n",
      " cost=3.836325245398407e-25,m=2.0000000000003912, b=2.9999999999985874, iter=1024\n",
      " cost=3.6327865100769025e-25,m=2.0000000000003806, b=2.9999999999986255, iter=1025\n",
      " cost=3.435168964709987e-25,m=2.000000000000371, b=2.999999999998663, iter=1026\n",
      " cost=3.2544929961435975e-25,m=2.00000000000036, b=2.999999999998699, iter=1027\n",
      " cost=3.0848437253103877e-25,m=2.000000000000351, b=2.999999999998734, iter=1028\n",
      " cost=2.9175421045311155e-25,m=2.000000000000341, b=2.999999999998768, iter=1029\n",
      " cost=2.7606881575805906e-25,m=2.0000000000003326, b=2.9999999999988014, iter=1030\n",
      " cost=2.612847735333121e-25,m=2.000000000000323, b=2.9999999999988334, iter=1031\n",
      " cost=2.4765309931891194e-25,m=2.000000000000315, b=2.999999999998865, iter=1032\n",
      " cost=2.3460234227511653e-25,m=2.0000000000003055, b=2.9999999999988956, iter=1033\n",
      " cost=2.2215585268472046e-25,m=2.000000000000298, b=2.9999999999989257, iter=1034\n",
      " cost=2.100553574873543e-25,m=2.000000000000289, b=2.9999999999989546, iter=1035\n",
      " cost=1.9914951324485487e-25,m=2.000000000000282, b=2.999999999998983, iter=1036\n",
      " cost=1.8854722267868447e-25,m=2.0000000000002736, b=2.9999999999990106, iter=1037\n",
      " cost=1.7814688050425065e-25,m=2.000000000000267, b=2.9999999999990377, iter=1038\n",
      " cost=1.683721050276571e-25,m=2.0000000000002593, b=2.9999999999990634, iter=1039\n",
      " cost=1.5951714136655124e-25,m=2.0000000000002522, b=2.9999999999990887, iter=1040\n",
      " cost=1.511362831094832e-25,m=2.0000000000002456, b=2.9999999999991136, iter=1041\n",
      " cost=1.430446212602692e-25,m=2.000000000000239, b=2.9999999999991376, iter=1042\n",
      " cost=1.3511436035226343e-25,m=2.0000000000002327, b=2.999999999999161, iter=1043\n",
      " cost=1.279942595939196e-25,m=2.0000000000002256, b=2.9999999999991838, iter=1044\n",
      " cost=1.2126401389493602e-25,m=2.0000000000002203, b=2.999999999999206, iter=1045\n",
      " cost=1.1478557259689899e-25,m=2.0000000000002136, b=2.9999999999992273, iter=1046\n",
      " cost=1.0867552934160017e-25,m=2.0000000000002087, b=2.9999999999992486, iter=1047\n",
      " cost=1.028726685227944e-25,m=2.0000000000002016, b=2.9999999999992686, iter=1048\n",
      " cost=9.729494860633871e-26,m=2.0000000000001976, b=2.999999999999289, iter=1049\n",
      " cost=9.208972880932839e-26,m=2.000000000000191, b=2.9999999999993077, iter=1050\n",
      " cost=8.717985853523281e-26,m=2.000000000000187, b=2.9999999999993268, iter=1051\n",
      " cost=8.25528737817495e-26,m=2.000000000000181, b=2.999999999999345, iter=1052\n",
      " cost=7.818242659464404e-26,m=2.0000000000001767, b=2.9999999999993627, iter=1053\n",
      " cost=7.391500464176046e-26,m=2.0000000000001714, b=2.99999999999938, iter=1054\n",
      " cost=6.98932339747627e-26,m=2.0000000000001674, b=2.999999999999397, iter=1055\n",
      " cost=6.615703095545493e-26,m=2.000000000000162, b=2.999999999999413, iter=1056\n",
      " cost=6.259958381727027e-26,m=2.0000000000001585, b=2.999999999999429, iter=1057\n",
      " cost=5.923461873995951e-26,m=2.0000000000001537, b=2.999999999999444, iter=1058\n",
      " cost=5.620996825716111e-26,m=2.0000000000001505, b=2.999999999999459, iter=1059\n",
      " cost=5.34412242520164e-26,m=2.000000000000145, b=2.9999999999994733, iter=1060\n",
      " cost=5.052622543504372e-26,m=2.0000000000001426, b=2.999999999999488, iter=1061\n",
      " cost=4.7782882751047127e-26,m=2.0000000000001372, b=2.9999999999995013, iter=1062\n",
      " cost=4.512173937337457e-26,m=2.0000000000001354, b=2.999999999999515, iter=1063\n",
      " cost=4.288452984616778e-26,m=2.0000000000001297, b=2.9999999999995275, iter=1064\n",
      " cost=4.0601093069915036e-26,m=2.0000000000001283, b=2.999999999999541, iter=1065\n",
      " cost=3.828184200856526e-26,m=2.000000000000123, b=2.999999999999553, iter=1066\n",
      " cost=3.627008892807064e-26,m=2.0000000000001212, b=2.9999999999995652, iter=1067\n",
      " cost=3.4341481786986307e-26,m=2.000000000000117, b=2.999999999999577, iter=1068\n",
      " cost=3.268550497474636e-26,m=2.000000000000114, b=2.9999999999995883, iter=1069\n",
      " cost=3.0754373478765324e-26,m=2.000000000000111, b=2.9999999999995994, iter=1070\n",
      " cost=2.908388162586931e-26,m=2.0000000000001084, b=2.9999999999996105, iter=1071\n",
      " cost=2.7572266359284805e-26,m=2.0000000000001044, b=2.9999999999996207, iter=1072\n",
      " cost=2.6233727175305795e-26,m=2.000000000000103, b=2.9999999999996314, iter=1073\n",
      " cost=2.472510958016113e-26,m=2.000000000000099, b=2.999999999999641, iter=1074\n",
      " cost=2.341418052786485e-26,m=2.000000000000097, b=2.999999999999651, iter=1075\n",
      " cost=2.2194917112755257e-26,m=2.0000000000000937, b=2.9999999999996603, iter=1076\n",
      " cost=2.1075996804789772e-26,m=2.0000000000000915, b=2.9999999999996696, iter=1077\n",
      " cost=1.9934357302753926e-26,m=2.000000000000089, b=2.9999999999996785, iter=1078\n",
      " cost=1.8809599424089805e-26,m=2.000000000000087, b=2.9999999999996874, iter=1079\n",
      " cost=1.7806168352648678e-26,m=2.000000000000084, b=2.999999999999696, iter=1080\n",
      " cost=1.6846913491899928e-26,m=2.000000000000082, b=2.9999999999997042, iter=1081\n",
      " cost=1.582770520235438e-26,m=2.00000000000008, b=2.9999999999997122, iter=1082\n",
      " cost=1.5079865064204862e-26,m=2.0000000000000773, b=2.99999999999972, iter=1083\n",
      " cost=1.4276489118327785e-26,m=2.000000000000076, b=2.9999999999997273, iter=1084\n",
      " cost=1.359680656238936e-26,m=2.0000000000000733, b=2.9999999999997344, iter=1085\n",
      " cost=1.2761245091579265e-26,m=2.000000000000072, b=2.999999999999742, iter=1086\n",
      " cost=1.213899160954093e-26,m=2.0000000000000693, b=2.9999999999997486, iter=1087\n",
      " cost=1.1502538631208618e-26,m=2.000000000000068, b=2.9999999999997558, iter=1088\n",
      " cost=1.0840842103909234e-26,m=2.0000000000000653, b=2.999999999999762, iter=1089\n",
      " cost=1.0295739218401515e-26,m=2.0000000000000644, b=2.9999999999997686, iter=1090\n",
      " cost=9.761049296842712e-27,m=2.000000000000062, b=2.999999999999775, iter=1091\n",
      " cost=9.258071583673795e-27,m=2.000000000000061, b=2.999999999999781, iter=1092\n",
      " cost=8.738054474952104e-27,m=2.0000000000000586, b=2.999999999999787, iter=1093\n",
      " cost=8.26410684309532e-27,m=2.0000000000000577, b=2.9999999999997926, iter=1094\n",
      " cost=7.771857638237408e-27,m=2.000000000000056, b=2.999999999999798, iter=1095\n",
      " cost=7.425389928664341e-27,m=2.0000000000000546, b=2.9999999999998033, iter=1096\n",
      " cost=7.03979471819231e-27,m=2.000000000000053, b=2.9999999999998086, iter=1097\n",
      " cost=6.658617128789517e-27,m=2.000000000000052, b=2.999999999999814, iter=1098\n",
      " cost=6.2668688032567626e-27,m=2.00000000000005, b=2.999999999999819, iter=1099\n",
      " cost=5.9809856112046674e-27,m=2.000000000000049, b=2.9999999999998237, iter=1100\n",
      " cost=5.7119840425243024e-27,m=2.000000000000047, b=2.9999999999998286, iter=1101\n",
      " cost=5.349896887027858e-27,m=2.000000000000046, b=2.9999999999998335, iter=1102\n",
      " cost=5.073953342381548e-27,m=2.000000000000045, b=2.999999999999838, iter=1103\n",
      " cost=4.7880701503294535e-27,m=2.0000000000000435, b=2.9999999999998423, iter=1104\n",
      " cost=4.475050143137756e-27,m=2.0000000000000426, b=2.999999999999847, iter=1105\n",
      " cost=4.253538000951696e-27,m=2.000000000000041, b=2.999999999999851, iter=1106\n",
      " cost=4.0484341655942326e-27,m=2.0000000000000404, b=2.9999999999998552, iter=1107\n",
      " cost=3.8477479513060075e-27,m=2.000000000000039, b=2.9999999999998592, iter=1108\n",
      " cost=3.587739396945162e-27,m=2.0000000000000377, b=2.9999999999998628, iter=1109\n",
      " cost=3.429967215900959e-27,m=2.000000000000037, b=2.9999999999998668, iter=1110\n",
      " cost=3.2262833301728942e-27,m=2.000000000000036, b=2.9999999999998703, iter=1111\n",
      " cost=3.0653557055078078e-27,m=2.000000000000035, b=2.999999999999874, iter=1112\n",
      " cost=2.8936995725317157e-27,m=2.0000000000000338, b=2.999999999999877, iter=1113\n",
      " cost=2.732614175685585e-27,m=2.0000000000000333, b=2.9999999999998805, iter=1114\n",
      " cost=2.6292733971016323e-27,m=2.000000000000032, b=2.9999999999998836, iter=1115\n",
      " cost=2.4502019716164627e-27,m=2.000000000000032, b=2.999999999999887, iter=1116\n",
      " cost=2.313886807194272e-27,m=2.00000000000003, b=2.99999999999989, iter=1117\n",
      " cost=2.205655090997949e-27,m=2.0000000000000298, b=2.999999999999893, iter=1118\n",
      " cost=2.1117806432766486e-27,m=2.0000000000000284, b=2.9999999999998956, iter=1119\n"
     ]
    },
    {
     "name": "stdout",
     "output_type": "stream",
     "text": [
      " cost=1.997395812019602e-27,m=2.000000000000029, b=2.9999999999998987, iter=1120\n",
      " cost=1.8839576138488206e-27,m=2.0000000000000266, b=2.999999999999901, iter=1121\n",
      " cost=1.801758307524791e-27,m=2.0000000000000275, b=2.999999999999904, iter=1122\n",
      " cost=1.713563658321082e-27,m=2.000000000000025, b=2.9999999999999063, iter=1123\n",
      " cost=1.6187425775135162e-27,m=2.000000000000026, b=2.9999999999999094, iter=1124\n",
      " cost=1.5147707102053869e-27,m=2.0000000000000235, b=2.999999999999911, iter=1125\n",
      " cost=1.4428265956492306e-27,m=2.000000000000025, b=2.9999999999999143, iter=1126\n",
      " cost=1.3505298697383722e-27,m=2.000000000000022, b=2.999999999999916, iter=1127\n",
      " cost=1.2893142634932218e-27,m=2.0000000000000235, b=2.9999999999999187, iter=1128\n",
      " cost=1.2004885255653359e-27,m=2.0000000000000213, b=2.9999999999999205, iter=1129\n",
      " cost=1.1643586961062134e-27,m=2.000000000000022, b=2.999999999999923, iter=1130\n",
      " cost=1.0924145815500573e-27,m=2.00000000000002, b=2.999999999999925, iter=1131\n",
      " cost=1.0286746204081994e-27,m=2.000000000000021, b=2.999999999999927, iter=1132\n",
      " cost=9.739276735858613e-28,m=2.000000000000019, b=2.999999999999929, iter=1133\n",
      " cost=9.164985996857715e-28,m=2.0000000000000195, b=2.999999999999931, iter=1134\n",
      " cost=8.772133266057651e-28,m=2.000000000000018, b=2.999999999999933, iter=1135\n",
      " cost=8.029026293339459e-28,m=2.0000000000000187, b=2.999999999999935, iter=1136\n",
      " cost=7.782901690910503e-28,m=2.000000000000017, b=2.9999999999999365, iter=1137\n",
      " cost=7.333250974934526e-28,m=2.0000000000000178, b=2.9999999999999387, iter=1138\n",
      " cost=7.058727379917614e-28,m=2.0000000000000155, b=2.99999999999994, iter=1139\n",
      " cost=6.601188054889427e-28,m=2.000000000000017, b=2.9999999999999423, iter=1140\n",
      " cost=6.432371821172131e-28,m=2.0000000000000147, b=2.999999999999943, iter=1141\n",
      " cost=5.977987939764828e-28,m=2.000000000000016, b=2.9999999999999454, iter=1142\n",
      " cost=5.616689645173604e-28,m=2.000000000000014, b=2.9999999999999467, iter=1143\n",
      " cost=5.174927538249837e-28,m=2.0000000000000147, b=2.9999999999999485, iter=1144\n",
      " cost=4.879893559697179e-28,m=2.0000000000000138, b=2.99999999999995, iter=1145\n",
      " cost=4.696877829685904e-28,m=2.0000000000000133, b=2.999999999999951, iter=1146\n",
      " cost=4.324535482421587e-28,m=2.0000000000000133, b=2.9999999999999525, iter=1147\n",
      " cost=4.10838759439103e-28,m=2.0000000000000124, b=2.999999999999954, iter=1148\n",
      " cost=3.881195653687378e-28,m=2.000000000000013, b=2.999999999999955, iter=1149\n",
      " cost=3.729734359884944e-28,m=2.0000000000000115, b=2.999999999999956, iter=1150\n",
      " cost=3.4268117722800756e-28,m=2.0000000000000124, b=2.9999999999999574, iter=1151\n",
      " cost=3.3763246743459305e-28,m=2.000000000000011, b=2.9999999999999583, iter=1152\n",
      " cost=3.117578297433439e-28,m=2.000000000000011, b=2.9999999999999596, iter=1153\n",
      " cost=2.879342304056693e-28,m=2.000000000000011, b=2.999999999999961, iter=1154\n",
      " cost=2.8099225443972444e-28,m=2.00000000000001, b=2.999999999999962, iter=1155\n",
      " cost=2.7767903863779616e-28,m=2.00000000000001, b=2.999999999999963, iter=1156\n",
      " cost=2.461246024289557e-28,m=2.00000000000001, b=2.999999999999964, iter=1157\n",
      " cost=2.462823746099999e-28,m=2.0000000000000093, b=2.999999999999965, iter=1158\n",
      " cost=2.172522932978667e-28,m=2.0000000000000098, b=2.9999999999999662, iter=1159\n",
      " cost=2.147279384011594e-28,m=2.0000000000000084, b=2.9999999999999667, iter=1160\n",
      " cost=2.063660128058167e-28,m=2.0000000000000098, b=2.999999999999968, iter=1161\n",
      " cost=2.0526160753850726e-28,m=2.000000000000008, b=2.9999999999999685, iter=1162\n",
      " cost=1.7796702021786028e-28,m=2.0000000000000093, b=2.99999999999997, iter=1163\n",
      " cost=1.793869698472581e-28,m=2.0000000000000075, b=2.9999999999999702, iter=1164\n",
      " cost=1.591921306736002e-28,m=2.000000000000009, b=2.9999999999999716, iter=1165\n",
      " cost=1.609276246650864e-28,m=2.000000000000007, b=2.999999999999972, iter=1166\n",
      " cost=1.5146129380243427e-28,m=2.0000000000000084, b=2.9999999999999734, iter=1167\n",
      " cost=1.4404600129335677e-28,m=2.000000000000006, b=2.9999999999999734, iter=1168\n",
      " cost=1.402594689482959e-28,m=2.000000000000008, b=2.9999999999999747, iter=1169\n",
      " cost=1.3000427718042275e-28,m=2.000000000000006, b=2.999999999999975, iter=1170\n",
      " cost=1.206957184988148e-28,m=2.000000000000007, b=2.999999999999976, iter=1171\n",
      " cost=1.0381409512708515e-28,m=2.0000000000000067, b=2.9999999999999765, iter=1172\n",
      " cost=1.0744285529110182e-28,m=2.000000000000006, b=2.999999999999977, iter=1173\n",
      " cost=9.860761315262648e-29,m=2.000000000000006, b=2.9999999999999774, iter=1174\n",
      " cost=9.2770042453991e-29,m=2.000000000000006, b=2.999999999999978, iter=1175\n",
      " cost=9.797652442844967e-29,m=2.0000000000000053, b=2.9999999999999782, iter=1176\n",
      " cost=8.519697776386927e-29,m=2.000000000000006, b=2.999999999999979, iter=1177\n",
      " cost=8.204153414298523e-29,m=2.0000000000000053, b=2.9999999999999796, iter=1178\n",
      " cost=7.730836871165916e-29,m=2.0000000000000058, b=2.9999999999999805, iter=1179\n",
      " cost=7.210188673720048e-29,m=2.000000000000005, b=2.999999999999981, iter=1180\n",
      " cost=6.752649348691862e-29,m=2.0000000000000058, b=2.999999999999982, iter=1181\n",
      " cost=6.941975965944904e-29,m=2.0000000000000044, b=2.999999999999982, iter=1182\n",
      " cost=6.437104986603457e-29,m=2.0000000000000053, b=2.9999999999999827, iter=1183\n",
      " cost=5.99534287967969e-29,m=2.0000000000000044, b=2.999999999999983, iter=1184\n",
      " cost=4.8751603942658533e-29,m=2.0000000000000053, b=2.9999999999999836, iter=1185\n",
      " cost=5.679798517591285e-29,m=2.0000000000000036, b=2.9999999999999836, iter=1186\n",
      " cost=5.36425415550288e-29,m=2.000000000000005, b=2.9999999999999845, iter=1187\n",
      " cost=4.733165431326071e-29,m=2.000000000000004, b=2.9999999999999845, iter=1188\n",
      " cost=4.1809627976713626e-29,m=2.0000000000000044, b=2.999999999999985, iter=1189\n",
      " cost=4.370289414924406e-29,m=2.0000000000000036, b=2.9999999999999853, iter=1190\n",
      " cost=3.7865323450608567e-29,m=2.000000000000004, b=2.999999999999986, iter=1191\n",
      " cost=3.7392006907475964e-29,m=2.000000000000004, b=2.9999999999999862, iter=1192\n",
      " cost=3.1712208389884677e-29,m=2.0000000000000036, b=2.9999999999999867, iter=1193\n",
      " cost=3.186998057092888e-29,m=2.000000000000004, b=2.999999999999987, iter=1194\n",
      " cost=3.407879110554771e-29,m=2.000000000000003, b=2.999999999999987, iter=1195\n",
      " cost=3.4236563286591917e-29,m=2.0000000000000036, b=2.9999999999999876, iter=1196\n",
      " cost=2.8398992587956425e-29,m=2.000000000000003, b=2.999999999999988, iter=1197\n",
      " cost=2.6505726415426e-29,m=2.0000000000000036, b=2.9999999999999885, iter=1198\n",
      " cost=2.934562567422164e-29,m=2.0000000000000027, b=2.9999999999999885, iter=1199\n",
      " cost=2.855676476900063e-29,m=2.000000000000003, b=2.999999999999989, iter=1200\n",
      " cost=2.540132114811658e-29,m=2.0000000000000027, b=2.9999999999999893, iter=1201\n",
      " cost=2.3508054975586152e-29,m=2.000000000000003, b=2.99999999999999, iter=1202\n",
      " cost=1.9563750449481093e-29,m=2.0000000000000027, b=2.99999999999999, iter=1203\n",
      " cost=1.8932661725304283e-29,m=2.0000000000000027, b=2.9999999999999902, iter=1204\n",
      " cost=1.7197167733818058e-29,m=2.0000000000000027, b=2.9999999999999907, iter=1205\n",
      " cost=1.9563750449481093e-29,m=2.000000000000002, b=2.9999999999999907, iter=1206\n",
      " cost=1.7039395552773856e-29,m=2.0000000000000027, b=2.999999999999991, iter=1207\n",
      " cost=1.6566079009641248e-29,m=2.000000000000002, b=2.999999999999991, iter=1208\n",
      " cost=1.530390156128763e-29,m=2.0000000000000027, b=2.9999999999999916, iter=1209\n",
      " cost=1.451504065606662e-29,m=2.0000000000000018, b=2.9999999999999916, iter=1210\n",
      " cost=1.8932661725304283e-29,m=2.000000000000003, b=2.999999999999992, iter=1211\n"
     ]
    },
    {
     "data": {
      "image/png": "[encoded data removed]",
      "text/plain": [
       "<Figure size 432x288 with 1 Axes>"
      ]
     },
     "metadata": {},
     "output_type": "display_data"
    }
   ],
   "source": [
    "# x = np.array([92,86,88,70,80,49,65,35,66,67])\n",
    "# y = np.array([98,68,81,80,83,52,66,30,68,73])\n",
    "x = np.array([1,2,3,4,5])\n",
    "y = np.array([5,7,9,11,13])\n",
    "gradient_decent(x,y)\n",
    "plt.show()"
   ]
  },
  {
   "cell_type": "code",
   "execution_count": 33,
   "metadata": {},
   "outputs": [
    {
     "name": "stdout",
     "output_type": "stream",
     "text": [
      "[0.94068621]\n",
      "4.240102792054458\n"
     ]
    }
   ],
   "source": [
    "df = {\n",
    "    \"x\":[92,86,88,70,80,49,65,35,66,67],\n",
    "    \"y\":[98,68,81,80,83,52,66,30,68,73],\n",
    "}\n",
    "df = pd.DataFrame(df)\n",
    "model = linear_model.LinearRegression()\n",
    "model.fit(df[[\"x\"]], df[\"y\"])\n",
    "print(model.coef_)\n",
    "print(model.intercept_)"
   ]
  },
  {
   "cell_type": "markdown",
   "metadata": {},
   "source": [
    "## <a id=\"onehotenc\">One hot encoding</a>\n",
    "\n",
    "- Converting the categorical variable into numerical variable"
   ]
  },
  {
   "cell_type": "markdown",
   "metadata": {},
   "source": [
    "### Reading the data from a csv file"
   ]
  },
  {
   "cell_type": "code",
   "execution_count": 40,
   "metadata": {},
   "outputs": [
    {
     "data": {
      "text/html": [
       "<div>\n",
       "<style scoped>\n",
       "    .dataframe tbody tr th:only-of-type {\n",
       "        vertical-align: middle;\n",
       "    }\n",
       "\n",
       "    .dataframe tbody tr th {\n",
       "        vertical-align: top;\n",
       "    }\n",
       "\n",
       "    .dataframe thead th {\n",
       "        text-align: right;\n",
       "    }\n",
       "</style>\n",
       "<table border=\"1\" class=\"dataframe\">\n",
       "  <thead>\n",
       "    <tr style=\"text-align: right;\">\n",
       "      <th></th>\n",
       "      <th>sno</th>\n",
       "      <th>town</th>\n",
       "      <th>sq</th>\n",
       "      <th>price</th>\n",
       "    </tr>\n",
       "  </thead>\n",
       "  <tbody>\n",
       "    <tr>\n",
       "      <th>0</th>\n",
       "      <td>1</td>\n",
       "      <td>Chennai</td>\n",
       "      <td>2600</td>\n",
       "      <td>550000</td>\n",
       "    </tr>\n",
       "    <tr>\n",
       "      <th>1</th>\n",
       "      <td>2</td>\n",
       "      <td>Chennai</td>\n",
       "      <td>3000</td>\n",
       "      <td>565000</td>\n",
       "    </tr>\n",
       "    <tr>\n",
       "      <th>2</th>\n",
       "      <td>3</td>\n",
       "      <td>Chennai</td>\n",
       "      <td>3200</td>\n",
       "      <td>610000</td>\n",
       "    </tr>\n",
       "    <tr>\n",
       "      <th>3</th>\n",
       "      <td>4</td>\n",
       "      <td>Chennai</td>\n",
       "      <td>3600</td>\n",
       "      <td>680000</td>\n",
       "    </tr>\n",
       "    <tr>\n",
       "      <th>4</th>\n",
       "      <td>5</td>\n",
       "      <td>Delhi</td>\n",
       "      <td>4000</td>\n",
       "      <td>725000</td>\n",
       "    </tr>\n",
       "    <tr>\n",
       "      <th>5</th>\n",
       "      <td>6</td>\n",
       "      <td>Delhi</td>\n",
       "      <td>2600</td>\n",
       "      <td>585000</td>\n",
       "    </tr>\n",
       "    <tr>\n",
       "      <th>6</th>\n",
       "      <td>7</td>\n",
       "      <td>Delhi</td>\n",
       "      <td>2800</td>\n",
       "      <td>615000</td>\n",
       "    </tr>\n",
       "    <tr>\n",
       "      <th>7</th>\n",
       "      <td>8</td>\n",
       "      <td>Delhi</td>\n",
       "      <td>3300</td>\n",
       "      <td>650000</td>\n",
       "    </tr>\n",
       "    <tr>\n",
       "      <th>8</th>\n",
       "      <td>9</td>\n",
       "      <td>Mumbai</td>\n",
       "      <td>3600</td>\n",
       "      <td>710000</td>\n",
       "    </tr>\n",
       "    <tr>\n",
       "      <th>9</th>\n",
       "      <td>10</td>\n",
       "      <td>Mumbai</td>\n",
       "      <td>2600</td>\n",
       "      <td>575000</td>\n",
       "    </tr>\n",
       "    <tr>\n",
       "      <th>10</th>\n",
       "      <td>11</td>\n",
       "      <td>Mumbai</td>\n",
       "      <td>2900</td>\n",
       "      <td>600000</td>\n",
       "    </tr>\n",
       "    <tr>\n",
       "      <th>11</th>\n",
       "      <td>12</td>\n",
       "      <td>Mumbai</td>\n",
       "      <td>3100</td>\n",
       "      <td>620000</td>\n",
       "    </tr>\n",
       "    <tr>\n",
       "      <th>12</th>\n",
       "      <td>13</td>\n",
       "      <td>Mumbai</td>\n",
       "      <td>3600</td>\n",
       "      <td>695000</td>\n",
       "    </tr>\n",
       "  </tbody>\n",
       "</table>\n",
       "</div>"
      ],
      "text/plain": [
       "    sno     town    sq   price\n",
       "0     1  Chennai  2600  550000\n",
       "1     2  Chennai  3000  565000\n",
       "2     3  Chennai  3200  610000\n",
       "3     4  Chennai  3600  680000\n",
       "4     5    Delhi  4000  725000\n",
       "5     6    Delhi  2600  585000\n",
       "6     7    Delhi  2800  615000\n",
       "7     8    Delhi  3300  650000\n",
       "8     9   Mumbai  3600  710000\n",
       "9    10   Mumbai  2600  575000\n",
       "10   11   Mumbai  2900  600000\n",
       "11   12   Mumbai  3100  620000\n",
       "12   13   Mumbai  3600  695000"
      ]
     },
     "execution_count": 40,
     "metadata": {},
     "output_type": "execute_result"
    }
   ],
   "source": [
    "df = pd.read_csv(\"Sample.csv\")\n",
    "\n",
    "df"
   ]
  },
  {
   "cell_type": "markdown",
   "metadata": {},
   "source": [
    "### Dropping the unnecessary column"
   ]
  },
  {
   "cell_type": "code",
   "execution_count": 36,
   "metadata": {},
   "outputs": [],
   "source": [
    "df = df.drop(\"sno\",axis=\"columns\")"
   ]
  },
  {
   "cell_type": "markdown",
   "metadata": {},
   "source": [
    "### <a id=\"split\">Apply One Hot Encoding</a>\n",
    "\n",
    "- Using pd.get_dummies() method\n",
    "- A categorical column is passed as parameter\n",
    "- Consider it contains n number of unique categorical values\n",
    "- It will return a dataframe containing n number of columns"
   ]
  },
  {
   "cell_type": "code",
   "execution_count": 41,
   "metadata": {},
   "outputs": [
    {
     "data": {
      "text/html": [
       "<div>\n",
       "<style scoped>\n",
       "    .dataframe tbody tr th:only-of-type {\n",
       "        vertical-align: middle;\n",
       "    }\n",
       "\n",
       "    .dataframe tbody tr th {\n",
       "        vertical-align: top;\n",
       "    }\n",
       "\n",
       "    .dataframe thead th {\n",
       "        text-align: right;\n",
       "    }\n",
       "</style>\n",
       "<table border=\"1\" class=\"dataframe\">\n",
       "  <thead>\n",
       "    <tr style=\"text-align: right;\">\n",
       "      <th></th>\n",
       "      <th>Chennai</th>\n",
       "      <th>Delhi</th>\n",
       "      <th>Mumbai</th>\n",
       "    </tr>\n",
       "  </thead>\n",
       "  <tbody>\n",
       "    <tr>\n",
       "      <th>0</th>\n",
       "      <td>1</td>\n",
       "      <td>0</td>\n",
       "      <td>0</td>\n",
       "    </tr>\n",
       "    <tr>\n",
       "      <th>1</th>\n",
       "      <td>1</td>\n",
       "      <td>0</td>\n",
       "      <td>0</td>\n",
       "    </tr>\n",
       "    <tr>\n",
       "      <th>2</th>\n",
       "      <td>1</td>\n",
       "      <td>0</td>\n",
       "      <td>0</td>\n",
       "    </tr>\n",
       "    <tr>\n",
       "      <th>3</th>\n",
       "      <td>1</td>\n",
       "      <td>0</td>\n",
       "      <td>0</td>\n",
       "    </tr>\n",
       "    <tr>\n",
       "      <th>4</th>\n",
       "      <td>0</td>\n",
       "      <td>1</td>\n",
       "      <td>0</td>\n",
       "    </tr>\n",
       "    <tr>\n",
       "      <th>5</th>\n",
       "      <td>0</td>\n",
       "      <td>1</td>\n",
       "      <td>0</td>\n",
       "    </tr>\n",
       "    <tr>\n",
       "      <th>6</th>\n",
       "      <td>0</td>\n",
       "      <td>1</td>\n",
       "      <td>0</td>\n",
       "    </tr>\n",
       "    <tr>\n",
       "      <th>7</th>\n",
       "      <td>0</td>\n",
       "      <td>1</td>\n",
       "      <td>0</td>\n",
       "    </tr>\n",
       "    <tr>\n",
       "      <th>8</th>\n",
       "      <td>0</td>\n",
       "      <td>0</td>\n",
       "      <td>1</td>\n",
       "    </tr>\n",
       "    <tr>\n",
       "      <th>9</th>\n",
       "      <td>0</td>\n",
       "      <td>0</td>\n",
       "      <td>1</td>\n",
       "    </tr>\n",
       "    <tr>\n",
       "      <th>10</th>\n",
       "      <td>0</td>\n",
       "      <td>0</td>\n",
       "      <td>1</td>\n",
       "    </tr>\n",
       "    <tr>\n",
       "      <th>11</th>\n",
       "      <td>0</td>\n",
       "      <td>0</td>\n",
       "      <td>1</td>\n",
       "    </tr>\n",
       "    <tr>\n",
       "      <th>12</th>\n",
       "      <td>0</td>\n",
       "      <td>0</td>\n",
       "      <td>1</td>\n",
       "    </tr>\n",
       "  </tbody>\n",
       "</table>\n",
       "</div>"
      ],
      "text/plain": [
       "    Chennai  Delhi  Mumbai\n",
       "0         1      0       0\n",
       "1         1      0       0\n",
       "2         1      0       0\n",
       "3         1      0       0\n",
       "4         0      1       0\n",
       "5         0      1       0\n",
       "6         0      1       0\n",
       "7         0      1       0\n",
       "8         0      0       1\n",
       "9         0      0       1\n",
       "10        0      0       1\n",
       "11        0      0       1\n",
       "12        0      0       1"
      ]
     },
     "execution_count": 41,
     "metadata": {},
     "output_type": "execute_result"
    }
   ],
   "source": [
    "df_updated = pd.get_dummies(df[\"town\"])\n",
    "\n",
    "df_updated"
   ]
  },
  {
   "cell_type": "markdown",
   "metadata": {},
   "source": [
    "### Merging the one hot encoded columns to the main data"
   ]
  },
  {
   "cell_type": "code",
   "execution_count": 43,
   "metadata": {},
   "outputs": [],
   "source": [
    "df_merged = pd.concat([df,df_updated], axis=\"columns\")"
   ]
  },
  {
   "cell_type": "markdown",
   "metadata": {},
   "source": [
    "### Splitting the data into X and y"
   ]
  },
  {
   "cell_type": "code",
   "execution_count": 44,
   "metadata": {},
   "outputs": [],
   "source": [
    "X = df_merged.drop([\"town\",\"price\"], axis=\"columns\")\n",
    "\n",
    "y = df_merged[\"price\"]"
   ]
  },
  {
   "cell_type": "markdown",
   "metadata": {},
   "source": [
    "### Creating the model"
   ]
  },
  {
   "cell_type": "code",
   "execution_count": null,
   "metadata": {},
   "outputs": [],
   "source": [
    "model = linear_model.LinearRegression()"
   ]
  },
  {
   "cell_type": "markdown",
   "metadata": {},
   "source": [
    "### Training the model"
   ]
  },
  {
   "cell_type": "code",
   "execution_count": null,
   "metadata": {},
   "outputs": [],
   "source": [
    "model.fit(X,y)"
   ]
  },
  {
   "cell_type": "markdown",
   "metadata": {},
   "source": [
    "### Doing the prediction"
   ]
  },
  {
   "cell_type": "code",
   "execution_count": null,
   "metadata": {},
   "outputs": [],
   "source": [
    "model.predict([[2600,0,0,0]])"
   ]
  },
  {
   "cell_type": "markdown",
   "metadata": {},
   "source": [
    "### Train Test split\n",
    "\n",
    "- Split the whole data into the following\n",
    "    - X values\n",
    "        - Train X\n",
    "        - Test X\n",
    "    - y values\n",
    "        - Train y\n",
    "        - Test y"
   ]
  },
  {
   "cell_type": "code",
   "execution_count": 48,
   "metadata": {},
   "outputs": [],
   "source": [
    "from sklearn.model_selection import train_test_split"
   ]
  },
  {
   "cell_type": "code",
   "execution_count": 49,
   "metadata": {},
   "outputs": [],
   "source": [
    "df = pd.read_csv(\"Sample.csv\")"
   ]
  },
  {
   "cell_type": "code",
   "execution_count": 50,
   "metadata": {},
   "outputs": [],
   "source": [
    "X = df[[\"sq\"]]\n",
    "y = df[\"price\"]"
   ]
  },
  {
   "cell_type": "code",
   "execution_count": 51,
   "metadata": {},
   "outputs": [],
   "source": [
    "xtrain, xtest, ytrain, ytest = train_test_split(X,y,test_size=0.2, random_state=10 )"
   ]
  },
  {
   "cell_type": "code",
   "execution_count": 52,
   "metadata": {},
   "outputs": [
    {
     "data": {
      "text/html": [
       "<div>\n",
       "<style scoped>\n",
       "    .dataframe tbody tr th:only-of-type {\n",
       "        vertical-align: middle;\n",
       "    }\n",
       "\n",
       "    .dataframe tbody tr th {\n",
       "        vertical-align: top;\n",
       "    }\n",
       "\n",
       "    .dataframe thead th {\n",
       "        text-align: right;\n",
       "    }\n",
       "</style>\n",
       "<table border=\"1\" class=\"dataframe\">\n",
       "  <thead>\n",
       "    <tr style=\"text-align: right;\">\n",
       "      <th></th>\n",
       "      <th>sq</th>\n",
       "    </tr>\n",
       "  </thead>\n",
       "  <tbody>\n",
       "    <tr>\n",
       "      <th>6</th>\n",
       "      <td>2800</td>\n",
       "    </tr>\n",
       "    <tr>\n",
       "      <th>8</th>\n",
       "      <td>3600</td>\n",
       "    </tr>\n",
       "    <tr>\n",
       "      <th>2</th>\n",
       "      <td>3200</td>\n",
       "    </tr>\n",
       "    <tr>\n",
       "      <th>12</th>\n",
       "      <td>3600</td>\n",
       "    </tr>\n",
       "    <tr>\n",
       "      <th>5</th>\n",
       "      <td>2600</td>\n",
       "    </tr>\n",
       "    <tr>\n",
       "      <th>10</th>\n",
       "      <td>2900</td>\n",
       "    </tr>\n",
       "    <tr>\n",
       "      <th>1</th>\n",
       "      <td>3000</td>\n",
       "    </tr>\n",
       "    <tr>\n",
       "      <th>0</th>\n",
       "      <td>2600</td>\n",
       "    </tr>\n",
       "    <tr>\n",
       "      <th>4</th>\n",
       "      <td>4000</td>\n",
       "    </tr>\n",
       "    <tr>\n",
       "      <th>9</th>\n",
       "      <td>2600</td>\n",
       "    </tr>\n",
       "  </tbody>\n",
       "</table>\n",
       "</div>"
      ],
      "text/plain": [
       "      sq\n",
       "6   2800\n",
       "8   3600\n",
       "2   3200\n",
       "12  3600\n",
       "5   2600\n",
       "10  2900\n",
       "1   3000\n",
       "0   2600\n",
       "4   4000\n",
       "9   2600"
      ]
     },
     "execution_count": 52,
     "metadata": {},
     "output_type": "execute_result"
    }
   ],
   "source": [
    "xtrain"
   ]
  },
  {
   "cell_type": "markdown",
   "metadata": {},
   "source": [
    "### Training model using train-x and train-y data"
   ]
  },
  {
   "cell_type": "code",
   "execution_count": 53,
   "metadata": {},
   "outputs": [
    {
     "data": {
      "text/plain": [
       "LinearRegression(copy_X=True, fit_intercept=True, n_jobs=1, normalize=False)"
      ]
     },
     "execution_count": 53,
     "metadata": {},
     "output_type": "execute_result"
    }
   ],
   "source": [
    "model = linear_model.LinearRegression()\n",
    "model.fit(xtrain, ytrain)"
   ]
  },
  {
   "cell_type": "markdown",
   "metadata": {},
   "source": [
    "### Prediction on test-x data"
   ]
  },
  {
   "cell_type": "code",
   "execution_count": 54,
   "metadata": {},
   "outputs": [],
   "source": [
    "predicted = model.predict(xtest)"
   ]
  },
  {
   "cell_type": "markdown",
   "metadata": {},
   "source": [
    "### Comparing predicted values with original test-y data"
   ]
  },
  {
   "cell_type": "code",
   "execution_count": 55,
   "metadata": {},
   "outputs": [
    {
     "name": "stdout",
     "output_type": "stream",
     "text": [
      "3     680000\n",
      "7     650000\n",
      "11    620000\n",
      "Name: price, dtype: int64\n"
     ]
    }
   ],
   "source": [
    "print(ytest)"
   ]
  },
  {
   "cell_type": "code",
   "execution_count": 56,
   "metadata": {},
   "outputs": [
    {
     "data": {
      "text/plain": [
       "0.9808576170814808"
      ]
     },
     "execution_count": 56,
     "metadata": {},
     "output_type": "execute_result"
    }
   ],
   "source": [
    "model.score(xtest, ytest)\n",
    "# print(xtest)"
   ]
  },
  {
   "cell_type": "markdown",
   "metadata": {},
   "source": [
    "## <a id=\"logreg\">Logistic Regression</a>\n",
    "\n",
    "- Also known as Logit regression\n",
    "- Supervised Learning based Machine Learning algorithm\n",
    "- This uses a logistic function\n",
    "- Used for classification problems"
   ]
  },
  {
   "cell_type": "markdown",
   "metadata": {},
   "source": [
    "### Logistic regression (Binary class)"
   ]
  },
  {
   "cell_type": "markdown",
   "metadata": {},
   "source": [
    "### Read data"
   ]
  },
  {
   "cell_type": "code",
   "execution_count": 62,
   "metadata": {},
   "outputs": [],
   "source": [
    "df = pd.read_csv(\"insurance.csv\")"
   ]
  },
  {
   "cell_type": "markdown",
   "metadata": {},
   "source": [
    "### Visualize"
   ]
  },
  {
   "cell_type": "code",
   "execution_count": 63,
   "metadata": {},
   "outputs": [
    {
     "data": {
      "text/plain": [
       "<matplotlib.collections.PathCollection at 0x1201bf278>"
      ]
     },
     "execution_count": 63,
     "metadata": {},
     "output_type": "execute_result"
    },
    {
     "data": {
      "image/png": "[encoded data removed]",
      "text/plain": [
       "<Figure size 432x288 with 1 Axes>"
      ]
     },
     "metadata": {},
     "output_type": "display_data"
    }
   ],
   "source": [
    "plt.scatter(df[\"age\"], df[\"insurance\"], marker=\"^\", c=\"g\")"
   ]
  },
  {
   "cell_type": "markdown",
   "metadata": {},
   "source": [
    "### Train test split"
   ]
  },
  {
   "cell_type": "code",
   "execution_count": 64,
   "metadata": {},
   "outputs": [],
   "source": [
    "xtrain, xtest, ytrain, ytest =  train_test_split(df[[\"age\"]], df[\"insurance\"], test_size=0.2, random_state=1 )"
   ]
  },
  {
   "cell_type": "markdown",
   "metadata": {},
   "source": [
    "### Create model and train it"
   ]
  },
  {
   "cell_type": "code",
   "execution_count": 65,
   "metadata": {},
   "outputs": [
    {
     "data": {
      "text/plain": [
       "LogisticRegression(C=1.0, class_weight=None, dual=False, fit_intercept=True,\n",
       "          intercept_scaling=1, max_iter=100, multi_class='ovr', n_jobs=1,\n",
       "          penalty='l2', random_state=None, solver='liblinear', tol=0.0001,\n",
       "          verbose=0, warm_start=False)"
      ]
     },
     "execution_count": 65,
     "metadata": {},
     "output_type": "execute_result"
    }
   ],
   "source": [
    "model = linear_model.LogisticRegression()\n",
    "model.fit(xtrain, ytrain)"
   ]
  },
  {
   "cell_type": "markdown",
   "metadata": {},
   "source": [
    "### Predict values"
   ]
  },
  {
   "cell_type": "code",
   "execution_count": 66,
   "metadata": {},
   "outputs": [
    {
     "data": {
      "text/plain": [
       "array([1, 1, 1, 1, 1, 1])"
      ]
     },
     "execution_count": 66,
     "metadata": {},
     "output_type": "execute_result"
    }
   ],
   "source": [
    "model.predict(xtest)"
   ]
  },
  {
   "cell_type": "code",
   "execution_count": 67,
   "metadata": {},
   "outputs": [
    {
     "name": "stdout",
     "output_type": "stream",
     "text": [
      "14    1\n",
      "21    0\n",
      "18    1\n",
      "20    1\n",
      "25    1\n",
      "19    1\n",
      "Name: insurance, dtype: int64\n"
     ]
    }
   ],
   "source": [
    "print(ytest)"
   ]
  },
  {
   "cell_type": "markdown",
   "metadata": {},
   "source": [
    "### Check accuracy"
   ]
  },
  {
   "cell_type": "code",
   "execution_count": 68,
   "metadata": {},
   "outputs": [
    {
     "data": {
      "text/plain": [
       "0.8333333333333334"
      ]
     },
     "execution_count": 68,
     "metadata": {},
     "output_type": "execute_result"
    }
   ],
   "source": [
    "model.score(xtest,ytest)"
   ]
  },
  {
   "cell_type": "markdown",
   "metadata": {},
   "source": [
    "### Check estimates for all classes are ordered by the label of classes."
   ]
  },
  {
   "cell_type": "code",
   "execution_count": 70,
   "metadata": {},
   "outputs": [
    {
     "data": {
      "text/plain": [
       "array([[0.44547327, 0.55452673],\n",
       "       [0.37525975, 0.62474025],\n",
       "       [0.40489388, 0.59510612],\n",
       "       [0.38504633, 0.61495367],\n",
       "       [0.33718716, 0.66281284],\n",
       "       [0.3949268 , 0.6050732 ]])"
      ]
     },
     "execution_count": 70,
     "metadata": {},
     "output_type": "execute_result"
    }
   ],
   "source": [
    "model.predict_proba(xtest)"
   ]
  },
  {
   "cell_type": "markdown",
   "metadata": {},
   "source": [
    "### Logistic regression (Multiple class)"
   ]
  },
  {
   "cell_type": "code",
   "execution_count": 75,
   "metadata": {},
   "outputs": [],
   "source": [
    "from sklearn.datasets import load_digits"
   ]
  },
  {
   "cell_type": "code",
   "execution_count": 76,
   "metadata": {},
   "outputs": [],
   "source": [
    "digits = load_digits()"
   ]
  },
  {
   "cell_type": "code",
   "execution_count": 77,
   "metadata": {},
   "outputs": [
    {
     "data": {
      "text/plain": [
       "array([[ 0.,  0.,  5., ...,  0.,  0.,  0.],\n",
       "       [ 0.,  0.,  0., ..., 10.,  0.,  0.],\n",
       "       [ 0.,  0.,  0., ..., 16.,  9.,  0.],\n",
       "       ...,\n",
       "       [ 0.,  0.,  1., ...,  6.,  0.,  0.],\n",
       "       [ 0.,  0.,  2., ..., 12.,  0.,  0.],\n",
       "       [ 0.,  0., 10., ..., 12.,  1.,  0.]])"
      ]
     },
     "execution_count": 77,
     "metadata": {},
     "output_type": "execute_result"
    }
   ],
   "source": [
    "digits['data']"
   ]
  },
  {
   "cell_type": "code",
   "execution_count": 78,
   "metadata": {},
   "outputs": [
    {
     "data": {
      "text/plain": [
       "array([0, 1, 2, ..., 8, 9, 8])"
      ]
     },
     "execution_count": 78,
     "metadata": {},
     "output_type": "execute_result"
    }
   ],
   "source": [
    "digits['target']"
   ]
  },
  {
   "cell_type": "markdown",
   "metadata": {},
   "source": [
    "### Split into train and test"
   ]
  },
  {
   "cell_type": "code",
   "execution_count": 79,
   "metadata": {},
   "outputs": [],
   "source": [
    "xtrain, xtest, ytrain, ytest = train_test_split(digits[\"data\"], digits[\"target\"], test_size=0.1, random_state=1)"
   ]
  },
  {
   "cell_type": "markdown",
   "metadata": {},
   "source": [
    "### Create model and train it"
   ]
  },
  {
   "cell_type": "code",
   "execution_count": 80,
   "metadata": {},
   "outputs": [
    {
     "data": {
      "text/plain": [
       "LogisticRegression(C=1.0, class_weight=None, dual=False, fit_intercept=True,\n",
       "          intercept_scaling=1, max_iter=100, multi_class='ovr', n_jobs=1,\n",
       "          penalty='l2', random_state=None, solver='liblinear', tol=0.0001,\n",
       "          verbose=0, warm_start=False)"
      ]
     },
     "execution_count": 80,
     "metadata": {},
     "output_type": "execute_result"
    }
   ],
   "source": [
    "model = linear_model.LogisticRegression()\n",
    "model.fit(xtrain,ytrain)"
   ]
  },
  {
   "cell_type": "markdown",
   "metadata": {},
   "source": [
    "### Predict values"
   ]
  },
  {
   "cell_type": "code",
   "execution_count": 81,
   "metadata": {},
   "outputs": [
    {
     "data": {
      "text/plain": [
       "array([1, 5, 0, 7, 1, 0, 6, 1, 5, 4, 9, 2, 7, 8, 4, 6, 9, 3, 7, 4, 7, 8,\n",
       "       8, 6, 0, 8, 6, 1, 3, 7, 5, 9, 8, 3, 2, 8, 8, 1, 1, 0, 7, 9, 0, 0,\n",
       "       8, 7, 2, 7, 4, 3, 4, 3, 4, 0, 4, 7, 0, 5, 5, 5, 2, 1, 7, 0, 5, 1,\n",
       "       8, 3, 3, 4, 0, 3, 7, 4, 3, 4, 2, 9, 7, 3, 2, 5, 3, 4, 1, 5, 5, 2,\n",
       "       5, 2, 2, 2, 2, 7, 0, 8, 1, 7, 4, 2, 3, 8, 2, 3, 3, 0, 2, 9, 5, 2,\n",
       "       3, 2, 8, 1, 1, 9, 1, 2, 0, 4, 8, 5, 4, 4, 7, 6, 7, 6, 6, 1, 7, 5,\n",
       "       6, 3, 8, 3, 7, 1, 8, 5, 3, 4, 7, 8, 5, 0, 6, 0, 6, 3, 7, 6, 5, 6,\n",
       "       2, 2, 2, 3, 0, 7, 6, 5, 6, 4, 1, 0, 6, 0, 6, 4, 0, 9, 3, 5, 1, 2,\n",
       "       3, 1, 9, 0])"
      ]
     },
     "execution_count": 81,
     "metadata": {},
     "output_type": "execute_result"
    }
   ],
   "source": [
    "model.predict(xtest)"
   ]
  },
  {
   "cell_type": "markdown",
   "metadata": {},
   "source": [
    "## <a i=\"dectree\">Decision tree</a>"
   ]
  },
  {
   "cell_type": "markdown",
   "metadata": {},
   "source": [
    "### Read data"
   ]
  },
  {
   "cell_type": "code",
   "execution_count": 82,
   "metadata": {},
   "outputs": [],
   "source": [
    "df = pd.read_csv(\"sales.csv\")"
   ]
  },
  {
   "cell_type": "code",
   "execution_count": 69,
   "metadata": {},
   "outputs": [
    {
     "data": {
      "text/html": [
       "<div>\n",
       "<style scoped>\n",
       "    .dataframe tbody tr th:only-of-type {\n",
       "        vertical-align: middle;\n",
       "    }\n",
       "\n",
       "    .dataframe tbody tr th {\n",
       "        vertical-align: top;\n",
       "    }\n",
       "\n",
       "    .dataframe thead th {\n",
       "        text-align: right;\n",
       "    }\n",
       "</style>\n",
       "<table border=\"1\" class=\"dataframe\">\n",
       "  <thead>\n",
       "    <tr style=\"text-align: right;\">\n",
       "      <th></th>\n",
       "      <th>company</th>\n",
       "      <th>job</th>\n",
       "      <th>degree</th>\n",
       "      <th>salary</th>\n",
       "    </tr>\n",
       "  </thead>\n",
       "  <tbody>\n",
       "    <tr>\n",
       "      <th>0</th>\n",
       "      <td>google</td>\n",
       "      <td>sales executive</td>\n",
       "      <td>bachelors</td>\n",
       "      <td>0</td>\n",
       "    </tr>\n",
       "    <tr>\n",
       "      <th>1</th>\n",
       "      <td>google</td>\n",
       "      <td>sales executive</td>\n",
       "      <td>masters</td>\n",
       "      <td>0</td>\n",
       "    </tr>\n",
       "    <tr>\n",
       "      <th>2</th>\n",
       "      <td>google</td>\n",
       "      <td>business manager</td>\n",
       "      <td>bachelors</td>\n",
       "      <td>1</td>\n",
       "    </tr>\n",
       "    <tr>\n",
       "      <th>3</th>\n",
       "      <td>google</td>\n",
       "      <td>business manager</td>\n",
       "      <td>masters</td>\n",
       "      <td>1</td>\n",
       "    </tr>\n",
       "    <tr>\n",
       "      <th>4</th>\n",
       "      <td>google</td>\n",
       "      <td>computer programmer</td>\n",
       "      <td>bachelors</td>\n",
       "      <td>0</td>\n",
       "    </tr>\n",
       "  </tbody>\n",
       "</table>\n",
       "</div>"
      ],
      "text/plain": [
       "  company                  job     degree  salary\n",
       "0  google      sales executive  bachelors       0\n",
       "1  google      sales executive    masters       0\n",
       "2  google     business manager  bachelors       1\n",
       "3  google     business manager    masters       1\n",
       "4  google  computer programmer  bachelors       0"
      ]
     },
     "execution_count": 69,
     "metadata": {},
     "output_type": "execute_result"
    }
   ],
   "source": [
    "df.head()"
   ]
  },
  {
   "cell_type": "markdown",
   "metadata": {},
   "source": [
    "### Split into X and y"
   ]
  },
  {
   "cell_type": "code",
   "execution_count": 83,
   "metadata": {},
   "outputs": [],
   "source": [
    "X = df.drop(\"salary\", axis=\"columns\")\n",
    "y = df[\"salary\"]"
   ]
  },
  {
   "cell_type": "code",
   "execution_count": 84,
   "metadata": {},
   "outputs": [],
   "source": [
    "from sklearn.preprocessing import LabelEncoder"
   ]
  },
  {
   "cell_type": "markdown",
   "metadata": {},
   "source": [
    "### Label encoding"
   ]
  },
  {
   "cell_type": "code",
   "execution_count": 85,
   "metadata": {},
   "outputs": [],
   "source": [
    "le_company = LabelEncoder()\n",
    "le_job = LabelEncoder()\n",
    "le_degree = LabelEncoder()"
   ]
  },
  {
   "cell_type": "code",
   "execution_count": 86,
   "metadata": {},
   "outputs": [],
   "source": [
    "X[\"company_\"] = le_company.fit_transform(X[\"company\"])\n",
    "X[\"job_\"] = le_job.fit_transform(X[\"job\"])\n",
    "X[\"degree_\"] = le_degree.fit_transform(X[\"degree\"])\n"
   ]
  },
  {
   "cell_type": "markdown",
   "metadata": {},
   "source": [
    "### Drop useless columns"
   ]
  },
  {
   "cell_type": "code",
   "execution_count": 87,
   "metadata": {},
   "outputs": [],
   "source": [
    "X = X.drop([\"company\",\"job\",\"degree\"], axis=\"columns\")"
   ]
  },
  {
   "cell_type": "code",
   "execution_count": 75,
   "metadata": {},
   "outputs": [],
   "source": [
    "from sklearn import tree"
   ]
  },
  {
   "cell_type": "markdown",
   "metadata": {},
   "source": [
    "### Create the model"
   ]
  },
  {
   "cell_type": "code",
   "execution_count": 76,
   "metadata": {},
   "outputs": [],
   "source": [
    "model = tree.DecisionTreeClassifier()\n"
   ]
  },
  {
   "cell_type": "markdown",
   "metadata": {},
   "source": [
    "### Train the model"
   ]
  },
  {
   "cell_type": "code",
   "execution_count": 77,
   "metadata": {},
   "outputs": [
    {
     "data": {
      "text/plain": [
       "DecisionTreeClassifier(class_weight=None, criterion='gini', max_depth=None,\n",
       "            max_features=None, max_leaf_nodes=None,\n",
       "            min_impurity_decrease=0.0, min_impurity_split=None,\n",
       "            min_samples_leaf=1, min_samples_split=2,\n",
       "            min_weight_fraction_leaf=0.0, presort=False, random_state=None,\n",
       "            splitter='best')"
      ]
     },
     "execution_count": 77,
     "metadata": {},
     "output_type": "execute_result"
    }
   ],
   "source": [
    "model.fit(X,y)"
   ]
  },
  {
   "cell_type": "markdown",
   "metadata": {},
   "source": [
    "### Make prediction"
   ]
  },
  {
   "cell_type": "code",
   "execution_count": 78,
   "metadata": {},
   "outputs": [
    {
     "data": {
      "text/plain": [
       "array([1])"
      ]
     },
     "execution_count": 78,
     "metadata": {},
     "output_type": "execute_result"
    }
   ],
   "source": [
    "model.predict([[2,1,1]])"
   ]
  },
  {
   "cell_type": "markdown",
   "metadata": {},
   "source": [
    "## <a id=\"svm\">SVM</a>"
   ]
  },
  {
   "cell_type": "code",
   "execution_count": 90,
   "metadata": {},
   "outputs": [],
   "source": [
    "from sklearn.datasets import load_iris"
   ]
  },
  {
   "cell_type": "markdown",
   "metadata": {},
   "source": [
    "### Load data"
   ]
  },
  {
   "cell_type": "code",
   "execution_count": 91,
   "metadata": {},
   "outputs": [],
   "source": [
    "iris = load_iris()"
   ]
  },
  {
   "cell_type": "code",
   "execution_count": 92,
   "metadata": {},
   "outputs": [],
   "source": [
    "df = pd.DataFrame(iris.data, columns = iris.feature_names)"
   ]
  },
  {
   "cell_type": "markdown",
   "metadata": {},
   "source": [
    "### Split data"
   ]
  },
  {
   "cell_type": "code",
   "execution_count": 93,
   "metadata": {},
   "outputs": [],
   "source": [
    "df[\"target\"] = iris.target"
   ]
  },
  {
   "cell_type": "code",
   "execution_count": 94,
   "metadata": {},
   "outputs": [],
   "source": [
    "df[\"target_name\"] = df.target.apply([lambda x: iris.target_names[x]])"
   ]
  },
  {
   "cell_type": "code",
   "execution_count": 95,
   "metadata": {},
   "outputs": [],
   "source": [
    "X = df.drop([\"target\",\"target_name\"], axis=\"columns\")\n",
    "y = df[\"target\"]\n",
    "xtrain, xtest, ytrain, ytest = train_test_split(X, y, test_size=0.1, random_state=1)"
   ]
  },
  {
   "cell_type": "markdown",
   "metadata": {},
   "source": [
    "### Create model"
   ]
  },
  {
   "cell_type": "code",
   "execution_count": 85,
   "metadata": {},
   "outputs": [],
   "source": [
    "from sklearn.svm import SVC\n",
    "model = SVC()"
   ]
  },
  {
   "cell_type": "markdown",
   "metadata": {},
   "source": [
    "### Train model"
   ]
  },
  {
   "cell_type": "markdown",
   "metadata": {},
   "source": [
    "model.fit(xtrain, ytrain)"
   ]
  },
  {
   "cell_type": "markdown",
   "metadata": {},
   "source": [
    "### Evaluate model"
   ]
  },
  {
   "cell_type": "code",
   "execution_count": 87,
   "metadata": {},
   "outputs": [
    {
     "data": {
      "text/plain": [
       "1.0"
      ]
     },
     "execution_count": 87,
     "metadata": {},
     "output_type": "execute_result"
    }
   ],
   "source": [
    "model.score(xtest, ytest)"
   ]
  },
  {
   "cell_type": "markdown",
   "metadata": {},
   "source": [
    "## <a id=\"randfrst\">Random Forest</a>"
   ]
  },
  {
   "cell_type": "markdown",
   "metadata": {},
   "source": [
    "### Load data"
   ]
  },
  {
   "cell_type": "code",
   "execution_count": 88,
   "metadata": {},
   "outputs": [],
   "source": [
    "from sklearn.datasets import load_digits\n",
    "digits = load_digits()"
   ]
  },
  {
   "cell_type": "code",
   "execution_count": 89,
   "metadata": {},
   "outputs": [
    {
     "data": {
      "text/plain": [
       "['DESCR', 'data', 'images', 'target', 'target_names']"
      ]
     },
     "execution_count": 89,
     "metadata": {},
     "output_type": "execute_result"
    }
   ],
   "source": [
    "dir(digits)"
   ]
  },
  {
   "cell_type": "markdown",
   "metadata": {},
   "source": [
    "### Split data"
   ]
  },
  {
   "cell_type": "code",
   "execution_count": 90,
   "metadata": {},
   "outputs": [],
   "source": [
    "df = pd.DataFrame(digits[\"data\"])\n",
    "df[\"target\"] = digits.target\n",
    "X = df.drop(\"target\", axis=\"columns\")\n",
    "y = df[\"target\"]"
   ]
  },
  {
   "cell_type": "markdown",
   "metadata": {},
   "source": [
    "### Create model and train"
   ]
  },
  {
   "cell_type": "code",
   "execution_count": 91,
   "metadata": {},
   "outputs": [
    {
     "name": "stderr",
     "output_type": "stream",
     "text": [
      "/Library/Frameworks/Python.framework/Versions/3.6/lib/python3.6/site-packages/sklearn/ensemble/weight_boosting.py:29: DeprecationWarning: numpy.core.umath_tests is an internal NumPy module and should not be imported. It will be removed in a future NumPy release.\n",
      "  from numpy.core.umath_tests import inner1d\n"
     ]
    },
    {
     "data": {
      "text/plain": [
       "RandomForestClassifier(bootstrap=True, class_weight=None, criterion='gini',\n",
       "            max_depth=None, max_features='auto', max_leaf_nodes=None,\n",
       "            min_impurity_decrease=0.0, min_impurity_split=None,\n",
       "            min_samples_leaf=1, min_samples_split=2,\n",
       "            min_weight_fraction_leaf=0.0, n_estimators=10, n_jobs=1,\n",
       "            oob_score=False, random_state=None, verbose=0,\n",
       "            warm_start=False)"
      ]
     },
     "execution_count": 91,
     "metadata": {},
     "output_type": "execute_result"
    }
   ],
   "source": [
    "from sklearn.ensemble import RandomForestClassifier\n",
    "model =  RandomForestClassifier()\n",
    "model.fit(X, y)"
   ]
  },
  {
   "cell_type": "markdown",
   "metadata": {},
   "source": [
    "## <a id=\"kmean\">Unsupervised learning: KMEANS</a>"
   ]
  },
  {
   "cell_type": "code",
   "execution_count": 92,
   "metadata": {},
   "outputs": [],
   "source": [
    "from sklearn.cluster import KMeans\n",
    "import pandas as pd\n",
    "from sklearn.preprocessing import MinMaxScaler\n",
    "import matplotlib.pyplot as plt\n"
   ]
  },
  {
   "cell_type": "code",
   "execution_count": 93,
   "metadata": {},
   "outputs": [],
   "source": [
    "df = pd.read_csv(\"income_ul.csv\")"
   ]
  },
  {
   "cell_type": "code",
   "execution_count": 94,
   "metadata": {},
   "outputs": [
    {
     "data": {
      "text/html": [
       "<div>\n",
       "<style scoped>\n",
       "    .dataframe tbody tr th:only-of-type {\n",
       "        vertical-align: middle;\n",
       "    }\n",
       "\n",
       "    .dataframe tbody tr th {\n",
       "        vertical-align: top;\n",
       "    }\n",
       "\n",
       "    .dataframe thead th {\n",
       "        text-align: right;\n",
       "    }\n",
       "</style>\n",
       "<table border=\"1\" class=\"dataframe\">\n",
       "  <thead>\n",
       "    <tr style=\"text-align: right;\">\n",
       "      <th></th>\n",
       "      <th>Name</th>\n",
       "      <th>Age</th>\n",
       "      <th>Income</th>\n",
       "    </tr>\n",
       "  </thead>\n",
       "  <tbody>\n",
       "    <tr>\n",
       "      <th>0</th>\n",
       "      <td>Xyz123</td>\n",
       "      <td>27</td>\n",
       "      <td>70000</td>\n",
       "    </tr>\n",
       "    <tr>\n",
       "      <th>1</th>\n",
       "      <td>Xyz124</td>\n",
       "      <td>29</td>\n",
       "      <td>90000</td>\n",
       "    </tr>\n",
       "  </tbody>\n",
       "</table>\n",
       "</div>"
      ],
      "text/plain": [
       "     Name  Age  Income\n",
       "0  Xyz123   27   70000\n",
       "1  Xyz124   29   90000"
      ]
     },
     "execution_count": 94,
     "metadata": {},
     "output_type": "execute_result"
    }
   ],
   "source": [
    "df.head(2)"
   ]
  },
  {
   "cell_type": "code",
   "execution_count": 95,
   "metadata": {},
   "outputs": [
    {
     "data": {
      "image/png": "[encoded data removed]",
      "text/plain": [
       "<Figure size 432x288 with 1 Axes>"
      ]
     },
     "metadata": {},
     "output_type": "display_data"
    }
   ],
   "source": [
    "plt.scatter(df[\"Age\"],df[\"Income\"])\n",
    "plt.show()"
   ]
  },
  {
   "cell_type": "code",
   "execution_count": 96,
   "metadata": {},
   "outputs": [
    {
     "data": {
      "text/plain": [
       "KMeans(algorithm='auto', copy_x=True, init='k-means++', max_iter=300,\n",
       "    n_clusters=3, n_init=10, n_jobs=1, precompute_distances='auto',\n",
       "    random_state=None, tol=0.0001, verbose=0)"
      ]
     },
     "execution_count": 96,
     "metadata": {},
     "output_type": "execute_result"
    }
   ],
   "source": [
    "km = KMeans(n_clusters=3)\n",
    "km"
   ]
  },
  {
   "cell_type": "code",
   "execution_count": 97,
   "metadata": {},
   "outputs": [
    {
     "data": {
      "text/plain": [
       "array([0, 2, 0, 0, 1, 1, 1, 1, 1, 1, 1, 0, 0, 0, 0, 0, 0, 0, 0, 2, 2, 0],\n",
       "      dtype=int32)"
      ]
     },
     "execution_count": 97,
     "metadata": {},
     "output_type": "execute_result"
    }
   ],
   "source": [
    "y_predicted = km.fit_predict(df[[\"Age\",\"Income\"]])\n",
    "y_predicted"
   ]
  },
  {
   "cell_type": "code",
   "execution_count": 98,
   "metadata": {},
   "outputs": [],
   "source": [
    "df[\"cluster\"] = y_predicted"
   ]
  },
  {
   "cell_type": "code",
   "execution_count": 99,
   "metadata": {},
   "outputs": [
    {
     "data": {
      "text/html": [
       "<div>\n",
       "<style scoped>\n",
       "    .dataframe tbody tr th:only-of-type {\n",
       "        vertical-align: middle;\n",
       "    }\n",
       "\n",
       "    .dataframe tbody tr th {\n",
       "        vertical-align: top;\n",
       "    }\n",
       "\n",
       "    .dataframe thead th {\n",
       "        text-align: right;\n",
       "    }\n",
       "</style>\n",
       "<table border=\"1\" class=\"dataframe\">\n",
       "  <thead>\n",
       "    <tr style=\"text-align: right;\">\n",
       "      <th></th>\n",
       "      <th>Name</th>\n",
       "      <th>Age</th>\n",
       "      <th>Income</th>\n",
       "      <th>cluster</th>\n",
       "    </tr>\n",
       "  </thead>\n",
       "  <tbody>\n",
       "    <tr>\n",
       "      <th>0</th>\n",
       "      <td>Xyz123</td>\n",
       "      <td>27</td>\n",
       "      <td>70000</td>\n",
       "      <td>0</td>\n",
       "    </tr>\n",
       "    <tr>\n",
       "      <th>1</th>\n",
       "      <td>Xyz124</td>\n",
       "      <td>29</td>\n",
       "      <td>90000</td>\n",
       "      <td>2</td>\n",
       "    </tr>\n",
       "    <tr>\n",
       "      <th>2</th>\n",
       "      <td>Xyz125</td>\n",
       "      <td>29</td>\n",
       "      <td>61000</td>\n",
       "      <td>0</td>\n",
       "    </tr>\n",
       "    <tr>\n",
       "      <th>3</th>\n",
       "      <td>Xyz126</td>\n",
       "      <td>28</td>\n",
       "      <td>60000</td>\n",
       "      <td>0</td>\n",
       "    </tr>\n",
       "    <tr>\n",
       "      <th>4</th>\n",
       "      <td>Xyz127</td>\n",
       "      <td>42</td>\n",
       "      <td>150000</td>\n",
       "      <td>1</td>\n",
       "    </tr>\n",
       "  </tbody>\n",
       "</table>\n",
       "</div>"
      ],
      "text/plain": [
       "     Name  Age  Income  cluster\n",
       "0  Xyz123   27   70000        0\n",
       "1  Xyz124   29   90000        2\n",
       "2  Xyz125   29   61000        0\n",
       "3  Xyz126   28   60000        0\n",
       "4  Xyz127   42  150000        1"
      ]
     },
     "execution_count": 99,
     "metadata": {},
     "output_type": "execute_result"
    }
   ],
   "source": [
    "df.head()"
   ]
  },
  {
   "cell_type": "code",
   "execution_count": 100,
   "metadata": {},
   "outputs": [
    {
     "data": {
      "image/png": "[encoded data removed]",
      "text/plain": [
       "<Figure size 432x288 with 1 Axes>"
      ]
     },
     "metadata": {},
     "output_type": "display_data"
    }
   ],
   "source": [
    "df1 = df[df[\"cluster\"]==0]\n",
    "df2 = df[df[\"cluster\"]==1]\n",
    "df3 = df[df[\"cluster\"]==2]\n",
    "\n",
    "plt.scatter(df1[\"Age\"], df1[\"Income\"], c=\"g\", marker=\"*\")\n",
    "plt.scatter(df2[\"Age\"], df2[\"Income\"], c=\"r\", marker=\"^\")\n",
    "plt.scatter(df3[\"Age\"], df3[\"Income\"], c=\"b\", marker=\"o\")\n",
    "plt.show()"
   ]
  },
  {
   "cell_type": "code",
   "execution_count": 101,
   "metadata": {},
   "outputs": [],
   "source": [
    "scaler = MinMaxScaler()\n",
    "scaler.fit(df[[\"Income\"]])\n",
    "df[\"Income\"] = scaler.transform(df[[\"Income\"]])\n",
    "\n",
    "scaler.fit(df[[\"Age\"]])\n",
    "df[\"Age\"] = scaler.transform(df[[\"Age\"]])\n",
    "\n"
   ]
  },
  {
   "cell_type": "code",
   "execution_count": 102,
   "metadata": {},
   "outputs": [],
   "source": [
    "km = KMeans(n_clusters=3)\n",
    "y_predicted = km.fit_predict(df[[\"Age\",\"Income\"]])\n",
    "df[\"cluster\"] = y_predicted"
   ]
  },
  {
   "cell_type": "code",
   "execution_count": 103,
   "metadata": {},
   "outputs": [
    {
     "data": {
      "text/html": [
       "<div>\n",
       "<style scoped>\n",
       "    .dataframe tbody tr th:only-of-type {\n",
       "        vertical-align: middle;\n",
       "    }\n",
       "\n",
       "    .dataframe tbody tr th {\n",
       "        vertical-align: top;\n",
       "    }\n",
       "\n",
       "    .dataframe thead th {\n",
       "        text-align: right;\n",
       "    }\n",
       "</style>\n",
       "<table border=\"1\" class=\"dataframe\">\n",
       "  <thead>\n",
       "    <tr style=\"text-align: right;\">\n",
       "      <th></th>\n",
       "      <th>Name</th>\n",
       "      <th>Age</th>\n",
       "      <th>Income</th>\n",
       "      <th>cluster</th>\n",
       "    </tr>\n",
       "  </thead>\n",
       "  <tbody>\n",
       "    <tr>\n",
       "      <th>0</th>\n",
       "      <td>Xyz123</td>\n",
       "      <td>0.058824</td>\n",
       "      <td>0.213675</td>\n",
       "      <td>0</td>\n",
       "    </tr>\n",
       "    <tr>\n",
       "      <th>1</th>\n",
       "      <td>Xyz124</td>\n",
       "      <td>0.176471</td>\n",
       "      <td>0.384615</td>\n",
       "      <td>0</td>\n",
       "    </tr>\n",
       "    <tr>\n",
       "      <th>2</th>\n",
       "      <td>Xyz125</td>\n",
       "      <td>0.176471</td>\n",
       "      <td>0.136752</td>\n",
       "      <td>0</td>\n",
       "    </tr>\n",
       "    <tr>\n",
       "      <th>3</th>\n",
       "      <td>Xyz126</td>\n",
       "      <td>0.117647</td>\n",
       "      <td>0.128205</td>\n",
       "      <td>0</td>\n",
       "    </tr>\n",
       "    <tr>\n",
       "      <th>4</th>\n",
       "      <td>Xyz127</td>\n",
       "      <td>0.941176</td>\n",
       "      <td>0.897436</td>\n",
       "      <td>2</td>\n",
       "    </tr>\n",
       "  </tbody>\n",
       "</table>\n",
       "</div>"
      ],
      "text/plain": [
       "     Name       Age    Income  cluster\n",
       "0  Xyz123  0.058824  0.213675        0\n",
       "1  Xyz124  0.176471  0.384615        0\n",
       "2  Xyz125  0.176471  0.136752        0\n",
       "3  Xyz126  0.117647  0.128205        0\n",
       "4  Xyz127  0.941176  0.897436        2"
      ]
     },
     "execution_count": 103,
     "metadata": {},
     "output_type": "execute_result"
    }
   ],
   "source": [
    "df.head()"
   ]
  },
  {
   "cell_type": "code",
   "execution_count": 104,
   "metadata": {},
   "outputs": [
    {
     "data": {
      "image/png": "[encoded data removed]",
      "text/plain": [
       "<Figure size 432x288 with 1 Axes>"
      ]
     },
     "metadata": {},
     "output_type": "display_data"
    }
   ],
   "source": [
    "df1 = df[df[\"cluster\"]==0]\n",
    "df2 = df[df[\"cluster\"]==1]\n",
    "df3 = df[df[\"cluster\"]==2]\n",
    "\n",
    "plt.scatter(df1[\"Age\"], df1[\"Income\"], c=\"g\", marker=\"*\")\n",
    "plt.scatter(df2[\"Age\"], df2[\"Income\"], c=\"r\", marker=\"^\")\n",
    "plt.scatter(df3[\"Age\"], df3[\"Income\"], c=\"b\", marker=\"o\")\n",
    "plt.scatter(km.cluster_centers_[:,0], km.cluster_centers_[:,1], c=\"black\", marker=\"+\",s=[500,500,500])\n",
    "plt.show()"
   ]
  },
  {
   "cell_type": "code",
   "execution_count": 105,
   "metadata": {},
   "outputs": [
    {
     "data": {
      "text/plain": [
       "array([[0.1372549 , 0.11633428],\n",
       "       [0.85294118, 0.19088319],\n",
       "       [0.72268908, 0.8974359 ]])"
      ]
     },
     "execution_count": 105,
     "metadata": {},
     "output_type": "execute_result"
    }
   ],
   "source": [
    "km.cluster_centers_"
   ]
  },
  {
   "cell_type": "code",
   "execution_count": 106,
   "metadata": {},
   "outputs": [
    {
     "data": {
      "text/plain": [
       "array([0.1372549 , 0.85294118, 0.72268908])"
      ]
     },
     "execution_count": 106,
     "metadata": {},
     "output_type": "execute_result"
    }
   ],
   "source": [
    "km.cluster_centers_[:,0]"
   ]
  },
  {
   "cell_type": "code",
   "execution_count": 107,
   "metadata": {},
   "outputs": [],
   "source": [
    "k_rng = range(1,10)\n",
    "sse = []\n",
    "for k in k_rng:\n",
    "    km = KMeans(n_clusters=k)\n",
    "    km.fit_predict(df[[\"Age\", \"Income\"]])\n",
    "    sse.append(km.inertia_)"
   ]
  },
  {
   "cell_type": "code",
   "execution_count": 108,
   "metadata": {},
   "outputs": [
    {
     "data": {
      "text/plain": [
       "[5.476381297947709,\n",
       " 2.159107864954578,\n",
       " 0.4914418533983004,\n",
       " 0.3654682129849473,\n",
       " 0.2785427797775121,\n",
       " 0.23657311218308466,\n",
       " 0.18339002847919542,\n",
       " 0.14153235581014834,\n",
       " 0.11260368847835203]"
      ]
     },
     "execution_count": 108,
     "metadata": {},
     "output_type": "execute_result"
    }
   ],
   "source": [
    "sse"
   ]
  },
  {
   "cell_type": "code",
   "execution_count": 109,
   "metadata": {},
   "outputs": [
    {
     "data": {
      "text/plain": [
       "[<matplotlib.lines.Line2D at 0x1219140b8>]"
      ]
     },
     "execution_count": 109,
     "metadata": {},
     "output_type": "execute_result"
    },
    {
     "data": {
      "image/png": "[encoded data removed]",
      "text/plain": [
       "<Figure size 432x288 with 1 Axes>"
      ]
     },
     "metadata": {},
     "output_type": "display_data"
    }
   ],
   "source": [
    "lst = range(1,10)\n",
    "plt.plot(lst, sse)"
   ]
  },
  {
   "cell_type": "code",
   "execution_count": null,
   "metadata": {},
   "outputs": [],
   "source": []
  },
  {
   "cell_type": "code",
   "execution_count": 110,
   "metadata": {},
   "outputs": [],
   "source": [
    "### Feature elemination\n",
    "\n",
    "# 1 Filter method\n",
    "# - IG (Information gain method)\n",
    "# - Chi square\n",
    "# - correlation coefficient \n",
    "\n",
    "\n",
    "# 2. Wrapping method\n",
    "# - Recurrsive feature elimination\n",
    "# - Genetic algorithms\n",
    "\n",
    "# 3. Embedded method\n",
    "# -Decision tree\n"
   ]
  },
  {
   "cell_type": "code",
   "execution_count": 111,
   "metadata": {},
   "outputs": [],
   "source": [
    "\n",
    "#importing libraries\n",
    "from sklearn.datasets import load_boston\n",
    "import pandas as pd\n",
    "import numpy as np\n",
    "import matplotlib\n",
    "import matplotlib.pyplot as plt\n",
    "import seaborn as sns\n",
    "\n",
    "import statsmodels.api as sm\n",
    "%matplotlib inline\n",
    "\n",
    "from sklearn.model_selection import train_test_split\n",
    "from sklearn.linear_model import LinearRegression\n",
    "from sklearn.feature_selection import RFE\n",
    "from sklearn.linear_model import RidgeCV, LassoCV, Ridge, Lasso\n",
    "\n",
    "#Loading the dataset\n",
    "x = load_boston()\n",
    "df = pd.DataFrame(x.data, columns = x.feature_names)\n",
    "df[\"MEDV\"] = x.target\n",
    "X = df.drop(\"MEDV\",1)   #Feature Matrix\n",
    "y = df[\"MEDV\"]          #Target Variable\n",
    "# df.head()"
   ]
  },
  {
   "cell_type": "code",
   "execution_count": 112,
   "metadata": {},
   "outputs": [
    {
     "data": {
      "image/png": "[encoded data removed]",
      "text/plain": [
       "<Figure size 864x720 with 2 Axes>"
      ]
     },
     "metadata": {},
     "output_type": "display_data"
    }
   ],
   "source": [
    "#Using Pearson Correlation\n",
    "plt.figure(figsize=(12,10))\n",
    "cor = df.corr()\n",
    "sns.heatmap(cor, annot=True, cmap=plt.cm.Reds)\n",
    "plt.show()"
   ]
  },
  {
   "cell_type": "code",
   "execution_count": 132,
   "metadata": {},
   "outputs": [
    {
     "name": "stdout",
     "output_type": "stream",
     "text": [
      "CRIM       0.385832\n",
      "ZN         0.360445\n",
      "INDUS      0.483725\n",
      "CHAS       0.175260\n",
      "NOX        0.427321\n",
      "RM         0.695360\n",
      "AGE        0.376955\n",
      "DIS        0.249929\n",
      "RAD        0.381626\n",
      "TAX        0.468536\n",
      "PTRATIO    0.507787\n",
      "B          0.333461\n",
      "LSTAT      0.737663\n",
      "MEDV       1.000000\n",
      "Name: MEDV, dtype: float64\n"
     ]
    }
   ],
   "source": [
    "#Correlation with output variable\n",
    "cor_target = abs(cor[\"MEDV\"])\n",
    "print(cor_target)\n",
    "#Selecting highly correlated features\n",
    "# relevant_features = cor_target[cor_target>0.5]\n",
    "# relevant_features"
   ]
  },
  {
   "cell_type": "code",
   "execution_count": 114,
   "metadata": {},
   "outputs": [
    {
     "name": "stdout",
     "output_type": "stream",
     "text": [
      "            LSTAT   PTRATIO\n",
      "LSTAT    1.000000  0.374044\n",
      "PTRATIO  0.374044  1.000000\n",
      "             RM     LSTAT\n",
      "RM     1.000000 -0.613808\n",
      "LSTAT -0.613808  1.000000\n"
     ]
    }
   ],
   "source": [
    "## IN linear regresion we check, weather all the features are correlated to each other If yes take any one of them and drop remaining\n",
    "print(df[[\"LSTAT\",\"PTRATIO\"]].corr())\n",
    "print(df[[\"RM\",\"LSTAT\"]].corr())"
   ]
  },
  {
   "cell_type": "code",
   "execution_count": 115,
   "metadata": {},
   "outputs": [],
   "source": [
    "### As we can see RM and LSTAT are highly correlated we will drop either one of them.\n",
    "## We wil drop RM cuz LSTAT is having higher correlation with MEDV then RM\n",
    "## So, using pearson coef. we will get LSTAT and PTRATIO as most imp feature"
   ]
  },
  {
   "cell_type": "code",
   "execution_count": null,
   "metadata": {},
   "outputs": [],
   "source": []
  },
  {
   "cell_type": "code",
   "execution_count": 116,
   "metadata": {},
   "outputs": [],
   "source": [
    "## Wrapper method:  We feed all possible featue to model and then remove worst performing feature, accurate than filter method but computationally expensive.\n",
    "\n",
    "# 1) backward elimination\n",
    "# 2) forward elimination\n",
    "# 3) Forward Selection\n",
    "# 4) Bidirectional Elimination\n",
    "# 5) RFE"
   ]
  },
  {
   "cell_type": "code",
   "execution_count": 117,
   "metadata": {
    "scrolled": false
   },
   "outputs": [
    {
     "name": "stdout",
     "output_type": "stream",
     "text": [
      "const      3.182440e-12\n",
      "CRIM       1.126402e-03\n",
      "ZN         7.836070e-04\n",
      "INDUS      7.345971e-01\n",
      "CHAS       1.912339e-03\n",
      "NOX        4.117296e-06\n",
      "RM         2.207486e-18\n",
      "AGE        9.546859e-01\n",
      "DIS        6.017651e-13\n",
      "RAD        5.189664e-06\n",
      "TAX        1.117826e-03\n",
      "PTRATIO    1.268218e-12\n",
      "B          5.072875e-04\n",
      "LSTAT      6.595808e-23\n",
      "dtype: float64\n"
     ]
    }
   ],
   "source": [
    "# 1) backward elimination:\n",
    "\n",
    "X_1 = sm.add_constant(X)\n",
    "#Fitting sm.OLS model\n",
    "model = sm.OLS(y,X_1).fit()\n",
    "print(model.pvalues)"
   ]
  },
  {
   "cell_type": "code",
   "execution_count": 122,
   "metadata": {},
   "outputs": [
    {
     "name": "stdout",
     "output_type": "stream",
     "text": [
      "['CRIM', 'ZN', 'INDUS', 'CHAS', 'NOX', 'RM', 'AGE', 'DIS', 'RAD', 'TAX', 'PTRATIO', 'B', 'LSTAT']\n",
      "['CRIM', 'ZN', 'INDUS', 'CHAS', 'NOX', 'RM', 'DIS', 'RAD', 'TAX', 'PTRATIO', 'B', 'LSTAT']\n",
      "['CRIM', 'ZN', 'CHAS', 'NOX', 'RM', 'DIS', 'RAD', 'TAX', 'PTRATIO', 'B', 'LSTAT']\n",
      "['CRIM', 'ZN', 'CHAS', 'NOX', 'RM', 'DIS', 'RAD', 'TAX', 'PTRATIO', 'B', 'LSTAT']\n"
     ]
    }
   ],
   "source": [
    "#Backward Elimination\n",
    "cols = list(X.columns)\n",
    "pmax = 1\n",
    "while (len(cols)>0):\n",
    "    p= []\n",
    "    X_1 = X[cols]\n",
    "    X_1 = sm.add_constant(X_1)\n",
    "    print(cols)\n",
    "    model = sm.OLS(y,X_1).fit()\n",
    "    p = pd.Series(model.pvalues.values[1:],index = cols)      \n",
    "    pmax = max(p)\n",
    "    feature_with_p_max = p.idxmax()\n",
    "    if(pmax>0.05):\n",
    "        cols.remove(feature_with_p_max)\n",
    "    else:\n",
    "        break\n",
    "selected_features_BE = cols\n",
    "print(selected_features_BE)"
   ]
  },
  {
   "cell_type": "code",
   "execution_count": 123,
   "metadata": {},
   "outputs": [],
   "source": [
    "model = LinearRegression()\n",
    "#Initializing RFE model\n",
    "rfe = RFE(model, 7)\n",
    "#Transforming data using RFE\n",
    "X_rfe = rfe.fit_transform(X,y)  "
   ]
  },
  {
   "cell_type": "code",
   "execution_count": 128,
   "metadata": {},
   "outputs": [
    {
     "name": "stdout",
     "output_type": "stream",
     "text": [
      "[False False False  True  True  True False  True  True False  True False\n",
      "  True]\n",
      "[2 4 3 1 1 1 7 1 1 5 1 6 1]\n"
     ]
    }
   ],
   "source": [
    "model.fit(X_rfe,y)\n",
    "print(rfe.support_)\n",
    "print(rfe.ranking_)"
   ]
  },
  {
   "cell_type": "code",
   "execution_count": 130,
   "metadata": {},
   "outputs": [
    {
     "name": "stdout",
     "output_type": "stream",
     "text": [
      "Optimum number of features: 11\n",
      "Score with 11 features: 0.663577\n"
     ]
    }
   ],
   "source": [
    "#no of features\n",
    "nof_list=np.arange(1,13)            \n",
    "high_score=0\n",
    "#Variable to store the optimum features\n",
    "nof=0           \n",
    "score_list =[]\n",
    "for n in range(len(nof_list)):\n",
    "    X_train, X_test, y_train, y_test = train_test_split(X,y, test_size = 0.3, random_state = 0)\n",
    "    model = LinearRegression()\n",
    "    rfe = RFE(model,nof_list[n])\n",
    "    X_train_rfe = rfe.fit_transform(X_train,y_train)\n",
    "    X_test_rfe = rfe.transform(X_test)\n",
    "    model.fit(X_train_rfe,y_train)\n",
    "    score = model.score(X_test_rfe,y_test)\n",
    "    score_list.append(score)\n",
    "    if(score>high_score):\n",
    "        high_score = score\n",
    "        nof = nof_list[n]\n",
    "print(\"Optimum number of features: %d\" %nof)\n",
    "print(\"Score with %d features: %f\" % (nof, high_score))"
   ]
  },
  {
   "cell_type": "code",
   "execution_count": 131,
   "metadata": {},
   "outputs": [
    {
     "name": "stdout",
     "output_type": "stream",
     "text": [
      "Index(['CRIM', 'ZN', 'INDUS', 'CHAS', 'NOX', 'RM', 'DIS', 'RAD', 'PTRATIO',\n",
      "       'LSTAT'],\n",
      "      dtype='object')\n"
     ]
    }
   ],
   "source": [
    "cols = list(X.columns)\n",
    "model = LinearRegression()\n",
    "#Initializing RFE model\n",
    "rfe = RFE(model, 10)             \n",
    "#Transforming data using RFE\n",
    "X_rfe = rfe.fit_transform(X,y)  \n",
    "#Fitting the data to model\n",
    "model.fit(X_rfe,y)              \n",
    "temp = pd.Series(rfe.support_,index = cols)\n",
    "selected_features_rfe = temp[temp==True].index\n",
    "print(selected_features_rfe)"
   ]
  },
  {
   "cell_type": "code",
   "execution_count": null,
   "metadata": {},
   "outputs": [],
   "source": [
    "## embedded method\n",
    "\n"
   ]
  }
 ],
 "metadata": {
  "kernelspec": {
   "display_name": "Python 3",
   "language": "python",
   "name": "python3"
  },
  "language_info": {
   "codemirror_mode": {
    "name": "ipython",
    "version": 3
   },
   "file_extension": ".py",
   "mimetype": "text/x-python",
   "name": "python",
   "nbconvert_exporter": "python",
   "pygments_lexer": "ipython3",
   "version": "3.6.4"
  }
 },
 "nbformat": 4,
 "nbformat_minor": 2
}
